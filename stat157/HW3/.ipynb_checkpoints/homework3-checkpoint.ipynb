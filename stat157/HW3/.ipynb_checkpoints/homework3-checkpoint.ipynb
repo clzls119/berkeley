{
 "cells": [
  {
   "cell_type": "markdown",
   "metadata": {},
   "source": [
    "# Homework 3 - Berkeley STAT 157\n",
    "\n",
    "Handout 2/5/2019, due 2/12/2019 by 4pm in Git by committing to your repository.\n",
    "\n",
    "**Formatting: please include both a .ipynb and .pdf file in your homework submission, named homework3.ipynb and homework3.pdf. You can export your notebook to a pdf either by File -> Download as -> PDF via Latex (you may need Latex installed), or by simply printing to a pdf from your browser (you may want to do File -> Print Preview in jupyter first). Please don't change the filename.**       "
   ]
  },
  {
   "cell_type": "code",
   "execution_count": 1,
   "metadata": {
    "ExecuteTime": {
     "end_time": "2019-02-12T21:10:26.166839Z",
     "start_time": "2019-02-12T21:10:25.485075Z"
    }
   },
   "outputs": [],
   "source": [
    "from mxnet import nd, autograd, gluon\n",
    "import matplotlib.pyplot as plt"
   ]
  },
  {
   "cell_type": "markdown",
   "metadata": {},
   "source": [
    "# 1. Logistic Regression for Binary Classification\n",
    "\n",
    "In multiclass classification we typically use the exponential model \n",
    "\n",
    "$$p(y|\\mathbf{o}) = \\mathrm{softmax}(\\mathbf{o})_y = \\frac{\\exp(o_y)}{\\sum_{y'} \\exp(o_{y'})}$$\n",
    "\n",
    "1.1. Show that this parametrization has a spurious degree of freedom. That is, show that both $\\mathbf{o}$ and $\\mathbf{o} + c$ with $c \\in \\mathbb{R}$ lead to the same probability estimate.\n",
    "1.2. For binary classification, i.e. whenever we have only two classes $\\{-1, 1\\}$, we can arbitrarily set $o_{-1} = 0$. Using the shorthand $o = o_1$ show that this is equivalent to \n",
    "\n",
    "$$p(y=1|o) = \\frac{1}{1 + \\exp(-o)}$$\n",
    "\n",
    "1.3. Show that the log-likelihood loss (often called logistic loss) for labels $y \\in \\{-1, 1\\}$ is thus given by \n",
    "\n",
    "$$-\\log p(y|o) = \\log (1 + \\exp(-y \\cdot o))$$\n",
    "\n",
    "1.4. Show that for $y = 1$ the logistic loss asymptotes to $o$ for $o \\to \\infty$ and to $\\exp(o)$ for $o \\to -\\infty$. "
   ]
  },
  {
   "cell_type": "markdown",
   "metadata": {},
   "source": [
    "### 1.1"
   ]
  },
  {
   "cell_type": "markdown",
   "metadata": {},
   "source": [
    "$$\\frac{\\exp(o_y)}{\\sum_{y'}\\exp(o_{y'})}$$\n",
    "$$= \\frac{\\exp(o_y + c)}{\\sum_{y'}\\exp(o_{y'+c})}$$\n",
    "$$= \\frac{\\exp(x+c)}{\\sum_i \\exp(x_i+c)}$$\n",
    "$$= \\frac{\\exp(x)\\cdot\\exp(c)}{\\sum \\exp(x_i)\\cdot\\exp(c)}$$\n",
    "$$= \\frac{\\exp(x)\\cdot\\exp(c)}{n\\exp(c)\\sum_i \\exp(x_i)}$$\n",
    "$$= \\frac{\\exp(x)}{n\\sum \\exp(x_i)}$$\n",
    "$$= \\frac{1}{n}\\frac{\\exp(x)}{\\sum \\exp(x_i)} = \\frac{1}{n}\\frac{\\exp(o_y)}{\\sum_{y'}\\exp(o_{y'})} = \\frac{1}{n}softmax(\\mathbf{o}_y)$$\n",
    "\n",
    "The last statement is the same as the first statement but the result is just rescaled by $1/n$ where $n$ is the number of distinct labels."
   ]
  },
  {
   "cell_type": "markdown",
   "metadata": {},
   "source": [
    "#### 1.2"
   ]
  },
  {
   "cell_type": "markdown",
   "metadata": {},
   "source": [
    "$$\\frac{exp(o_1)}{exp(o_1) + exp(o_{-1})} = \\frac{1}{1 + \\exp(-o_1))}$$ where $o_{-1} = 0$\n",
    "$$\\frac{exp(o)}{exp(o) + 1} = \\frac{1}{1 + \\exp(-o))}$$\n",
    "$$\\exp(o)(1 + \\exp(-o)) = 1 + \\exp(o)$$\n",
    "$$\\exp(o) + \\exp(-o)\\exp(o) = 1 + \\exp(o)$$\n",
    "$$\\exp(o) + \\exp(-o + o) = 1 + \\exp(o)$$\n",
    "$$\\exp(o) + 1\\ = 1 + \\exp(o)$$"
   ]
  },
  {
   "cell_type": "markdown",
   "metadata": {},
   "source": [
    "#### 1.3"
   ]
  },
  {
   "cell_type": "markdown",
   "metadata": {},
   "source": [
    "$$-\\log \\frac{1}{1 + e^{-o}} = \\log(1 + e^{-y \\cdot o})$$\n",
    "$$= - (\\log 1 - \\log(1 + e^{-o})) = \\log(1 + e^{-y \\cdot o})$$\n",
    "$$= \\log(1 + e^{-o}) - \\log 1 = \\log(1 + e^{-y \\cdot o})$$\n",
    "$$= \\log(1 + e^{-o}) = \\log(1 + e^{-y \\cdot o})$$\n",
    "$$= 1 + e^{-o} = 1 + e^{-y \\cdot o}$$\n",
    "Since it is binary and as mentioned in part 1.2, we can arbitrarily set $o_{-1}$ to 0. So if $y = 0$, then the equation becomes 0 on both sides. If it is 1, they are $e^{-o} = e^{-o}$"
   ]
  },
  {
   "cell_type": "markdown",
   "metadata": {},
   "source": [
    "#### 1.4"
   ]
  },
  {
   "cell_type": "markdown",
   "metadata": {},
   "source": [
    "$$\\log (1 + e^{-x}) \\to 0$$ when $x \\to \\infty$ and \n",
    "$$\\log (1 + e^{-x}) \\to e^x$$ when $x \\to -\\infty$<br>\n",
    "\n",
    "1. $\\log (1 + e^{-x}) \\to \\log(\\frac{e^x + 1}{e^x}) \\to \\log(e^x + 1) - \\log(e^x)$. As $x \\to \\infty$, both equation goes to infinity and their difference goes to 0 but since the first equation is always 1 greater than the second, it doesn't actually reach 0. \n",
    "2. $\\log (1 + \\frac{1}{e^x})$. The $e^x$ goes to $\\infty$ as $x \\to \\infty$ but since it is now inversed, it goes to zero. However since our x goes to $-\\infty$, this effect also becomes inverse that goes to the left side of the graph that it acts like a regular $e^x$ that as $x \\to -\\infty$, the equation becomes $e^x$."
   ]
  },
  {
   "cell_type": "markdown",
   "metadata": {},
   "source": [
    "# 2. Logistic Regression and Autograd\n",
    "\n",
    "1. Implement the binary logistic loss $l(y,o) = \\log (1 + \\exp(-y \\cdot o))$ in Gluon\n",
    "1. Plot its values for $y \\in \\{-1, 1\\}$ over the range of $o \\in [-5, 5]$.\n",
    "1. Plot its derivative with respect to $o$ for $o \\in [-5, 5]$ using 'autograd'."
   ]
  },
  {
   "cell_type": "code",
   "execution_count": 2,
   "metadata": {
    "ExecuteTime": {
     "end_time": "2019-02-12T21:10:49.731407Z",
     "start_time": "2019-02-12T21:10:49.727692Z"
    }
   },
   "outputs": [],
   "source": [
    "loss = gluon.loss.LogisticLoss()"
   ]
  },
  {
   "cell_type": "code",
   "execution_count": 3,
   "metadata": {
    "ExecuteTime": {
     "end_time": "2019-02-12T21:10:50.719985Z",
     "start_time": "2019-02-12T21:10:50.615946Z"
    }
   },
   "outputs": [],
   "source": [
    "pred = nd.arange(-5, 5, 0.15)\n",
    "\n",
    "label = [-1 * nd.ones_like(pred), nd.ones_like(pred)]\n",
    "\n",
    "l = [loss(pred, label[0]), loss(pred, label[1])]"
   ]
  },
  {
   "cell_type": "code",
   "execution_count": 4,
   "metadata": {
    "ExecuteTime": {
     "end_time": "2019-02-12T21:10:51.460920Z",
     "start_time": "2019-02-12T21:10:51.296442Z"
    }
   },
   "outputs": [
    {
     "data": {
      "image/png": "[encoded data removed]",
      "text/plain": [
       "<Figure size 1152x576 with 2 Axes>"
      ]
     },
     "metadata": {
      "needs_background": "light"
     },
     "output_type": "display_data"
    }
   ],
   "source": [
    "fig, ax = plt.subplots(1,2, figsize=(16, 8))\n",
    "y = [-1, 1]\n",
    "\n",
    "for i in range(2):\n",
    "    \n",
    "    ax[i].plot(pred.asnumpy(), l[i].asnumpy())\n",
    "    ax[i].set_title(f'y : {y[i]}', size=15)\n",
    "    ax[i].set_xlim(-6, 6)\n",
    "    ax[i].set_ylabel('Loss',size=15)\n",
    "    ax[i].set_xlabel('Range', size=15)\n",
    "\n",
    "plt.show();"
   ]
  },
  {
   "cell_type": "code",
   "execution_count": 5,
   "metadata": {
    "ExecuteTime": {
     "end_time": "2019-02-12T21:10:54.736915Z",
     "start_time": "2019-02-12T21:10:54.727315Z"
    }
   },
   "outputs": [],
   "source": [
    "pred1 = pred.copy()\n",
    "pred2 = pred.copy()\n",
    "\n",
    "pred1.attach_grad()\n",
    "pred2.attach_grad()\n",
    "\n",
    "with autograd.record():\n",
    "    \n",
    "    do1 = loss(pred1, label[0])\n",
    "    do2 = loss(pred2, label[1])\n",
    "    \n",
    "do1.backward()\n",
    "do2.backward()\n",
    "\n",
    "dpred = [pred1, pred2]"
   ]
  },
  {
   "cell_type": "code",
   "execution_count": 6,
   "metadata": {
    "ExecuteTime": {
     "end_time": "2019-02-12T21:10:55.367311Z",
     "start_time": "2019-02-12T21:10:55.230731Z"
    }
   },
   "outputs": [
    {
     "data": {
      "image/png": "[encoded data removed]",
      "text/plain": [
       "<Figure size 1152x576 with 2 Axes>"
      ]
     },
     "metadata": {
      "needs_background": "light"
     },
     "output_type": "display_data"
    }
   ],
   "source": [
    "fig, ax = plt.subplots(1,2, figsize=(16, 8))\n",
    "\n",
    "for i in range(2):\n",
    "    \n",
    "    ax[i].plot(pred.asnumpy(), dpred[i].grad.asnumpy())\n",
    "    ax[i].set_title(f'Gradient with y : {y[i]}', size=15)\n",
    "    ax[i].set_ylabel('Gradient', size=15)\n",
    "    ax[i].set_xlabel('Range', size=15)\n",
    "\n",
    "    \n",
    "plt.show();"
   ]
  },
  {
   "cell_type": "markdown",
   "metadata": {},
   "source": [
    "# 3. Ohm's Law\n",
    "\n",
    "Imagine that you're a young physicist, maybe named [Georg Simon Ohm](https://en.wikipedia.org/wiki/Georg_Ohm), trying to figure out how current and voltage depend on each other for resistors. You have some idea but you aren't quite sure yet whether the dependence is linear or quadratic. So you take some measurements, conveniently given to you as 'ndarrays' in Python. They are indicated by 'current' and 'voltage'.\n",
    "\n",
    "Your goal is to use least mean squares regression to identify the coefficients for the following three models using automatic differentiation and least mean squares regression. The three models are:\n",
    "\n",
    "1. Quadratic model where $\\mathrm{voltage} = c + r \\cdot \\mathrm{current} + q \\cdot \\mathrm{current}^2$.\n",
    "1. Linear model where $\\mathrm{voltage} = c + r \\cdot \\mathrm{current}$.\n",
    "1. Ohm's law where $\\mathrm{voltage} = r \\cdot \\mathrm{current}$."
   ]
  },
  {
   "cell_type": "code",
   "execution_count": 7,
   "metadata": {
    "ExecuteTime": {
     "end_time": "2019-02-12T21:10:58.175483Z",
     "start_time": "2019-02-12T21:10:58.171363Z"
    }
   },
   "outputs": [],
   "source": [
    "current = nd.array([1.5420291, 1.8935232, 2.1603365, 2.5381863, 2.893443, \\\n",
    "                    3.838855, 3.925425, 4.2233696, 4.235571, 4.273397, \\\n",
    "                    4.9332876, 6.4704757, 6.517571, 6.87826, 7.0009003, \\\n",
    "                    7.035741, 7.278681, 7.7561755, 9.121138, 9.728281])\n",
    "voltage = nd.array([63.802246, 80.036026, 91.4903, 108.28776, 122.781975, \\\n",
    "                    161.36314, 166.50816, 176.16772, 180.29395, 179.09758, \\\n",
    "                    206.21027, 272.71857, 272.24033, 289.54745, 293.8488, \\\n",
    "                    295.2281, 306.62274, 327.93243, 383.16296, 408.65967])"
   ]
  },
  {
   "cell_type": "code",
   "execution_count": 8,
   "metadata": {
    "ExecuteTime": {
     "end_time": "2019-02-12T21:10:58.484369Z",
     "start_time": "2019-02-12T21:10:58.480432Z"
    }
   },
   "outputs": [],
   "source": [
    "current = current.reshape(-1, 1)\n",
    "voltage = voltage.reshape(-1, 1)"
   ]
  },
  {
   "cell_type": "code",
   "execution_count": 9,
   "metadata": {
    "ExecuteTime": {
     "end_time": "2019-02-12T21:10:59.086609Z",
     "start_time": "2019-02-12T21:10:59.079161Z"
    }
   },
   "outputs": [],
   "source": [
    "def data_iter(batch_size, features, labels):\n",
    "    \n",
    "    import random\n",
    "    \n",
    "    num_examples = len(features)\n",
    "    indices = list(range(num_examples))\n",
    "    # The examples are read at random, in no particular order\n",
    "    random.shuffle(indices)\n",
    "    for i in range(0, num_examples, batch_size):\n",
    "        j = nd.array(indices[i: min(i + batch_size, num_examples)])\n",
    "        yield features.take(j), labels.take(j)\n",
    "        # The “take” function will then return the corresponding element based\n",
    "        # on the indices"
   ]
  },
  {
   "cell_type": "code",
   "execution_count": 10,
   "metadata": {
    "ExecuteTime": {
     "end_time": "2019-02-12T21:11:02.220050Z",
     "start_time": "2019-02-12T21:11:02.215756Z"
    }
   },
   "outputs": [],
   "source": [
    "def sgd(params, lr, batch_size):\n",
    "    for param in params:\n",
    "        if param is None:\n",
    "            continue\n",
    "        param[:] = param - lr * param.grad / batch_size"
   ]
  },
  {
   "cell_type": "code",
   "execution_count": 11,
   "metadata": {
    "ExecuteTime": {
     "end_time": "2019-02-12T21:11:02.452435Z",
     "start_time": "2019-02-12T21:11:02.450387Z"
    }
   },
   "outputs": [],
   "source": [
    "def mse(y, y_hat):\n",
    "    return nd.mean(nd.square(y - y_hat))"
   ]
  },
  {
   "cell_type": "code",
   "execution_count": 12,
   "metadata": {
    "ExecuteTime": {
     "end_time": "2019-02-12T21:11:02.680566Z",
     "start_time": "2019-02-12T21:11:02.675615Z"
    }
   },
   "outputs": [],
   "source": [
    "def model(features, labels, net, w1, w2=None, b=None, lr=0.01, num_epochs=5, loss=mse, batch_size=5, iter_ver=5):\n",
    "    \n",
    "    w1.attach_grad()\n",
    "    \n",
    "    if b is not None:\n",
    "        b.attach_grad()\n",
    "        \n",
    "    if w2 is not None:\n",
    "        w2.attach_grad()\n",
    "    \n",
    "    for epoch in range(num_epochs):\n",
    "        \n",
    "        for X, y in data_iter(batch_size, features, labels):\n",
    "            \n",
    "            with autograd.record():\n",
    "\n",
    "                l = loss(net(X, w1, w2, b), y)\n",
    "\n",
    "            l.backward()\n",
    "\n",
    "            sgd([w1, w2, b], lr, batch_size)\n",
    "            \n",
    "        train_l = loss(labels, net(features, w1, w2, b))\n",
    "        \n",
    "        if epoch % iter_ver == 0:\n",
    "            print('epoch %d, loss %f' % (epoch + 1, train_l.mean().asnumpy()))\n",
    "        \n",
    "    return w1, w2, b"
   ]
  },
  {
   "cell_type": "markdown",
   "metadata": {},
   "source": [
    "#### Quadratic Model"
   ]
  },
  {
   "cell_type": "code",
   "execution_count": 13,
   "metadata": {
    "ExecuteTime": {
     "end_time": "2019-02-12T21:11:07.469140Z",
     "start_time": "2019-02-12T21:11:07.465103Z"
    }
   },
   "outputs": [],
   "source": [
    "def quad(X, w1, w2, b):\n",
    "    return X * w1 + (X**2) * w2 + b"
   ]
  },
  {
   "cell_type": "code",
   "execution_count": 14,
   "metadata": {
    "ExecuteTime": {
     "end_time": "2019-02-12T21:11:46.000112Z",
     "start_time": "2019-02-12T21:11:17.721409Z"
    },
    "scrolled": true
   },
   "outputs": [
    {
     "name": "stdout",
     "output_type": "stream",
     "text": [
      "epoch 1, loss 17793.484375\n",
      "epoch 1001, loss 1008.263794\n",
      "epoch 2001, loss 287.197998\n",
      "epoch 3001, loss 85.553558\n",
      "epoch 4001, loss 29.249928\n",
      "epoch 5001, loss 13.462259\n",
      "epoch 6001, loss 8.995901\n",
      "epoch 7001, loss 7.690337\n",
      "epoch 8001, loss 7.256239\n",
      "epoch 9001, loss 7.067852\n"
     ]
    }
   ],
   "source": [
    "r, q, c = model(current, voltage, quad, nd.random.normal(), nd.random.normal(), b=nd.zeros(1), num_epochs=10000, lr=0.00015, iter_ver=1000)"
   ]
  },
  {
   "cell_type": "code",
   "execution_count": 15,
   "metadata": {
    "ExecuteTime": {
     "end_time": "2019-02-12T21:11:48.049858Z",
     "start_time": "2019-02-12T21:11:48.046046Z"
    }
   },
   "outputs": [
    {
     "name": "stdout",
     "output_type": "stream",
     "text": [
      "Optimal value r, q and c for Linear model are : (37.18628, 0.40629256, 12.542546)\n"
     ]
    }
   ],
   "source": [
    "print(f\"Optimal value r, q and c for Linear model are : {r.asscalar(), q.asscalar(), c.asscalar()}\")"
   ]
  },
  {
   "cell_type": "markdown",
   "metadata": {},
   "source": [
    "#### Linear Model"
   ]
  },
  {
   "cell_type": "code",
   "execution_count": 16,
   "metadata": {
    "ExecuteTime": {
     "end_time": "2019-02-12T21:11:49.165222Z",
     "start_time": "2019-02-12T21:11:49.162635Z"
    }
   },
   "outputs": [],
   "source": [
    "def linear(X, w, w2, b):\n",
    "    return X * w + b"
   ]
  },
  {
   "cell_type": "code",
   "execution_count": 17,
   "metadata": {
    "ExecuteTime": {
     "end_time": "2019-02-12T21:11:50.196421Z",
     "start_time": "2019-02-12T21:11:49.959000Z"
    },
    "scrolled": true
   },
   "outputs": [
    {
     "name": "stdout",
     "output_type": "stream",
     "text": [
      "epoch 1, loss 2.614855\n",
      "epoch 6, loss 1.846283\n",
      "epoch 11, loss 2.233668\n",
      "epoch 16, loss 3.074571\n",
      "epoch 21, loss 1.735271\n",
      "epoch 26, loss 2.555814\n",
      "epoch 31, loss 1.516116\n",
      "epoch 36, loss 1.694679\n",
      "epoch 41, loss 2.168209\n",
      "epoch 46, loss 1.512214\n",
      "epoch 51, loss 1.560348\n",
      "epoch 56, loss 1.481122\n",
      "epoch 61, loss 3.666415\n",
      "epoch 66, loss 1.197089\n",
      "epoch 71, loss 1.823362\n",
      "epoch 76, loss 1.233823\n",
      "epoch 81, loss 1.587685\n",
      "epoch 86, loss 1.230791\n",
      "epoch 91, loss 2.105442\n",
      "epoch 96, loss 1.187563\n"
     ]
    }
   ],
   "source": [
    "r, _, c = model(current, voltage, linear, nd.random.normal(), b=nd.zeros(1), num_epochs=100, lr=0.1)"
   ]
  },
  {
   "cell_type": "code",
   "execution_count": 18,
   "metadata": {
    "ExecuteTime": {
     "end_time": "2019-02-12T21:11:51.706887Z",
     "start_time": "2019-02-12T21:11:51.701601Z"
    }
   },
   "outputs": [
    {
     "name": "stdout",
     "output_type": "stream",
     "text": [
      "Optimal value r and c for Linear model are : (41.914524, 0.694394)\n"
     ]
    }
   ],
   "source": [
    "print(f\"Optimal value r and c for Linear model are : {r.asscalar(), c.asscalar()}\")"
   ]
  },
  {
   "cell_type": "markdown",
   "metadata": {},
   "source": [
    "#### Ohm's Law"
   ]
  },
  {
   "cell_type": "code",
   "execution_count": 19,
   "metadata": {
    "ExecuteTime": {
     "end_time": "2019-02-12T21:11:53.511466Z",
     "start_time": "2019-02-12T21:11:53.509356Z"
    }
   },
   "outputs": [],
   "source": [
    "def ohm(X, w, w2, b):\n",
    "    return X * w"
   ]
  },
  {
   "cell_type": "code",
   "execution_count": 20,
   "metadata": {
    "ExecuteTime": {
     "end_time": "2019-02-12T21:11:53.927885Z",
     "start_time": "2019-02-12T21:11:53.834389Z"
    }
   },
   "outputs": [
    {
     "name": "stdout",
     "output_type": "stream",
     "text": [
      "epoch 1, loss 1.553277\n",
      "epoch 6, loss 1.226627\n",
      "epoch 11, loss 1.406651\n",
      "epoch 16, loss 1.481612\n",
      "epoch 21, loss 1.334987\n",
      "epoch 26, loss 1.294468\n",
      "epoch 31, loss 1.341633\n",
      "epoch 36, loss 1.316884\n",
      "epoch 41, loss 1.225220\n",
      "epoch 46, loss 2.046870\n"
     ]
    }
   ],
   "source": [
    "r, *_ = model(current, voltage, ohm, nd.random.normal(), num_epochs=50, lr=0.1)"
   ]
  },
  {
   "cell_type": "code",
   "execution_count": 21,
   "metadata": {
    "ExecuteTime": {
     "end_time": "2019-02-12T21:11:54.547332Z",
     "start_time": "2019-02-12T21:11:54.542951Z"
    }
   },
   "outputs": [
    {
     "name": "stdout",
     "output_type": "stream",
     "text": [
      "Optimal value r for Ohm's formula is : 41.89787673950195\n"
     ]
    }
   ],
   "source": [
    "print(f\"Optimal value r for Ohm's formula is : {r.asscalar()}\")"
   ]
  },
  {
   "cell_type": "markdown",
   "metadata": {},
   "source": [
    "# 4. Entropy\n",
    "\n",
    "Let's compute the *binary* entropy of a number of interesting data sources. \n",
    "\n",
    "1. Assume that you're watching the output generated by a [monkey at a typewriter](https://en.wikipedia.org/wiki/File:Chimpanzee_seated_at_typewriter.jpg). The monkey presses any of the $44$ keys of the typewriter at random (you can assume that it has not discovered any special keys or the shift key yet). How many bits of randomness per character do you observe?\n",
    "1. Unhappy with the monkey you replaced it by a drunk typesetter. It is able to generate words, albeit not coherently. Instead, it picks a random word out of a vocabulary of $2,000$ words. Moreover, assume that the average length of a word is $4.5$ letters in English. How many bits of randomness do you observe now?\n",
    "1. Still unhappy with the result you replace the typesetter by a high quality language model. These can obtain perplexity numbers as low as 20 points per character. The perplexity is defined as a length normalized probability, i.e.\n",
    "\n",
    "$$\\mathrm{PPL}(x) = \\left[p(x)\\right]^{1/\\mathrm{length}(x)}$$"
   ]
  },
  {
   "cell_type": "markdown",
   "metadata": {},
   "source": [
    "1. $$44 * \\frac{1}{44} * (-\\log_2 \\frac{1}{44}) = 5.46 bits / char$$\n",
    "2. $$2000 * \\frac{1}{2000} * (-\\log_2 \\frac{1}{2000}) = 10.97 bits / word = 2.44 bits / char$$"
   ]
  },
  {
   "cell_type": "markdown",
   "metadata": {},
   "source": [
    "# 5. Wien's Approximation for the Temperature (bonus)\n",
    "\n",
    "We will now abuse Gluon to estimate the temperature of a black body. The energy emanated from a black body is given by Wien's approximation.\n",
    "\n",
    "$$B_\\lambda(T) = \\frac{2 h c^2}{\\lambda^5} \\exp\\left(-\\frac{h c}{\\lambda k T}\\right)$$\n",
    "\n",
    "That is, the amount of energy depends on the fifth power of the wavelength $\\lambda$ and the temperature $T$ of the body. The latter ensures a cutoff beyond a temperature-characteristic peak. Let us define this and plot it."
   ]
  },
  {
   "cell_type": "code",
   "execution_count": 22,
   "metadata": {
    "ExecuteTime": {
     "end_time": "2019-02-12T21:16:03.989190Z",
     "start_time": "2019-02-12T21:16:03.858980Z"
    }
   },
   "outputs": [
    {
     "data": {
      "image/png": "[encoded data removed]",
      "text/plain": [
       "<Figure size 432x288 with 1 Axes>"
      ]
     },
     "metadata": {
      "needs_background": "light"
     },
     "output_type": "display_data"
    }
   ],
   "source": [
    "# Lightspeed\n",
    "c = 299792458\n",
    "# Planck's constant\n",
    "h = 6.62607004e-34\n",
    "# Boltzmann constant\n",
    "k = 1.38064852e-23\n",
    "# Wavelength scale (nanometers)\n",
    "lamscale = 1e-6\n",
    "# Pulling out all powers of 10 upfront\n",
    "p_out = 2 * h * c**2 / lamscale**5\n",
    "p_in = (h / k) * (c/lamscale) \n",
    "\n",
    "# Wien's law\n",
    "def wien(lam, t):\n",
    "    return (p_out / lam**5) * nd.exp(-p_in / (lam * t))\n",
    "\n",
    "# Plot the radiance for a few different temperatures\n",
    "lam = nd.arange(0,100,0.01)\n",
    "for t in [10, 100, 150, 200, 250, 300, 350]:\n",
    "    radiance = wien(lam, t)\n",
    "    plt.plot(lam.asnumpy(), radiance.asnumpy(), label=('T=' + str(t) + 'K'))\n",
    "plt.legend()\n",
    "plt.show()"
   ]
  },
  {
   "cell_type": "markdown",
   "metadata": {},
   "source": [
    "Next we assume that we are a fearless physicist measuring some data. Of course, we need to pretend that we don't really know the temperature. But we measure the radiation at a few wavelengths.  "
   ]
  },
  {
   "cell_type": "code",
   "execution_count": 25,
   "metadata": {
    "ExecuteTime": {
     "end_time": "2019-02-12T21:16:17.156322Z",
     "start_time": "2019-02-12T21:16:17.082594Z"
    }
   },
   "outputs": [
    {
     "data": {
      "image/png": "[encoded data removed]",
      "text/plain": [
       "<Figure size 432x288 with 1 Axes>"
      ]
     },
     "metadata": {
      "needs_background": "light"
     },
     "output_type": "display_data"
    }
   ],
   "source": [
    "# real temperature is approximately 0C\n",
    "realtemp = 273\n",
    "# we observe at 3000nm up to 20,000nm wavelength\n",
    "wavelengths = nd.arange(3,20,2)\n",
    "# our infrared filters are pretty lousy ...\n",
    "delta = nd.random_normal(shape=(len(wavelengths))) * 1\n",
    "\n",
    "radiance = wien(wavelengths + delta,realtemp)\n",
    "plt.plot(wavelengths.asnumpy(), radiance.asnumpy(), label='measured')\n",
    "plt.plot(wavelengths.asnumpy(), wien(wavelengths, realtemp).asnumpy(), label='true')\n",
    "plt.legend()\n",
    "plt.show()"
   ]
  },
  {
   "cell_type": "markdown",
   "metadata": {
    "ExecuteTime": {
     "end_time": "2019-01-29T19:41:18.204791Z",
     "start_time": "2019-01-29T19:41:18.201091Z"
    }
   },
   "source": [
    "Use Gluon to estimate the real temperature based on the variables `wavelengths` and `radiance`. \n",
    "\n",
    "* You can use Wien's law implementation `wien(lam,t)` as your forward model. \n",
    "* Use the loss function $l(y,y') = (\\log y - \\log y')^2$ to measure accuracy."
   ]
  },
  {
   "cell_type": "code",
   "execution_count": 33,
   "metadata": {
    "ExecuteTime": {
     "end_time": "2019-02-12T21:29:23.012115Z",
     "start_time": "2019-02-12T21:29:23.008249Z"
    }
   },
   "outputs": [],
   "source": [
    "def loss(y_hat, y):\n",
    "    return (nd.log(y) - nd.log(y_hat))**2"
   ]
  }
 ],
 "metadata": {
  "anaconda-cloud": {},
  "kernelspec": {
   "display_name": "Python 3",
   "language": "python",
   "name": "python3"
  },
  "language_info": {
   "codemirror_mode": {
    "name": "ipython",
    "version": 3
   },
   "file_extension": ".py",
   "mimetype": "text/x-python",
   "name": "python",
   "nbconvert_exporter": "python",
   "pygments_lexer": "ipython3",
   "version": "3.6.6"
  },
  "latex_envs": {
   "LaTeX_envs_menu_present": true,
   "autoclose": false,
   "autocomplete": true,
   "bibliofile": "biblio.bib",
   "cite_by": "apalike",
   "current_citInitial": 1,
   "eqLabelWithNumbers": true,
   "eqNumInitial": 1,
   "hotkeys": {
    "equation": "Ctrl-E",
    "itemize": "Ctrl-I"
   },
   "labels_anchors": false,
   "latex_user_defs": false,
   "report_style_numbering": false,
   "user_envs_cfg": false
  }
 },
 "nbformat": 4,
 "nbformat_minor": 2
}
