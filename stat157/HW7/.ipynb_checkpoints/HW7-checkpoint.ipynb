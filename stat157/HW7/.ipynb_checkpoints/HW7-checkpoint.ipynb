{
 "cells": [
  {
   "cell_type": "markdown",
   "metadata": {
    "colab_type": "text",
    "id": "pAT-SrLpxnlq"
   },
   "source": [
    "#  Homework 7 - Berkeley STAT 157\n",
    "\n",
    "**Your name: Hanmaro Song, SID 30322161765, teammates A,B,C** (Please add your name, SID and teammates to ease Ryan and Rachel to grade.)\n",
    "\n",
    "**Please submit your homework through [gradescope](http://gradescope.com/)**\n",
    "\n",
    "Handout 4/2/2019, due 4/9/2019 by 4pm.\n",
    "\n",
    "This homework deals with fine-tuning for computer vision. In this task, we attempt to identify 120 different breeds of dogs. The data set used in this competition is actually a subset of the ImageNet data set. Different from the images in the CIFAR-10 data set used in the previous homework, the images in the ImageNet data set are higher and wider and their dimensions are inconsistent. Again, you need to use GPU.\n",
    "\n",
    "The dataset is available at [Kaggle](https://www.kaggle.com/c/dog-breed-identification). The rule is similar to homework 6: \n",
    "\n",
    "- work as a team\n",
    "- submit your results into Kaggle\n",
    "- take a screen shot of your best score and insert it below\n",
    "- the top 3 teams/individuals will be awarded with 500 dollar AWS credits\n",
    "\n",
    "First, import the packages or modules required for the competition."
   ]
  },
  {
   "cell_type": "markdown",
   "metadata": {},
   "source": [
    "### Kaggle Score = 0.17850"
   ]
  },
  {
   "cell_type": "markdown",
   "metadata": {},
   "source": [
    "![Kaggle Score](submission.png)"
   ]
  },
  {
   "cell_type": "code",
   "execution_count": 0,
   "metadata": {
    "ExecuteTime": {
     "end_time": "2019-04-05T19:36:26.609907Z",
     "start_time": "2019-04-05T19:36:18.930245Z"
    },
    "colab": {},
    "colab_type": "code",
    "id": "QJx3RjI8xnlt"
   },
   "outputs": [],
   "source": [
    "import collections\n",
    "import d2l\n",
    "import math\n",
    "from mxnet import autograd, gluon, init, nd\n",
    "from mxnet.gluon import model_zoo, nn\n",
    "from mxnet.gluon import data as gdata, loss as gloss, utils as gutils\n",
    "import os\n",
    "import shutil\n",
    "import time\n",
    "import zipfile"
   ]
  },
  {
   "cell_type": "markdown",
   "metadata": {
    "colab_type": "text",
    "id": "itLxY4eAxnmD"
   },
   "source": [
    "## Obtain and Organize the Data Sets\n",
    "\n",
    "The competition data is divided into a training set and testing set. The training set contains 10,222 images and the testing set contains 10,357 images. The images in both sets are in JPEG format. These images contain three RGB channels (color) and they have different heights and widths. There are 120 breeds of dogs in the training set, including Labradors, Poodles, Dachshunds, Samoyeds, Huskies, Chihuahuas, and Yorkshire Terriers.\n",
    "\n",
    "### Download the Data Set\n",
    "\n",
    "After logging in to Kaggle, we can click on the \"Data\" tab on the dog breed identification competition webpage shown in Figure 9.17 and download the training data set \"train.zip\", the testing data set \"test.zip\", and the training data set labels \"label.csv.zip\". After downloading the files, place them in the three paths below:\n",
    "\n",
    "* kaggle_dog/train.zip\n",
    "* kaggle_dog/test.zip\n",
    "* kaggle_dog/labels.csv.zip\n",
    "\n",
    "\n",
    "To make it easier to get started, we provide a small-scale sample of the data set mentioned above, \"train_valid_test_tiny.zip\". If you are going to use the full data set for the Kaggle competition, you will also need to change the `demo` variable below to `False`."
   ]
  },
  {
   "cell_type": "code",
   "execution_count": 0,
   "metadata": {
    "attributes": {
     "classes": [],
     "id": "",
     "n": "1"
    },
    "colab": {},
    "colab_type": "code",
    "id": "B3HvAJZBxnmF"
   },
   "outputs": [],
   "source": [
    "# If you use the full data set downloaded for the Kaggle competition, \n",
    "# change the variable below to False.\n",
    "demo = False\n",
    "data_dir = './kaggle_dog'\n",
    "if demo:\n",
    "    if not os.path.exists(data_dir):\n",
    "        os.mkdir(data_dir)\n",
    "    gutils.download('https://github.com/d2l-ai/d2l-en/raw/master/data/kaggle_dog/train_valid_test_tiny.zip', \n",
    "                    data_dir)\n",
    "    zipfiles = ['train_valid_test_tiny.zip']\n",
    "else:\n",
    "    zipfiles = ['train.zip', 'test.zip']\n",
    "for f in zipfiles:\n",
    "    with zipfile.ZipFile(data_dir + '/' + f, 'r') as z:\n",
    "        z.extractall(data_dir)"
   ]
  },
  {
   "cell_type": "markdown",
   "metadata": {
    "colab_type": "text",
    "id": "_WyFlPGoxnmN"
   },
   "source": [
    "### Organize the Data Set\n",
    "\n",
    "Next, we define the `reorg_train_valid` function to segment the validation set from the original Kaggle competition training set.  The parameter `valid_ratio` in this function is the ratio of the number of examples of each dog breed in the validation set to the number of examples of the breed with the least examples (66) in the original training set. After organizing the data, images of the same breed will be placed in the same folder so that we can read them later."
   ]
  },
  {
   "cell_type": "code",
   "execution_count": 0,
   "metadata": {
    "colab": {},
    "colab_type": "code",
    "id": "flZ-MOsnxnmO"
   },
   "outputs": [],
   "source": [
    "def reorg_train_valid(data_dir, train_dir, input_dir, valid_ratio, idx_label):\n",
    "    # The number of examples of the least represented breed in the training set.\n",
    "    min_n_train_per_label = (\n",
    "        collections.Counter(idx_label.values()).most_common()[:-2:-1][0][1])\n",
    "    # The number of examples of each breed in the validation set.\n",
    "    n_valid_per_label = math.floor(min_n_train_per_label * valid_ratio)\n",
    "    label_count = {}\n",
    "    for train_file in os.listdir(os.path.join(data_dir, train_dir)):\n",
    "        idx = train_file.split('.')[0]\n",
    "        label = idx_label[idx]\n",
    "        d2l.mkdir_if_not_exist([data_dir, input_dir, 'train_valid', label])\n",
    "        shutil.copy(os.path.join(data_dir, train_dir, train_file),\n",
    "                    os.path.join(data_dir, input_dir, 'train_valid', label))\n",
    "        if label not in label_count or label_count[label] < n_valid_per_label:\n",
    "            d2l.mkdir_if_not_exist([data_dir, input_dir, 'valid', label])\n",
    "            shutil.copy(os.path.join(data_dir, train_dir, train_file),\n",
    "                        os.path.join(data_dir, input_dir, 'valid', label))\n",
    "            label_count[label] = label_count.get(label, 0) + 1\n",
    "        else:\n",
    "            d2l.mkdir_if_not_exist([data_dir, input_dir, 'train', label])\n",
    "            shutil.copy(os.path.join(data_dir, train_dir, train_file),\n",
    "                        os.path.join(data_dir, input_dir, 'train', label))"
   ]
  },
  {
   "cell_type": "markdown",
   "metadata": {
    "colab_type": "text",
    "id": "Yjb_Jc6WxnmW"
   },
   "source": [
    "The `reorg_dog_data` function below is used to read the training data labels, segment the validation set, and organize the training set."
   ]
  },
  {
   "cell_type": "code",
   "execution_count": 0,
   "metadata": {
    "attributes": {
     "classes": [],
     "id": "",
     "n": "2"
    },
    "colab": {},
    "colab_type": "code",
    "id": "74VKyetYxnmX"
   },
   "outputs": [],
   "source": [
    "def reorg_dog_data(data_dir, label_file, train_dir, test_dir, input_dir,\n",
    "                   valid_ratio):\n",
    "    # Read the training data labels.\n",
    "    with open(os.path.join(data_dir, label_file), 'r') as f:\n",
    "        # Skip the file header line (column name).\n",
    "        lines = f.readlines()[1:]\n",
    "        tokens = [l.rstrip().split(',') for l in lines]\n",
    "        idx_label = dict(((idx, label) for idx, label in tokens))\n",
    "    reorg_train_valid(data_dir, train_dir, input_dir, valid_ratio, idx_label)\n",
    "    # Organize the training set.\n",
    "    \n",
    "    d2l.mkdir_if_not_exist([data_dir, input_dir, 'test', 'unknown'])\n",
    "    for test_file in os.listdir(os.path.join(data_dir, test_dir)):\n",
    "        shutil.copy(os.path.join(data_dir, test_dir, test_file),\n",
    "                    os.path.join(data_dir, input_dir, 'test', 'unknown'))"
   ]
  },
  {
   "cell_type": "markdown",
   "metadata": {
    "colab_type": "text",
    "id": "6HW8mHEgxnmd"
   },
   "source": [
    "Because we are using a small data set, we set the batch size to 1. During actual training and testing, we would use the entire Kaggle Competition data set and call the `reorg_dog_data` function to organize the data set. Likewise, we would need to set the `batch_size` to a larger integer, such as 128."
   ]
  },
  {
   "cell_type": "code",
   "execution_count": 0,
   "metadata": {
    "attributes": {
     "classes": [],
     "id": "",
     "n": "3"
    },
    "colab": {},
    "colab_type": "code",
    "id": "J39OAF6Axnme"
   },
   "outputs": [],
   "source": [
    "if demo:\n",
    "    # Note: Here, we use a small data set and the batch size should be set\n",
    "    # smaller. When using the complete data set for the Kaggle competition, \n",
    "    # we can set the batch size to a larger integer.\n",
    "    input_dir, batch_size = 'train_valid_test_tiny', 1\n",
    "else:\n",
    "    label_file, train_dir, test_dir = 'labels.csv', 'train', 'test'\n",
    "    input_dir, batch_size, valid_ratio = 'train_valid_test', 128, 0.1\n",
    "    reorg_dog_data(data_dir, label_file, train_dir, test_dir, input_dir,\n",
    "                   valid_ratio)"
   ]
  },
  {
   "cell_type": "markdown",
   "metadata": {
    "colab_type": "text",
    "id": "f5pKO3ELxnmh"
   },
   "source": [
    "## Image Augmentation\n",
    "\n",
    "The size of the images in this section are larger than the images in the previous section. Here are some more image augmentation operations that might be useful."
   ]
  },
  {
   "cell_type": "markdown",
   "metadata": {
    "colab_type": "text",
    "id": "2rP_s9U1p8ko"
   },
   "source": [
    "** Maybe add rotation and vertical flip"
   ]
  },
  {
   "cell_type": "code",
   "execution_count": 0,
   "metadata": {
    "attributes": {
     "classes": [],
     "id": "",
     "n": "4"
    },
    "colab": {},
    "colab_type": "code",
    "id": "auBmRgkpxnmj"
   },
   "outputs": [],
   "source": [
    "transform_train = gdata.vision.transforms.Compose([\n",
    "    # Randomly crop the image to obtain an image with an area of 0.08 to 1 \n",
    "    # of the original area and height to width ratio between 3/4 and 4/3.\n",
    "    # Then, scale the image to create a new image with a height and width \n",
    "    # of 224 pixels each.\n",
    "    gdata.vision.transforms.RandomResizedCrop(224, scale=(0.08, 1.0),\n",
    "                                              ratio=(3.0/4.0, 4.0/3.0)),\n",
    "    gdata.vision.transforms.RandomFlipLeftRight(),\n",
    "    # Randomly change the brightness, contrast, and saturation.\n",
    "    gdata.vision.transforms.RandomColorJitter(brightness=0.4, contrast=0.4,\n",
    "                                              saturation=0.4),\n",
    "    # Add random noise.\n",
    "    gdata.vision.transforms.RandomLighting(0.1),\n",
    "    gdata.vision.transforms.ToTensor(),\n",
    "    # Standardize each channel of the image.\n",
    "    gdata.vision.transforms.Normalize([0.485, 0.456, 0.406],\n",
    "                                      [0.229, 0.224, 0.225])])"
   ]
  },
  {
   "cell_type": "markdown",
   "metadata": {
    "colab_type": "text",
    "id": "c28dG9whxnmp"
   },
   "source": [
    "During testing, we only use definite image preprocessing operations."
   ]
  },
  {
   "cell_type": "code",
   "execution_count": 0,
   "metadata": {
    "colab": {},
    "colab_type": "code",
    "id": "-vbl6jD7xnmq"
   },
   "outputs": [],
   "source": [
    "transform_test = gdata.vision.transforms.Compose([\n",
    "    gdata.vision.transforms.Resize(256),\n",
    "    # Crop a square of 224 by 224 from the center of the image.\n",
    "    gdata.vision.transforms.CenterCrop(224),\n",
    "    gdata.vision.transforms.ToTensor(),\n",
    "    gdata.vision.transforms.Normalize([0.485, 0.456, 0.406],\n",
    "                                      [0.229, 0.224, 0.225])])"
   ]
  },
  {
   "cell_type": "markdown",
   "metadata": {
    "colab_type": "text",
    "id": "7KbLVlfOxnmw"
   },
   "source": [
    "## Read the Data Set\n",
    "\n",
    "As in the previous section, we can create an `ImageFolderDataset` instance to read the data set containing the original image files."
   ]
  },
  {
   "cell_type": "code",
   "execution_count": 0,
   "metadata": {
    "attributes": {
     "classes": [],
     "id": "",
     "n": "5"
    },
    "colab": {},
    "colab_type": "code",
    "id": "4AdRATM-xnmz"
   },
   "outputs": [],
   "source": [
    "data_dir = './kaggle_dog'\n",
    "input_dir = 'train_valid_test'\n",
    "\n",
    "train_ds = gdata.vision.ImageFolderDataset(\n",
    "    os.path.join(data_dir, input_dir, 'train'), flag=1)\n",
    "\n",
    "valid_ds = gdata.vision.ImageFolderDataset(\n",
    "    os.path.join(data_dir, input_dir, 'valid'), flag=1)\n",
    "\n",
    "train_valid_ds = gdata.vision.ImageFolderDataset(\n",
    "    os.path.join(data_dir, input_dir, 'train_valid'), flag=1)\n",
    "\n",
    "test_ds = gdata.vision.ImageFolderDataset(\n",
    "    os.path.join(data_dir, input_dir, 'test'), flag=1)"
   ]
  },
  {
   "cell_type": "markdown",
   "metadata": {
    "colab_type": "text",
    "id": "eqMWJAQgxnm6"
   },
   "source": [
    "Here, we create a `DataLoader` instance, just like in the previous section."
   ]
  },
  {
   "cell_type": "code",
   "execution_count": 0,
   "metadata": {
    "colab": {},
    "colab_type": "code",
    "id": "HAmRCqU6xnm8"
   },
   "outputs": [],
   "source": [
    "# default bs = 128\n",
    "\n",
    "batch_size = 64\n",
    "\n",
    "train_iter = gdata.DataLoader(train_ds.transform_first(transform_train),\n",
    "                              batch_size, shuffle=True, last_batch='keep')\n",
    "\n",
    "valid_iter = gdata.DataLoader(valid_ds.transform_first(transform_test),\n",
    "                              batch_size, shuffle=True, last_batch='keep')\n",
    "\n",
    "train_valid_iter = gdata.DataLoader(train_valid_ds.transform_first(\n",
    "    transform_train), batch_size, shuffle=True, last_batch='keep')\n",
    "\n",
    "test_iter = gdata.DataLoader(test_ds.transform_first(transform_test),\n",
    "                             batch_size, shuffle=False, last_batch='keep')"
   ]
  },
  {
   "cell_type": "markdown",
   "metadata": {
    "colab_type": "text",
    "id": "s_IjRm0GxnnA"
   },
   "source": [
    "## Define the Model\n",
    "\n",
    "The data set for this competition is a subset of the ImageNet data set. Therefore, we can use the approach discussed in the [\"Fine Tuning\"](fine-tuning.md) section to select a model pre-trained on the entire ImageNet data set and use it to extract image features to be input in the custom small-scale output network. Gluon provides a wide range of pre-trained models. Here, we will use the pre-trained ResNet-34 model. Because the competition data set is a subset of the pre-training data set, we simply reuse the input of the pre-trained model's output layer, i.e. the extracted features. Then, we can replace the original output layer with a small custom output network that can be trained, such as two fully connected layers in a series. Different from the experiment in the [\"Fine Tuning\"](fine-tuning.md) section, here, we do not retrain the pre-trained model used for feature extraction. This reduces the training time and the memory required to store model parameter gradients.\n",
    "\n",
    "You must note that, during image augmentation, we use the mean values and standard deviations of the three RGB channels for the entire ImageNet data set for normalization. This is consistent with the normalization of the pre-trained model."
   ]
  },
  {
   "cell_type": "code",
   "execution_count": 0,
   "metadata": {
    "ExecuteTime": {
     "end_time": "2019-04-05T19:40:46.883435Z",
     "start_time": "2019-04-05T19:40:46.875430Z"
    },
    "attributes": {
     "classes": [],
     "id": "",
     "n": "6"
    },
    "colab": {},
    "colab_type": "code",
    "id": "ow2_DYAKxnnB"
   },
   "outputs": [],
   "source": [
    "def get_net(ctx):\n",
    "    finetune_net = model_zoo.vision.resnet152_v2(pretrained=True)\n",
    "    # Define a new output network.\n",
    "    finetune_net.output_new = nn.HybridSequential(prefix='')\n",
    "    finetune_net.output_new.add(nn.Dense(256, activation='relu'))\n",
    "    # There are 120 output categories.\n",
    "    finetune_net.output_new.add(nn.Dense(120))\n",
    "    # Initialize the output network.\n",
    "    finetune_net.output_new.initialize(init.Xavier(), ctx=ctx)\n",
    "    # Distribute the model parameters to the CPUs or GPUs used for computation.\n",
    "    finetune_net.collect_params().reset_ctx(ctx)\n",
    "    return finetune_net"
   ]
  },
  {
   "cell_type": "markdown",
   "metadata": {
    "colab_type": "text",
    "id": "v9meQXPPxnnE"
   },
   "source": [
    "When calculating the loss, we first use the member variable `features` to obtain the input of the pre-trained model's output layer, i.e. the extracted feature. Then, we use this feature as the input for our small custom output network and compute the output."
   ]
  },
  {
   "cell_type": "code",
   "execution_count": 0,
   "metadata": {
    "colab": {},
    "colab_type": "code",
    "id": "odFNO7chxnnF"
   },
   "outputs": [],
   "source": [
    "loss = gloss.SoftmaxCrossEntropyLoss()\n",
    "\n",
    "def evaluate_loss(data_iter, net, ctx):\n",
    "    l_sum, n = 0.0, 0\n",
    "    for X, y in data_iter:\n",
    "        y = y.as_in_context(ctx)\n",
    "        output_features = net.features(X.as_in_context(ctx))\n",
    "        outputs = net.output_new(output_features)\n",
    "        l_sum += loss(outputs, y).sum().asscalar()\n",
    "        n += y.size\n",
    "    return l_sum / n"
   ]
  },
  {
   "cell_type": "markdown",
   "metadata": {
    "colab_type": "text",
    "id": "1zPvKrxRxnnI"
   },
   "source": [
    "## Define the Training Functions\n",
    "\n",
    "We will select the model and tune hyper-parameters according to the model's performance on the validation set. The model training function `train` only trains the small custom output network."
   ]
  },
  {
   "cell_type": "code",
   "execution_count": 0,
   "metadata": {
    "attributes": {
     "classes": [],
     "id": "",
     "n": "7"
    },
    "colab": {},
    "colab_type": "code",
    "id": "qawk8K8hxnnJ"
   },
   "outputs": [],
   "source": [
    "def train(net, train_iter, valid_iter, num_epochs, lr, wd, ctx, lr_period=None,\n",
    "          lr_decay=None, gamma=None):\n",
    "\n",
    "    trainer = gluon.Trainer(net.output_new.collect_params(), 'rmsprop',\n",
    "                            {'learning_rate': lr, 'gamma1':gamma})\n",
    "    \n",
    "    for epoch in range(num_epochs):\n",
    "        train_l_sum, n, start = 0.0, 0, time.time()\n",
    "        \n",
    "        iter_ver = int(len(train_iter)*.1)\n",
    "        \n",
    "        for i, (X, y) in enumerate(train_iter):\n",
    "            y = y.as_in_context(ctx)\n",
    "            output_features = net.features(X.as_in_context(ctx))\n",
    "          \n",
    "            with autograd.record():\n",
    "              \n",
    "                outputs = net.output_new(output_features)\n",
    "                l = loss(outputs, y).sum()\n",
    "\n",
    "            l.backward()\n",
    "            trainer.step(batch_size)\n",
    "            train_l_sum += l.asscalar()\n",
    "            n += y.size\n",
    "            \n",
    "            if i % iter_ver == 0 and i > 0:\n",
    "              print('epoch %d, train_iter %d/%d, train loss %f, ' % (epoch, i, len(train_iter)-1, train_l_sum / n))\n",
    "\n",
    "        time_s = \"time %.2f sec\" % (time.time() - start)\n",
    "        \n",
    "        valid_loss = evaluate_loss(valid_iter, net, ctx)\n",
    "        \n",
    "        print('epoch %d, train_iter %d/%d, train loss %f, valid loss %f' % (epoch, i, len(train_iter)-1, train_l_sum / n, valid_loss))\n",
    "        \n",
    "\n",
    "        \n",
    "        # save model \n",
    "        file_name = 'net.params'\n",
    "        net.save_parameters(file_name)\n",
    "        print('Model Saved')"
   ]
  },
  {
   "cell_type": "markdown",
   "metadata": {
    "colab_type": "text",
    "id": "-9SB43XRxnnN"
   },
   "source": [
    "## Train and Validate the Model\n",
    "\n",
    "Now, we can train and validate the model. The following hyper-parameters can be tuned. For example, we can increase the number of epochs. Because `lr_period` and `lr_decay` are set to 10 and 0.1 respectively, the learning rate of the optimization algorithm will be multiplied by 0.1 after every 10 epochs."
   ]
  },
  {
   "cell_type": "code",
   "execution_count": 43,
   "metadata": {
    "attributes": {
     "classes": [],
     "id": "",
     "n": "9"
    },
    "colab": {
     "base_uri": "https://localhost:8080/",
     "height": 2488
    },
    "colab_type": "code",
    "id": "YW_GQ7x6xnnO",
    "outputId": "31b4db60-9941-4337-bf6b-b13a845e3177"
   },
   "outputs": [
    {
     "name": "stdout",
     "output_type": "stream",
     "text": [
      "Model Restored\n",
      "epoch 0, train_iter 14/148, train loss 0.438828, \n",
      "epoch 0, train_iter 28/148, train loss 0.425957, \n",
      "epoch 0, train_iter 42/148, train loss 0.439003, \n",
      "epoch 0, train_iter 56/148, train loss 0.433751, \n",
      "epoch 0, train_iter 70/148, train loss 0.435168, \n",
      "epoch 0, train_iter 84/148, train loss 0.444287, \n",
      "epoch 0, train_iter 98/148, train loss 0.432482, \n",
      "epoch 0, train_iter 112/148, train loss 0.431958, \n",
      "epoch 0, train_iter 126/148, train loss 0.432681, \n",
      "epoch 0, train_iter 140/148, train loss 0.433426, \n",
      "epoch 0, train_iter 148/148, train loss 0.432558, valid loss 0.197412\n",
      "Model Saved\n",
      "epoch 1, train_iter 14/148, train loss 0.397454, \n",
      "epoch 1, train_iter 28/148, train loss 0.394405, \n",
      "epoch 1, train_iter 42/148, train loss 0.415764, \n",
      "epoch 1, train_iter 56/148, train loss 0.433631, \n",
      "epoch 1, train_iter 70/148, train loss 0.432188, \n",
      "epoch 1, train_iter 84/148, train loss 0.432409, \n",
      "epoch 1, train_iter 98/148, train loss 0.430703, \n",
      "epoch 1, train_iter 112/148, train loss 0.429090, \n",
      "epoch 1, train_iter 126/148, train loss 0.437812, \n",
      "epoch 1, train_iter 140/148, train loss 0.440955, \n",
      "epoch 1, train_iter 148/148, train loss 0.443204, valid loss 0.197415\n",
      "Model Saved\n",
      "epoch 2, train_iter 14/148, train loss 0.439794, \n",
      "epoch 2, train_iter 28/148, train loss 0.460378, \n",
      "epoch 2, train_iter 42/148, train loss 0.453960, \n",
      "epoch 2, train_iter 56/148, train loss 0.450505, \n",
      "epoch 2, train_iter 70/148, train loss 0.450561, \n",
      "epoch 2, train_iter 84/148, train loss 0.438920, \n",
      "epoch 2, train_iter 98/148, train loss 0.429038, \n",
      "epoch 2, train_iter 112/148, train loss 0.434003, \n",
      "epoch 2, train_iter 126/148, train loss 0.441916, \n",
      "epoch 2, train_iter 140/148, train loss 0.438868, \n",
      "epoch 2, train_iter 148/148, train loss 0.437877, valid loss 0.197404\n",
      "Model Saved\n",
      "epoch 3, train_iter 14/148, train loss 0.453987, \n",
      "epoch 3, train_iter 28/148, train loss 0.439581, \n",
      "epoch 3, train_iter 42/148, train loss 0.432124, \n",
      "epoch 3, train_iter 56/148, train loss 0.419650, \n",
      "epoch 3, train_iter 70/148, train loss 0.425234, \n",
      "epoch 3, train_iter 84/148, train loss 0.437442, \n",
      "epoch 3, train_iter 98/148, train loss 0.434897, \n",
      "epoch 3, train_iter 112/148, train loss 0.438040, \n",
      "epoch 3, train_iter 126/148, train loss 0.434510, \n",
      "epoch 3, train_iter 140/148, train loss 0.433736, \n",
      "epoch 3, train_iter 148/148, train loss 0.434334, valid loss 0.197405\n",
      "Model Saved\n",
      "epoch 4, train_iter 14/148, train loss 0.444652, \n",
      "epoch 4, train_iter 28/148, train loss 0.448099, \n",
      "epoch 4, train_iter 42/148, train loss 0.420665, \n",
      "epoch 4, train_iter 56/148, train loss 0.418883, \n",
      "epoch 4, train_iter 70/148, train loss 0.414275, \n",
      "epoch 4, train_iter 84/148, train loss 0.422052, \n",
      "epoch 4, train_iter 98/148, train loss 0.422402, \n",
      "epoch 4, train_iter 112/148, train loss 0.424125, \n",
      "epoch 4, train_iter 126/148, train loss 0.419225, \n",
      "epoch 4, train_iter 140/148, train loss 0.422104, \n",
      "epoch 4, train_iter 148/148, train loss 0.424632, valid loss 0.197367\n",
      "Model Saved\n",
      "epoch 5, train_iter 14/148, train loss 0.408840, \n",
      "epoch 5, train_iter 28/148, train loss 0.445273, \n",
      "epoch 5, train_iter 42/148, train loss 0.454540, \n",
      "epoch 5, train_iter 56/148, train loss 0.440284, \n",
      "epoch 5, train_iter 70/148, train loss 0.445050, \n",
      "epoch 5, train_iter 84/148, train loss 0.445864, \n",
      "epoch 5, train_iter 98/148, train loss 0.435806, \n",
      "epoch 5, train_iter 112/148, train loss 0.441668, \n",
      "epoch 5, train_iter 126/148, train loss 0.440630, \n",
      "epoch 5, train_iter 140/148, train loss 0.445563, \n",
      "epoch 5, train_iter 148/148, train loss 0.443766, valid loss 0.197363\n",
      "Model Saved\n",
      "epoch 6, train_iter 14/148, train loss 0.435484, \n",
      "epoch 6, train_iter 28/148, train loss 0.443152, \n",
      "epoch 6, train_iter 42/148, train loss 0.434006, \n",
      "epoch 6, train_iter 56/148, train loss 0.435316, \n",
      "epoch 6, train_iter 70/148, train loss 0.427518, \n",
      "epoch 6, train_iter 84/148, train loss 0.425897, \n",
      "epoch 6, train_iter 98/148, train loss 0.428148, \n",
      "epoch 6, train_iter 112/148, train loss 0.430665, \n",
      "epoch 6, train_iter 126/148, train loss 0.434770, \n",
      "epoch 6, train_iter 140/148, train loss 0.434576, \n",
      "epoch 6, train_iter 148/148, train loss 0.433884, valid loss 0.197345\n",
      "Model Saved\n",
      "epoch 7, train_iter 14/148, train loss 0.448483, \n",
      "epoch 7, train_iter 28/148, train loss 0.437953, \n",
      "epoch 7, train_iter 42/148, train loss 0.425681, \n",
      "epoch 7, train_iter 56/148, train loss 0.443298, \n",
      "epoch 7, train_iter 70/148, train loss 0.440528, \n",
      "epoch 7, train_iter 84/148, train loss 0.449319, \n",
      "epoch 7, train_iter 98/148, train loss 0.458951, \n",
      "epoch 7, train_iter 112/148, train loss 0.456225, \n",
      "epoch 7, train_iter 126/148, train loss 0.455359, \n",
      "epoch 7, train_iter 140/148, train loss 0.445818, \n",
      "epoch 7, train_iter 148/148, train loss 0.442835, valid loss 0.197356\n",
      "Model Saved\n",
      "epoch 8, train_iter 14/148, train loss 0.403178, \n",
      "epoch 8, train_iter 28/148, train loss 0.401641, \n",
      "epoch 8, train_iter 42/148, train loss 0.412359, \n",
      "epoch 8, train_iter 56/148, train loss 0.414064, \n",
      "epoch 8, train_iter 70/148, train loss 0.415941, \n",
      "epoch 8, train_iter 84/148, train loss 0.407662, \n",
      "epoch 8, train_iter 98/148, train loss 0.416469, \n",
      "epoch 8, train_iter 112/148, train loss 0.412935, \n",
      "epoch 8, train_iter 126/148, train loss 0.408596, \n",
      "epoch 8, train_iter 140/148, train loss 0.406967, \n",
      "epoch 8, train_iter 148/148, train loss 0.406658, valid loss 0.197359\n",
      "Model Saved\n",
      "epoch 9, train_iter 14/148, train loss 0.391836, \n",
      "epoch 9, train_iter 28/148, train loss 0.396880, \n"
     ]
    },
    {
     "ename": "KeyboardInterrupt",
     "evalue": "ignored",
     "output_type": "error",
     "traceback": [
      "\u001b[0;31m---------------------------------------------------------------------------\u001b[0m",
      "\u001b[0;31mKeyboardInterrupt\u001b[0m                         Traceback (most recent call last)",
      "\u001b[0;32m<ipython-input-43-5f0d5b5d88f7>\u001b[0m in \u001b[0;36m<module>\u001b[0;34m()\u001b[0m\n\u001b[1;32m     20\u001b[0m \u001b[0mwd\u001b[0m \u001b[0;34m=\u001b[0m \u001b[0;36m1e-5\u001b[0m\u001b[0;34m\u001b[0m\u001b[0;34m\u001b[0m\u001b[0m\n\u001b[1;32m     21\u001b[0m \u001b[0;34m\u001b[0m\u001b[0m\n\u001b[0;32m---> 22\u001b[0;31m \u001b[0mtrain\u001b[0m\u001b[0;34m(\u001b[0m\u001b[0mnet\u001b[0m\u001b[0;34m,\u001b[0m \u001b[0mtrain_iter\u001b[0m\u001b[0;34m,\u001b[0m \u001b[0mvalid_iter\u001b[0m\u001b[0;34m,\u001b[0m \u001b[0mnum_epochs\u001b[0m\u001b[0;34m,\u001b[0m \u001b[0mlr\u001b[0m\u001b[0;34m,\u001b[0m \u001b[0mwd\u001b[0m\u001b[0;34m,\u001b[0m \u001b[0mctx\u001b[0m\u001b[0;34m,\u001b[0m \u001b[0mgamma\u001b[0m\u001b[0;34m=\u001b[0m\u001b[0mgamma\u001b[0m\u001b[0;34m)\u001b[0m\u001b[0;34m\u001b[0m\u001b[0;34m\u001b[0m\u001b[0m\n\u001b[0m",
      "\u001b[0;32m<ipython-input-20-a055f4d43f9e>\u001b[0m in \u001b[0;36mtrain\u001b[0;34m(net, train_iter, valid_iter, num_epochs, lr, wd, ctx, lr_period, lr_decay, gamma)\u001b[0m\n\u001b[1;32m     21\u001b[0m             \u001b[0ml\u001b[0m\u001b[0;34m.\u001b[0m\u001b[0mbackward\u001b[0m\u001b[0;34m(\u001b[0m\u001b[0;34m)\u001b[0m\u001b[0;34m\u001b[0m\u001b[0;34m\u001b[0m\u001b[0m\n\u001b[1;32m     22\u001b[0m             \u001b[0mtrainer\u001b[0m\u001b[0;34m.\u001b[0m\u001b[0mstep\u001b[0m\u001b[0;34m(\u001b[0m\u001b[0mbatch_size\u001b[0m\u001b[0;34m)\u001b[0m\u001b[0;34m\u001b[0m\u001b[0;34m\u001b[0m\u001b[0m\n\u001b[0;32m---> 23\u001b[0;31m             \u001b[0mtrain_l_sum\u001b[0m \u001b[0;34m+=\u001b[0m \u001b[0ml\u001b[0m\u001b[0;34m.\u001b[0m\u001b[0masscalar\u001b[0m\u001b[0;34m(\u001b[0m\u001b[0;34m)\u001b[0m\u001b[0;34m\u001b[0m\u001b[0;34m\u001b[0m\u001b[0m\n\u001b[0m\u001b[1;32m     24\u001b[0m             \u001b[0mn\u001b[0m \u001b[0;34m+=\u001b[0m \u001b[0my\u001b[0m\u001b[0;34m.\u001b[0m\u001b[0msize\u001b[0m\u001b[0;34m\u001b[0m\u001b[0;34m\u001b[0m\u001b[0m\n\u001b[1;32m     25\u001b[0m \u001b[0;34m\u001b[0m\u001b[0m\n",
      "\u001b[0;32m/usr/local/lib/python3.6/dist-packages/mxnet/ndarray/ndarray.py\u001b[0m in \u001b[0;36masscalar\u001b[0;34m(self)\u001b[0m\n\u001b[1;32m   1996\u001b[0m         \u001b[0;32mif\u001b[0m \u001b[0mself\u001b[0m\u001b[0;34m.\u001b[0m\u001b[0mshape\u001b[0m \u001b[0;34m!=\u001b[0m \u001b[0;34m(\u001b[0m\u001b[0;36m1\u001b[0m\u001b[0;34m,\u001b[0m\u001b[0;34m)\u001b[0m\u001b[0;34m:\u001b[0m\u001b[0;34m\u001b[0m\u001b[0;34m\u001b[0m\u001b[0m\n\u001b[1;32m   1997\u001b[0m             \u001b[0;32mraise\u001b[0m \u001b[0mValueError\u001b[0m\u001b[0;34m(\u001b[0m\u001b[0;34m\"The current array is not a scalar\"\u001b[0m\u001b[0;34m)\u001b[0m\u001b[0;34m\u001b[0m\u001b[0;34m\u001b[0m\u001b[0m\n\u001b[0;32m-> 1998\u001b[0;31m         \u001b[0;32mreturn\u001b[0m \u001b[0mself\u001b[0m\u001b[0;34m.\u001b[0m\u001b[0masnumpy\u001b[0m\u001b[0;34m(\u001b[0m\u001b[0;34m)\u001b[0m\u001b[0;34m[\u001b[0m\u001b[0;36m0\u001b[0m\u001b[0;34m]\u001b[0m\u001b[0;34m\u001b[0m\u001b[0;34m\u001b[0m\u001b[0m\n\u001b[0m\u001b[1;32m   1999\u001b[0m \u001b[0;34m\u001b[0m\u001b[0m\n\u001b[1;32m   2000\u001b[0m     \u001b[0;32mdef\u001b[0m \u001b[0mastype\u001b[0m\u001b[0;34m(\u001b[0m\u001b[0mself\u001b[0m\u001b[0;34m,\u001b[0m \u001b[0mdtype\u001b[0m\u001b[0;34m,\u001b[0m \u001b[0mcopy\u001b[0m\u001b[0;34m=\u001b[0m\u001b[0;32mTrue\u001b[0m\u001b[0;34m)\u001b[0m\u001b[0;34m:\u001b[0m\u001b[0;34m\u001b[0m\u001b[0;34m\u001b[0m\u001b[0m\n",
      "\u001b[0;32m/usr/local/lib/python3.6/dist-packages/mxnet/ndarray/ndarray.py\u001b[0m in \u001b[0;36masnumpy\u001b[0;34m(self)\u001b[0m\n\u001b[1;32m   1978\u001b[0m             \u001b[0mself\u001b[0m\u001b[0;34m.\u001b[0m\u001b[0mhandle\u001b[0m\u001b[0;34m,\u001b[0m\u001b[0;34m\u001b[0m\u001b[0;34m\u001b[0m\u001b[0m\n\u001b[1;32m   1979\u001b[0m             \u001b[0mdata\u001b[0m\u001b[0;34m.\u001b[0m\u001b[0mctypes\u001b[0m\u001b[0;34m.\u001b[0m\u001b[0mdata_as\u001b[0m\u001b[0;34m(\u001b[0m\u001b[0mctypes\u001b[0m\u001b[0;34m.\u001b[0m\u001b[0mc_void_p\u001b[0m\u001b[0;34m)\u001b[0m\u001b[0;34m,\u001b[0m\u001b[0;34m\u001b[0m\u001b[0;34m\u001b[0m\u001b[0m\n\u001b[0;32m-> 1980\u001b[0;31m             ctypes.c_size_t(data.size)))\n\u001b[0m\u001b[1;32m   1981\u001b[0m         \u001b[0;32mreturn\u001b[0m \u001b[0mdata\u001b[0m\u001b[0;34m\u001b[0m\u001b[0;34m\u001b[0m\u001b[0m\n\u001b[1;32m   1982\u001b[0m \u001b[0;34m\u001b[0m\u001b[0m\n",
      "\u001b[0;31mKeyboardInterrupt\u001b[0m: "
     ]
    }
   ],
   "source": [
    "# declare net here to avoid multiple declaration\n",
    "ctx = d2l.try_gpu()\n",
    "gamma = .9\n",
    "\n",
    "net = get_net(ctx)\n",
    "net.hybridize()\n",
    "\n",
    "from pathlib import Path\n",
    "\n",
    "file = 'net.params'\n",
    "path = Path('./'+file)\n",
    "\n",
    "if path.exists():\n",
    "  print('Model Restored')\n",
    "  net.load_parameters(file, ctx=ctx)\n",
    "\n",
    "# print(evaluate_loss(valid_iter, net, ctx))\n",
    "  \n",
    "num_epochs, lr = 100, 1e-7\n",
    "\n",
    "wd = 1e-5\n",
    "\n",
    "train(net, train_iter, valid_iter, num_epochs, lr, wd, ctx, gamma=gamma)"
   ]
  },
  {
   "cell_type": "markdown",
   "metadata": {
    "colab_type": "text",
    "id": "7T0EqK56xnnU"
   },
   "source": [
    "## Classify the Testing Set and Submit Results on Kaggle\n",
    "\n",
    "After obtaining a satisfactory model design and hyper-parameters, we use all training data sets (including validation sets) to retrain the model and then classify the testing set. Note that predictions are made by the output network we just trained."
   ]
  },
  {
   "cell_type": "code",
   "execution_count": 0,
   "metadata": {
    "attributes": {
     "classes": [],
     "id": "",
     "n": "8"
    },
    "colab": {},
    "colab_type": "code",
    "id": "9xsjo9cRxnnX"
   },
   "outputs": [],
   "source": [
    "# preds = []\n",
    "# for i, (data, label) in enumerate(test_iter):\n",
    "  \n",
    "#     if i % int(len(test_iter)*.1) == 0:\n",
    "#         print(f'{i}/{len(test_iter)-1}')\n",
    "#     output_features = net.features(data.as_in_context(ctx))\n",
    "#     output = nd.softmax(net.output_new(output_features))\n",
    "#     preds.extend(output.asnumpy())\n",
    "    \n",
    "# ids = sorted(os.listdir(os.path.join(data_dir, input_dir, 'test/unknown')))\n",
    "\n",
    "# print('Preparing Submission')\n",
    "\n",
    "# with open('submission.csv', 'w') as f:\n",
    "#     f.write('id,' + ','.join(train_valid_ds.synsets) + '\\n')\n",
    "#     for i, output in zip(ids, preds):\n",
    "#         f.write(i.split('.')[0] + ',' + ','.join(\n",
    "#             [str(num) for num in output]) + '\\n')\n",
    "        \n",
    "# from google.colab import files\n",
    "        \n",
    "# files.download('submission.csv')"
   ]
  },
  {
   "cell_type": "markdown",
   "metadata": {
    "colab_type": "text",
    "id": "zR6xpW81xnnf"
   },
   "source": [
    "After executing the above code, we will generate a \"submission.csv\" file. The format of this file is consistent with the Kaggle competition requirements. \n",
    "\n",
    "## Hints to Improve Your Results\n",
    "\n",
    "* You should download the whole data set from Kaggle and switch to `demo=False`. \n",
    "* Try to increase the `batch_size` (batch size) and `num_epochs` (number of epochs).\n",
    "* Try a deeper pre-trained model, you may find models from [gluoncv](https://gluon-cv.mxnet.io/model_zoo/classification.html)."
   ]
  }
 ],
 "metadata": {
  "accelerator": "GPU",
  "colab": {
   "collapsed_sections": [],
   "name": "homework7.ipynb",
   "provenance": [],
   "version": "0.3.2"
  },
  "kernelspec": {
   "display_name": "Python 3",
   "language": "python",
   "name": "python3"
  },
  "language_info": {
   "codemirror_mode": {
    "name": "ipython",
    "version": 3
   },
   "file_extension": ".py",
   "mimetype": "text/x-python",
   "name": "python",
   "nbconvert_exporter": "python",
   "pygments_lexer": "ipython3",
   "version": "3.6.6"
  }
 },
 "nbformat": 4,
 "nbformat_minor": 1
}
