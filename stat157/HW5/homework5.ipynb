{
 "cells": [
  {
   "cell_type": "markdown",
   "metadata": {},
   "source": [
    "#  Homework 5 - Berkeley STAT 157\n",
    "\n",
    "**Your name: Hanmaro Song, 3032216175** (Please add your name, and SID to ease Ryan and Rachel to grade.)\n",
    "\n",
    "**Please submit your homework through [gradescope](http://gradescope.com/) instead of Github, so you will get the score distribution for each question. Please enroll in the [class](https://www.gradescope.com/courses/42432) by the Entry code: MXG5G5** \n",
    "\n",
    "Handout 2/19/2019, due 2/26/2019 by 4pm in Git by committing to your repository.\n",
    "\n",
    "In this homework, we will model covariate shift and attempt to fix it using logistic regression. This is a fairly realistic scenario for data scientists. To keep things well under control and understandable we will use [Fashion-MNIST](http://d2l.ai/chapter_linear-networks/fashion-mnist.html) as the data to experiment on. \n",
    "\n",
    "Follow the instructions from the Fashion MNIST notebook to get the data."
   ]
  },
  {
   "cell_type": "code",
   "execution_count": 1,
   "metadata": {
    "ExecuteTime": {
     "end_time": "2019-03-05T00:17:09.912990Z",
     "start_time": "2019-03-05T00:16:56.038651Z"
    },
    "attributes": {
     "classes": [],
     "id": "",
     "n": "3"
    },
    "scrolled": true
   },
   "outputs": [
    {
     "name": "stdout",
     "output_type": "stream",
     "text": [
      "Downloading C:\\Users\\hsong1101\\AppData\\Roaming\\mxnet\\datasets\\fashion-mnist\\train-images-idx3-ubyte.gz from https://apache-mxnet.s3-accelerate.dualstack.amazonaws.com/gluon/dataset/fashion-mnist/train-images-idx3-ubyte.gz...\n",
      "Downloading C:\\Users\\hsong1101\\AppData\\Roaming\\mxnet\\datasets\\fashion-mnist\\train-labels-idx1-ubyte.gz from https://apache-mxnet.s3-accelerate.dualstack.amazonaws.com/gluon/dataset/fashion-mnist/train-labels-idx1-ubyte.gz...\n",
      "Downloading C:\\Users\\hsong1101\\AppData\\Roaming\\mxnet\\datasets\\fashion-mnist\\t10k-images-idx3-ubyte.gz from https://apache-mxnet.s3-accelerate.dualstack.amazonaws.com/gluon/dataset/fashion-mnist/t10k-images-idx3-ubyte.gz...\n",
      "Downloading C:\\Users\\hsong1101\\AppData\\Roaming\\mxnet\\datasets\\fashion-mnist\\t10k-labels-idx1-ubyte.gz from https://apache-mxnet.s3-accelerate.dualstack.amazonaws.com/gluon/dataset/fashion-mnist/t10k-labels-idx1-ubyte.gz...\n"
     ]
    }
   ],
   "source": [
    "%matplotlib inline\n",
    "from mxnet import autograd, gluon, init, nd\n",
    "from mxnet.gluon import data as gdata, loss as gloss, nn, utils\n",
    "import numpy as np\n",
    "\n",
    "mnist_train = gdata.vision.FashionMNIST(train=True)\n",
    "mnist_test = gdata.vision.FashionMNIST(train=False)"
   ]
  },
  {
   "cell_type": "code",
   "execution_count": 2,
   "metadata": {
    "ExecuteTime": {
     "end_time": "2019-03-05T00:17:09.922992Z",
     "start_time": "2019-03-05T00:17:09.917992Z"
    }
   },
   "outputs": [],
   "source": [
    "import matplotlib.pyplot as plt"
   ]
  },
  {
   "cell_type": "markdown",
   "metadata": {},
   "source": [
    "## 1. Logistic Regression\n",
    "\n",
    "1. Implement the logistic loss function $l(y,f) = -\\log(1 + \\exp(-y f))$ in Gluon.\n",
    "2. Plot its values and its derivative for $y = 1$ and $f \\in [-5, 5]$, using automatic differentiation in Gluon.\n",
    "3. Generate training and test datasets for a binary classification problem using Fashion-MNIST with class $1$ being a combination of `sneaker` and `pullover` and class $-1$ being the combination of `sandal` and `shirt` categories. \n",
    "4. Train a binary classifier of your choice (it can be linear or a simple MLP such as from a previous lecture) using half the data (i.e. $12,000$ observations mixed as abvove) and one using the full dataset (i.e. $24,000$ observations as arising from the 4 categories) and report its accuracy. \n",
    "\n",
    "Hint - you should encapsulate the training and reporting code in a callable function since you'll need it quite a bit in the following. "
   ]
  },
  {
   "cell_type": "code",
   "execution_count": 3,
   "metadata": {
    "ExecuteTime": {
     "end_time": "2019-03-05T00:17:09.940996Z",
     "start_time": "2019-03-05T00:17:09.925993Z"
    }
   },
   "outputs": [],
   "source": [
    "l = gloss.LogisticLoss()"
   ]
  },
  {
   "cell_type": "code",
   "execution_count": 4,
   "metadata": {
    "ExecuteTime": {
     "end_time": "2019-03-05T00:17:09.963988Z",
     "start_time": "2019-03-05T00:17:09.945995Z"
    }
   },
   "outputs": [],
   "source": [
    "f = nd.arange(-5, 5, 0.15)\n",
    "f.attach_grad()\n",
    "\n",
    "y = nd.ones_like(f)\n",
    "\n",
    "with autograd.record():\n",
    "    loss = l(f, y)\n",
    "    \n",
    "loss.backward()"
   ]
  },
  {
   "cell_type": "code",
   "execution_count": 5,
   "metadata": {
    "ExecuteTime": {
     "end_time": "2019-03-05T00:17:10.417991Z",
     "start_time": "2019-03-05T00:17:09.968995Z"
    },
    "scrolled": false
   },
   "outputs": [
    {
     "data": {
      "image/png": "[encoded data removed]",
      "text/plain": [
       "<Figure size 1152x432 with 2 Axes>"
      ]
     },
     "metadata": {
      "needs_background": "light"
     },
     "output_type": "display_data"
    }
   ],
   "source": [
    "fig, ax = plt.subplots(1, 2, figsize=(16, 6))\n",
    "\n",
    "ax[0].plot(f.asnumpy(), loss.asnumpy())\n",
    "ax[0].set_title('Values', size=15)\n",
    "\n",
    "ax[1].plot(f.asnumpy(), f.grad.asnumpy())\n",
    "ax[1].set_title('Derivative', size=15);"
   ]
  },
  {
   "cell_type": "code",
   "execution_count": 16,
   "metadata": {
    "ExecuteTime": {
     "end_time": "2019-03-05T00:40:22.593970Z",
     "start_time": "2019-03-05T00:40:22.548927Z"
    }
   },
   "outputs": [],
   "source": [
    "def train(net, train_features, train_labels, val_features, val_labels, num_epochs, learning_rate, weight_decay, batch_size):\n",
    "    \n",
    "    train_features = train_features.reshape(train_features.shape[0], -1)\n",
    "    val_features = val_features.reshape(val_features.shape[0], -1)\n",
    "    \n",
    "    train_iter = gdata.DataLoader(gdata.ArrayDataset(\n",
    "        train_features, train_labels), batch_size, shuffle=True)\n",
    "    \n",
    "    \n",
    "    trainer = gluon.Trainer(net.collect_params(), 'adam', {\n",
    "        'learning_rate': learning_rate, 'wd': weight_decay})\n",
    "\n",
    "    acc = []\n",
    "    training_accuracy = 0\n",
    "    \n",
    "    for epoch in range(num_epochs):\n",
    "\n",
    "        for X, y in train_iter:\n",
    "\n",
    "            with autograd.record():\n",
    "                out = net(X)\n",
    "                loss = l(out, y)\n",
    "                \n",
    "            loss.backward()\n",
    "            training_accuracy = eval_accuracy(out, y)\n",
    "            trainer.step(batch_size)\n",
    "            \n",
    "        \n",
    "        if epoch % 2 == 0:\n",
    "            \n",
    "            output = net(X)\n",
    "            \n",
    "            accuracy = eval_accuracy(output, y)\n",
    "            acc.append(accuracy)\n",
    "            print(f\"Epoch : {epoch} / {num_epochs}, Training Accuracy: {accuracy}\")\n",
    "\n",
    "    pred = net(val_features)\n",
    "    validation_accuracy = eval_accuracy(pred, val_labels)\n",
    "    \n",
    "    print(f'Validation Accuracy : , {validation_accuracy}')\n",
    "    \n",
    "    return net, training_accuracy, validation_accuracy\n",
    "\n",
    "\n",
    "def eval_accuracy(pred, y):\n",
    "    \n",
    "    pred = pred.reshape(1, -1)\n",
    "    pred = nd.sign(pred)\n",
    "    num_correct = nd.sum(pred == y)\n",
    "    \n",
    "    return round(num_correct.asscalar() / (len(y) + 1e-08), 3)\n",
    "\n",
    "\n",
    "def get_k_fold_data(k, i, X, y):\n",
    "    assert k > 1\n",
    "    fold_size = X.shape[0] // k\n",
    "    X_train, y_train = None, None\n",
    "    for j in range(k):\n",
    "        idx = slice(j * fold_size, (j + 1) * fold_size)\n",
    "        X_part, y_part = X[idx, :], y[idx]\n",
    "        if j == i:\n",
    "            X_valid, y_valid = X_part, y_part\n",
    "        elif X_train is None:\n",
    "            X_train, y_train = X_part, y_part\n",
    "        else:\n",
    "            X_train = nd.concat(X_train, X_part, dim=0)\n",
    "            y_train = nd.concat(y_train, y_part, dim=0)\n",
    "    return X_train, y_train, X_valid, y_valid\n",
    "\n",
    "\n",
    "def k_fold(k, X_train, y_train, num_epochs,\n",
    "           learning_rate, weight_decay, batch_size):\n",
    "    train_l_sum, valid_l_sum = 0, 0\n",
    "    for i in range(k):\n",
    "        data = get_k_fold_data(k, i, X_train, y_train)\n",
    "        net = get_net()\n",
    "        \n",
    "        train_ls, valid_ls = train(net, *data, num_epochs, learning_rate,\n",
    "                                   weight_decay, batch_size)\n",
    "        train_l_sum += train_ls[-1]\n",
    "        valid_l_sum += valid_ls[-1]\n",
    "    return net, train_l_sum / k, valid_l_sum / k\n",
    "\n",
    "\n",
    "def get_fashion_mnist_labels(labels):\n",
    "    text_labels = ['t-shirt', 'trouser', 'pullover', 'dress', 'coat',\n",
    "                   'sandal', 'shirt', 'sneaker', 'bag', 'ankle boot']\n",
    "    return np.array([text_labels[int(i)] for i in labels])\n",
    "\n",
    "\n",
    "# Split Training Dataset by given size \n",
    "def split_dataset(size, lambd = None):\n",
    "    \n",
    "    if lambd is None:\n",
    "        size1 = size2 = size\n",
    "    else:\n",
    "        size1 = int(size * lambd)\n",
    "        size2 = abs(size - size1)\n",
    "    \n",
    "    X_pos = np.vstack((train_shirt[:size1], train_pullover[:size2]))\n",
    "    y_pos = np.ones(X_pos.shape[0])\n",
    "\n",
    "    X_neg = np.vstack((train_sandal[:size1], train_sneaker[:size2]))\n",
    "    y_neg = -np.ones(X_neg.shape[0])\n",
    "\n",
    "    X_train = np.vstack((X_pos, X_neg))\n",
    "    y_train = np.concatenate((y_pos, y_neg))\n",
    "        \n",
    "    \n",
    "    return nd.array(X_train), nd.array(y_train)"
   ]
  },
  {
   "cell_type": "code",
   "execution_count": 7,
   "metadata": {
    "ExecuteTime": {
     "end_time": "2019-03-05T00:17:10.533989Z",
     "start_time": "2019-03-05T00:17:10.450991Z"
    }
   },
   "outputs": [],
   "source": [
    "train_data = mnist_train._data.asnumpy()\n",
    "train_label = mnist_train._label\n",
    "train_text = get_fashion_mnist_labels(train_label)\n",
    "\n",
    "test_data = mnist_test._data.asnumpy()\n",
    "test_label = mnist_test._label\n",
    "test_text = get_fashion_mnist_labels(test_label)"
   ]
  },
  {
   "cell_type": "code",
   "execution_count": 15,
   "metadata": {
    "ExecuteTime": {
     "end_time": "2019-03-05T00:39:19.940361Z",
     "start_time": "2019-03-05T00:39:19.858360Z"
    }
   },
   "outputs": [],
   "source": [
    "# For Training\n",
    "train_pullover = train_data[train_text == 'pullover']\n",
    "train_shirt = train_data[train_text == 'shirt']\n",
    "\n",
    "train_sandal = train_data[train_text == 'sandal']\n",
    "train_sneaker = train_data[train_text == 'sneaker']\n",
    "\n",
    "\n",
    "# For Validation\n",
    "test_pullover = test_data[test_text == 'pullover']\n",
    "test_shirt = test_data[test_text == 'shirt']\n",
    "\n",
    "test_sandal = test_data[test_text == 'sandal']\n",
    "test_sneaker = test_data[test_text == 'sneaker']\n",
    "\n",
    "\n",
    "X_val = nd.array(np.vstack((test_pullover, test_shirt, test_sneaker, test_sandal)))\n",
    "y_val = nd.array(np.concatenate((np.ones(test_pullover.shape[0]*2), -np.ones(test_pullover.shape[0]*2))))"
   ]
  },
  {
   "cell_type": "code",
   "execution_count": 22,
   "metadata": {
    "ExecuteTime": {
     "end_time": "2019-03-05T00:42:58.246299Z",
     "start_time": "2019-03-05T00:42:57.886288Z"
    },
    "code_folding": []
   },
   "outputs": [],
   "source": [
    "X_train_half, y_train_half = split_dataset(3000)\n",
    "X_train_full, y_train_full = split_dataset(6000)"
   ]
  },
  {
   "cell_type": "code",
   "execution_count": 10,
   "metadata": {
    "ExecuteTime": {
     "end_time": "2019-03-05T00:17:10.886995Z",
     "start_time": "2019-03-05T00:17:10.876992Z"
    }
   },
   "outputs": [],
   "source": [
    "def get_net():\n",
    "    \n",
    "    net = nn.Sequential()\n",
    "    net.add(nn.Dense(800, activation='relu'))\n",
    "    net.add(nn.Dropout(.5))\n",
    "    net.add(nn.BatchNorm())\n",
    "    net.add(nn.Dense(400, activation='relu'))\n",
    "    net.add(nn.Dropout(.5))\n",
    "    net.add(nn.BatchNorm())\n",
    "    net.add(nn.Dense(200, activation='relu'))\n",
    "    net.add(nn.Dropout(.5))\n",
    "    net.add(nn.BatchNorm())\n",
    "    net.add(nn.Dense(1))\n",
    "    net.collect_params().initialize(init.Xavier(magnitude=2.24))\n",
    "\n",
    "    return net"
   ]
  },
  {
   "cell_type": "markdown",
   "metadata": {},
   "source": [
    "### Using Half Dataset"
   ]
  },
  {
   "cell_type": "markdown",
   "metadata": {},
   "source": [
    "Setting num_epochs to a larger value can achieve almost perfect accuracy for both training and validation sets so I only set it as 10 to see the different easily. But still it achieves high accuracy."
   ]
  },
  {
   "cell_type": "code",
   "execution_count": 28,
   "metadata": {
    "ExecuteTime": {
     "end_time": "2019-03-05T00:46:19.889843Z",
     "start_time": "2019-03-05T00:46:19.884875Z"
    }
   },
   "outputs": [],
   "source": [
    "num_epochs = 10\n",
    "learning_rate = 1e-04\n",
    "batch_size = 1000\n",
    "weight_decay = 0.9"
   ]
  },
  {
   "cell_type": "code",
   "execution_count": 21,
   "metadata": {
    "ExecuteTime": {
     "end_time": "2019-03-05T00:42:57.882283Z",
     "start_time": "2019-03-05T00:40:57.059285Z"
    },
    "scrolled": true
   },
   "outputs": [
    {
     "name": "stdout",
     "output_type": "stream",
     "text": [
      "Epoch : 0 / 50, Training Accuracy: 0.632\n",
      "Epoch : 2 / 50, Training Accuracy: 0.762\n",
      "Epoch : 4 / 50, Training Accuracy: 0.876\n",
      "Epoch : 6 / 50, Training Accuracy: 0.952\n",
      "Epoch : 8 / 50, Training Accuracy: 0.981\n",
      "Epoch : 10 / 50, Training Accuracy: 0.986\n",
      "Epoch : 12 / 50, Training Accuracy: 0.986\n",
      "Epoch : 14 / 50, Training Accuracy: 0.997\n",
      "Epoch : 16 / 50, Training Accuracy: 0.996\n",
      "Epoch : 18 / 50, Training Accuracy: 0.995\n",
      "Epoch : 20 / 50, Training Accuracy: 0.997\n",
      "Epoch : 22 / 50, Training Accuracy: 0.997\n",
      "Epoch : 24 / 50, Training Accuracy: 0.997\n",
      "Epoch : 26 / 50, Training Accuracy: 1.0\n",
      "Epoch : 28 / 50, Training Accuracy: 0.998\n",
      "Epoch : 30 / 50, Training Accuracy: 0.997\n",
      "Epoch : 32 / 50, Training Accuracy: 0.997\n",
      "Epoch : 34 / 50, Training Accuracy: 0.998\n",
      "Epoch : 36 / 50, Training Accuracy: 0.999\n",
      "Epoch : 38 / 50, Training Accuracy: 0.996\n",
      "Epoch : 40 / 50, Training Accuracy: 0.999\n",
      "Epoch : 42 / 50, Training Accuracy: 0.999\n",
      "Epoch : 44 / 50, Training Accuracy: 0.999\n",
      "Epoch : 46 / 50, Training Accuracy: 0.998\n",
      "Epoch : 48 / 50, Training Accuracy: 1.0\n",
      "Validation Accuracy : , 0.999\n"
     ]
    }
   ],
   "source": [
    "net, _, _ = train(get_net(), X_train_half, y_train_half, X_val, y_val, num_epochs=num_epochs, learning_rate=learning_rate, \n",
    "                      weight_decay=weight_decay, batch_size=batch_size)"
   ]
  },
  {
   "cell_type": "markdown",
   "metadata": {},
   "source": [
    "### Using Full Dataset"
   ]
  },
  {
   "cell_type": "code",
   "execution_count": 13,
   "metadata": {
    "ExecuteTime": {
     "end_time": "2019-03-05T00:24:01.417990Z",
     "start_time": "2019-03-05T00:19:45.761009Z"
    },
    "scrolled": true
   },
   "outputs": [
    {
     "name": "stdout",
     "output_type": "stream",
     "text": [
      "Epoch : 0 / 50, Training Accuracy: 0.534\n",
      "Epoch : 2 / 50, Training Accuracy: 0.708\n",
      "Epoch : 4 / 50, Training Accuracy: 0.796\n",
      "Epoch : 6 / 50, Training Accuracy: 0.799\n",
      "Epoch : 8 / 50, Training Accuracy: 0.827\n",
      "Epoch : 10 / 50, Training Accuracy: 0.832\n",
      "Epoch : 12 / 50, Training Accuracy: 0.855\n",
      "Epoch : 14 / 50, Training Accuracy: 0.884\n",
      "Epoch : 16 / 50, Training Accuracy: 0.883\n",
      "Epoch : 18 / 50, Training Accuracy: 0.904\n",
      "Epoch : 20 / 50, Training Accuracy: 0.914\n",
      "Epoch : 22 / 50, Training Accuracy: 0.914\n",
      "Epoch : 24 / 50, Training Accuracy: 0.91\n",
      "Epoch : 26 / 50, Training Accuracy: 0.908\n",
      "Epoch : 28 / 50, Training Accuracy: 0.924\n",
      "Epoch : 30 / 50, Training Accuracy: 0.925\n",
      "Epoch : 32 / 50, Training Accuracy: 0.933\n",
      "Epoch : 34 / 50, Training Accuracy: 0.931\n",
      "Epoch : 36 / 50, Training Accuracy: 0.87\n",
      "Epoch : 38 / 50, Training Accuracy: 0.928\n",
      "Epoch : 40 / 50, Training Accuracy: 0.902\n",
      "Epoch : 42 / 50, Training Accuracy: 0.917\n",
      "Epoch : 44 / 50, Training Accuracy: 0.932\n",
      "Epoch : 46 / 50, Training Accuracy: 0.922\n",
      "Epoch : 48 / 50, Training Accuracy: 0.913\n",
      "Validation Accuracy : , 0.923\n"
     ]
    }
   ],
   "source": [
    "net, _, _ = train(get_net(), X_train_full, y_train_full, X_val, y_val, num_epochs=num_epochs, learning_rate=learning_rate, \n",
    "                      weight_decay=weight_decay, batch_size=batch_size)"
   ]
  },
  {
   "cell_type": "markdown",
   "metadata": {},
   "source": [
    "## 2. Covariate Shift\n",
    "\n",
    "Your goal is to introduce covariate shit in the data and observe the accuracy. For this, compose a dataset of $12,000$ observations, given by a mixture of `sneaker` and `pullover` and of `sandal` and `shirt` respectively, where you use a fraction $\\lambda \\in \\{0.05, 0.1, 0.2, \\ldots 0.8, 0.9, 0.95\\}$ of one and a fraction of $1-\\lambda$ of  the other datasets respectively. For instance, you might pick for $\\lambda = 0.1$ a total of $600$ `sneaker` and $5,400$ `pullover` images and likewise $600$ `sandal` and $5,400$ `shirt` photos, yielding a total of $12,000$ images for training. Note that the test set remains unbiased, composed of $2,000$ photos for the `sneaker` + `pullover` category and of the `sandal` + `shirt` category each.\n",
    "\n",
    "1. Generate training sets that are appropriately biased. You should have 11 datasets.\n",
    "2. Train a binary classifier using this and report the test set accuracy on the unbiased test set. "
   ]
  },
  {
   "cell_type": "code",
   "execution_count": 29,
   "metadata": {
    "ExecuteTime": {
     "end_time": "2019-03-05T00:51:02.472931Z",
     "start_time": "2019-03-05T00:46:26.614930Z"
    },
    "scrolled": true
   },
   "outputs": [
    {
     "name": "stdout",
     "output_type": "stream",
     "text": [
      "lambda value : 0.05\n",
      "Epoch : 0 / 10, Training Accuracy: 0.74\n",
      "Epoch : 2 / 10, Training Accuracy: 0.916\n",
      "Epoch : 4 / 10, Training Accuracy: 0.947\n",
      "Epoch : 6 / 10, Training Accuracy: 0.982\n",
      "Epoch : 8 / 10, Training Accuracy: 0.98\n",
      "Validation Accuracy : , 0.945\n",
      "lambda value : 0.1\n",
      "Epoch : 0 / 10, Training Accuracy: 0.833\n",
      "Epoch : 2 / 10, Training Accuracy: 0.877\n",
      "Epoch : 4 / 10, Training Accuracy: 0.928\n",
      "Epoch : 6 / 10, Training Accuracy: 0.961\n",
      "Epoch : 8 / 10, Training Accuracy: 0.97\n",
      "Validation Accuracy : , 0.928\n",
      "lambda value : 0.2\n",
      "Epoch : 0 / 10, Training Accuracy: 0.862\n",
      "Epoch : 2 / 10, Training Accuracy: 0.973\n",
      "Epoch : 4 / 10, Training Accuracy: 0.983\n",
      "Epoch : 6 / 10, Training Accuracy: 0.989\n",
      "Epoch : 8 / 10, Training Accuracy: 0.991\n",
      "Validation Accuracy : , 0.986\n",
      "lambda value : 0.3\n",
      "Epoch : 0 / 10, Training Accuracy: 0.779\n",
      "Epoch : 2 / 10, Training Accuracy: 0.934\n",
      "Epoch : 4 / 10, Training Accuracy: 0.976\n",
      "Epoch : 6 / 10, Training Accuracy: 0.972\n",
      "Epoch : 8 / 10, Training Accuracy: 0.985\n",
      "Validation Accuracy : , 0.975\n",
      "lambda value : 0.4\n",
      "Epoch : 0 / 10, Training Accuracy: 0.757\n",
      "Epoch : 2 / 10, Training Accuracy: 0.932\n",
      "Epoch : 4 / 10, Training Accuracy: 0.965\n",
      "Epoch : 6 / 10, Training Accuracy: 0.98\n",
      "Epoch : 8 / 10, Training Accuracy: 0.983\n",
      "Validation Accuracy : , 0.985\n",
      "lambda value : 0.5\n",
      "Epoch : 0 / 10, Training Accuracy: 0.725\n",
      "Epoch : 2 / 10, Training Accuracy: 0.921\n",
      "Epoch : 4 / 10, Training Accuracy: 0.962\n",
      "Epoch : 6 / 10, Training Accuracy: 0.978\n",
      "Epoch : 8 / 10, Training Accuracy: 0.979\n",
      "Validation Accuracy : , 0.986\n",
      "lambda value : 0.6\n",
      "Epoch : 0 / 10, Training Accuracy: 0.699\n",
      "Epoch : 2 / 10, Training Accuracy: 0.861\n",
      "Epoch : 4 / 10, Training Accuracy: 0.947\n",
      "Epoch : 6 / 10, Training Accuracy: 0.976\n",
      "Epoch : 8 / 10, Training Accuracy: 0.984\n",
      "Validation Accuracy : , 0.987\n",
      "lambda value : 0.7\n",
      "Epoch : 0 / 10, Training Accuracy: 0.699\n",
      "Epoch : 2 / 10, Training Accuracy: 0.853\n",
      "Epoch : 4 / 10, Training Accuracy: 0.952\n",
      "Epoch : 6 / 10, Training Accuracy: 0.977\n",
      "Epoch : 8 / 10, Training Accuracy: 0.977\n",
      "Validation Accuracy : , 0.99\n",
      "lambda value : 0.8\n",
      "Epoch : 0 / 10, Training Accuracy: 0.733\n",
      "Epoch : 2 / 10, Training Accuracy: 0.888\n",
      "Epoch : 4 / 10, Training Accuracy: 0.956\n",
      "Epoch : 6 / 10, Training Accuracy: 0.975\n",
      "Epoch : 8 / 10, Training Accuracy: 0.982\n",
      "Validation Accuracy : , 0.985\n",
      "lambda value : 0.9\n",
      "Epoch : 0 / 10, Training Accuracy: 0.64\n",
      "Epoch : 2 / 10, Training Accuracy: 0.743\n",
      "Epoch : 4 / 10, Training Accuracy: 0.84\n",
      "Epoch : 6 / 10, Training Accuracy: 0.893\n",
      "Epoch : 8 / 10, Training Accuracy: 0.929\n",
      "Validation Accuracy : , 0.938\n",
      "lambda value : 0.95\n",
      "Epoch : 0 / 10, Training Accuracy: 0.704\n",
      "Epoch : 2 / 10, Training Accuracy: 0.905\n",
      "Epoch : 4 / 10, Training Accuracy: 0.947\n",
      "Epoch : 6 / 10, Training Accuracy: 0.963\n",
      "Epoch : 8 / 10, Training Accuracy: 0.98\n",
      "Validation Accuracy : , 0.978\n"
     ]
    }
   ],
   "source": [
    "lambd = [.05, .1, .2, .3, .4, .5, .6, .7, .8, .9, .95]\n",
    "training_accuracy = []\n",
    "test_accuracy = []\n",
    "\n",
    "for lam in lambd:\n",
    "    X_train, y_train = split_dataset(6000, lam)\n",
    "    \n",
    "    print(f'lambda value : {lam}')\n",
    "    net, tr_acc, te_acc = train(get_net(), X_train, y_train, X_val, y_val, num_epochs=num_epochs, learning_rate=learning_rate, \n",
    "                      weight_decay=weight_decay, batch_size=batch_size)\n",
    "    \n",
    "    training_accuracy.append(tr_acc)\n",
    "    test_accuracy.append(te_acc)"
   ]
  },
  {
   "cell_type": "code",
   "execution_count": 30,
   "metadata": {
    "ExecuteTime": {
     "end_time": "2019-03-05T00:51:02.714929Z",
     "start_time": "2019-03-05T00:51:02.476930Z"
    }
   },
   "outputs": [
    {
     "data": {
      "image/png": "[encoded data removed]",
      "text/plain": [
       "<Figure size 720x576 with 1 Axes>"
      ]
     },
     "metadata": {
      "needs_background": "light"
     },
     "output_type": "display_data"
    }
   ],
   "source": [
    "plt.figure(figsize=(10,8))\n",
    "\n",
    "plt.plot(lambd, training_accuracy, label='Training Accuracy')\n",
    "plt.plot(lambd, test_accuracy, label='Testing Accuracy')\n",
    "plt.xlabel('Lambda Value', size=15)\n",
    "plt.ylabel('Accuracy', size=15)\n",
    "plt.legend();"
   ]
  },
  {
   "cell_type": "markdown",
   "metadata": {},
   "source": [
    "## 3. Covariate Shift Correction\n",
    "\n",
    "Having observed that covariate shift can be harmful, let's try fixing it. For this we first need to compute the appropriate propensity scores $\\frac{dp(x)}{dq(x)}$. For this purpose pick a biased dataset, let's say with $\\lambda = 0.1$ and try to fix the covariate shift.\n",
    "\n",
    "1. When training a logistic regression binary classifier to fix covariate shift, we assumed so far that both sets are of equal size. Show that re-weighting data in training and test set appropriately can help address the issue when both datasets have different size. What is the weighting?\n",
    "2. Train a binary classifier (using logistic regression) distinguishing between the biased training set and the unbiased test set. Note - you need to weigh the data. \n",
    "3. Use the scores to compute weights on the training set. Do they match the weight arising from the biasing distribution $\\lambda$? \n",
    "4. Train a binary classifier of the covariate shifted problem using the weights obtained previously and report the accuracy. Note - you will need to modify the training loop slightly such that you can compute the gradient of a weighted sum of losses. \n"
   ]
  },
  {
   "cell_type": "code",
   "execution_count": 31,
   "metadata": {
    "ExecuteTime": {
     "end_time": "2019-03-05T00:55:43.789831Z",
     "start_time": "2019-03-05T00:55:19.204878Z"
    }
   },
   "outputs": [
    {
     "name": "stdout",
     "output_type": "stream",
     "text": [
      "Epoch : 0 / 10, Training Accuracy: 0.799\n",
      "Epoch : 2 / 10, Training Accuracy: 0.939\n",
      "Epoch : 4 / 10, Training Accuracy: 0.979\n",
      "Epoch : 6 / 10, Training Accuracy: 0.982\n",
      "Epoch : 8 / 10, Training Accuracy: 0.984\n",
      "Validation Accuracy : , 0.971\n"
     ]
    }
   ],
   "source": [
    "lamb = 0.1\n",
    "\n",
    "X_train, y_train = split_dataset(6000, lamb)\n",
    "\n",
    "net, tr_acc, te_acc = train(get_net(), X_train, y_train, X_val, y_val, num_epochs=num_epochs, learning_rate=learning_rate, \n",
    "                      weight_decay=weight_decay, batch_size=batch_size)\n"
   ]
  },
  {
   "cell_type": "code",
   "execution_count": 70,
   "metadata": {
    "ExecuteTime": {
     "end_time": "2019-03-05T01:08:15.743817Z",
     "start_time": "2019-03-05T01:08:14.964818Z"
    }
   },
   "outputs": [],
   "source": [
    "l = gloss.SigmoidBinaryCrossEntropyLoss()\n",
    "\n",
    "np = sum(y_train == 1)\n",
    "nq = sum(y_val == 1)\n",
    "\n",
    "pred = net(X_train)\n",
    "alpha = np/nq * nd.exp(pred)\n",
    "\n"
   ]
  },
  {
   "cell_type": "markdown",
   "metadata": {},
   "source": [
    "Accuracy before scaling"
   ]
  },
  {
   "cell_type": "code",
   "execution_count": 71,
   "metadata": {
    "ExecuteTime": {
     "end_time": "2019-03-05T01:09:05.263987Z",
     "start_time": "2019-03-05T01:09:05.253985Z"
    }
   },
   "outputs": [
    {
     "data": {
      "text/plain": [
       "0.991"
      ]
     },
     "execution_count": 71,
     "metadata": {},
     "output_type": "execute_result"
    }
   ],
   "source": [
    "eval_accuracy(pred, y_train)"
   ]
  },
  {
   "cell_type": "code",
   "execution_count": 72,
   "metadata": {
    "ExecuteTime": {
     "end_time": "2019-03-05T01:09:08.159546Z",
     "start_time": "2019-03-05T01:09:08.152544Z"
    }
   },
   "outputs": [],
   "source": [
    "pred = l(pred, y_train) * alpha.reshape(-1)"
   ]
  },
  {
   "cell_type": "markdown",
   "metadata": {},
   "source": [
    "Accuracy After"
   ]
  },
  {
   "cell_type": "code",
   "execution_count": 73,
   "metadata": {
    "ExecuteTime": {
     "end_time": "2019-03-05T01:09:09.612049Z",
     "start_time": "2019-03-05T01:09:09.602050Z"
    }
   },
   "outputs": [
    {
     "data": {
      "text/plain": [
       "0.986"
      ]
     },
     "execution_count": 73,
     "metadata": {},
     "output_type": "execute_result"
    }
   ],
   "source": [
    "eval_accuracy(pred, y_train)"
   ]
  }
 ],
 "metadata": {
  "kernelspec": {
   "display_name": "Python 3",
   "language": "python",
   "name": "python3"
  },
  "language_info": {
   "codemirror_mode": {
    "name": "ipython",
    "version": 3
   },
   "file_extension": ".py",
   "mimetype": "text/x-python",
   "name": "python",
   "nbconvert_exporter": "python",
   "pygments_lexer": "ipython3",
   "version": "3.6.6"
  },
  "latex_envs": {
   "LaTeX_envs_menu_present": true,
   "autoclose": false,
   "autocomplete": true,
   "bibliofile": "biblio.bib",
   "cite_by": "apalike",
   "current_citInitial": 1,
   "eqLabelWithNumbers": true,
   "eqNumInitial": 1,
   "hotkeys": {
    "equation": "Ctrl-E",
    "itemize": "Ctrl-I"
   },
   "labels_anchors": false,
   "latex_user_defs": false,
   "report_style_numbering": false,
   "user_envs_cfg": false
  }
 },
 "nbformat": 4,
 "nbformat_minor": 2
}
