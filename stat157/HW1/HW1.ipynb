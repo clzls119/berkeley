{
 "cells": [
  {
   "cell_type": "code",
   "execution_count": 1,
   "metadata": {
    "ExecuteTime": {
     "end_time": "2019-01-29T05:54:07.097874Z",
     "start_time": "2019-01-29T05:54:06.511135Z"
    }
   },
   "outputs": [],
   "source": [
    "import mxnet as mx\n",
    "from mxnet import nd\n",
    "from mxnet.gluon import nn\n",
    "import numpy as np\n",
    "\n",
    "import time"
   ]
  },
  {
   "cell_type": "markdown",
   "metadata": {},
   "source": [
    "## 1.1"
   ]
  },
  {
   "cell_type": "markdown",
   "metadata": {},
   "source": [
    "### 1 "
   ]
  },
  {
   "cell_type": "code",
   "execution_count": 98,
   "metadata": {
    "ExecuteTime": {
     "end_time": "2019-01-29T04:39:09.271231Z",
     "start_time": "2019-01-29T04:39:09.260180Z"
    }
   },
   "outputs": [],
   "source": [
    "A = nd.random.normal(0, 1, shape=(4096, 4096))\n",
    "B = nd.random.normal(0, 1, shape=(4096, 4096))"
   ]
  },
  {
   "cell_type": "markdown",
   "metadata": {},
   "source": [
    "#### 2 "
   ]
  },
  {
   "cell_type": "code",
   "execution_count": 99,
   "metadata": {
    "ExecuteTime": {
     "end_time": "2019-01-29T04:39:10.783267Z",
     "start_time": "2019-01-29T04:39:10.357077Z"
    }
   },
   "outputs": [
    {
     "name": "stdout",
     "output_type": "stream",
     "text": [
      "0.4232213497161865\n"
     ]
    }
   ],
   "source": [
    "tic = time.time()\n",
    "\n",
    "C = nd.dot(A, B)\n",
    "C.wait_to_read()\n",
    "\n",
    "print(time.time() - tic)"
   ]
  },
  {
   "cell_type": "markdown",
   "metadata": {},
   "source": [
    "#### 3 "
   ]
  },
  {
   "cell_type": "code",
   "execution_count": 18,
   "metadata": {
    "ExecuteTime": {
     "end_time": "2019-01-29T03:36:06.929109Z",
     "start_time": "2019-01-29T03:33:57.489342Z"
    }
   },
   "outputs": [
    {
     "name": "stdout",
     "output_type": "stream",
     "text": [
      "129.4343912601471\n"
     ]
    }
   ],
   "source": [
    "tic = time.time()\n",
    "\n",
    "for i in range(4096):\n",
    "    if i == 0:\n",
    "        C = nd.dot(A, B[:, :1])\n",
    "    else:\n",
    "        C = nd.concat(C, nd.dot(A, B[:, i:i+1]))\n",
    "\n",
    "        C.wait_to_read()\n",
    "\n",
    "print(time.time() - tic)"
   ]
  },
  {
   "cell_type": "markdown",
   "metadata": {},
   "source": [
    "#### 4"
   ]
  },
  {
   "cell_type": "code",
   "execution_count": 19,
   "metadata": {
    "ExecuteTime": {
     "end_time": "2019-01-29T04:05:14.216114Z",
     "start_time": "2019-01-29T03:36:06.930585Z"
    }
   },
   "outputs": [
    {
     "name": "stdout",
     "output_type": "stream",
     "text": [
      "1747.2818703651428\n"
     ]
    }
   ],
   "source": [
    "tic = time.time()\n",
    "\n",
    "for i in range(4096):\n",
    "    for j in range(4096):\n",
    "        if j == 0:\n",
    "            row = nd.dot(A[i:i+1, :], B[:, :1])\n",
    "        else:\n",
    "            row = nd.concat(row, nd.dot(A[i:i+1, :], B[:, j:j+1]))\n",
    "    if i == 0:\n",
    "        C = row\n",
    "    else:\n",
    "        C = nd.concat(C, row, dim=0)\n",
    "\n",
    "C.wait_to_read()\n",
    "\n",
    "print(time.time() - tic)"
   ]
  },
  {
   "cell_type": "markdown",
   "metadata": {},
   "source": [
    "#### 5"
   ]
  },
  {
   "cell_type": "markdown",
   "metadata": {},
   "source": [
    "For a small data which can be fit into CPU without overflowing, CPU will be faster. However, if the data doesn't fit into the buffers and is big enough, using GPU will be faster as GPU can store more data and compute asynchronous."
   ]
  },
  {
   "cell_type": "code",
   "execution_count": 6,
   "metadata": {
    "ExecuteTime": {
     "end_time": "2019-01-29T06:36:45.106658Z",
     "start_time": "2019-01-29T06:08:54.101522Z"
    }
   },
   "outputs": [
    {
     "name": "stdout",
     "output_type": "stream",
     "text": [
      "1669.3835248947144\n"
     ]
    }
   ],
   "source": [
    "A = nd.random.normal(0, 1, shape=(4096, 4096), ctx=mx.gpu(0))\n",
    "B = nd.random.normal(0, 1, shape=(4096, 4096), ctx=mx.gpu(0))\n",
    "\n",
    "tic = time.time()\n",
    "\n",
    "for i in range(4096):\n",
    "    for j in range(4096):\n",
    "        if j == 0:\n",
    "            row = nd.dot(A[i:i+1, :], B[:, :1])\n",
    "        else:\n",
    "            row = nd.concat(row, nd.dot(A[i:i+1, :], B[:, j:j+1]))\n",
    "    if i == 0:\n",
    "        C = row\n",
    "    else:\n",
    "        C = nd.concat(C, row, dim=0)\n",
    "\n",
    "C.wait_to_read()\n",
    "\n",
    "print(time.time() - tic)"
   ]
  },
  {
   "cell_type": "markdown",
   "metadata": {},
   "source": [
    "---"
   ]
  },
  {
   "cell_type": "markdown",
   "metadata": {},
   "source": [
    "### 1.2"
   ]
  },
  {
   "cell_type": "markdown",
   "metadata": {},
   "source": [
    "#### 1"
   ]
  },
  {
   "cell_type": "markdown",
   "metadata": {},
   "source": [
    "To prove $B = ADA^T$ is PSD, we need to check if all the diagonal entries are equal or greater than 0 or that $ADA^T \\geq 0$. We can rewrite them in vector form as $\\sum_i a_id_ia_i^T \\geq 0$. This again becomes $\\sum_i a_i^2d_i$ and since each vector of $d$ is nonnegative and for any real value of a, $a^2 \\geq 0$ , the sum will be at least 0 or greater, proving that $B$ or $ADA^T$ is a positive semidefinite."
   ]
  },
  {
   "cell_type": "markdown",
   "metadata": {},
   "source": [
    "#### 2"
   ]
  },
  {
   "cell_type": "markdown",
   "metadata": {},
   "source": [
    "We know that the matrix $B$ is symmetric and that $ADA^T$ is the eigendecomposition of it. By the properties of eigenvectors of a symetric matrix, we know that those are orthogonal to each other. Hence we prefer to use $ADA^T$ when we would like to get the matrix to the power of any real number. <br>\n",
    "For example, it is better to compute $(ADA^T)^2$ which just becomes $AD^2A^T$ than $B^2$. Since $D$ is a diagonal matrix, the square matrix or any powers of it is easier to compute than doing $B^n$ as it computes some redundant procedures.<br>\n",
    "Other than that, it would be better to use $B$."
   ]
  },
  {
   "cell_type": "markdown",
   "metadata": {},
   "source": [
    "---"
   ]
  },
  {
   "cell_type": "markdown",
   "metadata": {},
   "source": [
    "### 1.3"
   ]
  },
  {
   "cell_type": "code",
   "execution_count": 20,
   "metadata": {
    "ExecuteTime": {
     "end_time": "2019-01-29T04:05:14.353077Z",
     "start_time": "2019-01-29T04:05:14.217586Z"
    }
   },
   "outputs": [
    {
     "name": "stdout",
     "output_type": "stream",
     "text": [
      "Mon Jan 28 20:05:14 2019       \r\n",
      "+-----------------------------------------------------------------------------+\r\n",
      "| NVIDIA-SMI 410.48                 Driver Version: 410.48                    |\r\n",
      "|-------------------------------+----------------------+----------------------+\r\n",
      "| GPU  Name        Persistence-M| Bus-Id        Disp.A | Volatile Uncorr. ECC |\r\n",
      "| Fan  Temp  Perf  Pwr:Usage/Cap|         Memory-Usage | GPU-Util  Compute M. |\r\n",
      "|===============================+======================+======================|\r\n",
      "|   0  GeForce GTX 1080    Off  | 00000000:65:00.0  On |                  N/A |\r\n",
      "| 26%   32C    P8    11W / 180W |    696MiB /  8116MiB |      9%      Default |\r\n",
      "+-------------------------------+----------------------+----------------------+\r\n",
      "                                                                               \r\n",
      "+-----------------------------------------------------------------------------+\r\n",
      "| Processes:                                                       GPU Memory |\r\n",
      "|  GPU       PID   Type   Process name                             Usage      |\r\n",
      "|=============================================================================|\r\n",
      "|    0      1243      G   /usr/lib/xorg/Xorg                            18MiB |\r\n",
      "|    0      1296      G   /usr/bin/gnome-shell                          49MiB |\r\n",
      "|    0      1566      G   /usr/lib/xorg/Xorg                           284MiB |\r\n",
      "|    0      1697      G   /usr/bin/gnome-shell                         140MiB |\r\n",
      "|    0      2064      G   ...quest-channel-token=8467226019251121638   201MiB |\r\n",
      "+-----------------------------------------------------------------------------+\r\n"
     ]
    }
   ],
   "source": [
    "!nvidia-smi"
   ]
  },
  {
   "cell_type": "code",
   "execution_count": 21,
   "metadata": {
    "ExecuteTime": {
     "end_time": "2019-01-29T04:05:23.881613Z",
     "start_time": "2019-01-29T04:05:14.394679Z"
    }
   },
   "outputs": [
    {
     "data": {
      "text/plain": [
       "\n",
       "[[-1.3204551   0.68232244]\n",
       " [-0.9858383   0.01992839]]\n",
       "<NDArray 2x2 @gpu(0)>"
      ]
     },
     "execution_count": 21,
     "metadata": {},
     "output_type": "execute_result"
    }
   ],
   "source": [
    "D = nd.random.normal(0, 1, shape=(2, 2), ctx=mx.gpu(0))\n",
    "D"
   ]
  },
  {
   "cell_type": "markdown",
   "metadata": {},
   "source": [
    "---"
   ]
  },
  {
   "cell_type": "markdown",
   "metadata": {},
   "source": [
    "### 1.4"
   ]
  },
  {
   "cell_type": "code",
   "execution_count": 3,
   "metadata": {
    "ExecuteTime": {
     "end_time": "2019-01-29T05:59:38.278834Z",
     "start_time": "2019-01-29T05:59:38.274323Z"
    }
   },
   "outputs": [],
   "source": [
    "A = nd.random.normal(0, 1, shape=(4096, 4096))\n",
    "B = nd.random.normal(0, 1, shape=(4096, 4096))"
   ]
  },
  {
   "cell_type": "markdown",
   "metadata": {},
   "source": [
    "Computing directly to $c_i$"
   ]
  },
  {
   "cell_type": "code",
   "execution_count": 4,
   "metadata": {
    "ExecuteTime": {
     "end_time": "2019-01-29T05:59:55.056481Z",
     "start_time": "2019-01-29T05:59:39.203729Z"
    }
   },
   "outputs": [
    {
     "name": "stdout",
     "output_type": "stream",
     "text": [
      "15.849517583847046\n"
     ]
    }
   ],
   "source": [
    "tic = time.time()\n",
    "\n",
    "c = np.zeros(4096)\n",
    "\n",
    "for i in range(4096):\n",
    "\n",
    "    c[i] = (nd.dot(A, B[:, i]).norm()**2).asscalar()\n",
    "    \n",
    "print(time.time() - tic)"
   ]
  },
  {
   "cell_type": "markdown",
   "metadata": {},
   "source": [
    "With intermediate storage of NDArray"
   ]
  },
  {
   "cell_type": "code",
   "execution_count": 5,
   "metadata": {
    "ExecuteTime": {
     "end_time": "2019-01-29T06:00:08.147236Z",
     "start_time": "2019-01-29T05:59:55.058155Z"
    }
   },
   "outputs": [
    {
     "name": "stdout",
     "output_type": "stream",
     "text": [
      "13.085696935653687\n"
     ]
    }
   ],
   "source": [
    "tic = time.time()\n",
    "\n",
    "d = nd.empty(4096)\n",
    "\n",
    "for i in range(4096):\n",
    "\n",
    "    nd.norm(nd.dot(A, B[:, i]), out=d[i])\n",
    "    d[i] = d[i]**2\n",
    "    \n",
    "d.wait_to_read()\n",
    "d = d.asnumpy()\n",
    "print(time.time() - tic)"
   ]
  },
  {
   "cell_type": "markdown",
   "metadata": {},
   "source": [
    "---"
   ]
  },
  {
   "cell_type": "markdown",
   "metadata": {},
   "source": [
    "### 1.5"
   ]
  },
  {
   "cell_type": "markdown",
   "metadata": {},
   "source": [
    "#### 1"
   ]
  },
  {
   "cell_type": "code",
   "execution_count": 36,
   "metadata": {
    "ExecuteTime": {
     "end_time": "2019-01-29T04:10:28.065409Z",
     "start_time": "2019-01-29T04:10:28.058514Z"
    }
   },
   "outputs": [
    {
     "data": {
      "text/plain": [
       "\n",
       "[[ 15.  19.  23.]\n",
       " [ 45.  58.  71.]\n",
       " [ 75.  97. 119.]]\n",
       "<NDArray 3x3 @cpu(0)>"
      ]
     },
     "execution_count": 36,
     "metadata": {},
     "output_type": "execute_result"
    }
   ],
   "source": [
    "A = nd.arange(12).reshape((3,3))\n",
    "B = nd.arange(12).reshape((3,3))\n",
    "C = nd.arange(12).reshape((3,3))\n",
    "\n",
    "C[:] = nd.dot(A, B) + C\n",
    "\n",
    "C"
   ]
  },
  {
   "cell_type": "markdown",
   "metadata": {},
   "source": [
    "#### 2"
   ]
  },
  {
   "cell_type": "code",
   "execution_count": 55,
   "metadata": {
    "ExecuteTime": {
     "end_time": "2019-01-29T04:21:15.355736Z",
     "start_time": "2019-01-29T04:21:15.350439Z"
    }
   },
   "outputs": [
    {
     "data": {
      "text/plain": [
       "\n",
       "[[ 15.  19.  23.]\n",
       " [ 45.  58.  71.]\n",
       " [ 75.  97. 119.]]\n",
       "<NDArray 3x3 @cpu(0)>"
      ]
     },
     "execution_count": 55,
     "metadata": {},
     "output_type": "execute_result"
    }
   ],
   "source": [
    "A = nd.arange(12).reshape((3,3))\n",
    "B = nd.arange(12).reshape((3,3))\n",
    "C = nd.arange(12).reshape((3,3))\n",
    "\n",
    "nd.elemwise_add(nd.dot(A, B), C, out=C)"
   ]
  },
  {
   "cell_type": "markdown",
   "metadata": {},
   "source": [
    "---"
   ]
  },
  {
   "cell_type": "markdown",
   "metadata": {},
   "source": [
    "### 1.6"
   ]
  },
  {
   "cell_type": "code",
   "execution_count": 24,
   "metadata": {
    "ExecuteTime": {
     "end_time": "2019-01-29T06:57:52.581646Z",
     "start_time": "2019-01-29T06:57:52.575376Z"
    },
    "scrolled": true
   },
   "outputs": [
    {
     "data": {
      "text/plain": [
       "\n",
       "[[-1.0000000e+01  1.0000000e+02 -1.0000000e+03 ...  9.9999998e+17\n",
       "  -1.0000000e+19  1.0000000e+20]\n",
       " [-9.8999996e+00  9.8009995e+01 -9.7029889e+02 ...  8.3451318e+17\n",
       "  -8.2616803e+18  8.1790629e+19]\n",
       " [-9.8000002e+00  9.6040001e+01 -9.4119208e+02 ...  6.9513558e+17\n",
       "  -6.8123289e+18  6.6760824e+19]\n",
       " ...\n",
       " [ 9.8000002e+00  9.6040001e+01  9.4119208e+02 ...  6.9513558e+17\n",
       "   6.8123289e+18  6.6760824e+19]\n",
       " [ 9.8999996e+00  9.8009995e+01  9.7029889e+02 ...  8.3451318e+17\n",
       "   8.2616803e+18  8.1790629e+19]\n",
       " [ 1.0000000e+01  1.0000000e+02  1.0000000e+03 ...  9.9999998e+17\n",
       "   1.0000000e+19  1.0000000e+20]]\n",
       "<NDArray 201x20 @cpu(0)>"
      ]
     },
     "execution_count": 24,
     "metadata": {},
     "output_type": "execute_result"
    }
   ],
   "source": [
    "x = nd.array(np.around(np.arange(-10, 10.1, 0.1), decimals=1)).reshape((-1,1))\n",
    "y = nd.arange(1, 21).reshape((1, -1))\n",
    "\n",
    "A = x**y\n",
    "\n",
    "A"
   ]
  }
 ],
 "metadata": {
  "kernelspec": {
   "display_name": "Python 3",
   "language": "python",
   "name": "python3"
  },
  "language_info": {
   "codemirror_mode": {
    "name": "ipython",
    "version": 3
   },
   "file_extension": ".py",
   "mimetype": "text/x-python",
   "name": "python",
   "nbconvert_exporter": "python",
   "pygments_lexer": "ipython3",
   "version": "3.6.6"
  },
  "latex_envs": {
   "LaTeX_envs_menu_present": true,
   "autoclose": false,
   "autocomplete": true,
   "bibliofile": "biblio.bib",
   "cite_by": "apalike",
   "current_citInitial": 1,
   "eqLabelWithNumbers": true,
   "eqNumInitial": 1,
   "hotkeys": {
    "equation": "Ctrl-E",
    "itemize": "Ctrl-I"
   },
   "labels_anchors": false,
   "latex_user_defs": false,
   "report_style_numbering": false,
   "user_envs_cfg": false
  }
 },
 "nbformat": 4,
 "nbformat_minor": 2
}
