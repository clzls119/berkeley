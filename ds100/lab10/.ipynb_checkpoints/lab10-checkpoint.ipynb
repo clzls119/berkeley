{
 "cells": [
  {
   "cell_type": "markdown",
   "metadata": {},
   "source": [
    "Before you turn this problem in, make sure everything runs as expected. First, **restart the kernel** (in the menubar, select Kernel$\\rightarrow$Restart) and then **run all cells** (in the menubar, select Cell$\\rightarrow$Run All).\n",
    "\n",
    "Make sure you fill in any place that says `YOUR CODE HERE` or \"YOUR ANSWER HERE\", as well as your name and collaborators below:"
   ]
  },
  {
   "cell_type": "code",
   "execution_count": 1,
   "metadata": {},
   "outputs": [],
   "source": [
    "NAME = \"Hanmaro Song\"\n",
    "COLLABORATORS = \"\""
   ]
  },
  {
   "cell_type": "markdown",
   "metadata": {},
   "source": [
    "---"
   ]
  },
  {
   "cell_type": "markdown",
   "metadata": {
    "deletable": false,
    "editable": false,
    "nbgrader": {
     "cell_type": "markdown",
     "checksum": "858362bec7378a620d77d8f8a0ca0c5b",
     "grade": false,
     "grade_id": "intro",
     "locked": true,
     "schema_version": 2,
     "solution": false
    }
   },
   "source": [
    "# Lab 10: Use Bootstrap to Estimate Mean and Variance\n",
    "\n",
    "**Collaboration Policy**\n",
    "\n",
    "Data science is a collaborative activity. While you may talk with others about\n",
    "the homework, we ask that you **write your solutions individually**. If you do\n",
    "discuss the assignments with others please **include their names** at the top\n",
    "of your solution.\n",
    "\n",
    "## Due Date\n",
    "\n",
    "This assignment is due at 11:59pm Monday, November 5th.\n",
    "\n",
    "## Introduction\n",
    "\n",
    "In this lab, you will examine the bootstrap in greater detail. The goal is to develop a functional approach to bootstrapping any statistic for any sample.\n"
   ]
  },
  {
   "cell_type": "markdown",
   "metadata": {},
   "source": [
    "## Collaborators  "
   ]
  },
  {
   "cell_type": "markdown",
   "metadata": {},
   "source": [
    "Write names in this cell:"
   ]
  },
  {
   "cell_type": "code",
   "execution_count": 2,
   "metadata": {
    "deletable": false,
    "editable": false,
    "nbgrader": {
     "cell_type": "code",
     "checksum": "e96a07cd3ea17af682d7da5226d85b90",
     "grade": false,
     "grade_id": "setup",
     "locked": true,
     "schema_version": 2,
     "solution": false
    }
   },
   "outputs": [],
   "source": [
    "# Run this cell to set up your notebook\n",
    "\n",
    "import seaborn as sns\n",
    "import csv\n",
    "import numpy as np\n",
    "import pandas as pd\n",
    "import matplotlib.pyplot as plt\n",
    "%matplotlib inline\n",
    "sns.set()\n",
    "\n",
    "from IPython.display import display, Latex, Markdown\n"
   ]
  },
  {
   "cell_type": "markdown",
   "metadata": {
    "deletable": false,
    "editable": false,
    "nbgrader": {
     "cell_type": "markdown",
     "checksum": "e7e3e1e1a179f6eb77521aa33cc3f57d",
     "grade": false,
     "grade_id": "bootstrap_description",
     "locked": true,
     "schema_version": 2,
     "solution": false
    }
   },
   "source": [
    "## The Bootstrap Procedure\n",
    "\n",
    "The bootstrap is a very simple process: \n",
    "* Sample with replacement from the original sample (now the **bootstrap population**). These samples are called **bootstrap samples**. We typically take thousands of bootstrap samples (~10,000 is common).\n",
    "* Calculate the statistic of interest for each bootstrap sample. This statistic is called the **bootstrap statistic**, and the empirical distribution of these bootstrap statistics is an approximation to the **sampling distribution** of the bootstrapped statistic.\n",
    "\n",
    "But why bootstrap instead of just calculating the statistic of interest once on the whole sample? \n",
    "\n",
    "Take sample mean estimator as an example. Suppose $\\{x_i\\}$ are samples coming from an unknown distribution. We can use sample mean $\\bar{X} = \\frac{1}{n}\\sum_{i=1}^n x_i$ to estimate the the mean of the population. However, if we obtain another sample set $\\{x_i\\}$, we can get very different results. Therefore, computing the sampling distribution (distribution of the sample mean for all possible sample sets) would be very helpful. From such distribution, we can also obtain the bias of this estimator: $E (\\bar{X}) - \\mu$, and the variance of the estimator: $E[E(\\bar{X})-\\bar{X}]^2$.\n",
    "\n",
    "In order to compute the sampling distribution of $\\bar{X}$, we could directly use sampling methods. But that requires us to obtain several different sets of samples $\\{x_i\\}$ directly from the population. If we have $m$ sets of samples and each set contains $n$ subjects (totaling $m*n$ subjects), we can then use $ \\hat{X} = \\frac{1}{m}\\sum_{j=1}^m \\bar{X_j}$ to approximate $E(\\bar{X})$, and $\\frac{1}{m}\\sum_{j=1}^m (\\hat{X} - \\bar{X_j})^2$ to approximate $E[E(\\bar{X})-\\bar{X}]^2$.\n",
    "\n",
    "However, in reality, this is often unfeasible, and we only have one set of samples (**bootstrap population**). Therefore we can use bootstrap method to resample (sample with replacement) from the **bootstrap population** to obtain $m$ different **bootstrap samples**, each **bootstrap sample** has the same amount of data as in **bootstrap population**.\n",
    "\n",
    "Why do we sample with replacement?\n",
    "Recall that we are trying to mimic the ideal scenario of directly sampling from the original population. In the case where each bootstrap sample has the same amount of data as the bootstrap population, sampling without replacement would cause every bootstrap sample to be identical to the bootstrap population. Even when the bootstrap samples have less samples that the bootstrap population, sampling without replacement would cause the samples to be *based on the original sample*. Instead, sampling with replacement causes our bootstrap samples to be *based on the distribution of the original sample* (which we assume is representative of the original population)."
   ]
  },
  {
   "cell_type": "markdown",
   "metadata": {},
   "source": [
    "## Pre-lab\n",
    "\n",
    "### Question 0\n",
    "\n",
    "Bootstrap samples should have the same amount of data as the bootstrap population when used to estimate the standard error, perform hypothesis testing, or construct confidence intervals. Otherwise, bootstrap samples just need to have an equal (and reasonable) amount of data. Why do you think bootstrap sample size needs to meet this additional restriction for these applications? Hint: look at the standard error formula."
   ]
  },
  {
   "cell_type": "markdown",
   "metadata": {},
   "source": [
    "Because otherwise the value we get will differ since the number of size of data is different. "
   ]
  },
  {
   "cell_type": "markdown",
   "metadata": {},
   "source": [
    "## Lab\n",
    "Your task is to write a generic bootstrap procedure."
   ]
  },
  {
   "cell_type": "markdown",
   "metadata": {
    "deletable": false,
    "editable": false,
    "nbgrader": {
     "cell_type": "markdown",
     "checksum": "fc1f079315890b73d3ccf35e9b128cd6",
     "grade": false,
     "grade_id": "q1_text1",
     "locked": true,
     "schema_version": 2,
     "solution": false
    }
   },
   "source": [
    "### Question 1\n",
    "In today's lab, let's try to use bootstrap method to estimate the distribution of sample mean and sample standard deviation  of our midterm grades. You will be given a noisy sample of grades from this midterm, which is the **bootstrap population**. You should use **sampling with replacement** to resample from this dataset again and again to obtain **bootstrap samples** and compute the **bootstrap statistic**.\n",
    "\n",
    "First, write your own sampling function. The function `simple_resample` samples with replacement from the integers 0 through *n-1* and returns an array of length *n*\n",
    "with the sampled integers. That is, `simple_resample` produces the indices for\n",
    "a single bootstrap replicate from the bootstrap population.\n",
    "\n",
    "Use the `numpy.random.randint` function to do the random sampling. \n"
   ]
  },
  {
   "cell_type": "code",
   "execution_count": 3,
   "metadata": {
    "deletable": false,
    "nbgrader": {
     "cell_type": "code",
     "checksum": "089161661e9a31e9480ae9b0a8c19d8f",
     "grade": false,
     "grade_id": "q1_code",
     "locked": false,
     "schema_version": 2,
     "solution": true
    },
    "tags": [
     "student"
    ]
   },
   "outputs": [
    {
     "data": {
      "text/plain": [
       "array([4, 7, 7, 4, 0, 5, 9, 1, 9, 8])"
      ]
     },
     "execution_count": 3,
     "metadata": {},
     "output_type": "execute_result"
    }
   ],
   "source": [
    "def simple_resample(n):\n",
    "    \"\"\"\n",
    "    Args:\n",
    "        n: an integer\n",
    "        \n",
    "    Returns:\n",
    "        an array of length n of a random sample with replacement of\n",
    "        the integers 0, 1, ..., n-1\n",
    "    \"\"\"\n",
    "    return(np.random.randint(low = 0, high = n, size = n))\n",
    "\n",
    "simple_resample(10)"
   ]
  },
  {
   "cell_type": "markdown",
   "metadata": {
    "deletable": false,
    "editable": false,
    "nbgrader": {
     "cell_type": "markdown",
     "checksum": "5072e7e6e9338abdf4bfa2d77d89194d",
     "grade": false,
     "grade_id": "q1_text2",
     "locked": true,
     "schema_version": 2,
     "solution": false
    }
   },
   "source": [
    "Try your `simple_resample` function on a few cases to see if the sampling looks right."
   ]
  },
  {
   "cell_type": "code",
   "execution_count": 4,
   "metadata": {
    "deletable": false,
    "editable": false,
    "nbgrader": {
     "cell_type": "code",
     "checksum": "eb6ec00361a9e68198e5d5d611c01a04",
     "grade": true,
     "grade_id": "q1_test",
     "locked": true,
     "points": 1,
     "schema_version": 2,
     "solution": false
    },
    "tags": [
     "test",
     "q01"
    ]
   },
   "outputs": [],
   "source": [
    "# chances are less than 5.8 in 10^20 that this test fails when the function is correct\n",
    "assert (sum((42 in simple_resample(1000)) for _ in range(100000)) in range(63230-1500,63230+1500))\n",
    "assert (len(simple_resample(1000)) == 1000)"
   ]
  },
  {
   "cell_type": "markdown",
   "metadata": {
    "deletable": false,
    "editable": false,
    "nbgrader": {
     "cell_type": "markdown",
     "checksum": "92e3334265b1b29e985bb18321d31185",
     "grade": false,
     "grade_id": "q2_text1",
     "locked": true,
     "schema_version": 2,
     "solution": false
    }
   },
   "source": [
    "### Question 2\n",
    "\n",
    "Next let's write the function `bootstrap` which returns an array of length `replicates`, each entry being the `statistic` of interest computed on a bootstrap sample from the `boot_pop` (bootstrap population).\n",
    "\n",
    "In our case, the `statistic` could be the `np.mean` and `np.std` function. And the `resample` could be `simple_resample`. Here we leave them as parameters so that we could switch to other statistic and resample functions.\n",
    "\n",
    "For each bootstrap sample, you should first use `resample` to obtain samples from the `boot_pop`, then compute the statistic of those samples using the `statistic` method, and put it into your result."
   ]
  },
  {
   "cell_type": "code",
   "execution_count": 5,
   "metadata": {
    "deletable": false,
    "nbgrader": {
     "cell_type": "code",
     "checksum": "5423644879fde2fdda3606c35eef401c",
     "grade": false,
     "grade_id": "q2_code1",
     "locked": false,
     "schema_version": 2,
     "solution": true
    },
    "tags": [
     "student"
    ]
   },
   "outputs": [],
   "source": [
    "def bootstrap(boot_pop, statistic, resample, replicates = 1000):\n",
    "    \"\"\"\n",
    "    Args:\n",
    "        boot_pop: an array of shape n x d.\n",
    "        statistic: a function which takes boot_pop and returns a number.\n",
    "        resample: a function which takes n and returns a random sample from the integers [0, n)\n",
    "        replicates: the number of resamples\n",
    "        \n",
    "    Returns:\n",
    "        an array of length replicates, each entry being the statistic computed on a bootstrap sample of the data.\n",
    "    \"\"\"\n",
    "    return np.array([statistic(boot_pop[resample(len(boot_pop))]) for _ in range(replicates)])"
   ]
  },
  {
   "cell_type": "code",
   "execution_count": 6,
   "metadata": {
    "deletable": false,
    "editable": false,
    "nbgrader": {
     "cell_type": "code",
     "checksum": "9b8486454b3163a4f24fab7b5d06944d",
     "grade": true,
     "grade_id": "q2_test1",
     "locked": true,
     "points": 1,
     "schema_version": 2,
     "solution": false
    },
    "tags": [
     "test",
     "q02"
    ]
   },
   "outputs": [],
   "source": [
    "assert (len(bootstrap(np.ones(10), np.mean, simple_resample)) == 1000)\n",
    "assert (np.all(bootstrap(np.ones(10), np.mean, simple_resample, replicates = 1000) == np.ones(1000)))\n",
    "# chances are less than 3.9 in 10^22 that this test fails when the function is correct\n",
    "assert (sum(bootstrap(np.array([0,1]), np.median, simple_resample, replicates = 10000) == 0.5) in range(5000-500,5000+500))"
   ]
  },
  {
   "cell_type": "markdown",
   "metadata": {
    "deletable": false,
    "editable": false,
    "nbgrader": {
     "cell_type": "markdown",
     "checksum": "6f1a63e0a411e95964f95a996640a9da",
     "grade": false,
     "grade_id": "q2_text2",
     "locked": true,
     "schema_version": 2,
     "solution": false
    }
   },
   "source": [
    "Now let's use the bootstrap function to compute the distribution of the sample mean for the midterm grade.\n",
    "\n",
    "First, let's load the data."
   ]
  },
  {
   "cell_type": "code",
   "execution_count": 7,
   "metadata": {
    "deletable": false,
    "editable": false,
    "nbgrader": {
     "cell_type": "code",
     "checksum": "9da05139f55af67c1fa4640e8f4b749a",
     "grade": false,
     "grade_id": "q2_setup",
     "locked": true,
     "schema_version": 2,
     "solution": false
    }
   },
   "outputs": [
    {
     "data": {
      "text/html": [
       "<div>\n",
       "<style scoped>\n",
       "    .dataframe tbody tr th:only-of-type {\n",
       "        vertical-align: middle;\n",
       "    }\n",
       "\n",
       "    .dataframe tbody tr th {\n",
       "        vertical-align: top;\n",
       "    }\n",
       "\n",
       "    .dataframe thead th {\n",
       "        text-align: right;\n",
       "    }\n",
       "</style>\n",
       "<table border=\"1\" class=\"dataframe\">\n",
       "  <thead>\n",
       "    <tr style=\"text-align: right;\">\n",
       "      <th></th>\n",
       "      <th>Grade</th>\n",
       "    </tr>\n",
       "  </thead>\n",
       "  <tbody>\n",
       "    <tr>\n",
       "      <th>0</th>\n",
       "      <td>70.652174</td>\n",
       "    </tr>\n",
       "    <tr>\n",
       "      <th>1</th>\n",
       "      <td>85.418495</td>\n",
       "    </tr>\n",
       "    <tr>\n",
       "      <th>2</th>\n",
       "      <td>84.909697</td>\n",
       "    </tr>\n",
       "    <tr>\n",
       "      <th>3</th>\n",
       "      <td>55.759027</td>\n",
       "    </tr>\n",
       "    <tr>\n",
       "      <th>4</th>\n",
       "      <td>75.008190</td>\n",
       "    </tr>\n",
       "  </tbody>\n",
       "</table>\n",
       "</div>"
      ],
      "text/plain": [
       "       Grade\n",
       "0  70.652174\n",
       "1  85.418495\n",
       "2  84.909697\n",
       "3  55.759027\n",
       "4  75.008190"
      ]
     },
     "execution_count": 7,
     "metadata": {},
     "output_type": "execute_result"
    }
   ],
   "source": [
    "data = pd.read_csv(\"grades_sample.csv\")\n",
    "data.head()"
   ]
  },
  {
   "cell_type": "code",
   "execution_count": 8,
   "metadata": {
    "deletable": false,
    "editable": false,
    "nbgrader": {
     "cell_type": "code",
     "checksum": "1a7196d1647775e3161dd3e4fda9a890",
     "grade": false,
     "grade_id": "q2_setup2",
     "locked": true,
     "schema_version": 2,
     "solution": false
    }
   },
   "outputs": [
    {
     "data": {
      "image/png": "[encoded data removed]",
      "text/plain": [
       "<matplotlib.figure.Figure at 0x7fd2568defd0>"
      ]
     },
     "metadata": {},
     "output_type": "display_data"
    }
   ],
   "source": [
    "sns.distplot(data)\n",
    "plt.vlines(np.mean(data),0,1);"
   ]
  },
  {
   "cell_type": "markdown",
   "metadata": {
    "deletable": false,
    "editable": false,
    "nbgrader": {
     "cell_type": "markdown",
     "checksum": "fafd7ebb711cb0de23223391863d0cf5",
     "grade": false,
     "grade_id": "q2_text3",
     "locked": true,
     "schema_version": 2,
     "solution": false
    }
   },
   "source": [
    "Now use the right parameters to call our `bootstrap` method to obtain the sample mean $\\bar{X}$ for $m$ different bootstrap samples $\\{x_i\\}$. "
   ]
  },
  {
   "cell_type": "code",
   "execution_count": 9,
   "metadata": {
    "deletable": false,
    "nbgrader": {
     "cell_type": "code",
     "checksum": "27f3497ffe848b48966b7680252dd505",
     "grade": false,
     "grade_id": "q2_code2",
     "locked": false,
     "schema_version": 2,
     "solution": true
    }
   },
   "outputs": [],
   "source": [
    "m = 1000  # the number of resamples \n",
    "boot_pop = np.array(data[\"Grade\"])\n",
    "\n",
    "boot_sample_means = bootstrap(boot_pop, np.mean, simple_resample, m)"
   ]
  },
  {
   "cell_type": "code",
   "execution_count": 10,
   "metadata": {
    "deletable": false,
    "editable": false,
    "nbgrader": {
     "cell_type": "code",
     "checksum": "2e15dc235ea3319961e8844d08f8b95c",
     "grade": false,
     "grade_id": "q2_plot",
     "locked": true,
     "schema_version": 2,
     "solution": false
    }
   },
   "outputs": [
    {
     "data": {
      "image/png": "[encoded data removed]",
      "text/plain": [
       "<matplotlib.figure.Figure at 0x7fd24a7cf320>"
      ]
     },
     "metadata": {},
     "output_type": "display_data"
    }
   ],
   "source": [
    "sns.distplot(boot_sample_means)\n",
    "plt.xlabel(r\"$\\bar{X}$\")\n",
    "plt.ylabel(\"Frequency\");"
   ]
  },
  {
   "cell_type": "code",
   "execution_count": 11,
   "metadata": {
    "deletable": false,
    "editable": false,
    "nbgrader": {
     "cell_type": "code",
     "checksum": "7d40e44d8cfe18f757b5aeccdaac39a7",
     "grade": true,
     "grade_id": "q2_test2",
     "locked": true,
     "points": 1,
     "schema_version": 2,
     "solution": false
    }
   },
   "outputs": [
    {
     "name": "stdout",
     "output_type": "stream",
     "text": [
      "mean of bootstrap mean: 80.4688366944 \n",
      "variance of bootstrap mean: 0.403772579868\n"
     ]
    }
   ],
   "source": [
    "boot_mean_mean = np.mean(boot_sample_means)\n",
    "boot_var_mean = np.var(boot_sample_means)\n",
    "print('mean of bootstrap mean:', boot_mean_mean, '\\nvariance of bootstrap mean:', boot_var_mean)\n",
    "assert len(boot_sample_means) == m\n",
    "assert 80 < boot_mean_mean < 81\n",
    "assert 0.3 < boot_var_mean < 0.5"
   ]
  },
  {
   "cell_type": "markdown",
   "metadata": {
    "deletable": false,
    "editable": false,
    "nbgrader": {
     "cell_type": "markdown",
     "checksum": "926dd41a68a8a83a355d5fc65663637f",
     "grade": false,
     "grade_id": "q2_text4",
     "locked": true,
     "schema_version": 2,
     "solution": false
    }
   },
   "source": [
    "Now use the right parameters to call our `bootstrap` method to obtain the standard deviation $\\sqrt{\\frac{1}{n}\\sum_{i=1}^{n} (x_i-\\bar{X})^2}$ for $m$ different bootstrap samples $\\{x_i\\}$. You should use `np.std`"
   ]
  },
  {
   "cell_type": "code",
   "execution_count": 12,
   "metadata": {
    "deletable": false,
    "nbgrader": {
     "cell_type": "code",
     "checksum": "57e597aeded682851885c8d976c5c7fa",
     "grade": false,
     "grade_id": "q2_code3",
     "locked": false,
     "schema_version": 2,
     "solution": true
    }
   },
   "outputs": [],
   "source": [
    "m = 1000\n",
    "boot_pop = np.array(data[\"Grade\"])\n",
    "\n",
    "boot_sample_std = bootstrap(boot_pop, np.std, simple_resample, m)\n"
   ]
  },
  {
   "cell_type": "code",
   "execution_count": 13,
   "metadata": {
    "deletable": false,
    "editable": false,
    "nbgrader": {
     "cell_type": "code",
     "checksum": "ddafec3af86519b3f4cb5cf5b2fbd197",
     "grade": true,
     "grade_id": "q2_test3",
     "locked": true,
     "points": 1,
     "schema_version": 2,
     "solution": false
    }
   },
   "outputs": [
    {
     "name": "stdout",
     "output_type": "stream",
     "text": [
      "mean of bootstrap std: 8.73754807387 \n",
      "variance of bootstrap std: 0.255875688372\n"
     ]
    }
   ],
   "source": [
    "boot_mean_std = np.mean(boot_sample_std)\n",
    "boot_var_std = np.var(boot_sample_std)\n",
    "print('mean of bootstrap std:', boot_mean_std, '\\nvariance of bootstrap std:', boot_var_std)\n",
    "assert len(boot_sample_std) == m\n",
    "assert 7 < boot_mean_std < 10\n",
    "assert 0.23 < boot_var_std < 0.29"
   ]
  },
  {
   "cell_type": "code",
   "execution_count": 14,
   "metadata": {
    "deletable": false,
    "editable": false,
    "nbgrader": {
     "cell_type": "code",
     "checksum": "8639802180d8e6a7c73b26955789a0c3",
     "grade": false,
     "grade_id": "q2_plot2",
     "locked": true,
     "schema_version": 2,
     "solution": false
    }
   },
   "outputs": [
    {
     "data": {
      "image/png": "[encoded data removed]",
      "text/plain": [
       "<matplotlib.figure.Figure at 0x7fd24a725e10>"
      ]
     },
     "metadata": {},
     "output_type": "display_data"
    }
   ],
   "source": [
    "sns.distplot(boot_sample_std)\n",
    "plt.xlabel(r\"$STD(X)$\")\n",
    "plt.ylabel(\"Frequency\");"
   ]
  },
  {
   "cell_type": "markdown",
   "metadata": {
    "deletable": false,
    "editable": false,
    "nbgrader": {
     "cell_type": "markdown",
     "checksum": "728347d0f8f3c58bdc78c5ac9ef64676",
     "grade": false,
     "grade_id": "q2_true",
     "locked": true,
     "schema_version": 2,
     "solution": false
    }
   },
   "source": [
    "The true mean for the midterm grade is 80.1, and the standard deviation is 9.20.\n",
    "Compare your results with them."
   ]
  },
  {
   "cell_type": "markdown",
   "metadata": {
    "deletable": false,
    "editable": false,
    "nbgrader": {
     "cell_type": "markdown",
     "checksum": "61d832f88001fb4cf3d44c4dd96bf647",
     "grade": false,
     "grade_id": "q3_text1",
     "locked": true,
     "schema_version": 2,
     "solution": false
    }
   },
   "source": [
    "### Question 3\n",
    "Now let's use the bootstrap method to analyze an estimator we used in the previous lab. \n",
    "\n",
    "Again, we use following mathematical model to predict Tips from TotalBill:\n",
    "\n",
    "$$\\Large\n",
    "\\texttt{Tip} = \\theta^*  \\times \\texttt{TotalBill}\n",
    "$$\n",
    "\n",
    "This follows the similar intuition that tips are some **unknown** percentage of the total bill.  We will then try to estimate the slope of this relationship which corresponds to the percent tip. Here the parameter $\\theta^*$ represents the true percent tip that we would like to estimate.\n",
    "\n",
    "As we already know, for L2 loss function:\n",
    "$$\\Large\n",
    "L\\left(\\theta, \\mathcal{D}\\right) = \\frac{1}{n} \\sum_{i=1}^n L(m_\\theta(x_i), y_i) = \\frac{1}{n} \\sum_{i=1}^n (\\theta *  x_i - y_i)^2\n",
    "$$\n",
    "\n",
    "Where, $x_i$ is the TotalBill, $y_i$ is the Tips.\n",
    "\n",
    "The optimal $\\theta$ would be:\n",
    "$$\\Large {\\theta} = \\frac{\\sum x_iy_i}{\\sum x_i^2}$$\n",
    "\n",
    "Let's use the bootstrap method to see what's the variance for this estimator.\n"
   ]
  },
  {
   "cell_type": "code",
   "execution_count": 15,
   "metadata": {
    "deletable": false,
    "editable": false,
    "nbgrader": {
     "cell_type": "code",
     "checksum": "8acd66937179f77a7939d65db70c63c2",
     "grade": false,
     "grade_id": "q3_setup1",
     "locked": true,
     "schema_version": 2,
     "solution": false
    }
   },
   "outputs": [
    {
     "data": {
      "text/html": [
       "<div>\n",
       "<style scoped>\n",
       "    .dataframe tbody tr th:only-of-type {\n",
       "        vertical-align: middle;\n",
       "    }\n",
       "\n",
       "    .dataframe tbody tr th {\n",
       "        vertical-align: top;\n",
       "    }\n",
       "\n",
       "    .dataframe thead th {\n",
       "        text-align: right;\n",
       "    }\n",
       "</style>\n",
       "<table border=\"1\" class=\"dataframe\">\n",
       "  <thead>\n",
       "    <tr style=\"text-align: right;\">\n",
       "      <th></th>\n",
       "      <th>total_bill</th>\n",
       "      <th>tip</th>\n",
       "      <th>sex</th>\n",
       "      <th>smoker</th>\n",
       "      <th>day</th>\n",
       "      <th>time</th>\n",
       "      <th>size</th>\n",
       "    </tr>\n",
       "  </thead>\n",
       "  <tbody>\n",
       "    <tr>\n",
       "      <th>0</th>\n",
       "      <td>16.99</td>\n",
       "      <td>1.01</td>\n",
       "      <td>Female</td>\n",
       "      <td>No</td>\n",
       "      <td>Sun</td>\n",
       "      <td>Dinner</td>\n",
       "      <td>2</td>\n",
       "    </tr>\n",
       "    <tr>\n",
       "      <th>1</th>\n",
       "      <td>10.34</td>\n",
       "      <td>1.66</td>\n",
       "      <td>Male</td>\n",
       "      <td>No</td>\n",
       "      <td>Sun</td>\n",
       "      <td>Dinner</td>\n",
       "      <td>3</td>\n",
       "    </tr>\n",
       "    <tr>\n",
       "      <th>2</th>\n",
       "      <td>21.01</td>\n",
       "      <td>3.50</td>\n",
       "      <td>Male</td>\n",
       "      <td>No</td>\n",
       "      <td>Sun</td>\n",
       "      <td>Dinner</td>\n",
       "      <td>3</td>\n",
       "    </tr>\n",
       "    <tr>\n",
       "      <th>3</th>\n",
       "      <td>23.68</td>\n",
       "      <td>3.31</td>\n",
       "      <td>Male</td>\n",
       "      <td>No</td>\n",
       "      <td>Sun</td>\n",
       "      <td>Dinner</td>\n",
       "      <td>2</td>\n",
       "    </tr>\n",
       "    <tr>\n",
       "      <th>4</th>\n",
       "      <td>24.59</td>\n",
       "      <td>3.61</td>\n",
       "      <td>Female</td>\n",
       "      <td>No</td>\n",
       "      <td>Sun</td>\n",
       "      <td>Dinner</td>\n",
       "      <td>4</td>\n",
       "    </tr>\n",
       "  </tbody>\n",
       "</table>\n",
       "</div>"
      ],
      "text/plain": [
       "   total_bill   tip     sex smoker  day    time  size\n",
       "0       16.99  1.01  Female     No  Sun  Dinner     2\n",
       "1       10.34  1.66    Male     No  Sun  Dinner     3\n",
       "2       21.01  3.50    Male     No  Sun  Dinner     3\n",
       "3       23.68  3.31    Male     No  Sun  Dinner     2\n",
       "4       24.59  3.61  Female     No  Sun  Dinner     4"
      ]
     },
     "execution_count": 15,
     "metadata": {},
     "output_type": "execute_result"
    }
   ],
   "source": [
    "data = sns.load_dataset(\"tips\")\n",
    "data.head()"
   ]
  },
  {
   "cell_type": "code",
   "execution_count": 16,
   "metadata": {
    "deletable": false,
    "editable": false,
    "nbgrader": {
     "cell_type": "code",
     "checksum": "73b30cf093ee9e90ff2951a1ef58fcf1",
     "grade": false,
     "grade_id": "q3_setup2",
     "locked": true,
     "schema_version": 2,
     "solution": false
    }
   },
   "outputs": [
    {
     "data": {
      "image/png": "[encoded data removed]",
      "text/plain": [
       "<matplotlib.figure.Figure at 0x7fd24a6bd7b8>"
      ]
     },
     "metadata": {},
     "output_type": "display_data"
    }
   ],
   "source": [
    "x = np.array(data[\"total_bill\"])\n",
    "y = np.array(data[\"tip\"])\n",
    "d = np.array((x,y)).transpose()\n",
    "plt.plot(d[:,0],d[:,1],\".\");"
   ]
  },
  {
   "cell_type": "markdown",
   "metadata": {
    "deletable": false,
    "editable": false,
    "nbgrader": {
     "cell_type": "markdown",
     "checksum": "692365253a206b6582c9c80f13d0283a",
     "grade": false,
     "grade_id": "q3_text2",
     "locked": true,
     "schema_version": 2,
     "solution": false
    }
   },
   "source": [
    "Write an estimator function to compute $\\theta$ using the formula:  \n",
    "$$\\large {\\theta} = \\frac{\\sum x_iy_i}{\\sum x_i^2}$$\n",
    "\n",
    "Note that in order to do bootstrap, we need to combine `x`, `y` to into a $n \\times 2$ array `d`. So `d[:,0]` is equivalent with `x` and `d[:,1]` is equivalent with `y`."
   ]
  },
  {
   "cell_type": "code",
   "execution_count": 17,
   "metadata": {
    "deletable": false,
    "nbgrader": {
     "cell_type": "code",
     "checksum": "d9390295ff93f785f8b6b841203b5726",
     "grade": false,
     "grade_id": "q3_code1",
     "locked": false,
     "schema_version": 2,
     "solution": true
    }
   },
   "outputs": [],
   "source": [
    "def estimator(d):\n",
    "    \"\"\"\n",
    "    Args:\n",
    "        d: A n*2 array which contains x and y. d[:,0] would be x, d[:,1] would be y.\n",
    "        \n",
    "    Returns:\n",
    "        The optimal theta for this dataset under L2 loss.\n",
    "    \"\"\"\n",
    "    return np.dot(d[:, 0], d[:, 1]) / (np.dot(d[:, 0], d[:, 0])).sum()"
   ]
  },
  {
   "cell_type": "code",
   "execution_count": 18,
   "metadata": {
    "deletable": false,
    "editable": false,
    "nbgrader": {
     "cell_type": "code",
     "checksum": "d0a03a7c63a0c3894b3d7b11e61e2bf4",
     "grade": true,
     "grade_id": "q3_test1",
     "locked": true,
     "points": 1,
     "schema_version": 2,
     "solution": false
    }
   },
   "outputs": [],
   "source": [
    "assert np.isclose(estimator(d),0.14373189527721666)"
   ]
  },
  {
   "cell_type": "markdown",
   "metadata": {
    "deletable": false,
    "editable": false,
    "nbgrader": {
     "cell_type": "markdown",
     "checksum": "9115a8f6aff142f337851c05913c1b61",
     "grade": false,
     "grade_id": "q3_text3",
     "locked": true,
     "schema_version": 2,
     "solution": false
    }
   },
   "source": [
    "Now let's use our previous `bootstrap` function to obtain different estimated $\\theta$. You should use the `estimator` function as the `statistic` parameter."
   ]
  },
  {
   "cell_type": "code",
   "execution_count": 19,
   "metadata": {
    "deletable": false,
    "nbgrader": {
     "cell_type": "code",
     "checksum": "56e1b5edab6915b5e800d8e523d76321",
     "grade": false,
     "grade_id": "q3_code2",
     "locked": false,
     "schema_version": 2,
     "solution": true
    }
   },
   "outputs": [],
   "source": [
    "replicates = 1000\n",
    "boot_theta = bootstrap(d, estimator, simple_resample, replicates)    "
   ]
  },
  {
   "cell_type": "code",
   "execution_count": 20,
   "metadata": {
    "deletable": false,
    "editable": false,
    "nbgrader": {
     "cell_type": "code",
     "checksum": "c5630e3810154abeab4a4366f4a46d0d",
     "grade": true,
     "grade_id": "q3_test2",
     "locked": true,
     "points": 1,
     "schema_version": 2,
     "solution": false
    }
   },
   "outputs": [
    {
     "name": "stdout",
     "output_type": "stream",
     "text": [
      "mean of bootstrap theta: 0.143890812054 \n",
      "variance of bootstrap theta: 1.86472546282e-05\n"
     ]
    }
   ],
   "source": [
    "boot_theta_mean = np.mean(boot_theta)\n",
    "boot_theta_var = np.var(boot_theta)\n",
    "print('mean of bootstrap theta:', boot_theta_mean, '\\nvariance of bootstrap theta:', boot_theta_var)\n",
    "assert len(boot_theta) == replicates\n",
    "assert 0.14<=boot_theta_mean<=0.15\n",
    "assert boot_theta_var < 1e-4"
   ]
  },
  {
   "cell_type": "markdown",
   "metadata": {
    "deletable": false,
    "editable": false,
    "nbgrader": {
     "cell_type": "markdown",
     "checksum": "ed841cba660c7abf11720aa70e8738ec",
     "grade": false,
     "grade_id": "q3_text4",
     "locked": true,
     "schema_version": 2,
     "solution": false
    }
   },
   "source": [
    "Finally, let's plot the distribution of `boot_theta`."
   ]
  },
  {
   "cell_type": "code",
   "execution_count": 21,
   "metadata": {
    "deletable": false,
    "editable": false,
    "nbgrader": {
     "cell_type": "code",
     "checksum": "833ca7d0c3645c8ed971328dae07740f",
     "grade": false,
     "grade_id": "q3_plot",
     "locked": true,
     "schema_version": 2,
     "solution": false
    }
   },
   "outputs": [
    {
     "data": {
      "image/png": "[encoded data removed]",
      "text/plain": [
       "<matplotlib.figure.Figure at 0x7fd24a5c0710>"
      ]
     },
     "metadata": {},
     "output_type": "display_data"
    }
   ],
   "source": [
    "sns.distplot(boot_theta);"
   ]
  },
  {
   "cell_type": "markdown",
   "metadata": {
    "deletable": false,
    "editable": false,
    "nbgrader": {
     "cell_type": "markdown",
     "checksum": "7d38676f303a718aff089714d1458bef",
     "grade": false,
     "grade_id": "solved",
     "locked": true,
     "schema_version": 2,
     "solution": false
    }
   },
   "source": [
    "## Submission\n",
    "\n",
    "Congrats! You are finished with this assignment. Please don't forget to submit by 11:59 pm!"
   ]
  },
  {
   "cell_type": "markdown",
   "metadata": {},
   "source": [
    "## Submission\n",
    "\n",
    "You're done!\n",
    "\n",
    "Before submitting this assignment, ensure to:\n",
    "\n",
    "1. Restart the Kernel (in the menubar, select Kernel->Restart & Run All)\n",
    "2. Validate the notebook by clicking the \"Validate\" button\n",
    "\n",
    "Finally, make sure to **submit** the assignment via the Assignments tab in Datahub"
   ]
  }
 ],
 "metadata": {
  "anaconda-cloud": {},
  "kernelspec": {
   "display_name": "Python 3",
   "language": "python",
   "name": "python3"
  },
  "language_info": {
   "codemirror_mode": {
    "name": "ipython",
    "version": 3
   },
   "file_extension": ".py",
   "mimetype": "text/x-python",
   "name": "python",
   "nbconvert_exporter": "python",
   "pygments_lexer": "ipython3",
   "version": "3.6.4"
  }
 },
 "nbformat": 4,
 "nbformat_minor": 2
}
