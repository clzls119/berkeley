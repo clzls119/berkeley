{
 "cells": [
  {
   "cell_type": "markdown",
   "metadata": {},
   "source": [
    "# Homework Assignment #1"
   ]
  },
  {
   "cell_type": "markdown",
   "metadata": {},
   "source": [
    "## Exercise 2"
   ]
  },
  {
   "cell_type": "markdown",
   "metadata": {},
   "source": [
    "1. Yes, any optimization problem can be expressed as a linear objective. Optimization problems emerge when we need to find some value $x_i$ that for some function $f(x)$, the value returned by it is either the minimum or maximum."
   ]
  },
  {
   "cell_type": "markdown",
   "metadata": {},
   "source": [
    "2. No, without any constraints, we cannot establish an optimization problem. Consider the following example. $$z=min(f_0(x))$$\n",
    "$$x < 0$$\n",
    "Though it has a condition where x cannot be bigger than 0, its lower range is unbounded(unconstraint) that it could be negative infinity so z value doesn't exist. "
   ]
  },
  {
   "cell_type": "markdown",
   "metadata": {},
   "source": [
    "3. Yes, any optimization problem can be a linear problem. Again, an optimization problem is to find the possible optimum which could either be max or min. If we can introduce any number of constraints, each statement can be written as a row of a matrix which we can solve for a solution, if it exists."
   ]
  },
  {
   "cell_type": "markdown",
   "metadata": {},
   "source": [
    "4. No, we cannot remove it. Consider the following constraints.\n",
    "$$z = max(x+y)$$\n",
    "$$x+2y > 1$$\n",
    "$$x < 4$$\n",
    "$$x > -2$$\n",
    "$$y < 12$$\n",
    "In this problem, if we happen to remove the 3rd statement where $x < 4$, we are essentially removing the upper boudary that x can now have any large number > -2. Since z is the maximum of x and y and x can be infinity, z will also be the infinity when in original problem, it is finite number."
   ]
  },
  {
   "cell_type": "markdown",
   "metadata": {},
   "source": [
    "5. Yes, we can change the order of variables. The problem is to find a point in an intersection of x and y, given some constraints. And the intersection is just (the range of possible x) <b>+</b> (the range of possible y). It doesn't matter which range we get first and later as finding one doesn't affect the other."
   ]
  },
  {
   "cell_type": "markdown",
   "metadata": {},
   "source": [
    "6. "
   ]
  },
  {
   "cell_type": "markdown",
   "metadata": {},
   "source": [
    "## Exercise 3"
   ]
  },
  {
   "cell_type": "markdown",
   "metadata": {},
   "source": [
    "## Exercise 4"
   ]
  },
  {
   "cell_type": "markdown",
   "metadata": {},
   "source": [
    "## Exercise 4"
   ]
  },
  {
   "cell_type": "markdown",
   "metadata": {},
   "source": [
    "## Exercise 5"
   ]
  },
  {
   "cell_type": "markdown",
   "metadata": {},
   "source": [
    "## Exercise 6"
   ]
  },
  {
   "cell_type": "markdown",
   "metadata": {},
   "source": [
    "## Exercise 7"
   ]
  }
 ],
 "metadata": {
  "kernelspec": {
   "display_name": "Python 3",
   "language": "python",
   "name": "python3"
  },
  "language_info": {
   "codemirror_mode": {
    "name": "ipython",
    "version": 3
   },
   "file_extension": ".py",
   "mimetype": "text/x-python",
   "name": "python",
   "nbconvert_exporter": "python",
   "pygments_lexer": "ipython3",
   "version": "3.5.5"
  }
 },
 "nbformat": 4,
 "nbformat_minor": 2
}
