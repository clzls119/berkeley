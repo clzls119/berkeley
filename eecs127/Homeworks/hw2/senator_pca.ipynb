{
 "cells": [
  {
   "cell_type": "markdown",
   "metadata": {},
   "source": [
    "## PCA and Senate Voting Data\n"
   ]
  },
  {
   "cell_type": "code",
   "execution_count": 1,
   "metadata": {
    "ExecuteTime": {
     "end_time": "2018-09-19T20:29:06.894732Z",
     "start_time": "2018-09-19T20:29:00.405701Z"
    }
   },
   "outputs": [],
   "source": [
    "# Import the necessary packages for data manipulation, computation and PCA \n",
    "import pandas as pd\n",
    "import numpy as np\n",
    "import scipy as sp\n",
    "import matplotlib.pyplot as plt\n",
    "from sklearn.decomposition import PCA\n",
    "%matplotlib inline"
   ]
  },
  {
   "cell_type": "code",
   "execution_count": 2,
   "metadata": {
    "ExecuteTime": {
     "end_time": "2018-09-19T20:29:06.972765Z",
     "start_time": "2018-09-19T20:29:06.897662Z"
    }
   },
   "outputs": [],
   "source": [
    "senator_df =  pd.read_csv('senator_data_pca/data_matrix.csv')\n",
    "affiliation_file = open(\"senator_data_pca/politician_labels.txt\", \"r\")\n",
    "affiliations = [line.split('\\n')[0].split(' ')[1] for line in affiliation_file.readlines()]\n",
    "X = np.array(senator_df.values[:, 3:].T, dtype='float64') #transpose to get senators as rows"
   ]
  },
  {
   "cell_type": "code",
   "execution_count": 14,
   "metadata": {
    "ExecuteTime": {
     "end_time": "2018-09-19T20:35:49.755602Z",
     "start_time": "2018-09-19T20:35:49.697573Z"
    }
   },
   "outputs": [
    {
     "data": {
      "text/plain": [
       "PCA(copy=True, iterated_power='auto', n_components=None, random_state=None,\n",
       "  svd_solver='auto', tol=0.0, whiten=False)"
      ]
     },
     "execution_count": 14,
     "metadata": {},
     "output_type": "execute_result"
    }
   ],
   "source": [
    "pca = PCA()\n",
    "pca.fit(X)"
   ]
  },
  {
   "cell_type": "code",
   "execution_count": 24,
   "metadata": {
    "ExecuteTime": {
     "end_time": "2018-09-19T20:36:29.401082Z",
     "start_time": "2018-09-19T20:36:29.348081Z"
    }
   },
   "outputs": [
    {
     "data": {
      "text/html": [
       "<div>\n",
       "<style scoped>\n",
       "    .dataframe tbody tr th:only-of-type {\n",
       "        vertical-align: middle;\n",
       "    }\n",
       "\n",
       "    .dataframe tbody tr th {\n",
       "        vertical-align: top;\n",
       "    }\n",
       "\n",
       "    .dataframe thead th {\n",
       "        text-align: right;\n",
       "    }\n",
       "</style>\n",
       "<table border=\"1\" class=\"dataframe\">\n",
       "  <thead>\n",
       "    <tr style=\"text-align: right;\">\n",
       "      <th></th>\n",
       "      <th>Unnamed: 0</th>\n",
       "      <th>bill_type bill_name bill_ID</th>\n",
       "      <th>missing_votes</th>\n",
       "      <th>Arlen Specter (PA)</th>\n",
       "      <th>Barack H. Obama (IL)</th>\n",
       "      <th>BarbaraA Mikulski(MD)</th>\n",
       "      <th>BarbaraBoxer(CA)</th>\n",
       "      <th>Bill Nelson(FL)</th>\n",
       "      <th>BlancheL.Lincoln(AR)</th>\n",
       "      <th>ByronL.Dorgan(ND)</th>\n",
       "      <th>...</th>\n",
       "      <th>SusanM.Collins(ME)</th>\n",
       "      <th>TedStevens(AK)</th>\n",
       "      <th>ThadCochran(MS)</th>\n",
       "      <th>ThomasAllen'Tom'Coburn(OK)</th>\n",
       "      <th>ThomasRichardCarper(DE)</th>\n",
       "      <th>Thomas'Tom'Harkin(IA)</th>\n",
       "      <th>TimP.Johnson(SD)</th>\n",
       "      <th>TrentLott(MS)</th>\n",
       "      <th>WayneA.Allard(CO)</th>\n",
       "      <th>WilliamH.'Bill'Frist(TN)</th>\n",
       "    </tr>\n",
       "  </thead>\n",
       "  <tbody>\n",
       "    <tr>\n",
       "      <th>0</th>\n",
       "      <td>0</td>\n",
       "      <td>Appropriations_Transit Security Amendment_3866</td>\n",
       "      <td>0.0</td>\n",
       "      <td>1.0</td>\n",
       "      <td>1.0</td>\n",
       "      <td>1.0</td>\n",
       "      <td>1.0</td>\n",
       "      <td>1.0</td>\n",
       "      <td>1.0</td>\n",
       "      <td>1.0</td>\n",
       "      <td>...</td>\n",
       "      <td>-1.0</td>\n",
       "      <td>-1.0</td>\n",
       "      <td>-1.0</td>\n",
       "      <td>-1.0</td>\n",
       "      <td>1.0</td>\n",
       "      <td>1.0</td>\n",
       "      <td>1.0</td>\n",
       "      <td>-1.0</td>\n",
       "      <td>-1.0</td>\n",
       "      <td>-1.0</td>\n",
       "    </tr>\n",
       "    <tr>\n",
       "      <th>1</th>\n",
       "      <td>1</td>\n",
       "      <td>Budget_Spending_and_Taxes_2007 Budget Resoluti...</td>\n",
       "      <td>0.0</td>\n",
       "      <td>1.0</td>\n",
       "      <td>-1.0</td>\n",
       "      <td>-1.0</td>\n",
       "      <td>-1.0</td>\n",
       "      <td>-1.0</td>\n",
       "      <td>-1.0</td>\n",
       "      <td>-1.0</td>\n",
       "      <td>...</td>\n",
       "      <td>-1.0</td>\n",
       "      <td>1.0</td>\n",
       "      <td>1.0</td>\n",
       "      <td>1.0</td>\n",
       "      <td>-1.0</td>\n",
       "      <td>-1.0</td>\n",
       "      <td>-1.0</td>\n",
       "      <td>1.0</td>\n",
       "      <td>1.0</td>\n",
       "      <td>1.0</td>\n",
       "    </tr>\n",
       "    <tr>\n",
       "      <th>2</th>\n",
       "      <td>2</td>\n",
       "      <td>\"Budget, Spending and Taxes_Debt Limit Increas...</td>\n",
       "      <td>0.0</td>\n",
       "      <td>1.0</td>\n",
       "      <td>-1.0</td>\n",
       "      <td>-1.0</td>\n",
       "      <td>-1.0</td>\n",
       "      <td>-1.0</td>\n",
       "      <td>-1.0</td>\n",
       "      <td>-1.0</td>\n",
       "      <td>...</td>\n",
       "      <td>1.0</td>\n",
       "      <td>1.0</td>\n",
       "      <td>1.0</td>\n",
       "      <td>-1.0</td>\n",
       "      <td>-1.0</td>\n",
       "      <td>-1.0</td>\n",
       "      <td>-1.0</td>\n",
       "      <td>1.0</td>\n",
       "      <td>1.0</td>\n",
       "      <td>1.0</td>\n",
       "    </tr>\n",
       "    <tr>\n",
       "      <th>3</th>\n",
       "      <td>3</td>\n",
       "      <td>\"Budget, Spending and Taxes_Education Funding ...</td>\n",
       "      <td>0.0</td>\n",
       "      <td>-1.0</td>\n",
       "      <td>1.0</td>\n",
       "      <td>1.0</td>\n",
       "      <td>1.0</td>\n",
       "      <td>1.0</td>\n",
       "      <td>1.0</td>\n",
       "      <td>1.0</td>\n",
       "      <td>...</td>\n",
       "      <td>1.0</td>\n",
       "      <td>-1.0</td>\n",
       "      <td>-1.0</td>\n",
       "      <td>-1.0</td>\n",
       "      <td>1.0</td>\n",
       "      <td>1.0</td>\n",
       "      <td>1.0</td>\n",
       "      <td>-1.0</td>\n",
       "      <td>-1.0</td>\n",
       "      <td>-1.0</td>\n",
       "    </tr>\n",
       "    <tr>\n",
       "      <th>4</th>\n",
       "      <td>4</td>\n",
       "      <td>Budget, Spending and Taxes_Reinstate Pay-As-Yo...</td>\n",
       "      <td>0.0</td>\n",
       "      <td>-1.0</td>\n",
       "      <td>1.0</td>\n",
       "      <td>1.0</td>\n",
       "      <td>1.0</td>\n",
       "      <td>1.0</td>\n",
       "      <td>1.0</td>\n",
       "      <td>1.0</td>\n",
       "      <td>...</td>\n",
       "      <td>1.0</td>\n",
       "      <td>-1.0</td>\n",
       "      <td>-1.0</td>\n",
       "      <td>-1.0</td>\n",
       "      <td>1.0</td>\n",
       "      <td>1.0</td>\n",
       "      <td>1.0</td>\n",
       "      <td>-1.0</td>\n",
       "      <td>-1.0</td>\n",
       "      <td>-1.0</td>\n",
       "    </tr>\n",
       "  </tbody>\n",
       "</table>\n",
       "<p>5 rows × 103 columns</p>\n",
       "</div>"
      ],
      "text/plain": [
       "   Unnamed: 0                        bill_type bill_name bill_ID  \\\n",
       "0           0     Appropriations_Transit Security Amendment_3866   \n",
       "1           1  Budget_Spending_and_Taxes_2007 Budget Resoluti...   \n",
       "2           2  \"Budget, Spending and Taxes_Debt Limit Increas...   \n",
       "3           3  \"Budget, Spending and Taxes_Education Funding ...   \n",
       "4           4  Budget, Spending and Taxes_Reinstate Pay-As-Yo...   \n",
       "\n",
       "    missing_votes   Arlen Specter (PA)   Barack H. Obama (IL)  \\\n",
       "0             0.0                  1.0                    1.0   \n",
       "1             0.0                  1.0                   -1.0   \n",
       "2             0.0                  1.0                   -1.0   \n",
       "3             0.0                 -1.0                    1.0   \n",
       "4             0.0                 -1.0                    1.0   \n",
       "\n",
       "    BarbaraA Mikulski(MD)   BarbaraBoxer(CA)   Bill Nelson(FL)  \\\n",
       "0                     1.0                1.0               1.0   \n",
       "1                    -1.0               -1.0              -1.0   \n",
       "2                    -1.0               -1.0              -1.0   \n",
       "3                     1.0                1.0               1.0   \n",
       "4                     1.0                1.0               1.0   \n",
       "\n",
       "    BlancheL.Lincoln(AR)   ByronL.Dorgan(ND)            ...              \\\n",
       "0                    1.0                 1.0            ...               \n",
       "1                   -1.0                -1.0            ...               \n",
       "2                   -1.0                -1.0            ...               \n",
       "3                    1.0                 1.0            ...               \n",
       "4                    1.0                 1.0            ...               \n",
       "\n",
       "    SusanM.Collins(ME)   TedStevens(AK)   ThadCochran(MS)  \\\n",
       "0                 -1.0             -1.0              -1.0   \n",
       "1                 -1.0              1.0               1.0   \n",
       "2                  1.0              1.0               1.0   \n",
       "3                  1.0             -1.0              -1.0   \n",
       "4                  1.0             -1.0              -1.0   \n",
       "\n",
       "    ThomasAllen'Tom'Coburn(OK)   ThomasRichardCarper(DE)  \\\n",
       "0                         -1.0                       1.0   \n",
       "1                          1.0                      -1.0   \n",
       "2                         -1.0                      -1.0   \n",
       "3                         -1.0                       1.0   \n",
       "4                         -1.0                       1.0   \n",
       "\n",
       "    Thomas'Tom'Harkin(IA)   TimP.Johnson(SD)   TrentLott(MS)  \\\n",
       "0                     1.0                1.0            -1.0   \n",
       "1                    -1.0               -1.0             1.0   \n",
       "2                    -1.0               -1.0             1.0   \n",
       "3                     1.0                1.0            -1.0   \n",
       "4                     1.0                1.0            -1.0   \n",
       "\n",
       "    WayneA.Allard(CO)   WilliamH.'Bill'Frist(TN)  \n",
       "0                -1.0                       -1.0  \n",
       "1                 1.0                        1.0  \n",
       "2                 1.0                        1.0  \n",
       "3                -1.0                       -1.0  \n",
       "4                -1.0                       -1.0  \n",
       "\n",
       "[5 rows x 103 columns]"
      ]
     },
     "execution_count": 24,
     "metadata": {},
     "output_type": "execute_result"
    }
   ],
   "source": [
    "senator_df.head()"
   ]
  },
  {
   "cell_type": "code",
   "execution_count": 18,
   "metadata": {
    "ExecuteTime": {
     "end_time": "2018-09-19T20:36:00.164422Z",
     "start_time": "2018-09-19T20:36:00.156426Z"
    }
   },
   "outputs": [
    {
     "data": {
      "text/plain": [
       "array([4.91123203e-01, 8.33757387e-02, 4.01540524e-02, 2.12857613e-02,\n",
       "       1.98876549e-02, 1.82476547e-02, 1.57374871e-02, 1.33164371e-02,\n",
       "       1.21949040e-02, 1.14375870e-02, 1.03635083e-02, 1.00185935e-02,\n",
       "       9.04272819e-03, 8.63200229e-03, 8.62171755e-03, 7.73469289e-03,\n",
       "       7.49603660e-03, 7.33401384e-03, 6.93902907e-03, 6.66578555e-03,\n",
       "       6.52071472e-03, 6.10510670e-03, 5.96680957e-03, 5.66655876e-03,\n",
       "       5.46354729e-03, 5.25661439e-03, 5.17260635e-03, 5.07829477e-03,\n",
       "       4.76044844e-03, 4.69857614e-03, 4.60460016e-03, 4.52265772e-03,\n",
       "       4.38959957e-03, 4.14501469e-03, 4.12353691e-03, 3.92426265e-03,\n",
       "       3.86760298e-03, 3.77655622e-03, 3.58357468e-03, 3.51454706e-03,\n",
       "       3.47696334e-03, 3.33833021e-03, 3.27427610e-03, 3.23078138e-03,\n",
       "       3.07118660e-03, 3.00794340e-03, 2.97868711e-03, 2.88224685e-03,\n",
       "       2.73838006e-03, 2.66043859e-03, 2.64846091e-03, 2.52984969e-03,\n",
       "       2.49664366e-03, 2.37118432e-03, 2.31743949e-03, 2.25010148e-03,\n",
       "       2.20261017e-03, 2.10481803e-03, 2.05843313e-03, 2.00391535e-03,\n",
       "       1.95890918e-03, 1.92987753e-03, 1.87289669e-03, 1.84583229e-03,\n",
       "       1.81978289e-03, 1.71520851e-03, 1.67683840e-03, 1.59970033e-03,\n",
       "       1.52951316e-03, 1.48444761e-03, 1.44982496e-03, 1.37606584e-03,\n",
       "       1.36275740e-03, 1.32894512e-03, 1.28175974e-03, 1.19245378e-03,\n",
       "       1.18179074e-03, 1.09557319e-03, 1.07639704e-03, 9.91113504e-04,\n",
       "       9.49107961e-04, 9.06806097e-04, 8.88665668e-04, 8.54286950e-04,\n",
       "       8.43115428e-04, 8.24654150e-04, 7.77582799e-04, 7.06599519e-04,\n",
       "       6.94913735e-04, 6.34841583e-04, 5.82676895e-04, 5.65561936e-04,\n",
       "       5.06590716e-04, 4.80109887e-04, 4.25698316e-04, 4.08664188e-04,\n",
       "       3.49502547e-04, 2.82241743e-04, 1.56184618e-04, 9.68569736e-32])"
      ]
     },
     "execution_count": 18,
     "metadata": {},
     "output_type": "execute_result"
    }
   ],
   "source": [
    "pca.explained_variance_ratio_"
   ]
  }
 ],
 "metadata": {
  "kernelspec": {
   "display_name": "Python 3",
   "language": "python",
   "name": "python3"
  },
  "language_info": {
   "codemirror_mode": {
    "name": "ipython",
    "version": 3
   },
   "file_extension": ".py",
   "mimetype": "text/x-python",
   "name": "python",
   "nbconvert_exporter": "python",
   "pygments_lexer": "ipython3",
   "version": "3.5.5"
  }
 },
 "nbformat": 4,
 "nbformat_minor": 2
}
