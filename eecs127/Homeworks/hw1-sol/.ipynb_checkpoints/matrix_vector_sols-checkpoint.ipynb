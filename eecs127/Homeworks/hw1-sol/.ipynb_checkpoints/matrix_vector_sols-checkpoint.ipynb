{
 "cells": [
  {
   "cell_type": "markdown",
   "metadata": {},
   "source": [
    "# Main Idea"
   ]
  },
  {
   "cell_type": "markdown",
   "metadata": {},
   "source": [
    "Denote the average of the row $r_{avg}$. The operation we want to perform would be\n",
    "\n",
    "$$ (C - R_{avg}) w$$\n",
    "\n",
    "where $R_{avg}$ is the matrix obtained by stacking $r_{avg}$.\n",
    "\n",
    "Navie implementation would be directly computing $C_m = C - R_{avg}$ and then right multiply it by the vector $w$.\n",
    "\n",
    "A more efficient approach would be to distribute the multiplication. $C w$ is easier to compute because of sparsity, and $R_{avg}w$ is simply a vector full of $r_{avg} \\cdot w$.\n",
    "\n",
    "**Speed Gain**: since the operations are in the order of $O(NK)$ and the density $d$ represents how much fewer operations we need, we expect the speed gain to be $O(NKd)$"
   ]
  },
  {
   "cell_type": "code",
   "execution_count": 1,
   "metadata": {},
   "outputs": [],
   "source": [
    "import numpy as np\n",
    "import time\n",
    "from scipy.sparse import csr_matrix"
   ]
  },
  {
   "cell_type": "code",
   "execution_count": 2,
   "metadata": {},
   "outputs": [],
   "source": [
    "lmbda = 0.1\n",
    "K = 10000\n",
    "N = 10000\n",
    "dims = [N, K]"
   ]
  },
  {
   "cell_type": "markdown",
   "metadata": {},
   "source": [
    "Generate sparse matrix using poisson distribution"
   ]
  },
  {
   "cell_type": "code",
   "execution_count": 3,
   "metadata": {
    "scrolled": true
   },
   "outputs": [],
   "source": [
    "# in dense matrix format, no performance improvement\n",
    "C = np.random.poisson(lmbda, dims)\n",
    "\n",
    "# in sparse matrix format, certain operations should be faster\n",
    "C_sparse = csr_matrix(C)\n",
    "\n",
    "# average of the rows of C\n",
    "r_avg = np.mean(C, axis=0)\n",
    "\n",
    "# w, in this case we use the one vector\n",
    "w = np.ones(K)"
   ]
  },
  {
   "cell_type": "code",
   "execution_count": 6,
   "metadata": {},
   "outputs": [
    {
     "ename": "AttributeError",
     "evalue": "count_nonzero not found",
     "output_type": "error",
     "traceback": [
      "\u001b[0;31m---------------------------------------------------------------------------\u001b[0m",
      "\u001b[0;31mAttributeError\u001b[0m                            Traceback (most recent call last)",
      "\u001b[0;32m<ipython-input-6-86bf34cfa810>\u001b[0m in \u001b[0;36m<module>\u001b[0;34m()\u001b[0m\n\u001b[0;32m----> 1\u001b[0;31m \u001b[0mprint\u001b[0m\u001b[0;34m(\u001b[0m\u001b[0;34m\"The sparsity is around\"\u001b[0m\u001b[0;34m,\u001b[0m \u001b[0mC_sparse\u001b[0m\u001b[0;34m.\u001b[0m\u001b[0mcount_nonzero\u001b[0m\u001b[0;34m(\u001b[0m\u001b[0;34m)\u001b[0m \u001b[0;34m/\u001b[0m \u001b[0mN\u001b[0m \u001b[0;34m/\u001b[0m \u001b[0mK\u001b[0m\u001b[0;34m)\u001b[0m\u001b[0;34m\u001b[0m\u001b[0m\n\u001b[0m",
      "\u001b[0;32m/anaconda3/lib/python3.6/site-packages/scipy/sparse/base.py\u001b[0m in \u001b[0;36m__getattr__\u001b[0;34m(self, attr)\u001b[0m\n\u001b[1;32m    523\u001b[0m             \u001b[0;32mreturn\u001b[0m \u001b[0mself\u001b[0m\u001b[0;34m.\u001b[0m\u001b[0mgetnnz\u001b[0m\u001b[0;34m(\u001b[0m\u001b[0;34m)\u001b[0m\u001b[0;34m\u001b[0m\u001b[0m\n\u001b[1;32m    524\u001b[0m         \u001b[0;32melse\u001b[0m\u001b[0;34m:\u001b[0m\u001b[0;34m\u001b[0m\u001b[0m\n\u001b[0;32m--> 525\u001b[0;31m             \u001b[0;32mraise\u001b[0m \u001b[0mAttributeError\u001b[0m\u001b[0;34m(\u001b[0m\u001b[0mattr\u001b[0m \u001b[0;34m+\u001b[0m \u001b[0;34m\" not found\"\u001b[0m\u001b[0;34m)\u001b[0m\u001b[0;34m\u001b[0m\u001b[0m\n\u001b[0m\u001b[1;32m    526\u001b[0m \u001b[0;34m\u001b[0m\u001b[0m\n\u001b[1;32m    527\u001b[0m     \u001b[0;32mdef\u001b[0m \u001b[0mtranspose\u001b[0m\u001b[0;34m(\u001b[0m\u001b[0mself\u001b[0m\u001b[0;34m)\u001b[0m\u001b[0;34m:\u001b[0m\u001b[0;34m\u001b[0m\u001b[0m\n",
      "\u001b[0;31mAttributeError\u001b[0m: count_nonzero not found"
     ]
    }
   ],
   "source": [
    "print(\"The sparsity is around\", C_sparse.count_nonzero() / N / K)"
   ]
  },
  {
   "cell_type": "markdown",
   "metadata": {},
   "source": [
    "## Naive implementation:"
   ]
  },
  {
   "cell_type": "code",
   "execution_count": 5,
   "metadata": {},
   "outputs": [
    {
     "name": "stdout",
     "output_type": "stream",
     "text": [
      "CPU times: user 291 ms, sys: 191 ms, total: 482 ms\n",
      "Wall time: 444 ms\n"
     ]
    },
    {
     "data": {
      "text/plain": [
       "array([-19.5611,   1.4389,   8.4389, ..., -75.5611,  11.4389, -22.5611])"
      ]
     },
     "execution_count": 5,
     "metadata": {},
     "output_type": "execute_result"
    }
   ],
   "source": [
    "# The jupyter-notebook's magic commands, %t expr,\n",
    "# will print the amount of time needed to evaluate expr\n",
    "%time (C - r_avg) @ w"
   ]
  },
  {
   "cell_type": "markdown",
   "metadata": {},
   "source": [
    "## Efficient implementation but on dense matrix:"
   ]
  },
  {
   "cell_type": "code",
   "execution_count": 6,
   "metadata": {},
   "outputs": [
    {
     "name": "stdout",
     "output_type": "stream",
     "text": [
      "CPU times: user 344 ms, sys: 243 ms, total: 587 ms\n",
      "Wall time: 380 ms\n"
     ]
    },
    {
     "data": {
      "text/plain": [
       "array([-19.5611,   1.4389,   8.4389, ..., -75.5611,  11.4389, -22.5611])"
      ]
     },
     "execution_count": 6,
     "metadata": {},
     "output_type": "execute_result"
    }
   ],
   "source": [
    "%time C @ w - np.dot(r_avg, w)"
   ]
  },
  {
   "cell_type": "markdown",
   "metadata": {},
   "source": [
    "## Efficient implementation but on sparse matrix:"
   ]
  },
  {
   "cell_type": "code",
   "execution_count": 7,
   "metadata": {},
   "outputs": [
    {
     "name": "stdout",
     "output_type": "stream",
     "text": [
      "CPU times: user 82.1 ms, sys: 19.5 ms, total: 102 ms\n",
      "Wall time: 52.4 ms\n"
     ]
    },
    {
     "data": {
      "text/plain": [
       "array([-19.5611,   1.4389,   8.4389, ..., -75.5611,  11.4389, -22.5611])"
      ]
     },
     "execution_count": 7,
     "metadata": {},
     "output_type": "execute_result"
    }
   ],
   "source": [
    "# %time C_sparse @ v - v.sum() * c_avg\n",
    "%time C_sparse @ w - np.dot(r_avg, w)"
   ]
  },
  {
   "cell_type": "markdown",
   "metadata": {},
   "source": [
    "## Conclusion"
   ]
  },
  {
   "cell_type": "markdown",
   "metadata": {},
   "source": [
    "We can see that the naive implementation is the slowest because of \n",
    "1. centering (subtracting from $c_{avg}$ takes $O(NK)$ in runtime)\n",
    "2. multiplication (also $O(NK)$ in runtime)\n",
    "\n",
    "In the efficient implementation on dense matrix, by distributing the multiplication, we can simplify the operation on $\\left[ c_{avg} ... c_{avg} \\right] v$, but $Cv$ is still slow because of dense matrix.\n",
    "\n",
    "In the efficient implementation on the sparse matrix, now both operations have been **optimized**."
   ]
  },
  {
   "cell_type": "code",
   "execution_count": null,
   "metadata": {
    "collapsed": true
   },
   "outputs": [],
   "source": []
  }
 ],
 "metadata": {
  "kernelspec": {
   "display_name": "Python 3",
   "language": "python",
   "name": "python3"
  },
  "language_info": {
   "codemirror_mode": {
    "name": "ipython",
    "version": 3
   },
   "file_extension": ".py",
   "mimetype": "text/x-python",
   "name": "python",
   "nbconvert_exporter": "python",
   "pygments_lexer": "ipython3",
   "version": "3.6.4"
  }
 },
 "nbformat": 4,
 "nbformat_minor": 2
}
