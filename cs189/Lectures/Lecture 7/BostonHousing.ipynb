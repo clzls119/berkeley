{
 "cells": [
  {
   "cell_type": "code",
   "execution_count": 1,
   "metadata": {},
   "outputs": [],
   "source": [
    "#import csv\n",
    "import numpy as np\n",
    "import scipy.linalg\n",
    "import pandas as pd\n",
    "import matplotlib.pyplot as plt\n",
    "import seaborn as sns\n",
    "sns.set_style(\"whitegrid\")\n",
    "sns.set_context(\"notebook\")\n",
    "np.random.seed(42)"
   ]
  },
  {
   "cell_type": "code",
   "execution_count": 7,
   "metadata": {},
   "outputs": [],
   "source": [
    "'''\n",
    "-------------------------\n",
    "Basic ML helper functions\n",
    "-------------------------\n",
    "'''\n",
    "\n",
    "def mse(y_act,y_pred):\n",
    "    '''mean square error helper function'''\n",
    "    return np.mean((y_act-y_pred)**2)\n",
    "\n",
    "def r_squared(y_act,y_pred):\n",
    "    '''r-squared statistic for explaining variance'''\n",
    "    return 1-np.mean((y_act-y_pred)**2)/np.var(y_act)\n",
    "\n",
    "def sq_dist(X,Z):\n",
    "    '''\n",
    "    fancy vectorized code for computing squared Euclidean distance\n",
    "    inputs: (X,Z) matrices with same number of columns\n",
    "    outputs: matrix D with entries D[i,j] = ||X[i,:]-Z[j,:]||^2\n",
    "    '''\n",
    "    return np.add.outer((X**2).sum(1),(Z**2).sum(1))-2*X@Z.T\n",
    "\n",
    "def sq_dist_for(X,Z):\n",
    "    '''\n",
    "    unfancy readable for loop code for computing squared Euclidean distance\n",
    "    '''\n",
    "    R = np.zeros((X.shape[0],Z.shape[0]))\n",
    "    for i in range(X.shape[0]):\n",
    "        for j in range(Z.shape[0]):\n",
    "            for k in range(X.shape[1]):\n",
    "                R[i,j]+=(X[i,k]-Z[i,k])**2\n",
    "    return R\n",
    "\n",
    "def gaussian_kernel(X,Z,scale):\n",
    "    '''\n",
    "    function to compute the Gaussian kernel matrix associating X and Z.\n",
    "    K[i,j] = exp(-scale*||X[i,:]-Z[j,:]||^2)\n",
    "    '''\n",
    "    sq_dist_mat = sq_dist(X,Z)\n",
    "    return np.exp(-scale*sq_dist_mat)\n",
    "\n",
    "def poly_kernel(X,Z,degree,scale):\n",
    "    '''\n",
    "    function to compute the polynomial kernel matrix associating X and Z.\n",
    "    K[i,j] = (1+scale*X[i,:]*Z[j,:].T||)^degree\n",
    "    '''\n",
    "    return (1+scale*X.dot(Z.T))**degree\n",
    "\n",
    "'''\n",
    "-------------------\n",
    "Training functions\n",
    "-------------------\n",
    "'''\n",
    "\n",
    "def least_squares_train(X,y):\n",
    "    '''Find the least-squares solution: minimize_w ||Xw-y||'''\n",
    "    return scipy.linalg.solve((X.T).dot(X),(X.T).dot(y))\n",
    "\n",
    "def kernel_ridge_train(K,y,reg_param):\n",
    "    '''Computes Kernel ridge regression solution (K+reg_param*I)^(-1)y'''\n",
    "    return scipy.linalg.solve(K+reg_param*np.eye(K.shape[0]),y)\n",
    "\n",
    "'''\n",
    "-------------------------------------------\n",
    "Cross Validation and associated subroutines\n",
    "--------------------------------------------\n",
    "'''\n",
    "\n",
    "def crossval(X,y,eval_train_test,nfolds,params):\n",
    "    '''\n",
    "    Cross validation routine. Inputs\n",
    "        X - training data matrix\n",
    "        y - training labels\n",
    "        eval_train_test - routine that takes a train set, test set, and parameters and returns average loss\n",
    "        nfolds - number of folds\n",
    "        params - matrix of parameters for eval_train_test. each row is a set of parameters.\n",
    "    Returns: estimate of average loss by cross validation\n",
    "    '''\n",
    "    \n",
    "    N = X.shape[0]\n",
    "        \n",
    "    myfolds = np.random.permutation(N)\n",
    "    myfolds = [myfolds[i::nfolds] for i in range(nfolds)]\n",
    "    \n",
    "    metric = np.zeros((params.shape[0]))\n",
    "    count = 0\n",
    "    for fold in myfolds:\n",
    "        print(\"fold {}\".format(count+1))\n",
    "        X_train = X[np.setdiff1d(range(N),fold),:]\n",
    "        y_train = y[np.setdiff1d(range(N),fold)]\n",
    "        X_test = X[fold,:]\n",
    "        y_test = y[fold]\n",
    "        count += 1\n",
    "        for param in range(params.shape[0]):\n",
    "            metric[param] += eval_train_test(X_train,y_train,X_test,y_test,params[param,:])\n",
    "        \n",
    "    return metric/count\n",
    "\n",
    "'''Evaluation functions for different feature sets'''\n",
    "def lsq_eval_train_test(X_train,y_train,X_test,y_test):\n",
    "    w = least_squares_train(X_train,y_train)\n",
    "    y_pred = X_test.dot(w)\n",
    "    return mse(y_test,y_pred)\n",
    "\n",
    "def gauss_krr_eval_train_test(X_train,y_train,X_test,y_test,param):\n",
    "    reg_param = param[0]\n",
    "    scale = param[1]\n",
    "    K = gaussian_kernel(X_train,X_train,scale)\n",
    "    c = kernel_ridge_train(K,y_train,reg_param)\n",
    "    K_test = gaussian_kernel(X_test,X_train,scale)\n",
    "    y_pred = K_test.dot(c)\n",
    "    return mse(y_test,y_pred)\n",
    "\n",
    "def qpoly_krr_eval_train_test(X_train,y_train,X_test,y_test,param):\n",
    "    reg_param = param[0]\n",
    "    pscale = param[1]\n",
    "    K = poly_kernel(X_train,X_train,2,pscale)\n",
    "    c = kernel_ridge_train(K,y_train,reg_param)\n",
    "    K_test = poly_kernel(X_test,X_train,2,pscale)\n",
    "    y_pred = K_test.dot(c)\n",
    "    return mse(y_test,y_pred)\n",
    "\n",
    "'''\n",
    "---------------------\n",
    "Plotting Subroutines\n",
    "----------------------\n",
    "'''\n",
    "def scatter_preds(y_true,y_preds,ax=None,c=None,s=None):\n",
    "    '''give a scatter plot of predicted vs. actual values'''\n",
    "    if ax == None:\n",
    "        fig, ax = plt.subplots(figsize=(5,5))\n",
    "    ax.scatter(y_preds,y_true,alpha=0.7,c='b',s=s)\n",
    "    ax.plot([min(y_true),max(y_true)],[min(y_true),max(y_true)],color='k',linestyle='--',linewidth=3)\n",
    "\n",
    "    ax.set_aspect(\"equal\")\n",
    "    ax.set_xlabel(\"predicted\", fontsize=20)\n",
    "    ax.set_ylabel(\"actual\", fontsize=20)\n",
    "    plt.xticks(fontsize = 20) # work on current fig\n",
    "    plt.yticks(fontsize = 20) # work on current fig"
   ]
  },
  {
   "cell_type": "markdown",
   "metadata": {},
   "source": [
    "## Boston House Price Data Set\n",
    "\n",
    "The Boston house-price data of Harrison, D. and Rubinfeld, D.L. 'Hedonic prices and the demand for clean air', J. Environ. Economics & Management,  vol.5, 81-102, 1978.   Used in Belsley, Kuh & Welsch, 'Regression diagnostics ...', Wiley, 1980.   N.B. Various transformations are used in the table on pages 244-261 of the latter.\n",
    "\n",
    " Variables in order:\n",
    " * CRIM - per capita crime rate by town\n",
    " * ZN - proportion of residential land zoned for lots over 25,000 sq.ft.\n",
    " * INDUS - proportion of non-retail business acres per town\n",
    " * CHAS - Charles River dummy variable (= 1 if tract bounds river; 0 otherwise)\n",
    " * NOX - nitric oxides concentration (parts per 10 million)\n",
    " * RM - average number of rooms per dwelling\n",
    " * AGE - proportion of owner-occupied units built prior to 1940\n",
    " * DIS - weighted distances to five Boston employment centres\n",
    " * RAD - index of accessibility to radial highways\n",
    " * TAX - full-value property-tax rate per \\$10,000\n",
    " * PTRATIO - pupil-teacher ratio by town\n",
    " * B - 1000(Bk - 0.63)^2 where Bk is the proportion of blacks by town (!!!)\n",
    " * LSTAT - % lower status of the population\n",
    " * MEDV - Median value of owner-occupied homes in \\$1000's\n",
    " \n",
    "**The goal will be to predict MEDV from the other variables.**\n"
   ]
  },
  {
   "cell_type": "markdown",
   "metadata": {},
   "source": [
    "### First we load and process the data from a csv file"
   ]
  },
  {
   "cell_type": "code",
   "execution_count": 3,
   "metadata": {},
   "outputs": [
    {
     "data": {
      "text/html": [
       "<div>\n",
       "<style scoped>\n",
       "    .dataframe tbody tr th:only-of-type {\n",
       "        vertical-align: middle;\n",
       "    }\n",
       "\n",
       "    .dataframe tbody tr th {\n",
       "        vertical-align: top;\n",
       "    }\n",
       "\n",
       "    .dataframe thead th {\n",
       "        text-align: right;\n",
       "    }\n",
       "</style>\n",
       "<table border=\"1\" class=\"dataframe\">\n",
       "  <thead>\n",
       "    <tr style=\"text-align: right;\">\n",
       "      <th></th>\n",
       "      <th>CRIM</th>\n",
       "      <th>ZN</th>\n",
       "      <th>INDUS</th>\n",
       "      <th>CHAS</th>\n",
       "      <th>NOX</th>\n",
       "      <th>RM</th>\n",
       "      <th>AGE</th>\n",
       "      <th>DIS</th>\n",
       "      <th>RAD</th>\n",
       "      <th>TAX</th>\n",
       "      <th>PTRATIO</th>\n",
       "      <th>B</th>\n",
       "      <th>LSTAT</th>\n",
       "      <th>MEDV</th>\n",
       "    </tr>\n",
       "  </thead>\n",
       "  <tbody>\n",
       "    <tr>\n",
       "      <th>0</th>\n",
       "      <td>0.00632</td>\n",
       "      <td>18.0</td>\n",
       "      <td>2.31</td>\n",
       "      <td>0</td>\n",
       "      <td>0.538</td>\n",
       "      <td>6.575</td>\n",
       "      <td>65.2</td>\n",
       "      <td>4.0900</td>\n",
       "      <td>1</td>\n",
       "      <td>296</td>\n",
       "      <td>15.3</td>\n",
       "      <td>396.90</td>\n",
       "      <td>4.98</td>\n",
       "      <td>24.0</td>\n",
       "    </tr>\n",
       "    <tr>\n",
       "      <th>1</th>\n",
       "      <td>0.02731</td>\n",
       "      <td>0.0</td>\n",
       "      <td>7.07</td>\n",
       "      <td>0</td>\n",
       "      <td>0.469</td>\n",
       "      <td>6.421</td>\n",
       "      <td>78.9</td>\n",
       "      <td>4.9671</td>\n",
       "      <td>2</td>\n",
       "      <td>242</td>\n",
       "      <td>17.8</td>\n",
       "      <td>396.90</td>\n",
       "      <td>9.14</td>\n",
       "      <td>21.6</td>\n",
       "    </tr>\n",
       "    <tr>\n",
       "      <th>2</th>\n",
       "      <td>0.02729</td>\n",
       "      <td>0.0</td>\n",
       "      <td>7.07</td>\n",
       "      <td>0</td>\n",
       "      <td>0.469</td>\n",
       "      <td>7.185</td>\n",
       "      <td>61.1</td>\n",
       "      <td>4.9671</td>\n",
       "      <td>2</td>\n",
       "      <td>242</td>\n",
       "      <td>17.8</td>\n",
       "      <td>392.83</td>\n",
       "      <td>4.03</td>\n",
       "      <td>34.7</td>\n",
       "    </tr>\n",
       "    <tr>\n",
       "      <th>3</th>\n",
       "      <td>0.03237</td>\n",
       "      <td>0.0</td>\n",
       "      <td>2.18</td>\n",
       "      <td>0</td>\n",
       "      <td>0.458</td>\n",
       "      <td>6.998</td>\n",
       "      <td>45.8</td>\n",
       "      <td>6.0622</td>\n",
       "      <td>3</td>\n",
       "      <td>222</td>\n",
       "      <td>18.7</td>\n",
       "      <td>394.63</td>\n",
       "      <td>2.94</td>\n",
       "      <td>33.4</td>\n",
       "    </tr>\n",
       "    <tr>\n",
       "      <th>4</th>\n",
       "      <td>0.06905</td>\n",
       "      <td>0.0</td>\n",
       "      <td>2.18</td>\n",
       "      <td>0</td>\n",
       "      <td>0.458</td>\n",
       "      <td>7.147</td>\n",
       "      <td>54.2</td>\n",
       "      <td>6.0622</td>\n",
       "      <td>3</td>\n",
       "      <td>222</td>\n",
       "      <td>18.7</td>\n",
       "      <td>396.90</td>\n",
       "      <td>5.33</td>\n",
       "      <td>36.2</td>\n",
       "    </tr>\n",
       "  </tbody>\n",
       "</table>\n",
       "</div>"
      ],
      "text/plain": [
       "      CRIM    ZN  INDUS  CHAS    NOX     RM   AGE     DIS  RAD  TAX  PTRATIO  \\\n",
       "0  0.00632  18.0   2.31     0  0.538  6.575  65.2  4.0900    1  296     15.3   \n",
       "1  0.02731   0.0   7.07     0  0.469  6.421  78.9  4.9671    2  242     17.8   \n",
       "2  0.02729   0.0   7.07     0  0.469  7.185  61.1  4.9671    2  242     17.8   \n",
       "3  0.03237   0.0   2.18     0  0.458  6.998  45.8  6.0622    3  222     18.7   \n",
       "4  0.06905   0.0   2.18     0  0.458  7.147  54.2  6.0622    3  222     18.7   \n",
       "\n",
       "        B  LSTAT  MEDV  \n",
       "0  396.90   4.98  24.0  \n",
       "1  396.90   9.14  21.6  \n",
       "2  392.83   4.03  34.7  \n",
       "3  394.63   2.94  33.4  \n",
       "4  396.90   5.33  36.2  "
      ]
     },
     "execution_count": 3,
     "metadata": {},
     "output_type": "execute_result"
    }
   ],
   "source": [
    "df = pd.read_csv('boston_housing.csv')\n",
    "df[:5]"
   ]
  },
  {
   "cell_type": "code",
   "execution_count": 4,
   "metadata": {},
   "outputs": [],
   "source": [
    "# Extract data from dataframe and convert it to a numpy array of features and targets\n",
    "data = df.values\n",
    "\n",
    "X = data[:,0:13]\n",
    "X[:,11]=.63-np.sqrt(X[:,11]/1000)\n",
    "\n",
    "y = data[:,13]\n",
    "\n",
    "N=X.shape[0]\n",
    "NFeat = X.shape[1]"
   ]
  },
  {
   "cell_type": "markdown",
   "metadata": {},
   "source": [
    "### Next we split the data into a train set and test set\n",
    "We use an 80-20 split."
   ]
  },
  {
   "cell_type": "code",
   "execution_count": 5,
   "metadata": {},
   "outputs": [],
   "source": [
    "N = X.shape[0]\n",
    "\n",
    "N_Train = np.floor(0.8*N).astype(int)\n",
    "myperm = np.random.permutation(N)\n",
    "idx_train = myperm[0:N_Train]\n",
    "idx_test = myperm[N_Train:N]\n",
    "\n",
    "X_train = X[idx_train,:]\n",
    "y_train = y[idx_train]\n",
    "\n",
    "X_test = X[idx_test,:]\n",
    "y_test = y[idx_test]"
   ]
  },
  {
   "cell_type": "markdown",
   "metadata": {},
   "source": [
    "### Linear Regression"
   ]
  },
  {
   "cell_type": "code",
   "execution_count": 8,
   "metadata": {},
   "outputs": [
    {
     "name": "stdout",
     "output_type": "stream",
     "text": [
      "Linear Regression\n",
      " R2 = 0.68 \n",
      " MSE = 2.26e+01\n"
     ]
    },
    {
     "data": {
      "image/png": "[encoded data removed]",
      "text/plain": [
       "<Figure size 360x360 with 1 Axes>"
      ]
     },
     "metadata": {},
     "output_type": "display_data"
    }
   ],
   "source": [
    "X_train_l = np.hstack((X_train,np.ones((X_train.shape[0],1))))\n",
    "X_test_l = np.hstack((X_test,np.ones((X_test.shape[0],1))))\n",
    "\n",
    "w = least_squares_train(X_train_l,y_train)\n",
    "y_pred = X_test_l.dot(w)\n",
    "\n",
    "print(\"Linear Regression\\n R2 = {0:.2f} \\n MSE = {1:.2e}\".format(\n",
    "                           r_squared(y_test,y_pred),\n",
    "                           mse(y_test,y_pred)))\n",
    "\n",
    "scatter_preds(y_test,y_pred)"
   ]
  },
  {
   "cell_type": "code",
   "execution_count": 9,
   "metadata": {},
   "outputs": [
    {
     "data": {
      "text/plain": [
       "0.7456420203441383"
      ]
     },
     "execution_count": 9,
     "metadata": {},
     "output_type": "execute_result"
    }
   ],
   "source": [
    "r_squared(y_train,X_train_l.dot(w))"
   ]
  },
  {
   "cell_type": "markdown",
   "metadata": {},
   "source": [
    "### Gaussian Kernel Ridge Regression"
   ]
  },
  {
   "cell_type": "markdown",
   "metadata": {},
   "source": [
    "Compute parameters using cross validation:"
   ]
  },
  {
   "cell_type": "code",
   "execution_count": 10,
   "metadata": {},
   "outputs": [
    {
     "name": "stdout",
     "output_type": "stream",
     "text": [
      "fold 1\n",
      "fold 2\n",
      "fold 3\n",
      "fold 4\n",
      "fold 5\n",
      "fold 6\n",
      "fold 7\n",
      "fold 8\n",
      "fold 9\n",
      "fold 10\n",
      "reg_param : 1.00e-05, scale : 5.02e-06\n",
      "\n"
     ]
    }
   ],
   "source": [
    "# heuristic for computing the bandwidth of the Gaussian kernel\n",
    "# this is an incredibly useful heuristic!!!\n",
    "R = sq_dist(X_train,X_train)\n",
    "scale_mid = 1/np.median(R)\n",
    "\n",
    "# make a grid of parameters to try for cross validation\n",
    "nscales = 10\n",
    "nregs = 10\n",
    "minreg = -8\n",
    "maxreg = 1\n",
    "minscale = np.log10(scale_mid)-1\n",
    "maxscale = np.log10(scale_mid)+1\n",
    "\n",
    "regs, scales = np.meshgrid(np.logspace(minreg,maxreg,nregs), np.logspace(minscale,maxscale,nscales),\n",
    "                           sparse=False, indexing='ij')\n",
    "params = np.hstack((regs.reshape(nregs*nscales,1),scales.reshape(nregs*nscales,1)))\n",
    "\n",
    "### cross validation\n",
    "mse_vals = crossval(X_train,y_train,gauss_krr_eval_train_test,10,params)\n",
    "minimizer = np.argmin(mse_vals)\n",
    "print(\"reg_param : {0:.2e}, scale : {1:.2e}\\n\".format(params[minimizer,0],params[minimizer,1]))"
   ]
  },
  {
   "cell_type": "code",
   "execution_count": 11,
   "metadata": {},
   "outputs": [
    {
     "name": "stdout",
     "output_type": "stream",
     "text": [
      "Gaussian Kernel\n",
      " R2 = 0.84 \n",
      " MSE = 1.15e+01\n"
     ]
    },
    {
     "data": {
      "image/png": "[encoded data removed]",
      "text/plain": [
       "<Figure size 360x360 with 1 Axes>"
      ]
     },
     "metadata": {},
     "output_type": "display_data"
    }
   ],
   "source": [
    "scale = params[minimizer,1]\n",
    "reg_param = params[minimizer,0]\n",
    "\n",
    "K = gaussian_kernel(X_train,X_train,scale) \n",
    "c = kernel_ridge_train(K,y_train,reg_param)\n",
    "K_test = gaussian_kernel(X_test,X_train,scale)\n",
    "y_pred = K_test.dot(c)\n",
    "\n",
    "print(\"Gaussian Kernel\\n R2 = {0:.2f} \\n MSE = {1:.2e}\".format(\n",
    "                           r_squared(y_test,y_pred),\n",
    "                           mse(y_test,y_pred)))\n",
    "\n",
    "scatter_preds(y_test,y_pred)"
   ]
  },
  {
   "cell_type": "markdown",
   "metadata": {},
   "source": [
    "### Gaussian Kernel Ridge Regression with preprocessing"
   ]
  },
  {
   "cell_type": "markdown",
   "metadata": {},
   "source": [
    "Preprocess the data so that the features each have mean zero and unit variance"
   ]
  },
  {
   "cell_type": "code",
   "execution_count": 14,
   "metadata": {},
   "outputs": [],
   "source": [
    "mu_train = np.mean(X_train,axis=0)\n",
    "var_train = np.mean((X_train-mu_train[None,:])**2,axis = 0)\n",
    "\n",
    "X_train_scale = (X_train-mu_train[None,:])/np.sqrt(var_train[None,:])\n",
    "X_test_scale = (X_test-mu_train[None,:])/np.sqrt(var_train[None,:])"
   ]
  },
  {
   "cell_type": "markdown",
   "metadata": {},
   "source": [
    "Compute parameters using cross validation:"
   ]
  },
  {
   "cell_type": "code",
   "execution_count": 15,
   "metadata": {},
   "outputs": [
    {
     "name": "stdout",
     "output_type": "stream",
     "text": [
      "fold 1\n",
      "fold 2\n",
      "fold 3\n",
      "fold 4\n",
      "fold 5\n",
      "fold 6\n",
      "fold 7\n",
      "fold 8\n",
      "fold 9\n",
      "fold 10\n",
      "reg_param : 1.00e-02, scale : 2.07e-02\n",
      "\n"
     ]
    }
   ],
   "source": [
    "R = sq_dist(X_train_scale,X_train_scale)\n",
    "scale_mid = 1/np.median(R)\n",
    "\n",
    "# make a grid of parameters to try for cross validation\n",
    "nscales = 10\n",
    "nregs = 10\n",
    "maxreg = 1\n",
    "minreg = -8\n",
    "maxscale = np.log10(scale_mid)+1\n",
    "minscale = np.log10(scale_mid)-1\n",
    "\n",
    "regs, scales = np.meshgrid(np.logspace(minreg,maxreg,nregs), np.logspace(minscale,maxscale,nscales),\n",
    "                           sparse=False, indexing='ij')\n",
    "params = np.hstack((regs.reshape(nregs*nscales,1),scales.reshape(nregs*nscales,1)))\n",
    "\n",
    "### cross validation\n",
    "mse_vals = crossval(X_train_scale,y_train,gauss_krr_eval_train_test,10,params)\n",
    "minimizer = np.argmin(mse_vals)\n",
    "print(\"reg_param : {0:.2e}, scale : {1:.2e}\\n\".format(params[minimizer,0],params[minimizer,1]))"
   ]
  },
  {
   "cell_type": "code",
   "execution_count": 16,
   "metadata": {},
   "outputs": [
    {
     "name": "stdout",
     "output_type": "stream",
     "text": [
      "Gaussian Kernel, normalized data\n",
      " R2 = 0.86 \n",
      " MSE = 1.01e+01\n"
     ]
    },
    {
     "data": {
      "image/png": "[encoded data removed]",
      "text/plain": [
       "<Figure size 360x360 with 1 Axes>"
      ]
     },
     "metadata": {},
     "output_type": "display_data"
    }
   ],
   "source": [
    "scale = params[minimizer,1]\n",
    "reg_param = params[minimizer,0]\n",
    "\n",
    "K = gaussian_kernel(X_train_scale,X_train_scale,scale) \n",
    "c = kernel_ridge_train(K,y_train,reg_param)\n",
    "K_test = gaussian_kernel(X_test_scale,X_train_scale,scale)\n",
    "y_pred = K_test.dot(c)\n",
    "\n",
    "print(\"Gaussian Kernel, normalized data\\n R2 = {0:.2f} \\n MSE = {1:.2e}\".format(\n",
    "                           r_squared(y_test,y_pred),\n",
    "                           mse(y_test,y_pred)))\n",
    "\n",
    "scatter_preds(y_test,y_pred)"
   ]
  },
  {
   "cell_type": "markdown",
   "metadata": {},
   "source": [
    "### Quadratic Polynomial Kernel Ridge Regression"
   ]
  },
  {
   "cell_type": "code",
   "execution_count": null,
   "metadata": {},
   "outputs": [],
   "source": [
    "# heuristic to set scale of polynomial kernel\n",
    "pscale_base = 1/np.max(np.sum(X_train**2,axis=1))\n",
    "print(\"heuristic scale : {0:.2e}\".format(scale_mid))\n",
    "\n",
    "# make a grid of parameters to try for cross validation\n",
    "nscales = 10\n",
    "nregs = 10\n",
    "maxreg = 1\n",
    "minreg = -8\n",
    "maxscale = np.log10(pscale_base)+1\n",
    "minscale = np.log10(scale_mid)-1\n",
    "\n",
    "regs, scales = np.meshgrid(np.logspace(minreg,maxreg,nregs), np.logspace(minscale,maxscale,nscales),\n",
    "                           sparse=False, indexing='ij')\n",
    "params = np.hstack((regs.reshape(nregs*nscales,1),scales.reshape(nregs*nscales,1)))\n",
    "\n",
    "### cross validation\n",
    "mse_vals = crossval(X_train_scale,y_train,qpoly_krr_eval_train_test,10,params)\n",
    "minimizer = np.argmin(mse_vals)\n",
    "print(\"reg_param : {0:.2e}, scale : {1:.2e}\\n\".format(params[minimizer,0],params[minimizer,1]))"
   ]
  },
  {
   "cell_type": "code",
   "execution_count": null,
   "metadata": {},
   "outputs": [],
   "source": [
    "pscale = params[minimizer,1]\n",
    "reg_param = params[minimizer,0]\n",
    "\n",
    "K = (1+pscale*X_train.dot(X_train.T))**2\n",
    "c = kernel_ridge_train(K,y_train,reg_param)\n",
    "\n",
    "K_test=(1+pscale*X_test.dot(X_train.T))**2\n",
    "y_pred = K_test.dot(c)\n",
    "\n",
    "print(\"Polynomial Kernel\\n R2 = {0:.2f} \\n MSE = {1:.2e}\".format(\n",
    "                           r_squared(y_test,y_pred),\n",
    "                           mse(y_test,y_pred)))\n",
    "\n",
    "scatter_preds(y_test,y_pred)"
   ]
  },
  {
   "cell_type": "code",
   "execution_count": 12,
   "metadata": {},
   "outputs": [
    {
     "name": "stdout",
     "output_type": "stream",
     "text": [
      "672 µs ± 12.2 µs per loop (mean ± std. dev. of 7 runs, 1000 loops each)\n"
     ]
    }
   ],
   "source": [
    "%timeit sq_dist(X,X)"
   ]
  },
  {
   "cell_type": "code",
   "execution_count": 13,
   "metadata": {},
   "outputs": [
    {
     "name": "stdout",
     "output_type": "stream",
     "text": [
      "2.52 s ± 22 ms per loop (mean ± std. dev. of 7 runs, 1 loop each)\n"
     ]
    }
   ],
   "source": [
    "%timeit sq_dist_for(X,X)"
   ]
  },
  {
   "cell_type": "code",
   "execution_count": null,
   "metadata": {},
   "outputs": [],
   "source": []
  }
 ],
 "metadata": {
  "kernelspec": {
   "display_name": "Python 3",
   "language": "python",
   "name": "python3"
  },
  "language_info": {
   "codemirror_mode": {
    "name": "ipython",
    "version": 3
   },
   "file_extension": ".py",
   "mimetype": "text/x-python",
   "name": "python",
   "nbconvert_exporter": "python",
   "pygments_lexer": "ipython3",
   "version": "3.6.5"
  }
 },
 "nbformat": 4,
 "nbformat_minor": 2
}
