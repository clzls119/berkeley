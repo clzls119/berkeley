{
 "cells": [
  {
   "cell_type": "code",
   "execution_count": 1,
   "metadata": {},
   "outputs": [],
   "source": [
    "import csv\n",
    "import numpy as np\n",
    "import scipy.linalg\n",
    "import pandas as pd\n",
    "import matplotlib.pyplot as plt\n",
    "import seaborn as sns\n",
    "sns.set_style(\"whitegrid\")\n",
    "sns.set_context(\"notebook\")\n",
    "np.random.seed(42)"
   ]
  },
  {
   "cell_type": "code",
   "execution_count": 7,
   "metadata": {},
   "outputs": [],
   "source": [
    "'''\n",
    "-------------------------\n",
    "Basic ML helper functions\n",
    "-------------------------\n",
    "'''\n",
    "\n",
    "def mse(y_act,y_pred):\n",
    "    '''mean square error helper function'''\n",
    "    return np.mean((y_act-y_pred)**2)\n",
    "\n",
    "def r_squared(y_act,y_pred):\n",
    "    '''r-squared statistic for explaining variance'''\n",
    "    return 1-np.mean((y_act-y_pred)**2)/np.var(y_act)\n",
    "\n",
    "def sq_dist(X,Z):\n",
    "    '''\n",
    "    fancy vectorized code for computing squared Euclidean distance\n",
    "    inputs: (X,Z) matrices with same number of columns\n",
    "    outputs: matrix D with entries D[i,j] = ||X[i,:]-Z[j,:]||^2\n",
    "    '''\n",
    "    return np.add.outer((X**2).sum(1),(Z**2).sum(1))-2*X@Z.T\n",
    "\n",
    "def sq_dist_for(X,Z):\n",
    "    '''\n",
    "    unfancy readable for loop code for computing squared Euclidean distance\n",
    "    '''\n",
    "    R = np.zeros((X.shape[0],Z.shape[0]))\n",
    "    for i in range(X.shape[0]):\n",
    "        for j in range(Z.shape[0]):\n",
    "            for k in range(X.shape[1]):\n",
    "                R[i,j]+=(X[i,k]-Z[i,k])**2\n",
    "    return R\n",
    "\n",
    "def gaussian_kernel(X,Z,scale):\n",
    "    '''\n",
    "    function to compute the Gaussian kernel matrix associating X and Z.\n",
    "    K[i,j] = exp(-scale*||X[i,:]-Z[j,:]||^2)\n",
    "    '''\n",
    "    sq_dist_mat = sq_dist(X,Z)\n",
    "    return np.exp(-scale*sq_dist_mat)\n",
    "\n",
    "def poly_kernel(X,Z,degree,scale):\n",
    "    '''\n",
    "    function to compute the polynomial kernel matrix associating X and Z.\n",
    "    K[i,j] = (1+scale*X[i,:]*Z[j,:].T||)^degree\n",
    "    '''\n",
    "    return (1+scale*X.dot(Z.T))**degree\n",
    "\n",
    "'''\n",
    "-------------------\n",
    "Training functions\n",
    "-------------------\n",
    "'''\n",
    "\n",
    "def least_squares_train(X,y):\n",
    "    '''Find the least-squares solution: minimize_w ||Xw-y||'''\n",
    "    return scipy.linalg.solve((X.T).dot(X),(X.T).dot(y))\n",
    "\n",
    "def kernel_ridge_train(K,y,reg_param):\n",
    "    '''Computes Kernel ridge regression solution (K+reg_param*I)^(-1)y'''\n",
    "    return scipy.linalg.solve(K+reg_param*np.eye(K.shape[0]),y)\n",
    "\n",
    "'''\n",
    "-------------------------------------------\n",
    "Cross Validation and associated subroutines\n",
    "--------------------------------------------\n",
    "'''\n",
    "\n",
    "def crossval(X,y,eval_train_test,nfolds,params):\n",
    "    '''\n",
    "    Cross validation routine. Inputs\n",
    "        X - training data matrix\n",
    "        y - training labels\n",
    "        eval_train_test - routine that takes a train set, test set, and parameters and returns average loss\n",
    "        nfolds - number of folds\n",
    "        params - matrix of parameters for eval_train_test. each row is a set of parameters.\n",
    "    Returns: estimate of average loss by cross validation\n",
    "    '''\n",
    "    \n",
    "    N = X.shape[0]\n",
    "        \n",
    "    myfolds = np.random.permutation(N)\n",
    "    myfolds = [myfolds[i::nfolds] for i in range(nfolds)]\n",
    "    \n",
    "    metric = np.zeros((params.shape[0]))\n",
    "    count = 0\n",
    "    for fold in myfolds:\n",
    "        print(\"fold {}\".format(count+1))\n",
    "        X_train = X[np.setdiff1d(range(N),fold),:]\n",
    "        y_train = y[np.setdiff1d(range(N),fold)]\n",
    "        X_test = X[fold,:]\n",
    "        y_test = y[fold]\n",
    "        count += 1\n",
    "        for param in range(params.shape[0]):\n",
    "            metric[param] += eval_train_test(X_train,y_train,X_test,y_test,params[param,:])\n",
    "        \n",
    "    return metric/count\n",
    "\n",
    "'''Evaluation functions for different feature sets'''\n",
    "def lsq_eval_train_test(X_train,y_train,X_test,y_test):\n",
    "    w = least_squares_train(X_train,y_train)\n",
    "    y_pred = X_test.dot(w)\n",
    "    return mse(y_test,y_pred)\n",
    "\n",
    "def gauss_krr_eval_train_test(X_train,y_train,X_test,y_test,param):\n",
    "    reg_param = param[0]\n",
    "    scale = param[1]\n",
    "    K = gaussian_kernel(X_train,X_train,scale)\n",
    "    c = kernel_ridge_train(K,y_train,reg_param)\n",
    "    K_test = gaussian_kernel(X_test,X_train,scale)\n",
    "    y_pred = K_test.dot(c)\n",
    "    return mse(y_test,y_pred)\n",
    "\n",
    "def qpoly_krr_eval_train_test(X_train,y_train,X_test,y_test,param):\n",
    "    reg_param = param[0]\n",
    "    pscale = param[1]\n",
    "    K = poly_kernel(X_train,X_train,2,pscale)\n",
    "    c = kernel_ridge_train(K,y_train,reg_param)\n",
    "    K_test = poly_kernel(X_test,X_train,2,pscale)\n",
    "    y_pred = K_test.dot(c)\n",
    "    return mse(y_test,y_pred)\n",
    "\n",
    "'''\n",
    "---------------------\n",
    "Plotting Subroutines\n",
    "----------------------\n",
    "'''\n",
    "def scatter_preds(y_true,y_preds,ax=None,c=None,s=None):\n",
    "    '''give a scatter plot of predicted vs. actual values'''\n",
    "    if ax == None:\n",
    "        fig, ax = plt.subplots(figsize=(5,5))\n",
    "    ax.scatter(y_preds,y_true,alpha=0.7,c='b',s=s)\n",
    "    ax.plot([min(y_true),max(y_true)],[min(y_true),max(y_true)],color='k',linestyle='--',linewidth=3)\n",
    "\n",
    "    ax.set_aspect(\"equal\")\n",
    "    ax.set_xlabel(\"predicted\", fontsize=20)\n",
    "    ax.set_ylabel(\"actual\", fontsize=20)\n",
    "    plt.xticks(fontsize = 20) # work on current fig\n",
    "    plt.yticks(fontsize = 20) # work on current fig"
   ]
  },
  {
   "cell_type": "markdown",
   "metadata": {},
   "source": [
    "## Diabetes Data\n",
    "\n",
    "These data consist of observations on 442 patients, with the response of interest being a quantitative measure of disease progression one year after baseline. \n",
    "\n",
    "There are ten baseline variables: age, sex, body-mass index, average blood pressure, and six blood serum measurements.\n",
    "\n",
    "First used in LARS paper."
   ]
  },
  {
   "cell_type": "markdown",
   "metadata": {},
   "source": [
    "### First we load and process the data from a csv file"
   ]
  },
  {
   "cell_type": "code",
   "execution_count": 3,
   "metadata": {},
   "outputs": [
    {
     "data": {
      "text/html": [
       "<div>\n",
       "<style scoped>\n",
       "    .dataframe tbody tr th:only-of-type {\n",
       "        vertical-align: middle;\n",
       "    }\n",
       "\n",
       "    .dataframe tbody tr th {\n",
       "        vertical-align: top;\n",
       "    }\n",
       "\n",
       "    .dataframe thead th {\n",
       "        text-align: right;\n",
       "    }\n",
       "</style>\n",
       "<table border=\"1\" class=\"dataframe\">\n",
       "  <thead>\n",
       "    <tr style=\"text-align: right;\">\n",
       "      <th></th>\n",
       "      <th>AGE</th>\n",
       "      <th>SEX</th>\n",
       "      <th>BMI</th>\n",
       "      <th>BP</th>\n",
       "      <th>S1</th>\n",
       "      <th>S2</th>\n",
       "      <th>S3</th>\n",
       "      <th>S4</th>\n",
       "      <th>S5</th>\n",
       "      <th>S6</th>\n",
       "      <th>Y</th>\n",
       "    </tr>\n",
       "  </thead>\n",
       "  <tbody>\n",
       "    <tr>\n",
       "      <th>0</th>\n",
       "      <td>59</td>\n",
       "      <td>2</td>\n",
       "      <td>32.1</td>\n",
       "      <td>101.0</td>\n",
       "      <td>157</td>\n",
       "      <td>93.2</td>\n",
       "      <td>38.0</td>\n",
       "      <td>4.0</td>\n",
       "      <td>4.8598</td>\n",
       "      <td>87</td>\n",
       "      <td>151</td>\n",
       "    </tr>\n",
       "    <tr>\n",
       "      <th>1</th>\n",
       "      <td>48</td>\n",
       "      <td>1</td>\n",
       "      <td>21.6</td>\n",
       "      <td>87.0</td>\n",
       "      <td>183</td>\n",
       "      <td>103.2</td>\n",
       "      <td>70.0</td>\n",
       "      <td>3.0</td>\n",
       "      <td>3.8918</td>\n",
       "      <td>69</td>\n",
       "      <td>75</td>\n",
       "    </tr>\n",
       "    <tr>\n",
       "      <th>2</th>\n",
       "      <td>72</td>\n",
       "      <td>2</td>\n",
       "      <td>30.5</td>\n",
       "      <td>93.0</td>\n",
       "      <td>156</td>\n",
       "      <td>93.6</td>\n",
       "      <td>41.0</td>\n",
       "      <td>4.0</td>\n",
       "      <td>4.6728</td>\n",
       "      <td>85</td>\n",
       "      <td>141</td>\n",
       "    </tr>\n",
       "    <tr>\n",
       "      <th>3</th>\n",
       "      <td>24</td>\n",
       "      <td>1</td>\n",
       "      <td>25.3</td>\n",
       "      <td>84.0</td>\n",
       "      <td>198</td>\n",
       "      <td>131.4</td>\n",
       "      <td>40.0</td>\n",
       "      <td>5.0</td>\n",
       "      <td>4.8903</td>\n",
       "      <td>89</td>\n",
       "      <td>206</td>\n",
       "    </tr>\n",
       "    <tr>\n",
       "      <th>4</th>\n",
       "      <td>50</td>\n",
       "      <td>1</td>\n",
       "      <td>23.0</td>\n",
       "      <td>101.0</td>\n",
       "      <td>192</td>\n",
       "      <td>125.4</td>\n",
       "      <td>52.0</td>\n",
       "      <td>4.0</td>\n",
       "      <td>4.2905</td>\n",
       "      <td>80</td>\n",
       "      <td>135</td>\n",
       "    </tr>\n",
       "  </tbody>\n",
       "</table>\n",
       "</div>"
      ],
      "text/plain": [
       "   AGE  SEX   BMI     BP   S1     S2    S3   S4      S5  S6    Y\n",
       "0   59    2  32.1  101.0  157   93.2  38.0  4.0  4.8598  87  151\n",
       "1   48    1  21.6   87.0  183  103.2  70.0  3.0  3.8918  69   75\n",
       "2   72    2  30.5   93.0  156   93.6  41.0  4.0  4.6728  85  141\n",
       "3   24    1  25.3   84.0  198  131.4  40.0  5.0  4.8903  89  206\n",
       "4   50    1  23.0  101.0  192  125.4  52.0  4.0  4.2905  80  135"
      ]
     },
     "execution_count": 3,
     "metadata": {},
     "output_type": "execute_result"
    }
   ],
   "source": [
    "df = pd.read_csv('diabetes.tab', sep='\\t')\n",
    "df[:5]"
   ]
  },
  {
   "cell_type": "code",
   "execution_count": 4,
   "metadata": {},
   "outputs": [],
   "source": [
    "# Extract data from dataframe and convert it to a numpy array of features and targets\n",
    "data = df.values\n",
    "\n",
    "X = data[:,0:10]\n",
    "X[:,1]-=1\n",
    "\n",
    "y = data[:,10]\n",
    "\n",
    "N=X.shape[0]\n",
    "NFeat = X.shape[1]"
   ]
  },
  {
   "cell_type": "markdown",
   "metadata": {},
   "source": [
    "### Next we split the data into a train set and test set\n",
    "We use an 80-20 split."
   ]
  },
  {
   "cell_type": "code",
   "execution_count": 5,
   "metadata": {},
   "outputs": [],
   "source": [
    "N = X.shape[0]\n",
    "\n",
    "N_Train = np.floor(0.8*N).astype(int)\n",
    "myperm = np.random.permutation(N)\n",
    "idx_train = myperm[0:N_Train]\n",
    "idx_test = myperm[N_Train:N]\n",
    "\n",
    "X_train = X[idx_train,:]\n",
    "y_train = y[idx_train]\n",
    "\n",
    "X_test = X[idx_test,:]\n",
    "y_test = y[idx_test]"
   ]
  },
  {
   "cell_type": "markdown",
   "metadata": {},
   "source": [
    "### Linear Regression"
   ]
  },
  {
   "cell_type": "code",
   "execution_count": 8,
   "metadata": {},
   "outputs": [
    {
     "name": "stdout",
     "output_type": "stream",
     "text": [
      "Linear Regression\n",
      " R2 = 0.40 \n",
      " MSE = 3.37e+03\n"
     ]
    },
    {
     "data": {
      "image/png": "[encoded data removed]",
      "text/plain": [
       "<Figure size 360x360 with 1 Axes>"
      ]
     },
     "metadata": {},
     "output_type": "display_data"
    }
   ],
   "source": [
    "X_train_l = np.hstack((X_train,np.ones((X_train.shape[0],1))))\n",
    "X_test_l = np.hstack((X_test,np.ones((X_test.shape[0],1))))\n",
    "\n",
    "w = least_squares_train(X_train_l,y_train)\n",
    "y_pred = X_test_l.dot(w)\n",
    "\n",
    "print(\"Linear Regression\\n R2 = {0:.2f} \\n MSE = {1:.2e}\".format(\n",
    "                           r_squared(y_test,y_pred),\n",
    "                           mse(y_test,y_pred)))\n",
    "\n",
    "scatter_preds(y_test,y_pred)"
   ]
  },
  {
   "cell_type": "markdown",
   "metadata": {},
   "source": [
    "### Gaussian Kernel Ridge Regression"
   ]
  },
  {
   "cell_type": "markdown",
   "metadata": {},
   "source": [
    "Compute parameters using cross validation:"
   ]
  },
  {
   "cell_type": "code",
   "execution_count": 9,
   "metadata": {},
   "outputs": [
    {
     "name": "stdout",
     "output_type": "stream",
     "text": [
      "fold 1\n",
      "fold 2\n",
      "fold 3\n",
      "fold 4\n",
      "fold 5\n",
      "fold 6\n",
      "fold 7\n",
      "fold 8\n",
      "fold 9\n",
      "fold 10\n",
      "reg_param : 1.00e-02, scale : 2.80e-05\n",
      "\n"
     ]
    }
   ],
   "source": [
    "# heuristic for computing the bandwidth of the Gaussian kernel\n",
    "# this is an incredibly useful heuristic!!!\n",
    "R = sq_dist(X_train,X_train)\n",
    "scale_mid = 1/np.median(R)\n",
    "\n",
    "# make a grid of parameters to try for cross validation\n",
    "nscales = 10\n",
    "nregs = 10\n",
    "minreg = -8\n",
    "maxreg = 1\n",
    "minscale = np.log10(scale_mid)-1\n",
    "maxscale = np.log10(scale_mid)+1\n",
    "\n",
    "regs, scales = np.meshgrid(np.logspace(minreg,maxreg,nregs), np.logspace(minscale,maxscale,nscales),\n",
    "                           sparse=False, indexing='ij')\n",
    "params = np.hstack((regs.reshape(nregs*nscales,1),scales.reshape(nregs*nscales,1)))\n",
    "\n",
    "### cross validation\n",
    "mse_vals = crossval(X_train,y_train,gauss_krr_eval_train_test,10,params)\n",
    "minimizer = np.argmin(mse_vals)\n",
    "print(\"reg_param : {0:.2e}, scale : {1:.2e}\\n\".format(params[minimizer,0],params[minimizer,1]))"
   ]
  },
  {
   "cell_type": "code",
   "execution_count": 10,
   "metadata": {},
   "outputs": [
    {
     "name": "stdout",
     "output_type": "stream",
     "text": [
      "Gaussian Kernel\n",
      " R2 = 0.44 \n",
      " MSE = 3.12e+03\n"
     ]
    },
    {
     "data": {
      "image/png": "[encoded data removed]",
      "text/plain": [
       "<Figure size 360x360 with 1 Axes>"
      ]
     },
     "metadata": {},
     "output_type": "display_data"
    }
   ],
   "source": [
    "scale = params[minimizer,1]\n",
    "reg_param = params[minimizer,0]\n",
    "\n",
    "K = gaussian_kernel(X_train,X_train,scale) \n",
    "c = kernel_ridge_train(K,y_train,reg_param)\n",
    "K_test = gaussian_kernel(X_test,X_train,scale)\n",
    "y_pred = K_test.dot(c)\n",
    "\n",
    "print(\"Gaussian Kernel\\n R2 = {0:.2f} \\n MSE = {1:.2e}\".format(\n",
    "                           r_squared(y_test,y_pred),\n",
    "                           mse(y_test,y_pred)))\n",
    "\n",
    "scatter_preds(y_test,y_pred)"
   ]
  },
  {
   "cell_type": "markdown",
   "metadata": {},
   "source": [
    "### Gaussian Kernel Ridge Regression with preprocessing"
   ]
  },
  {
   "cell_type": "markdown",
   "metadata": {},
   "source": [
    "Preprocess the data so that the features each have mean zero and unit variance"
   ]
  },
  {
   "cell_type": "code",
   "execution_count": null,
   "metadata": {},
   "outputs": [],
   "source": [
    "mu_train = np.mean(X_train,axis=0)\n",
    "var_train = np.mean((X_train-mu_train[None,:])**2,axis = 0)\n",
    "\n",
    "X_train_scale = (X_train-mu_train[None,:])/np.sqrt(var_train[None,:])\n",
    "X_test_scale = (X_test-mu_train[None,:])/np.sqrt(var_train[None,:])"
   ]
  },
  {
   "cell_type": "markdown",
   "metadata": {},
   "source": [
    "Compute parameters using cross validation:"
   ]
  },
  {
   "cell_type": "code",
   "execution_count": null,
   "metadata": {},
   "outputs": [],
   "source": [
    "R = sq_dist(X_train_scale,X_train_scale)\n",
    "scale_mid = 1/np.median(R)\n",
    "\n",
    "# make a grid of parameters to try for cross validation\n",
    "nscales = 10\n",
    "nregs = 10\n",
    "maxreg = 1\n",
    "minreg = -8\n",
    "maxscale = np.log10(scale_mid)+1\n",
    "minscale = np.log10(scale_mid)-1\n",
    "\n",
    "regs, scales = np.meshgrid(np.logspace(minreg,maxreg,nregs), np.logspace(minscale,maxscale,nscales),\n",
    "                           sparse=False, indexing='ij')\n",
    "params = np.hstack((regs.reshape(nregs*nscales,1),scales.reshape(nregs*nscales,1)))\n",
    "\n",
    "### cross validation\n",
    "mse_vals = crossval(X_train_scale,y_train,gauss_krr_eval_train_test,10,params)\n",
    "minimizer = np.argmin(mse_vals)\n",
    "print(\"reg_param : {0:.2e}, scale : {1:.2e}\\n\".format(params[minimizer,0],params[minimizer,1]))"
   ]
  },
  {
   "cell_type": "code",
   "execution_count": null,
   "metadata": {},
   "outputs": [],
   "source": [
    "scale = params[minimizer,1]\n",
    "reg_param = params[minimizer,0]\n",
    "\n",
    "K = gaussian_kernel(X_train_scale,X_train_scale,scale) \n",
    "c = kernel_ridge_train(K,y_train,reg_param)\n",
    "K_test = gaussian_kernel(X_test_scale,X_train_scale,scale)\n",
    "y_pred = K_test.dot(c)\n",
    "\n",
    "print(\"Gaussian Kernel, normalized data\\n R2 = {0:.2f} \\n MSE = {1:.2e}\".format(\n",
    "                           r_squared(y_test,y_pred),\n",
    "                           mse(y_test,y_pred)))\n",
    "\n",
    "scatter_preds(y_test,y_pred)"
   ]
  },
  {
   "cell_type": "markdown",
   "metadata": {},
   "source": [
    "### Quadratic Polynomial Kernel Ridge Regression"
   ]
  },
  {
   "cell_type": "code",
   "execution_count": null,
   "metadata": {},
   "outputs": [],
   "source": [
    "# heuristic to set scale of polynomial kernel\n",
    "pscale_base = 1/np.max(np.sum(X_train**2,axis=1))\n",
    "print(\"heuristic scale : {0:.2e}\".format(scale_mid))\n",
    "\n",
    "# make a grid of parameters to try for cross validation\n",
    "nscales = 10\n",
    "nregs = 10\n",
    "maxreg = 1\n",
    "minreg = -8\n",
    "maxscale = np.log10(pscale_base)+1\n",
    "minscale = np.log10(scale_mid)-1\n",
    "\n",
    "regs, scales = np.meshgrid(np.logspace(minreg,maxreg,nregs), np.logspace(minscale,maxscale,nscales),\n",
    "                           sparse=False, indexing='ij')\n",
    "params = np.hstack((regs.reshape(nregs*nscales,1),scales.reshape(nregs*nscales,1)))\n",
    "\n",
    "### cross validation\n",
    "mse_vals = crossval(X_train_scale,y_train,qpoly_krr_eval_train_test,10,params)\n",
    "minimizer = np.argmin(mse_vals)\n",
    "print(\"reg_param : {0:.2e}, scale : {1:.2e}\\n\".format(params[minimizer,0],params[minimizer,1]))"
   ]
  },
  {
   "cell_type": "code",
   "execution_count": null,
   "metadata": {},
   "outputs": [],
   "source": [
    "pscale = params[minimizer,1]\n",
    "reg_param = params[minimizer,0]\n",
    "\n",
    "K = (1+pscale*X_train.dot(X_train.T))**2\n",
    "c = kernel_ridge_train(K,y_train,reg_param)\n",
    "\n",
    "K_test=(1+pscale*X_test.dot(X_train.T))**2\n",
    "y_pred = K_test.dot(c)\n",
    "\n",
    "print(\"Polynomial Kernel\\n R2 = {0:.2f} \\n MSE = {1:.2e}\".format(\n",
    "                           r_squared(y_test,y_pred),\n",
    "                           mse(y_test,y_pred)))\n",
    "\n",
    "scatter_preds(y_test,y_pred)"
   ]
  }
 ],
 "metadata": {
  "kernelspec": {
   "display_name": "Python 3",
   "language": "python",
   "name": "python3"
  },
  "language_info": {
   "codemirror_mode": {
    "name": "ipython",
    "version": 3
   },
   "file_extension": ".py",
   "mimetype": "text/x-python",
   "name": "python",
   "nbconvert_exporter": "python",
   "pygments_lexer": "ipython3",
   "version": "3.6.5"
  }
 },
 "nbformat": 4,
 "nbformat_minor": 2
}
