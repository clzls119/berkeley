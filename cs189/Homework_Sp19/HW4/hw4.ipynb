{
 "cells": [
  {
   "cell_type": "code",
   "execution_count": 1,
   "metadata": {
    "ExecuteTime": {
     "end_time": "2019-03-12T06:44:48.243720Z",
     "start_time": "2019-03-12T06:44:47.353602Z"
    }
   },
   "outputs": [],
   "source": [
    "import numpy as np\n",
    "import matplotlib.pyplot as plt\n",
    "import scipy\n",
    "import scipy.io as sio\n",
    "import pandas as pd"
   ]
  },
  {
   "cell_type": "markdown",
   "metadata": {},
   "source": [
    "## 1"
   ]
  },
  {
   "cell_type": "code",
   "execution_count": 2,
   "metadata": {
    "ExecuteTime": {
     "end_time": "2019-03-12T06:44:48.254604Z",
     "start_time": "2019-03-12T06:44:48.248607Z"
    }
   },
   "outputs": [],
   "source": [
    "X = np.array([[0,1,0,1], [3,3,1,1], [1,1,1,1]]).T\n",
    "y = np.array([1,1,0,0])\n",
    "w = np.array([-2,1,0])\n",
    "lambd = .07"
   ]
  },
  {
   "cell_type": "code",
   "execution_count": 3,
   "metadata": {
    "ExecuteTime": {
     "end_time": "2019-03-12T06:44:48.282633Z",
     "start_time": "2019-03-12T06:44:48.258609Z"
    }
   },
   "outputs": [],
   "source": [
    "def s(X, w):\n",
    "    \n",
    "    return sigmoid(X,w) * (1 - sigmoid(X,w)) * np.eye(X.shape[0])\n",
    "\n",
    "def sigmoid(X, w):\n",
    "    \n",
    "    return 1 / (1 + np.exp(- X @ w))\n",
    "    \n",
    "    \n",
    "def e(X, w, lambd):\n",
    "    \n",
    "    return np.linalg.inv(2 * lambd + X.T @ s(X, w) @ X) @ (X.T @ (sigmoid(X,w) - y) - 2 * lambd * w)\n",
    "\n",
    "def update(X, w, lambd):\n",
    "    \n",
    "    w = e(X,w,lambd) + w\n",
    "    return w"
   ]
  },
  {
   "cell_type": "markdown",
   "metadata": {},
   "source": [
    "### 1.4"
   ]
  },
  {
   "cell_type": "markdown",
   "metadata": {},
   "source": [
    "#### (a)"
   ]
  },
  {
   "cell_type": "code",
   "execution_count": 4,
   "metadata": {
    "ExecuteTime": {
     "end_time": "2019-03-12T06:44:48.321610Z",
     "start_time": "2019-03-12T06:44:48.294616Z"
    }
   },
   "outputs": [
    {
     "data": {
      "text/plain": [
       "array([0.95257413, 0.73105858, 0.73105858, 0.26894142])"
      ]
     },
     "execution_count": 4,
     "metadata": {},
     "output_type": "execute_result"
    }
   ],
   "source": [
    "sigmoid(X, w)"
   ]
  },
  {
   "cell_type": "markdown",
   "metadata": {},
   "source": [
    "#### (b)"
   ]
  },
  {
   "cell_type": "code",
   "execution_count": 5,
   "metadata": {
    "ExecuteTime": {
     "end_time": "2019-03-12T06:44:48.354604Z",
     "start_time": "2019-03-12T06:44:48.331627Z"
    },
    "scrolled": true
   },
   "outputs": [
    {
     "data": {
      "text/plain": [
       "array([-2.50536624, -0.75635058,  4.08203851])"
      ]
     },
     "execution_count": 5,
     "metadata": {},
     "output_type": "execute_result"
    }
   ],
   "source": [
    "w = update(X, w, lambd)\n",
    "w"
   ]
  },
  {
   "cell_type": "markdown",
   "metadata": {},
   "source": [
    "#### (c)"
   ]
  },
  {
   "cell_type": "code",
   "execution_count": 6,
   "metadata": {
    "ExecuteTime": {
     "end_time": "2019-03-12T06:44:48.373606Z",
     "start_time": "2019-03-12T06:44:48.357607Z"
    }
   },
   "outputs": [
    {
     "data": {
      "text/plain": [
       "array([0.85972246, 0.33350396, 0.96529962, 0.69430462])"
      ]
     },
     "execution_count": 6,
     "metadata": {},
     "output_type": "execute_result"
    }
   ],
   "source": [
    "sigmoid(X, w)"
   ]
  },
  {
   "cell_type": "markdown",
   "metadata": {},
   "source": [
    "#### (d)"
   ]
  },
  {
   "cell_type": "code",
   "execution_count": 7,
   "metadata": {
    "ExecuteTime": {
     "end_time": "2019-03-12T06:44:48.402609Z",
     "start_time": "2019-03-12T06:44:48.375606Z"
    }
   },
   "outputs": [
    {
     "data": {
      "text/plain": [
       "array([-2.52693901, -2.41320625,  7.70142503])"
      ]
     },
     "execution_count": 7,
     "metadata": {},
     "output_type": "execute_result"
    }
   ],
   "source": [
    "w = update(X, w, lambd)\n",
    "w"
   ]
  },
  {
   "cell_type": "markdown",
   "metadata": {},
   "source": [
    "## 4"
   ]
  },
  {
   "cell_type": "code",
   "execution_count": 8,
   "metadata": {
    "ExecuteTime": {
     "end_time": "2019-03-12T06:44:48.449607Z",
     "start_time": "2019-03-12T06:44:48.407611Z"
    }
   },
   "outputs": [],
   "source": [
    "def split(data, size):\n",
    "    from math import floor\n",
    "    \n",
    "    dat = data.copy()\n",
    "    \n",
    "    # for reproducibility\n",
    "    np.random.seed(24)\n",
    "    \n",
    "    # shuffle copied data\n",
    "    np.random.shuffle(dat)\n",
    "    \n",
    "    if type(size) == float:\n",
    "        size = floor(len(dat) * size)\n",
    "\n",
    "    # training_data, validation_data, training_label, validation_label\n",
    "    return dat[size:, :-1], dat[:size, :-1], dat[size:, -1], dat[:size, -1]\n",
    "\n",
    "def sigmoid(r):\n",
    "\n",
    "    return scipy.special.expit(r)\n",
    "    \n",
    "    \n",
    "def loss(X, w, y, lambd):\n",
    "    \n",
    "    r = X @ w\n",
    "    \n",
    "    t = 10\n",
    "    \n",
    "    u1 = -scipy.log(1 + scipy.exp(-r))\n",
    "    u2 = scipy.log(1 - sigmoid(r))\n",
    "    \n",
    "    u1[r > t] = 0\n",
    "    u2[r < -t] = 0\n",
    "    \n",
    "    ret = (np.dot(y, u1) + np.dot((1 - y), u2)) / X.shape[0]\n",
    "\n",
    "    return lambd * np.dot(w,w) - ret\n",
    "    \n",
    "\n",
    "\n",
    "def deriv(X, w, y, lambd):\n",
    "    \n",
    "    reg = 0\n",
    "    \n",
    "    if lambd is not None and lambd != 0:\n",
    "        reg = 1/(2*lambd)\n",
    "        \n",
    "    return reg + (X.T @ (sigmoid(X @ w) - y)) / X.shape[0]\n",
    "\n",
    "\n",
    "def check_accuracy(pred, y):\n",
    "    \n",
    "    return np.round(sum(pred == y) / len(y), 5)\n",
    "\n",
    "\n",
    "def predict(X, w):\n",
    "    \n",
    "    return sigmoid(X@w) >= .5\n",
    "\n",
    "\n",
    "def batch_train(X, y, epochs, learning_rate, lambd, ver_iter=50):\n",
    "    \n",
    "    w = np.zeros(X.shape[1])\n",
    "\n",
    "    loss_history = []\n",
    "    acc_history = []\n",
    "    \n",
    "    for i in range(epochs):\n",
    "        \n",
    "        l = loss(X, w, y, lambd)\n",
    "\n",
    "        pred = predict(X, w)\n",
    "\n",
    "        w  = w - learning_rate * deriv(X, w, y, lambd)\n",
    "\n",
    "        if ver_iter is not None and i % ver_iter == 0:\n",
    "        \n",
    "            print(f'Epoch : {i}, Loss : {l}')\n",
    "            \n",
    "        loss_history.append(l)\n",
    "        \n",
    "    \n",
    "    return loss_history, w\n",
    "\n",
    "\n",
    "\n",
    "def sgd_train(X, y, epochs, learning_rate, lambd, ver_iter=50):\n",
    "    \n",
    "    w = np.zeros(X.shape[1])\n",
    "\n",
    "    loss_history = []\n",
    "    acc_history = []\n",
    "    \n",
    "    n = X.shape[0]\n",
    "    \n",
    "    for i in range(epochs):\n",
    "        cost = 0\n",
    "        \n",
    "        for j in range(n):\n",
    "\n",
    "            p = np.random.randint(0, n)\n",
    "\n",
    "            dat = X[[p]]\n",
    "            lab = y[[p]]\n",
    "\n",
    "            d = deriv(dat, w, lab, lambd) / n\n",
    "            w  = w - learning_rate * d\n",
    "\n",
    "            cost += loss(dat, w, lab, lambd)\n",
    "            \n",
    "        cost = cost / n\n",
    "        \n",
    "        loss_history.append(cost)\n",
    "\n",
    "            \n",
    "        if ver_iter is not None and i % ver_iter == 0:\n",
    "        \n",
    "            print(f'Epoch : {i}, Loss : {cost}')\n",
    "            \n",
    "        \n",
    "    pred = predict(X_val, w)\n",
    "    \n",
    "    return loss_history, w"
   ]
  },
  {
   "cell_type": "code",
   "execution_count": 9,
   "metadata": {
    "ExecuteTime": {
     "end_time": "2019-03-12T06:44:48.522632Z",
     "start_time": "2019-03-12T06:44:48.451606Z"
    }
   },
   "outputs": [],
   "source": [
    "dat = sio.loadmat('./data.mat')\n",
    "\n",
    "train_data = dat['X']\n",
    "labels = dat['y']\n",
    "\n",
    "data = np.hstack((train_data, labels))\n",
    "\n",
    "X_train, X_test, y_train, y_test = split(data, 600)\n",
    "\n",
    "X_train, X_val, y_train, y_val = split(np.hstack((X_train, y_train.reshape(-1, 1))), 500)"
   ]
  },
  {
   "cell_type": "code",
   "execution_count": 10,
   "metadata": {
    "ExecuteTime": {
     "end_time": "2019-03-12T06:44:48.537608Z",
     "start_time": "2019-03-12T06:44:48.526606Z"
    }
   },
   "outputs": [
    {
     "data": {
      "text/plain": [
       "((4900, 12), (4900,), (500, 12), (500,))"
      ]
     },
     "execution_count": 10,
     "metadata": {},
     "output_type": "execute_result"
    }
   ],
   "source": [
    "X_train.shape, y_train.shape, X_val.shape, y_val.shape"
   ]
  },
  {
   "cell_type": "markdown",
   "metadata": {},
   "source": [
    "#### 1"
   ]
  },
  {
   "cell_type": "code",
   "execution_count": 11,
   "metadata": {
    "ExecuteTime": {
     "end_time": "2019-03-12T06:44:50.716606Z",
     "start_time": "2019-03-12T06:44:48.545628Z"
    },
    "scrolled": true
   },
   "outputs": [
    {
     "name": "stdout",
     "output_type": "stream",
     "text": [
      "Epoch : 0, Loss : 0.6931471805599455\n",
      "Epoch : 200, Loss : 0.38281393539500397\n",
      "Epoch : 400, Loss : 0.3793214970683838\n",
      "Epoch : 600, Loss : 0.376178131865595\n",
      "Epoch : 800, Loss : 0.37342619338110966\n",
      "Epoch : 1000, Loss : 0.37107523099677003\n",
      "Epoch : 1200, Loss : 0.36910844304631124\n",
      "Epoch : 1400, Loss : 0.36750722429254806\n",
      "Epoch : 1600, Loss : 0.36625356736299514\n",
      "Epoch : 1800, Loss : 0.36533026099788857\n",
      "Epoch : 2000, Loss : 0.3647208817613751\n",
      "Epoch : 2200, Loss : 0.3644097662854901\n",
      "Epoch : 2400, Loss : 0.36438198185167975\n",
      "Epoch : 2600, Loss : 0.36462329713196395\n",
      "Epoch : 2800, Loss : 0.3651201533652086\n"
     ]
    }
   ],
   "source": [
    "lambd = 20\n",
    "learning_rate = 1e-5\n",
    "epochs = 3000\n",
    "ver_iter = 200\n",
    "\n",
    "\n",
    "loss_history, w = batch_train(X_train, y_train, epochs, learning_rate, lambd, ver_iter)"
   ]
  },
  {
   "cell_type": "code",
   "execution_count": 12,
   "metadata": {
    "ExecuteTime": {
     "end_time": "2019-03-12T06:44:50.940605Z",
     "start_time": "2019-03-12T06:44:50.718607Z"
    }
   },
   "outputs": [
    {
     "data": {
      "image/png": "[encoded data removed]",
      "text/plain": [
       "<Figure size 576x432 with 1 Axes>"
      ]
     },
     "metadata": {
      "needs_background": "light"
     },
     "output_type": "display_data"
    }
   ],
   "source": [
    "plt.figure(figsize=(8,6))\n",
    "plt.plot(np.arange(epochs), loss_history)\n",
    "plt.xlabel('Epochs')\n",
    "plt.ylabel('Total Loss')\n",
    "plt.title('Loss over Iter');"
   ]
  },
  {
   "cell_type": "markdown",
   "metadata": {},
   "source": [
    "#### 2"
   ]
  },
  {
   "cell_type": "code",
   "execution_count": 13,
   "metadata": {
    "ExecuteTime": {
     "end_time": "2019-03-12T06:47:37.602341Z",
     "start_time": "2019-03-12T06:44:50.944680Z"
    }
   },
   "outputs": [
    {
     "name": "stdout",
     "output_type": "stream",
     "text": [
      "Epoch : 0, Loss : 0.6813933474907118\n",
      "Epoch : 50, Loss : 0.4084307225655839\n",
      "Epoch : 100, Loss : 0.39008552937103014\n",
      "Epoch : 150, Loss : 0.3918159506942555\n",
      "Epoch : 200, Loss : 0.3772655784774235\n",
      "Epoch : 250, Loss : 0.3870060373205824\n",
      "Epoch : 300, Loss : 0.3751382282882078\n",
      "Epoch : 350, Loss : 0.373942089291655\n",
      "Epoch : 400, Loss : 0.37353488257664397\n",
      "Epoch : 450, Loss : 0.36978896813407186\n"
     ]
    }
   ],
   "source": [
    "lambd = 20\n",
    "learning_rate = 1e-5\n",
    "epochs = 500\n",
    "ver_iter = 50\n",
    "\n",
    "loss_history, w = sgd_train(X_train, y_train, epochs, learning_rate, lambd, ver_iter)"
   ]
  },
  {
   "cell_type": "code",
   "execution_count": 14,
   "metadata": {
    "ExecuteTime": {
     "end_time": "2019-03-12T06:47:37.933328Z",
     "start_time": "2019-03-12T06:47:37.604326Z"
    }
   },
   "outputs": [
    {
     "data": {
      "image/png": "[encoded data removed]",
      "text/plain": [
       "<Figure size 576x432 with 1 Axes>"
      ]
     },
     "metadata": {
      "needs_background": "light"
     },
     "output_type": "display_data"
    }
   ],
   "source": [
    "plt.figure(figsize=(8,6))\n",
    "plt.plot(np.arange(epochs), loss_history)\n",
    "plt.xlabel('Epochs')\n",
    "plt.ylabel('Total Loss')\n",
    "plt.title('Loss over Iter');"
   ]
  },
  {
   "cell_type": "markdown",
   "metadata": {},
   "source": [
    "#### 4.3"
   ]
  },
  {
   "cell_type": "code",
   "execution_count": 15,
   "metadata": {
    "ExecuteTime": {
     "end_time": "2019-03-12T06:48:44.477636Z",
     "start_time": "2019-03-12T06:47:37.936332Z"
    },
    "scrolled": true
   },
   "outputs": [
    {
     "name": "stdout",
     "output_type": "stream",
     "text": [
      "Epoch : 50, Loss : 0.6558567391528436\n",
      "Epoch : 100, Loss : 0.6558910060202587\n",
      "Epoch : 150, Loss : 0.656094780218752\n",
      "Epoch : 200, Loss : 0.6556038520655024\n",
      "0.764\n"
     ]
    },
    {
     "data": {
      "image/png": "[encoded data removed]",
      "text/plain": [
       "<Figure size 576x432 with 1 Axes>"
      ]
     },
     "metadata": {
      "needs_background": "light"
     },
     "output_type": "display_data"
    }
   ],
   "source": [
    "def sgd_train(X, y, epochs, learning_rate, lambd, ver_iter=50):\n",
    "    \n",
    "    w = np.zeros(X.shape[1])\n",
    "\n",
    "    loss_history = []\n",
    "    \n",
    "    n = X.shape[0]\n",
    "    \n",
    "    for i in range(1, epochs+1):\n",
    "        cost = 0\n",
    "        \n",
    "        learning_rate = learning_rate * (1 / i)\n",
    "        \n",
    "        for j in range(n):\n",
    "\n",
    "            p = np.random.randint(0, n)\n",
    "\n",
    "            dat = X[[p]]\n",
    "            lab = y[[p]]\n",
    "\n",
    "            d = deriv(dat, w, lab, lambd) / n\n",
    "            w  = w - learning_rate * d\n",
    "\n",
    "            cost += loss(dat, w, lab, lambd)\n",
    "            \n",
    "        cost = cost / n\n",
    "        \n",
    "        loss_history.append(cost)\n",
    "        \n",
    "        if ver_iter is not None and i % ver_iter == 0:\n",
    "        \n",
    "            print(f'Epoch : {i}, Loss : {cost}')\n",
    "            \n",
    "        \n",
    "    pred = predict(X_val, w)\n",
    "    \n",
    "    print(check_accuracy(pred, y_val))\n",
    "    \n",
    "    return loss_history, w\n",
    "\n",
    "\n",
    "lambd = 20\n",
    "epochs = 200\n",
    "ver_iter = 50\n",
    "learning_rate = 1e-5\n",
    "\n",
    "loss_history, w = sgd_train(X_train, y_train, epochs, learning_rate, lambd, ver_iter)\n",
    "\n",
    "\n",
    "plt.figure(figsize=(8,6))\n",
    "plt.plot(np.arange(epochs), loss_history)\n",
    "plt.xlabel('Epochs')\n",
    "plt.ylabel('Total Loss')\n",
    "plt.title('Loss over Iter');"
   ]
  },
  {
   "cell_type": "markdown",
   "metadata": {},
   "source": [
    "### Submission"
   ]
  },
  {
   "cell_type": "code",
   "execution_count": 16,
   "metadata": {
    "ExecuteTime": {
     "end_time": "2019-03-12T06:48:49.446578Z",
     "start_time": "2019-03-12T06:48:44.481587Z"
    }
   },
   "outputs": [
    {
     "name": "stdout",
     "output_type": "stream",
     "text": [
      "Train : 0.99306, Validation : 1.0\n"
     ]
    }
   ],
   "source": [
    "dat = sio.loadmat('./data.mat')\n",
    "\n",
    "X = pd.DataFrame(dat['X'])\n",
    "y = dat['y'].reshape(-1)\n",
    "\n",
    "X = X[(X < X.quantile(.975)) & (X > X.quantile(.05))].dropna()\n",
    "X = (X - X.min()) / (X.max() - X.min())\n",
    "y = y[X.index.values]\n",
    "X['y'] = y\n",
    "\n",
    "X, X_test, y, y_test = split(np.array(X), .1)\n",
    "\n",
    "\n",
    "X_train, X_val, y_train, y_val = split(np.hstack((X, y.reshape(-1, 1))), .1)\n",
    "\n",
    "lambd = 300\n",
    "learning_rate = 1e-1\n",
    "epochs = 20000\n",
    "ver_iter = None\n",
    "\n",
    "loss_history, w = batch_train(X_train, y_train, epochs, learning_rate, lambd, ver_iter)\n",
    "\n",
    "print(f'Train : {check_accuracy(predict(X_train, w), y_train)}, Validation : {check_accuracy(predict(X_val, w), y_val)}')"
   ]
  },
  {
   "cell_type": "code",
   "execution_count": 17,
   "metadata": {
    "ExecuteTime": {
     "end_time": "2019-03-12T06:48:49.459586Z",
     "start_time": "2019-03-12T06:48:49.448582Z"
    }
   },
   "outputs": [
    {
     "data": {
      "text/plain": [
       "1.0"
      ]
     },
     "execution_count": 17,
     "metadata": {},
     "output_type": "execute_result"
    }
   ],
   "source": [
    "pred = predict(X_test, w)\n",
    "check_accuracy(pred, y_test)"
   ]
  },
  {
   "cell_type": "markdown",
   "metadata": {},
   "source": [
    "#### Submit"
   ]
  },
  {
   "cell_type": "code",
   "execution_count": null,
   "metadata": {
    "ExecuteTime": {
     "end_time": "2019-03-12T06:48:49.823669Z",
     "start_time": "2019-03-12T06:44:47.454Z"
    }
   },
   "outputs": [],
   "source": [
    "test = dat['X_test']\n",
    "\n",
    "pred = predict(test, w)\n",
    "pred = pred.astype(int)\n",
    "\n",
    "sub = pd.DataFrame(pred, columns=['Category'], index=np.arange(1, len(pred)+1, 1), dtype=int)\n",
    "sub.index.name = 'Id'\n",
    "\n",
    "sub.to_csv('./submission.csv')"
   ]
  }
 ],
 "metadata": {
  "kernelspec": {
   "display_name": "Python 3",
   "language": "python",
   "name": "python3"
  },
  "language_info": {
   "codemirror_mode": {
    "name": "ipython",
    "version": 3
   },
   "file_extension": ".py",
   "mimetype": "text/x-python",
   "name": "python",
   "nbconvert_exporter": "python",
   "pygments_lexer": "ipython3",
   "version": "3.6.6"
  },
  "latex_envs": {
   "LaTeX_envs_menu_present": true,
   "autoclose": false,
   "autocomplete": true,
   "bibliofile": "biblio.bib",
   "cite_by": "apalike",
   "current_citInitial": 1,
   "eqLabelWithNumbers": true,
   "eqNumInitial": 1,
   "hotkeys": {
    "equation": "Ctrl-E",
    "itemize": "Ctrl-I"
   },
   "labels_anchors": false,
   "latex_user_defs": false,
   "report_style_numbering": false,
   "user_envs_cfg": false
  }
 },
 "nbformat": 4,
 "nbformat_minor": 2
}
