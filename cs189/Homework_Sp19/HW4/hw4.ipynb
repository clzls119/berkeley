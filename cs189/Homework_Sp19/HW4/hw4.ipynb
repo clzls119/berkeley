{
 "cells": [
  {
   "cell_type": "code",
   "execution_count": 143,
   "metadata": {
    "ExecuteTime": {
     "end_time": "2019-03-11T01:41:22.959909Z",
     "start_time": "2019-03-11T01:41:22.954183Z"
    }
   },
   "outputs": [],
   "source": [
    "import numpy as np\n",
    "import matplotlib.pyplot as plt\n",
    "import scipy\n",
    "import scipy.io as sio\n",
    "import pandas as pd"
   ]
  },
  {
   "cell_type": "markdown",
   "metadata": {},
   "source": [
    "## 1"
   ]
  },
  {
   "cell_type": "code",
   "execution_count": 2,
   "metadata": {
    "ExecuteTime": {
     "end_time": "2019-03-11T00:43:29.709461Z",
     "start_time": "2019-03-11T00:43:29.706992Z"
    }
   },
   "outputs": [],
   "source": [
    "X = np.array([[0,1,0,1], [3,3,1,1], [1,1,1,1]]).T\n",
    "y = np.array([1,1,0,0])\n",
    "w = np.array([-2,1,0])\n",
    "lambd = .07"
   ]
  },
  {
   "cell_type": "code",
   "execution_count": 144,
   "metadata": {
    "ExecuteTime": {
     "end_time": "2019-03-11T01:41:40.649332Z",
     "start_time": "2019-03-11T01:41:40.642001Z"
    }
   },
   "outputs": [],
   "source": [
    "def s(X, w):\n",
    "    \n",
    "    return sigmoid(X,w) * (1 - sigmoid(X,w)) * np.eye(X.shape[0])\n",
    "\n",
    "def sigmoid(X, w):\n",
    "    \n",
    "    return 1 / (1 + np.exp(- X @ w))\n",
    "    \n",
    "    \n",
    "def e(X, w, lambd):\n",
    "    \n",
    "    return np.linalg.inv(2 * lambd + X.T @ s(X, w) @ X) @ (X.T @ (sigmoid(X,w) - y) - 2 * lambd * w)\n",
    "\n",
    "def update(X, w, lambd):\n",
    "    \n",
    "    w = e(X,w,lambd) + w\n",
    "    return w"
   ]
  },
  {
   "cell_type": "markdown",
   "metadata": {},
   "source": [
    "### 1.4"
   ]
  },
  {
   "cell_type": "markdown",
   "metadata": {},
   "source": [
    "#### (a)"
   ]
  },
  {
   "cell_type": "code",
   "execution_count": 4,
   "metadata": {
    "ExecuteTime": {
     "end_time": "2019-03-11T00:43:29.844050Z",
     "start_time": "2019-03-11T00:43:29.778672Z"
    }
   },
   "outputs": [
    {
     "data": {
      "text/plain": [
       "array([0.95257413, 0.73105858, 0.73105858, 0.26894142])"
      ]
     },
     "execution_count": 4,
     "metadata": {},
     "output_type": "execute_result"
    }
   ],
   "source": [
    "sigmoid(X, w)"
   ]
  },
  {
   "cell_type": "markdown",
   "metadata": {},
   "source": [
    "#### (b)"
   ]
  },
  {
   "cell_type": "code",
   "execution_count": 5,
   "metadata": {
    "ExecuteTime": {
     "end_time": "2019-03-11T00:43:29.934331Z",
     "start_time": "2019-03-11T00:43:29.846577Z"
    },
    "scrolled": true
   },
   "outputs": [
    {
     "data": {
      "text/plain": [
       "array([-2.50536624, -0.75635058,  4.08203851])"
      ]
     },
     "execution_count": 5,
     "metadata": {},
     "output_type": "execute_result"
    }
   ],
   "source": [
    "w = update(X, w, lambd)\n",
    "w"
   ]
  },
  {
   "cell_type": "markdown",
   "metadata": {},
   "source": [
    "#### (c)"
   ]
  },
  {
   "cell_type": "code",
   "execution_count": 6,
   "metadata": {
    "ExecuteTime": {
     "end_time": "2019-03-11T00:43:30.012706Z",
     "start_time": "2019-03-11T00:43:29.935344Z"
    }
   },
   "outputs": [
    {
     "data": {
      "text/plain": [
       "array([0.85972246, 0.33350396, 0.96529962, 0.69430462])"
      ]
     },
     "execution_count": 6,
     "metadata": {},
     "output_type": "execute_result"
    }
   ],
   "source": [
    "sigmoid(X, w)"
   ]
  },
  {
   "cell_type": "markdown",
   "metadata": {},
   "source": [
    "#### (d)"
   ]
  },
  {
   "cell_type": "code",
   "execution_count": 7,
   "metadata": {
    "ExecuteTime": {
     "end_time": "2019-03-11T00:43:30.075458Z",
     "start_time": "2019-03-11T00:43:30.013709Z"
    }
   },
   "outputs": [
    {
     "data": {
      "text/plain": [
       "array([-2.52693901, -2.41320625,  7.70142503])"
      ]
     },
     "execution_count": 7,
     "metadata": {},
     "output_type": "execute_result"
    }
   ],
   "source": [
    "w = update(X, w, lambd)\n",
    "w"
   ]
  },
  {
   "cell_type": "markdown",
   "metadata": {},
   "source": [
    "## 4"
   ]
  },
  {
   "cell_type": "code",
   "execution_count": 513,
   "metadata": {
    "ExecuteTime": {
     "end_time": "2019-03-11T05:28:00.374748Z",
     "start_time": "2019-03-11T05:28:00.358062Z"
    }
   },
   "outputs": [],
   "source": [
    "def split(data, size):\n",
    "    from math import floor\n",
    "    \n",
    "    dat = data.copy()\n",
    "    \n",
    "    # for reproducibility\n",
    "    np.random.seed(24)\n",
    "    \n",
    "    # shuffle copied data\n",
    "    np.random.shuffle(dat)\n",
    "    \n",
    "    if type(size) == float:\n",
    "        size = floor(len(dat) * size)\n",
    "\n",
    "    # training_data, validation_data, training_label, validation_label\n",
    "    return dat[size:, :-1], dat[:size, :-1], dat[size:, -1], dat[:size, -1]\n",
    "\n",
    "def sigmoid(r):\n",
    "\n",
    "    return scipy.special.expit(r)\n",
    "    \n",
    "    \n",
    "def loss(X, w, y, lambd):\n",
    "    \n",
    "    r = X @ w\n",
    "    \n",
    "    u1 = -scipy.log(1 + scipy.exp(-r))\n",
    "    u2 = scipy.log(1 - sigmoid(r))\n",
    "    \n",
    "    u1[r <= -2.2] = r[r <= -2.2]\n",
    "    u1[r > 2.2] = 0\n",
    "\n",
    "    u2[r < -.25] = 0\n",
    "    u2[r >= -.25] = -1.5\n",
    "    \n",
    "    ret = (np.dot(y, u1) + np.dot((1 - y), u2)) / X.shape[0]\n",
    "\n",
    "    return lambd * np.dot(w,w) - ret\n",
    "    \n",
    "\n",
    "\n",
    "def deriv(X, w, y, lambd):\n",
    "    \n",
    "    reg = 0\n",
    "    \n",
    "    if lambd is not None and lambd != 0:\n",
    "        reg = 1/(2*lambd)\n",
    "        \n",
    "    return reg + (X.T @ (sigmoid(X @ w) - y)) / X.shape[0]\n",
    "\n",
    "\n",
    "def check_accuracy(pred, y):\n",
    "    \n",
    "    return sum(pred == y) / len(y)\n",
    "\n",
    "\n",
    "def predict(X, w):\n",
    "    \n",
    "    return sigmoid(X@w) >= .5\n",
    "\n",
    "\n",
    "def batch_train(X, y, epochs, learning_rate, lambd, ver_iter=50):\n",
    "    \n",
    "    w = np.zeros(X.shape[1])\n",
    "\n",
    "    loss_history = []\n",
    "    acc_history = []\n",
    "    \n",
    "    for i in range(epochs):\n",
    "        \n",
    "        l = loss(X, w, y, lambd)\n",
    "\n",
    "        pred = predict(X, w)\n",
    "\n",
    "        w  = w - learning_rate * deriv(X, w, y, lambd)\n",
    "\n",
    "        if ver_iter is not None and i % ver_iter == 0:\n",
    "        \n",
    "            print(f'Epoch : {i}, Loss : {l}')\n",
    "            \n",
    "        loss_history.append(l)\n",
    "        \n",
    "    \n",
    "    return loss_history, acc_history, w\n",
    "\n",
    "\n",
    "\n",
    "def sgd_train(X, y, epochs, learning_rate, lambd, ver_iter=50):\n",
    "    \n",
    "    w = np.zeros(X.shape[1])\n",
    "\n",
    "    loss_history = []\n",
    "    acc_history = []\n",
    "    \n",
    "    n = X.shape[0]\n",
    "    \n",
    "    for i in range(epochs):\n",
    "        cost = 0\n",
    "        \n",
    "        for j in range(n):\n",
    "\n",
    "            p = np.random.randint(0, n)\n",
    "\n",
    "            dat = X[[p]]\n",
    "            lab = y[[p]]\n",
    "\n",
    "            d = deriv(dat, w, lab, lambd) / n\n",
    "            w  = w - learning_rate * d\n",
    "\n",
    "            cost += loss(dat, w, lab, lambd)\n",
    "        loss_history.append(cost)\n",
    "\n",
    "            \n",
    "        if ver_iter is not None and i % ver_iter == 0:\n",
    "        \n",
    "            print(f'Epoch : {i}, Loss : {l}')\n",
    "            \n",
    "        \n",
    "    pred = predict(X_val, w)\n",
    "    check_accuracy(pred, y_val)\n",
    "    \n",
    "    return loss_history, acc_history, w"
   ]
  },
  {
   "cell_type": "code",
   "execution_count": 62,
   "metadata": {
    "ExecuteTime": {
     "end_time": "2019-03-11T01:00:44.124352Z",
     "start_time": "2019-03-11T01:00:44.110380Z"
    }
   },
   "outputs": [],
   "source": [
    "dat = sio.loadmat('./data.mat')\n",
    "\n",
    "train_data = dat['X']\n",
    "labels = dat['y']\n",
    "\n",
    "data = np.hstack((train_data, labels))\n",
    "\n",
    "X_train, X_test, y_train, y_test = split(data, 600)\n",
    "\n",
    "X_train, X_val, y_train, y_val = split(np.hstack((X_train, y_train.reshape(-1, 1))), 500)"
   ]
  },
  {
   "cell_type": "code",
   "execution_count": 63,
   "metadata": {
    "ExecuteTime": {
     "end_time": "2019-03-11T01:00:44.458382Z",
     "start_time": "2019-03-11T01:00:44.454488Z"
    }
   },
   "outputs": [
    {
     "data": {
      "text/plain": [
       "((4900, 12), (4900,), (500, 12), (500,))"
      ]
     },
     "execution_count": 63,
     "metadata": {},
     "output_type": "execute_result"
    }
   ],
   "source": [
    "X_train.shape, y_train.shape, X_val.shape, y_val.shape"
   ]
  },
  {
   "cell_type": "markdown",
   "metadata": {},
   "source": [
    "Testing loss before any update"
   ]
  },
  {
   "cell_type": "code",
   "execution_count": 69,
   "metadata": {
    "ExecuteTime": {
     "end_time": "2019-03-11T01:01:08.504445Z",
     "start_time": "2019-03-11T01:01:08.492805Z"
    }
   },
   "outputs": [
    {
     "name": "stderr",
     "output_type": "stream",
     "text": [
      "/home/hsong1101/miniconda3/envs/gluon/lib/python3.6/site-packages/ipykernel_launcher.py:29: RuntimeWarning: divide by zero encountered in log\n"
     ]
    },
    {
     "data": {
      "text/plain": [
       "212.93674601530617"
      ]
     },
     "execution_count": 69,
     "metadata": {},
     "output_type": "execute_result"
    }
   ],
   "source": [
    "w = np.ones(X_train.shape[1])\n",
    "loss(X_train, w, y_train, lambd, 2.5)"
   ]
  },
  {
   "cell_type": "markdown",
   "metadata": {},
   "source": [
    "Testing update"
   ]
  },
  {
   "cell_type": "code",
   "execution_count": 70,
   "metadata": {
    "ExecuteTime": {
     "end_time": "2019-03-11T01:01:09.450550Z",
     "start_time": "2019-03-11T01:01:09.441536Z"
    },
    "scrolled": true
   },
   "outputs": [
    {
     "data": {
      "text/plain": [
       "array([3.09876531e-01, 7.90622449e-03, 1.84585714e-02, 4.17127551e-01,\n",
       "       1.31646939e-03, 2.26215306e+00, 9.27859184e+00, 5.01617621e-02,\n",
       "       1.58144286e-01, 2.04516327e-02, 5.33341156e-01, 3.03163265e-02])"
      ]
     },
     "execution_count": 70,
     "metadata": {},
     "output_type": "execute_result"
    }
   ],
   "source": [
    "learning_rate = .2\n",
    "a = np.zeros(X_train.shape[1])\n",
    "a = update(X_train, a, y_train, lambd, learning_rate)\n",
    "a"
   ]
  },
  {
   "cell_type": "markdown",
   "metadata": {},
   "source": [
    "#### 1"
   ]
  },
  {
   "cell_type": "code",
   "execution_count": 521,
   "metadata": {
    "ExecuteTime": {
     "end_time": "2019-03-11T05:30:25.401110Z",
     "start_time": "2019-03-11T05:30:21.890490Z"
    },
    "scrolled": true
   },
   "outputs": [
    {
     "name": "stdout",
     "output_type": "stream",
     "text": [
      "Epoch : 0, Loss : 1.3004274250691132\n",
      "Epoch : 200, Loss : 1.3032990086507887\n",
      "Epoch : 400, Loss : 1.3039546699466749\n",
      "Epoch : 600, Loss : 1.1101487255721443\n",
      "Epoch : 800, Loss : 0.7757586182485534\n",
      "Epoch : 1000, Loss : 0.5058868369498833\n",
      "Epoch : 1200, Loss : 0.351962848771431\n",
      "Epoch : 1400, Loss : 0.28062055418020637\n",
      "Epoch : 1600, Loss : 0.24624922504209887\n",
      "Epoch : 1800, Loss : 0.22619751665485477\n",
      "Epoch : 2000, Loss : 0.2189366751518054\n",
      "Epoch : 2200, Loss : 0.2140604899862489\n",
      "Epoch : 2400, Loss : 0.21340770441303508\n",
      "Epoch : 2600, Loss : 0.21361300509260034\n",
      "Epoch : 2800, Loss : 0.21376005898529576\n"
     ]
    }
   ],
   "source": [
    "lambd = 20\n",
    "learning_rate = 5e-8\n",
    "epochs = 3000\n",
    "ver_iter = 200\n",
    "\n",
    "\n",
    "loss_history, acc_history, w = batch_train(X_train, y_train, epochs, learning_rate, lambd, ver_iter)"
   ]
  },
  {
   "cell_type": "code",
   "execution_count": 522,
   "metadata": {
    "ExecuteTime": {
     "end_time": "2019-03-11T05:30:25.882950Z",
     "start_time": "2019-03-11T05:30:25.805063Z"
    }
   },
   "outputs": [
    {
     "data": {
      "image/png": "[encoded data removed]",
      "text/plain": [
       "<Figure size 576x432 with 1 Axes>"
      ]
     },
     "metadata": {
      "needs_background": "light"
     },
     "output_type": "display_data"
    }
   ],
   "source": [
    "plt.figure(figsize=(8,6))\n",
    "plt.plot(np.arange(epochs), loss_history)\n",
    "plt.xlabel('Epochs')\n",
    "plt.ylabel('Total Loss')\n",
    "plt.title('Loss over Iter');"
   ]
  },
  {
   "cell_type": "markdown",
   "metadata": {},
   "source": [
    "#### 2"
   ]
  },
  {
   "cell_type": "code",
   "execution_count": 416,
   "metadata": {
    "ExecuteTime": {
     "end_time": "2019-03-11T04:00:33.693370Z",
     "start_time": "2019-03-11T04:00:30.818172Z"
    }
   },
   "outputs": [
    {
     "name": "stdout",
     "output_type": "stream",
     "text": [
      "Epoch : 0, Loss : 0.244\n"
     ]
    },
    {
     "data": {
      "text/plain": [
       "0.808"
      ]
     },
     "execution_count": 416,
     "metadata": {},
     "output_type": "execute_result"
    }
   ],
   "source": [
    "lambd = 0\n",
    "learning_rate = 5e-8\n",
    "epochs = 1500\n",
    "ver_iter = 5\n",
    "\n",
    "loss_history, acc_history, w = sgd_train(X_train, y_train, epochs, learning_rate, lambd, ver_iter)"
   ]
  },
  {
   "cell_type": "code",
   "execution_count": 514,
   "metadata": {
    "ExecuteTime": {
     "end_time": "2019-03-11T05:28:31.381089Z",
     "start_time": "2019-03-11T05:28:31.291297Z"
    }
   },
   "outputs": [
    {
     "data": {
      "image/png": "[encoded data removed]",
      "text/plain": [
       "<Figure size 576x432 with 1 Axes>"
      ]
     },
     "metadata": {
      "needs_background": "light"
     },
     "output_type": "display_data"
    }
   ],
   "source": [
    "plt.figure(figsize=(8,6))\n",
    "plt.plot(np.arange(epochs), loss_history)\n",
    "plt.xlabel('Epochs')\n",
    "plt.ylabel('Total Loss')\n",
    "plt.title('Loss over Iter');"
   ]
  },
  {
   "cell_type": "markdown",
   "metadata": {},
   "source": [
    "#### 4.3"
   ]
  },
  {
   "cell_type": "code",
   "execution_count": 532,
   "metadata": {
    "ExecuteTime": {
     "end_time": "2019-03-11T05:44:08.876451Z",
     "start_time": "2019-03-11T05:43:29.834382Z"
    },
    "scrolled": true
   },
   "outputs": [
    {
     "name": "stdout",
     "output_type": "stream",
     "text": [
      "Epoch : 0, Loss : 35\n",
      "Epoch : 5, Loss : 35\n",
      "Epoch : 10, Loss : 35\n",
      "Epoch : 15, Loss : 35\n",
      "Epoch : 20, Loss : 35\n",
      "Epoch : 25, Loss : 35\n",
      "Epoch : 30, Loss : 35\n",
      "Epoch : 35, Loss : 35\n",
      "Epoch : 40, Loss : 35\n",
      "Epoch : 45, Loss : 35\n",
      "Epoch : 50, Loss : 35\n",
      "Epoch : 55, Loss : 35\n",
      "Epoch : 60, Loss : 35\n",
      "Epoch : 65, Loss : 35\n",
      "Epoch : 70, Loss : 35\n",
      "Epoch : 75, Loss : 35\n",
      "Epoch : 80, Loss : 35\n",
      "Epoch : 85, Loss : 35\n",
      "Epoch : 90, Loss : 35\n",
      "Epoch : 95, Loss : 35\n",
      "Epoch : 100, Loss : 35\n",
      "Epoch : 105, Loss : 35\n",
      "Epoch : 110, Loss : 35\n",
      "Epoch : 115, Loss : 35\n",
      "Epoch : 120, Loss : 35\n",
      "Epoch : 125, Loss : 35\n",
      "Epoch : 130, Loss : 35\n",
      "Epoch : 135, Loss : 35\n",
      "Epoch : 140, Loss : 35\n",
      "Epoch : 145, Loss : 35\n",
      "Epoch : 150, Loss : 35\n",
      "Epoch : 155, Loss : 35\n",
      "Epoch : 160, Loss : 35\n",
      "Epoch : 165, Loss : 35\n",
      "Epoch : 170, Loss : 35\n",
      "Epoch : 175, Loss : 35\n",
      "Epoch : 180, Loss : 35\n",
      "Epoch : 185, Loss : 35\n",
      "Epoch : 190, Loss : 35\n",
      "Epoch : 195, Loss : 35\n"
     ]
    },
    {
     "data": {
      "image/png": "[encoded data removed]",
      "text/plain": [
       "<Figure size 576x432 with 1 Axes>"
      ]
     },
     "metadata": {
      "needs_background": "light"
     },
     "output_type": "display_data"
    }
   ],
   "source": [
    "def batch_train(X, y, epochs, learning_rate, lambd, ver_iter=50):\n",
    "    \n",
    "    w = np.zeros(X.shape[1])\n",
    "\n",
    "    loss_history = []\n",
    "    acc_history = []\n",
    "    \n",
    "    for i in range(1, epochs+1):\n",
    "        \n",
    "        l = loss(X, w, y, lambd)\n",
    "\n",
    "        pred = predict(X, w)\n",
    "\n",
    "        w  = w - learning_rate * deriv(X, w, y, lambd)\n",
    "\n",
    "        if ver_iter is not None and i % ver_iter == 0:\n",
    "        \n",
    "            print(f'Epoch : {i}, Loss : {l}')\n",
    "            \n",
    "        loss_history.append(l)\n",
    "        learning_rate = learning_rate / i\n",
    "    \n",
    "    return loss_history, acc_history, w\n",
    "\n",
    "\n",
    "lambd = 20\n",
    "learning_rate = 5e-3\n",
    "epochs = 200\n",
    "ver_iter = 5\n",
    "\n",
    "loss_history, acc_history, w = sgd_train(X_train, y_train, epochs, learning_rate, lambd, ver_iter)\n",
    "\n",
    "plt.figure(figsize=(8,6))\n",
    "plt.plot(np.arange(epochs), loss_history)\n",
    "plt.xlabel('Epochs')\n",
    "plt.ylabel('Total Loss')\n",
    "plt.title('Loss over Iter');"
   ]
  },
  {
   "cell_type": "markdown",
   "metadata": {},
   "source": [
    "### Submission"
   ]
  },
  {
   "cell_type": "code",
   "execution_count": null,
   "metadata": {},
   "outputs": [],
   "source": [
    "def sgd_train(X, y, epochs, learning_rate, lambd, ver_iter=50):\n",
    "    \n",
    "    w = np.zeros(X.shape[1])\n",
    "\n",
    "    loss_history = []\n",
    "    acc_history = []\n",
    "    \n",
    "    n = X.shape[0]\n",
    "    \n",
    "    for i in range(epochs):\n",
    "        cost = 0\n",
    "        \n",
    "        for j in range(n):\n",
    "\n",
    "            p = np.random.randint(0, n)\n",
    "\n",
    "            dat = X[[p]]\n",
    "            lab = y[[p]]\n",
    "\n",
    "            d = deriv(dat, w, lab, lambd) / n\n",
    "            w  = w - learning_rate * d\n",
    "\n",
    "            cost += loss(dat, w, lab, lambd)\n",
    "        loss_history.append(cost)\n",
    "\n",
    "        learning_rate = learning_rate / i\n",
    "        \n",
    "        if ver_iter is not None and i % ver_iter == 0:\n",
    "        \n",
    "            print(f'Epoch : {i}, Loss : {l}')\n",
    "            \n",
    "        \n",
    "    pred = predict(X_val, w)\n",
    "    check_accuracy(pred, y_val)\n",
    "    \n",
    "    return loss_history, acc_history, w\n",
    "\n",
    "\n",
    "\n",
    "\n",
    "lambd = 0\n",
    "learning_rate = 1e-8\n",
    "epochs = 10000\n",
    "ver_iter = 1000\n",
    "\n",
    "\n",
    "loss_history, acc_history, w = sgd_train(X_train, y_train, epochs, learning_rate, lambd, ver_iter)\n",
    "pred = predict(X_val, w)\n",
    "check_accuracy(pred, y_val)"
   ]
  },
  {
   "cell_type": "code",
   "execution_count": null,
   "metadata": {},
   "outputs": [],
   "source": [
    "pred = predict(X_test, w)\n",
    "check_accurayc(pred, y_test)"
   ]
  },
  {
   "cell_type": "markdown",
   "metadata": {},
   "source": [
    "#### Submit"
   ]
  },
  {
   "cell_type": "code",
   "execution_count": 444,
   "metadata": {
    "ExecuteTime": {
     "end_time": "2019-03-11T04:13:37.560800Z",
     "start_time": "2019-03-11T04:13:37.551576Z"
    }
   },
   "outputs": [],
   "source": [
    "test = dat['X_test']\n",
    "\n",
    "pred = predict(test, w)\n",
    "pred = pred.astype(int)\n",
    "\n",
    "sub = pd.DataFrame(pred, columns=['Category'], index=np.arange(1, len(pred)+1, 1), dtype=int)\n",
    "sub.index.name = 'Id'\n",
    "\n",
    "sub.to_csv('./submission.csv')"
   ]
  }
 ],
 "metadata": {
  "kernelspec": {
   "display_name": "Python 3",
   "language": "python",
   "name": "python3"
  },
  "language_info": {
   "codemirror_mode": {
    "name": "ipython",
    "version": 3
   },
   "file_extension": ".py",
   "mimetype": "text/x-python",
   "name": "python",
   "nbconvert_exporter": "python",
   "pygments_lexer": "ipython3",
   "version": "3.6.6"
  },
  "latex_envs": {
   "LaTeX_envs_menu_present": true,
   "autoclose": false,
   "autocomplete": true,
   "bibliofile": "biblio.bib",
   "cite_by": "apalike",
   "current_citInitial": 1,
   "eqLabelWithNumbers": true,
   "eqNumInitial": 1,
   "hotkeys": {
    "equation": "Ctrl-E",
    "itemize": "Ctrl-I"
   },
   "labels_anchors": false,
   "latex_user_defs": false,
   "report_style_numbering": false,
   "user_envs_cfg": false
  }
 },
 "nbformat": 4,
 "nbformat_minor": 2
}
