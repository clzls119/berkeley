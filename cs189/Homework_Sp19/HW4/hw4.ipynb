{
 "cells": [
  {
   "cell_type": "code",
   "execution_count": 1,
   "metadata": {
    "ExecuteTime": {
     "end_time": "2019-03-14T02:48:15.238818Z",
     "start_time": "2019-03-14T02:48:06.622635Z"
    }
   },
   "outputs": [],
   "source": [
    "import numpy as np\n",
    "import matplotlib.pyplot as plt\n",
    "import scipy\n",
    "import scipy.io as sio\n",
    "import pandas as pd"
   ]
  },
  {
   "cell_type": "markdown",
   "metadata": {},
   "source": [
    "## 1"
   ]
  },
  {
   "cell_type": "code",
   "execution_count": 2,
   "metadata": {
    "ExecuteTime": {
     "end_time": "2019-03-14T02:48:15.256825Z",
     "start_time": "2019-03-14T02:48:15.243827Z"
    }
   },
   "outputs": [],
   "source": [
    "X = np.array([[0,1,0,1], [3,3,1,1], [1,1,1,1]]).T\n",
    "y = np.array([1,1,0,0])\n",
    "w = np.array([-2,1,0])\n",
    "lambd = .07"
   ]
  },
  {
   "cell_type": "code",
   "execution_count": 3,
   "metadata": {
    "ExecuteTime": {
     "end_time": "2019-03-14T02:48:15.298822Z",
     "start_time": "2019-03-14T02:48:15.263824Z"
    }
   },
   "outputs": [],
   "source": [
    "def s(X, w):\n",
    "    \n",
    "    return sigmoid(X,w) * (1 - sigmoid(X,w)) * np.eye(X.shape[0])\n",
    "\n",
    "def sigmoid(X, w):\n",
    "    \n",
    "    return 1 / (1 + np.exp(- X @ w))\n",
    "    \n",
    "    \n",
    "def e(X, w, lambd):\n",
    "    \n",
    "    return np.linalg.inv(2 * lambd + X.T @ s(X, w) @ X) @ (X.T @ (sigmoid(X,w) - y) - 2 * lambd * w)\n",
    "\n",
    "def update(X, w, lambd):\n",
    "    \n",
    "    w = e(X,w,lambd) + w\n",
    "    return w"
   ]
  },
  {
   "cell_type": "markdown",
   "metadata": {},
   "source": [
    "### 1.4"
   ]
  },
  {
   "cell_type": "markdown",
   "metadata": {},
   "source": [
    "#### (a)"
   ]
  },
  {
   "cell_type": "code",
   "execution_count": 4,
   "metadata": {
    "ExecuteTime": {
     "end_time": "2019-03-14T02:48:15.343842Z",
     "start_time": "2019-03-14T02:48:15.308832Z"
    }
   },
   "outputs": [
    {
     "data": {
      "text/plain": [
       "array([0.95257413, 0.73105858, 0.73105858, 0.26894142])"
      ]
     },
     "execution_count": 4,
     "metadata": {},
     "output_type": "execute_result"
    }
   ],
   "source": [
    "sigmoid(X, w)"
   ]
  },
  {
   "cell_type": "markdown",
   "metadata": {},
   "source": [
    "#### (b)"
   ]
  },
  {
   "cell_type": "code",
   "execution_count": 5,
   "metadata": {
    "ExecuteTime": {
     "end_time": "2019-03-14T02:48:15.408826Z",
     "start_time": "2019-03-14T02:48:15.351822Z"
    },
    "scrolled": true
   },
   "outputs": [
    {
     "data": {
      "text/plain": [
       "array([-2.50536624, -0.75635058,  4.08203851])"
      ]
     },
     "execution_count": 5,
     "metadata": {},
     "output_type": "execute_result"
    }
   ],
   "source": [
    "w = update(X, w, lambd)\n",
    "w"
   ]
  },
  {
   "cell_type": "markdown",
   "metadata": {},
   "source": [
    "#### (c)"
   ]
  },
  {
   "cell_type": "code",
   "execution_count": 6,
   "metadata": {
    "ExecuteTime": {
     "end_time": "2019-03-14T02:48:15.428825Z",
     "start_time": "2019-03-14T02:48:15.411822Z"
    }
   },
   "outputs": [
    {
     "data": {
      "text/plain": [
       "array([0.85972246, 0.33350396, 0.96529962, 0.69430462])"
      ]
     },
     "execution_count": 6,
     "metadata": {},
     "output_type": "execute_result"
    }
   ],
   "source": [
    "sigmoid(X, w)"
   ]
  },
  {
   "cell_type": "markdown",
   "metadata": {},
   "source": [
    "#### (d)"
   ]
  },
  {
   "cell_type": "code",
   "execution_count": 7,
   "metadata": {
    "ExecuteTime": {
     "end_time": "2019-03-14T02:48:15.458826Z",
     "start_time": "2019-03-14T02:48:15.431824Z"
    }
   },
   "outputs": [
    {
     "data": {
      "text/plain": [
       "array([-2.52693901, -2.41320625,  7.70142503])"
      ]
     },
     "execution_count": 7,
     "metadata": {},
     "output_type": "execute_result"
    }
   ],
   "source": [
    "w = update(X, w, lambd)\n",
    "w"
   ]
  },
  {
   "cell_type": "markdown",
   "metadata": {},
   "source": [
    "## 4"
   ]
  },
  {
   "cell_type": "code",
   "execution_count": 8,
   "metadata": {
    "ExecuteTime": {
     "end_time": "2019-03-14T02:48:15.504818Z",
     "start_time": "2019-03-14T02:48:15.463827Z"
    }
   },
   "outputs": [],
   "source": [
    "def split(data, size):\n",
    "    from math import floor\n",
    "    \n",
    "    dat = data.copy()\n",
    "    \n",
    "    # for reproducibility\n",
    "    np.random.seed(24)\n",
    "    \n",
    "    # shuffle copied data\n",
    "    np.random.shuffle(dat)\n",
    "    \n",
    "    if type(size) == float:\n",
    "        size = floor(len(dat) * size)\n",
    "\n",
    "    # training_data, validation_data, training_label, validation_label\n",
    "    return dat[size:, :-1], dat[:size, :-1], dat[size:, -1], dat[:size, -1]\n",
    "\n",
    "def sigmoid(r):\n",
    "\n",
    "    return scipy.special.expit(r)\n",
    "    \n",
    "    \n",
    "def loss(X, w, y, lambd):\n",
    "    \n",
    "    r = X @ w\n",
    "    \n",
    "    t = 3\n",
    "    \n",
    "    u1 = -scipy.log(1 + scipy.exp(-r))\n",
    "    u2 = scipy.log(1 - sigmoid(r))\n",
    "    \n",
    "    u1[r > t] = 0\n",
    "    u2[r < -t] = 0\n",
    "    \n",
    "    ret = (np.dot(y, u1) + np.dot((1 - y), u2)) / X.shape[0]\n",
    "\n",
    "    return lambd * np.dot(w,w) - ret\n",
    "    \n",
    "\n",
    "\n",
    "def deriv(X, w, y, lambd):\n",
    "    \n",
    "    return 2 * lambd * w + (X.T @ (sigmoid(X @ w) - y)) / X.shape[0]\n",
    "\n",
    "\n",
    "def check_accuracy(pred, y):\n",
    "    \n",
    "    return np.round(sum(pred == y) / len(y), 5)\n",
    "\n",
    "\n",
    "def predict(X, w):\n",
    "    \n",
    "    return sigmoid(X@w) >= .5\n",
    "\n",
    "\n",
    "def batch_train(X, y, epochs, learning_rate, lambd, ver_iter=50):\n",
    "    \n",
    "    w = np.zeros(X.shape[1])\n",
    "\n",
    "    loss_history = []\n",
    "    acc_history = []\n",
    "    \n",
    "    for i in range(epochs):\n",
    "        \n",
    "        l = loss(X, w, y, lambd)\n",
    "\n",
    "        pred = predict(X, w)\n",
    "\n",
    "        w  = w - learning_rate * deriv(X, w, y, lambd)\n",
    "\n",
    "        if ver_iter is not None and i % ver_iter == 0:\n",
    "        \n",
    "            print(f'Epoch : {int(i+ver_iter)}, Loss : {l}')\n",
    "            \n",
    "        loss_history.append(l)\n",
    "        \n",
    "    \n",
    "    return loss_history, w\n",
    "\n",
    "\n",
    "\n",
    "def sgd_train(X, y, epochs, learning_rate, lambd, ver_iter=50):\n",
    "    \n",
    "    w = np.zeros(X.shape[1])\n",
    "\n",
    "    loss_history = []\n",
    "    acc_history = []\n",
    "    \n",
    "    n = X.shape[0]\n",
    "    \n",
    "    for i in range(epochs):\n",
    "        cost = 0\n",
    "        \n",
    "        for j in range(n):\n",
    "\n",
    "            p = np.random.randint(0, n)\n",
    "\n",
    "            dat = X[[p]]\n",
    "            lab = y[[p]]\n",
    "\n",
    "            d = deriv(dat, w, lab, lambd) / n\n",
    "            w  = w - learning_rate * d\n",
    "\n",
    "            cost += loss(dat, w, lab, lambd)\n",
    "            \n",
    "        cost = cost / n\n",
    "        \n",
    "        loss_history.append(cost)\n",
    "\n",
    "            \n",
    "        if ver_iter is not None and i % ver_iter == 0:\n",
    "        \n",
    "            print(f'Epoch : {int(i+ver_iter)}, Loss : {cost}')\n",
    "            \n",
    "        \n",
    "    pred = predict(X_val, w)\n",
    "    \n",
    "    return loss_history, w"
   ]
  },
  {
   "cell_type": "code",
   "execution_count": 27,
   "metadata": {
    "ExecuteTime": {
     "end_time": "2019-03-14T03:20:32.776570Z",
     "start_time": "2019-03-14T03:20:32.728568Z"
    }
   },
   "outputs": [],
   "source": [
    "dat = sio.loadmat('./data.mat')\n",
    "\n",
    "train_data = dat['X']\n",
    "labels = dat['y']\n",
    "\n",
    "data = np.hstack((train_data, labels))\n",
    "\n",
    "X_train, X_test, y_train, y_test = split(data, 600)\n",
    "\n",
    "X_train, X_val, y_train, y_val = split(np.hstack((X_train, y_train.reshape(-1, 1))), 500)"
   ]
  },
  {
   "cell_type": "code",
   "execution_count": 10,
   "metadata": {
    "ExecuteTime": {
     "end_time": "2019-03-14T02:48:15.582825Z",
     "start_time": "2019-03-14T02:48:15.574823Z"
    }
   },
   "outputs": [
    {
     "data": {
      "text/plain": [
       "((4900, 12), (4900,), (500, 12), (500,))"
      ]
     },
     "execution_count": 10,
     "metadata": {},
     "output_type": "execute_result"
    }
   ],
   "source": [
    "X_train.shape, y_train.shape, X_val.shape, y_val.shape"
   ]
  },
  {
   "cell_type": "markdown",
   "metadata": {},
   "source": [
    "#### 1"
   ]
  },
  {
   "cell_type": "code",
   "execution_count": 11,
   "metadata": {
    "ExecuteTime": {
     "end_time": "2019-03-14T02:48:22.621819Z",
     "start_time": "2019-03-14T02:48:15.586839Z"
    },
    "scrolled": true
   },
   "outputs": [
    {
     "name": "stdout",
     "output_type": "stream",
     "text": [
      "Epoch : 1000, Loss : 0.6931471805599455\n",
      "Epoch : 2000, Loss : 0.2003099948534916\n",
      "Epoch : 3000, Loss : 0.19154084225883072\n",
      "Epoch : 4000, Loss : 0.1861124172128249\n",
      "Epoch : 5000, Loss : 0.18199513587285945\n",
      "Epoch : 6000, Loss : 0.17857228235899875\n",
      "Epoch : 7000, Loss : 0.17576673432824563\n",
      "Epoch : 8000, Loss : 0.17332638407065795\n",
      "Epoch : 9000, Loss : 0.17135116394866712\n",
      "Epoch : 10000, Loss : 0.16977857611130734\n"
     ]
    }
   ],
   "source": [
    "lambd = .01\n",
    "learning_rate = 8e-4\n",
    "epochs = 10000\n",
    "ver_iter = epochs * .1\n",
    "\n",
    "\n",
    "loss_history, w = batch_train(X_train, y_train, epochs, learning_rate, lambd, ver_iter)"
   ]
  },
  {
   "cell_type": "code",
   "execution_count": 12,
   "metadata": {
    "ExecuteTime": {
     "end_time": "2019-03-14T02:48:22.883827Z",
     "start_time": "2019-03-14T02:48:22.625822Z"
    }
   },
   "outputs": [
    {
     "data": {
      "image/png": "[encoded data removed]",
      "text/plain": [
       "<Figure size 576x432 with 1 Axes>"
      ]
     },
     "metadata": {
      "needs_background": "light"
     },
     "output_type": "display_data"
    }
   ],
   "source": [
    "plt.figure(figsize=(8,6))\n",
    "plt.plot(np.arange(epochs), loss_history)\n",
    "plt.xlabel('Epochs')\n",
    "plt.ylabel('Total Loss')\n",
    "plt.title('Loss over Iter');"
   ]
  },
  {
   "cell_type": "markdown",
   "metadata": {},
   "source": [
    "#### 2"
   ]
  },
  {
   "cell_type": "code",
   "execution_count": 14,
   "metadata": {
    "ExecuteTime": {
     "end_time": "2019-03-14T02:55:00.564596Z",
     "start_time": "2019-03-14T02:52:01.175391Z"
    }
   },
   "outputs": [
    {
     "name": "stdout",
     "output_type": "stream",
     "text": [
      "Epoch : 50, Loss : 0.3698580657030119\n",
      "Epoch : 100, Loss : 0.2146697022995756\n",
      "Epoch : 150, Loss : 0.1929435137176931\n",
      "Epoch : 200, Loss : 0.19722526517269262\n",
      "Epoch : 250, Loss : 0.1847603652742698\n",
      "Epoch : 300, Loss : 0.19925422543755822\n",
      "Epoch : 350, Loss : 0.1832085708182152\n",
      "Epoch : 400, Loss : 0.17459696452862372\n",
      "Epoch : 450, Loss : 0.1730520136649206\n",
      "Epoch : 500, Loss : 0.17189466700264208\n"
     ]
    }
   ],
   "source": [
    "lambd = .01\n",
    "learning_rate = 1e-2\n",
    "epochs = 500\n",
    "ver_iter = epochs * .1\n",
    "\n",
    "loss_history, w = sgd_train(X_train, y_train, epochs, learning_rate, lambd, ver_iter)"
   ]
  },
  {
   "cell_type": "code",
   "execution_count": 15,
   "metadata": {
    "ExecuteTime": {
     "end_time": "2019-03-14T02:55:00.936543Z",
     "start_time": "2019-03-14T02:55:00.568535Z"
    }
   },
   "outputs": [
    {
     "data": {
      "image/png": "[encoded data removed]",
      "text/plain": [
       "<Figure size 576x432 with 1 Axes>"
      ]
     },
     "metadata": {
      "needs_background": "light"
     },
     "output_type": "display_data"
    }
   ],
   "source": [
    "plt.figure(figsize=(8,6))\n",
    "plt.plot(np.arange(epochs), loss_history)\n",
    "plt.xlabel('Epochs')\n",
    "plt.ylabel('Total Loss')\n",
    "plt.title('Loss over Iter');"
   ]
  },
  {
   "cell_type": "markdown",
   "metadata": {},
   "source": [
    "#### 4.3"
   ]
  },
  {
   "cell_type": "code",
   "execution_count": 28,
   "metadata": {
    "ExecuteTime": {
     "end_time": "2019-03-14T03:22:51.643521Z",
     "start_time": "2019-03-14T03:20:37.947510Z"
    },
    "scrolled": true
   },
   "outputs": [
    {
     "name": "stdout",
     "output_type": "stream",
     "text": [
      "Epoch : 20, Loss : 0.17202536332683607\n",
      "Epoch : 40, Loss : 0.17420312633518378\n",
      "Epoch : 60, Loss : 0.178943804922603\n",
      "Epoch : 80, Loss : 0.18057047443112137\n",
      "Epoch : 100, Loss : 0.17489356101676606\n",
      "Epoch : 120, Loss : 0.16214281787409895\n",
      "Epoch : 140, Loss : 0.17991705681739922\n",
      "Epoch : 160, Loss : 0.17291523841888234\n",
      "Epoch : 180, Loss : 0.18124420027802488\n",
      "Epoch : 200, Loss : 0.1830860993719994\n",
      "0.944\n"
     ]
    },
    {
     "data": {
      "image/png": "[encoded data removed]",
      "text/plain": [
       "<Figure size 576x432 with 1 Axes>"
      ]
     },
     "metadata": {
      "needs_background": "light"
     },
     "output_type": "display_data"
    }
   ],
   "source": [
    "def sgd_train(X, y, epochs, learning_rate, lambd, ver_iter=50):\n",
    "    \n",
    "    w = np.zeros(X.shape[1])\n",
    "\n",
    "    loss_history = []\n",
    "    \n",
    "    n = X.shape[0]\n",
    "    \n",
    "    for i in range(1, epochs+1):\n",
    "        cost = 0\n",
    "        \n",
    "        learning_rate = 1 / i\n",
    "        \n",
    "        for j in range(n):\n",
    "\n",
    "            p = np.random.randint(0, n)\n",
    "\n",
    "            dat = X[[p]]\n",
    "            lab = y[[p]]\n",
    "\n",
    "            d = deriv(dat, w, lab, lambd) / n\n",
    "            w  = w - learning_rate * d\n",
    "\n",
    "            cost += loss(dat, w, lab, lambd)\n",
    "            \n",
    "        cost = cost / n\n",
    "        \n",
    "        loss_history.append(cost)\n",
    "        \n",
    "        if ver_iter is not None and i % ver_iter == 0:\n",
    "        \n",
    "            print(f'Epoch : {i}, Loss : {cost}')\n",
    "            \n",
    "        \n",
    "    pred = predict(X_val, w)\n",
    "    \n",
    "    print(check_accuracy(pred, y_val))\n",
    "    \n",
    "    return loss_history, w\n",
    "\n",
    "\n",
    "lambd = .01\n",
    "learning_rate = 1\n",
    "epochs = 200\n",
    "ver_iter = epochs * .1\n",
    "\n",
    "loss_history, w = sgd_train(X_train, y_train, epochs, learning_rate, lambd, ver_iter)\n",
    "\n",
    "\n",
    "plt.figure(figsize=(8,6))\n",
    "plt.plot(np.arange(epochs), loss_history)\n",
    "plt.xlabel('Epochs')\n",
    "plt.ylabel('Total Loss')\n",
    "plt.title('Loss over Iter');"
   ]
  },
  {
   "cell_type": "markdown",
   "metadata": {},
   "source": [
    "### Submission\n",
    "\n",
    "## user : hsong1101\n",
    "\n",
    "### score : .93288"
   ]
  },
  {
   "cell_type": "markdown",
   "metadata": {},
   "source": [
    "Tried removing outliers and normalizing with min, max but not using them achieved higher accuracy.<br>\n",
    "Tried different lambda values with different learning rate as well as epochs."
   ]
  },
  {
   "cell_type": "code",
   "execution_count": 24,
   "metadata": {
    "ExecuteTime": {
     "end_time": "2019-03-14T03:19:49.402068Z",
     "start_time": "2019-03-14T03:18:52.714064Z"
    }
   },
   "outputs": [
    {
     "name": "stdout",
     "output_type": "stream",
     "text": [
      "Epoch : 4000, Loss : 0.6931471805599457\n",
      "Epoch : 8000, Loss : 0.1929446852687649\n",
      "Epoch : 12000, Loss : 0.18846427035212016\n",
      "Epoch : 16000, Loss : 0.18723657463029525\n",
      "Epoch : 20000, Loss : 0.18689324310559177\n",
      "Epoch : 24000, Loss : 0.1867130345313839\n",
      "Epoch : 28000, Loss : 0.1866680794857918\n",
      "Epoch : 32000, Loss : 0.18662906888722158\n",
      "Epoch : 36000, Loss : 0.18663123097492967\n",
      "Epoch : 40000, Loss : 0.18662726976141494\n",
      "Train : 0.94673, Validation : 0.934\n"
     ]
    }
   ],
   "source": [
    "dat = sio.loadmat('./data.mat')\n",
    "\n",
    "X = pd.DataFrame(dat['X'])\n",
    "y = dat['y']\n",
    "\n",
    "X_test, y_test = X.iloc[-200:, :], y[-200:].reshape(-1)\n",
    "\n",
    "# X = X[(X < X.quantile(.95))].dropna()\n",
    "# y = y[X.index.values]\n",
    "\n",
    "X_train, X_val, y_train, y_val = split(np.hstack((X, y)), 500)\n",
    "\n",
    "lambd = .05\n",
    "learning_rate = 9e-04\n",
    "epochs = 40000\n",
    "ver_iter = epochs * .1\n",
    "\n",
    "loss_history, w = batch_train(X_train, y_train, epochs, learning_rate, lambd, ver_iter)\n",
    "\n",
    "print(f'Train : {check_accuracy(predict(X_train, w), y_train)}, Validation : {check_accuracy(predict(X_val, w), y_val)}')"
   ]
  },
  {
   "cell_type": "code",
   "execution_count": 25,
   "metadata": {
    "ExecuteTime": {
     "end_time": "2019-03-14T03:19:49.486067Z",
     "start_time": "2019-03-14T03:19:49.408072Z"
    }
   },
   "outputs": [
    {
     "name": "stdout",
     "output_type": "stream",
     "text": [
      "Test : 0.955\n"
     ]
    },
    {
     "data": {
      "text/plain": [
       "0.94567"
      ]
     },
     "execution_count": 25,
     "metadata": {},
     "output_type": "execute_result"
    }
   ],
   "source": [
    "print(f'Test : {check_accuracy(predict(X_test, w), y_test)}')\n",
    "\n",
    "t = dat['X']\n",
    "lab = dat['y'].reshape(-1)\n",
    "\n",
    "check_accuracy(predict(t, w), lab)"
   ]
  },
  {
   "cell_type": "markdown",
   "metadata": {},
   "source": [
    "#### Submit"
   ]
  },
  {
   "cell_type": "code",
   "execution_count": 26,
   "metadata": {
    "ExecuteTime": {
     "end_time": "2019-03-14T03:19:49.581062Z",
     "start_time": "2019-03-14T03:19:49.491064Z"
    }
   },
   "outputs": [],
   "source": [
    "test = dat['X_test']\n",
    "\n",
    "pred = predict(test, w)\n",
    "pred = pred.astype(int)\n",
    "\n",
    "sub = pd.DataFrame(pred, columns=['Category'], index=np.arange(1, len(pred)+1, 1), dtype=int)\n",
    "sub.index.name = 'Id'\n",
    "\n",
    "sub.to_csv('./submission.csv')"
   ]
  }
 ],
 "metadata": {
  "kernelspec": {
   "display_name": "Python 3",
   "language": "python",
   "name": "python3"
  },
  "language_info": {
   "codemirror_mode": {
    "name": "ipython",
    "version": 3
   },
   "file_extension": ".py",
   "mimetype": "text/x-python",
   "name": "python",
   "nbconvert_exporter": "python",
   "pygments_lexer": "ipython3",
   "version": "3.6.6"
  },
  "latex_envs": {
   "LaTeX_envs_menu_present": true,
   "autoclose": false,
   "autocomplete": true,
   "bibliofile": "biblio.bib",
   "cite_by": "apalike",
   "current_citInitial": 1,
   "eqLabelWithNumbers": true,
   "eqNumInitial": 1,
   "hotkeys": {
    "equation": "Ctrl-E",
    "itemize": "Ctrl-I"
   },
   "labels_anchors": false,
   "latex_user_defs": false,
   "report_style_numbering": false,
   "user_envs_cfg": false
  }
 },
 "nbformat": 4,
 "nbformat_minor": 2
}
