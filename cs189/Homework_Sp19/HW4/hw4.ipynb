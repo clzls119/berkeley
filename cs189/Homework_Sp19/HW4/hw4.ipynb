{
 "cells": [
  {
   "cell_type": "code",
   "execution_count": 1,
   "metadata": {
    "ExecuteTime": {
     "end_time": "2019-03-12T06:01:46.510175Z",
     "start_time": "2019-03-12T06:01:40.224201Z"
    }
   },
   "outputs": [],
   "source": [
    "import numpy as np\n",
    "import matplotlib.pyplot as plt\n",
    "import scipy\n",
    "import scipy.io as sio\n",
    "import pandas as pd"
   ]
  },
  {
   "cell_type": "markdown",
   "metadata": {},
   "source": [
    "## 1"
   ]
  },
  {
   "cell_type": "code",
   "execution_count": 2,
   "metadata": {
    "ExecuteTime": {
     "end_time": "2019-03-11T00:43:29.709461Z",
     "start_time": "2019-03-11T00:43:29.706992Z"
    }
   },
   "outputs": [],
   "source": [
    "X = np.array([[0,1,0,1], [3,3,1,1], [1,1,1,1]]).T\n",
    "y = np.array([1,1,0,0])\n",
    "w = np.array([-2,1,0])\n",
    "lambd = .07"
   ]
  },
  {
   "cell_type": "code",
   "execution_count": 2,
   "metadata": {
    "ExecuteTime": {
     "end_time": "2019-03-12T03:11:37.178323Z",
     "start_time": "2019-03-12T03:11:37.169322Z"
    }
   },
   "outputs": [],
   "source": [
    "def s(X, w):\n",
    "    \n",
    "    return sigmoid(X,w) * (1 - sigmoid(X,w)) * np.eye(X.shape[0])\n",
    "\n",
    "def sigmoid(X, w):\n",
    "    \n",
    "    return 1 / (1 + np.exp(- X @ w))\n",
    "    \n",
    "    \n",
    "def e(X, w, lambd):\n",
    "    \n",
    "    return np.linalg.inv(2 * lambd + X.T @ s(X, w) @ X) @ (X.T @ (sigmoid(X,w) - y) - 2 * lambd * w)\n",
    "\n",
    "def update(X, w, lambd):\n",
    "    \n",
    "    w = e(X,w,lambd) + w\n",
    "    return w"
   ]
  },
  {
   "cell_type": "markdown",
   "metadata": {},
   "source": [
    "### 1.4"
   ]
  },
  {
   "cell_type": "markdown",
   "metadata": {},
   "source": [
    "#### (a)"
   ]
  },
  {
   "cell_type": "code",
   "execution_count": 4,
   "metadata": {
    "ExecuteTime": {
     "end_time": "2019-03-11T00:43:29.844050Z",
     "start_time": "2019-03-11T00:43:29.778672Z"
    }
   },
   "outputs": [
    {
     "data": {
      "text/plain": [
       "array([0.95257413, 0.73105858, 0.73105858, 0.26894142])"
      ]
     },
     "execution_count": 4,
     "metadata": {},
     "output_type": "execute_result"
    }
   ],
   "source": [
    "sigmoid(X, w)"
   ]
  },
  {
   "cell_type": "markdown",
   "metadata": {},
   "source": [
    "#### (b)"
   ]
  },
  {
   "cell_type": "code",
   "execution_count": 5,
   "metadata": {
    "ExecuteTime": {
     "end_time": "2019-03-11T00:43:29.934331Z",
     "start_time": "2019-03-11T00:43:29.846577Z"
    },
    "scrolled": true
   },
   "outputs": [
    {
     "data": {
      "text/plain": [
       "array([-2.50536624, -0.75635058,  4.08203851])"
      ]
     },
     "execution_count": 5,
     "metadata": {},
     "output_type": "execute_result"
    }
   ],
   "source": [
    "w = update(X, w, lambd)\n",
    "w"
   ]
  },
  {
   "cell_type": "markdown",
   "metadata": {},
   "source": [
    "#### (c)"
   ]
  },
  {
   "cell_type": "code",
   "execution_count": 6,
   "metadata": {
    "ExecuteTime": {
     "end_time": "2019-03-11T00:43:30.012706Z",
     "start_time": "2019-03-11T00:43:29.935344Z"
    }
   },
   "outputs": [
    {
     "data": {
      "text/plain": [
       "array([0.85972246, 0.33350396, 0.96529962, 0.69430462])"
      ]
     },
     "execution_count": 6,
     "metadata": {},
     "output_type": "execute_result"
    }
   ],
   "source": [
    "sigmoid(X, w)"
   ]
  },
  {
   "cell_type": "markdown",
   "metadata": {},
   "source": [
    "#### (d)"
   ]
  },
  {
   "cell_type": "code",
   "execution_count": 7,
   "metadata": {
    "ExecuteTime": {
     "end_time": "2019-03-11T00:43:30.075458Z",
     "start_time": "2019-03-11T00:43:30.013709Z"
    }
   },
   "outputs": [
    {
     "data": {
      "text/plain": [
       "array([-2.52693901, -2.41320625,  7.70142503])"
      ]
     },
     "execution_count": 7,
     "metadata": {},
     "output_type": "execute_result"
    }
   ],
   "source": [
    "w = update(X, w, lambd)\n",
    "w"
   ]
  },
  {
   "cell_type": "markdown",
   "metadata": {},
   "source": [
    "## 4"
   ]
  },
  {
   "cell_type": "code",
   "execution_count": 73,
   "metadata": {
    "ExecuteTime": {
     "end_time": "2019-03-12T06:18:06.035945Z",
     "start_time": "2019-03-12T06:18:06.014952Z"
    }
   },
   "outputs": [],
   "source": [
    "def split(data, size):\n",
    "    from math import floor\n",
    "    \n",
    "    dat = data.copy()\n",
    "    \n",
    "    # for reproducibility\n",
    "    np.random.seed(24)\n",
    "    \n",
    "    # shuffle copied data\n",
    "    np.random.shuffle(dat)\n",
    "    \n",
    "    if type(size) == float:\n",
    "        size = floor(len(dat) * size)\n",
    "\n",
    "    # training_data, validation_data, training_label, validation_label\n",
    "    return dat[size:, :-1], dat[:size, :-1], dat[size:, -1], dat[:size, -1]\n",
    "\n",
    "def sigmoid(r):\n",
    "\n",
    "    return scipy.special.expit(r)\n",
    "    \n",
    "    \n",
    "def loss(X, w, y, lambd):\n",
    "    \n",
    "    r = X @ w\n",
    "    \n",
    "    u1 = -scipy.log(1 + scipy.exp(-r))\n",
    "    u2 = scipy.log(1 - sigmoid(r))\n",
    "    \n",
    "    u1[r > 10] = 0\n",
    "    u2[r < -10] = 0\n",
    "    \n",
    "    ret = (np.dot(y, u1) + np.dot((1 - y), u2)) / X.shape[0]\n",
    "\n",
    "    return lambd * np.dot(w,w) - ret\n",
    "    \n",
    "\n",
    "\n",
    "def deriv(X, w, y, lambd):\n",
    "    \n",
    "    reg = 0\n",
    "    \n",
    "    if lambd is not None and lambd != 0:\n",
    "        reg = 1/(2*lambd)\n",
    "        \n",
    "    return reg + (X.T @ (sigmoid(X @ w) - y)) / X.shape[0]\n",
    "\n",
    "\n",
    "def check_accuracy(pred, y):\n",
    "    \n",
    "    return np.round(sum(pred == y) / len(y), 5)\n",
    "\n",
    "\n",
    "def predict(X, w):\n",
    "    \n",
    "    return sigmoid(X@w) >= .5\n",
    "\n",
    "\n",
    "def batch_train(X, y, epochs, learning_rate, lambd, ver_iter=50):\n",
    "    \n",
    "    w = np.zeros(X.shape[1])\n",
    "\n",
    "    loss_history = []\n",
    "    acc_history = []\n",
    "    \n",
    "    for i in range(epochs):\n",
    "        \n",
    "        l = loss(X, w, y, lambd)\n",
    "\n",
    "        pred = predict(X, w)\n",
    "\n",
    "        w  = w - learning_rate * deriv(X, w, y, lambd)\n",
    "\n",
    "        if ver_iter is not None and i % ver_iter == 0:\n",
    "        \n",
    "            print(f'Epoch : {i}, Loss : {l}')\n",
    "            \n",
    "        loss_history.append(l)\n",
    "        \n",
    "    \n",
    "    return loss_history, w\n",
    "\n",
    "\n",
    "\n",
    "def sgd_train(X, y, epochs, learning_rate, lambd, ver_iter=50):\n",
    "    \n",
    "    w = np.zeros(X.shape[1])\n",
    "\n",
    "    loss_history = []\n",
    "    acc_history = []\n",
    "    \n",
    "    n = X.shape[0]\n",
    "    \n",
    "    for i in range(epochs):\n",
    "        cost = 0\n",
    "        \n",
    "        for j in range(n):\n",
    "\n",
    "            p = np.random.randint(0, n)\n",
    "\n",
    "            dat = X[[p]]\n",
    "            lab = y[[p]]\n",
    "\n",
    "            d = deriv(dat, w, lab, lambd) / n\n",
    "            w  = w - learning_rate * d\n",
    "\n",
    "            cost += loss(dat, w, lab, lambd)\n",
    "            \n",
    "        cost = cost / n\n",
    "        \n",
    "        loss_history.append(cost)\n",
    "\n",
    "            \n",
    "        if ver_iter is not None and i % ver_iter == 0:\n",
    "        \n",
    "            print(f'Epoch : {i}, Loss : {cost}')\n",
    "            \n",
    "        \n",
    "    pred = predict(X_val, w)\n",
    "    \n",
    "    return loss_history, w"
   ]
  },
  {
   "cell_type": "code",
   "execution_count": 3,
   "metadata": {
    "ExecuteTime": {
     "end_time": "2019-03-12T06:01:46.629176Z",
     "start_time": "2019-03-12T06:01:46.568180Z"
    }
   },
   "outputs": [],
   "source": [
    "dat = sio.loadmat('./data.mat')\n",
    "\n",
    "train_data = dat['X']\n",
    "labels = dat['y']\n",
    "\n",
    "data = np.hstack((train_data, labels))\n",
    "\n",
    "X_train, X_test, y_train, y_test = split(data, 600)\n",
    "\n",
    "X_train, X_val, y_train, y_val = split(np.hstack((X_train, y_train.reshape(-1, 1))), 500)"
   ]
  },
  {
   "cell_type": "code",
   "execution_count": 63,
   "metadata": {
    "ExecuteTime": {
     "end_time": "2019-03-11T01:00:44.458382Z",
     "start_time": "2019-03-11T01:00:44.454488Z"
    }
   },
   "outputs": [
    {
     "data": {
      "text/plain": [
       "((4900, 12), (4900,), (500, 12), (500,))"
      ]
     },
     "execution_count": 63,
     "metadata": {},
     "output_type": "execute_result"
    }
   ],
   "source": [
    "X_train.shape, y_train.shape, X_val.shape, y_val.shape"
   ]
  },
  {
   "cell_type": "markdown",
   "metadata": {},
   "source": [
    "Testing loss before any update"
   ]
  },
  {
   "cell_type": "code",
   "execution_count": 69,
   "metadata": {
    "ExecuteTime": {
     "end_time": "2019-03-11T01:01:08.504445Z",
     "start_time": "2019-03-11T01:01:08.492805Z"
    }
   },
   "outputs": [
    {
     "name": "stderr",
     "output_type": "stream",
     "text": [
      "/home/hsong1101/miniconda3/envs/gluon/lib/python3.6/site-packages/ipykernel_launcher.py:29: RuntimeWarning: divide by zero encountered in log\n"
     ]
    },
    {
     "data": {
      "text/plain": [
       "212.93674601530617"
      ]
     },
     "execution_count": 69,
     "metadata": {},
     "output_type": "execute_result"
    }
   ],
   "source": [
    "w = np.ones(X_train.shape[1])\n",
    "loss(X_train, w, y_train, lambd, 2.5)"
   ]
  },
  {
   "cell_type": "markdown",
   "metadata": {},
   "source": [
    "Testing update"
   ]
  },
  {
   "cell_type": "code",
   "execution_count": 70,
   "metadata": {
    "ExecuteTime": {
     "end_time": "2019-03-11T01:01:09.450550Z",
     "start_time": "2019-03-11T01:01:09.441536Z"
    },
    "scrolled": true
   },
   "outputs": [
    {
     "data": {
      "text/plain": [
       "array([3.09876531e-01, 7.90622449e-03, 1.84585714e-02, 4.17127551e-01,\n",
       "       1.31646939e-03, 2.26215306e+00, 9.27859184e+00, 5.01617621e-02,\n",
       "       1.58144286e-01, 2.04516327e-02, 5.33341156e-01, 3.03163265e-02])"
      ]
     },
     "execution_count": 70,
     "metadata": {},
     "output_type": "execute_result"
    }
   ],
   "source": [
    "learning_rate = .2\n",
    "a = np.zeros(X_train.shape[1])\n",
    "a = update(X_train, a, y_train, lambd, learning_rate)\n",
    "a"
   ]
  },
  {
   "cell_type": "markdown",
   "metadata": {},
   "source": [
    "#### 1"
   ]
  },
  {
   "cell_type": "code",
   "execution_count": 19,
   "metadata": {
    "ExecuteTime": {
     "end_time": "2019-03-12T02:00:46.646946Z",
     "start_time": "2019-03-12T02:00:42.573287Z"
    },
    "scrolled": true
   },
   "outputs": [
    {
     "name": "stdout",
     "output_type": "stream",
     "text": [
      "Epoch : 0, Loss : 0.6931471805599467\n",
      "Epoch : 200, Loss : 0.3785175895030601\n",
      "Epoch : 400, Loss : 0.3741025027452255\n",
      "Epoch : 600, Loss : 0.3708024835835344\n",
      "Epoch : 800, Loss : 0.3678475421522096\n",
      "Epoch : 1000, Loss : 0.3654685997822356\n",
      "Epoch : 1200, Loss : 0.3633665423936873\n",
      "Epoch : 1400, Loss : 0.36165570005725317\n",
      "Epoch : 1600, Loss : 0.3603434044226672\n",
      "Epoch : 1800, Loss : 0.3594196237724971\n",
      "Epoch : 2000, Loss : 0.35877829521411886\n",
      "Epoch : 2200, Loss : 0.3583774852490193\n",
      "Epoch : 2400, Loss : 0.3582778471861257\n",
      "Epoch : 2600, Loss : 0.35848639884595573\n",
      "Epoch : 2800, Loss : 0.35891026436635126\n"
     ]
    }
   ],
   "source": [
    "lambd = 20\n",
    "learning_rate = 1e-5\n",
    "epochs = 3000\n",
    "ver_iter = 200\n",
    "\n",
    "\n",
    "loss_history, w = batch_train(X_train, y_train, epochs, learning_rate, lambd, ver_iter)"
   ]
  },
  {
   "cell_type": "code",
   "execution_count": 20,
   "metadata": {
    "ExecuteTime": {
     "end_time": "2019-03-12T02:00:46.931839Z",
     "start_time": "2019-03-12T02:00:46.649874Z"
    }
   },
   "outputs": [
    {
     "data": {
      "image/png": "[encoded data removed]",
      "text/plain": [
       "<Figure size 576x432 with 1 Axes>"
      ]
     },
     "metadata": {
      "needs_background": "light"
     },
     "output_type": "display_data"
    }
   ],
   "source": [
    "plt.figure(figsize=(8,6))\n",
    "plt.plot(np.arange(epochs), loss_history)\n",
    "plt.xlabel('Epochs')\n",
    "plt.ylabel('Total Loss')\n",
    "plt.title('Loss over Iter');"
   ]
  },
  {
   "cell_type": "markdown",
   "metadata": {},
   "source": [
    "#### 2"
   ]
  },
  {
   "cell_type": "code",
   "execution_count": 25,
   "metadata": {
    "ExecuteTime": {
     "end_time": "2019-03-12T02:04:54.363777Z",
     "start_time": "2019-03-12T02:02:21.592470Z"
    }
   },
   "outputs": [
    {
     "name": "stdout",
     "output_type": "stream",
     "text": [
      "Epoch : 0, Loss : 0.6824531021836185\n",
      "Epoch : 50, Loss : 0.4005333302311936\n",
      "Epoch : 100, Loss : 0.3943315107844664\n",
      "Epoch : 150, Loss : 0.37856740384533805\n",
      "Epoch : 200, Loss : 0.36443940638672173\n",
      "Epoch : 250, Loss : 0.38382076447463204\n",
      "Epoch : 300, Loss : 0.3676065632479762\n",
      "Epoch : 350, Loss : 0.37107162363801804\n",
      "Epoch : 400, Loss : 0.3680683299852609\n",
      "Epoch : 450, Loss : 0.37214659447757664\n"
     ]
    }
   ],
   "source": [
    "lambd = 20\n",
    "learning_rate = 1e-5\n",
    "epochs = 500\n",
    "ver_iter = 50\n",
    "\n",
    "loss_history, w = sgd_train(X_train, y_train, epochs, learning_rate, lambd, ver_iter)"
   ]
  },
  {
   "cell_type": "code",
   "execution_count": 26,
   "metadata": {
    "ExecuteTime": {
     "end_time": "2019-03-12T02:04:54.694136Z",
     "start_time": "2019-03-12T02:04:54.367194Z"
    }
   },
   "outputs": [
    {
     "data": {
      "image/png": "[encoded data removed]",
      "text/plain": [
       "<Figure size 576x432 with 1 Axes>"
      ]
     },
     "metadata": {
      "needs_background": "light"
     },
     "output_type": "display_data"
    }
   ],
   "source": [
    "plt.figure(figsize=(8,6))\n",
    "plt.plot(np.arange(epochs), loss_history)\n",
    "plt.xlabel('Epochs')\n",
    "plt.ylabel('Total Loss')\n",
    "plt.title('Loss over Iter');"
   ]
  },
  {
   "cell_type": "markdown",
   "metadata": {},
   "source": [
    "#### 4.3"
   ]
  },
  {
   "cell_type": "code",
   "execution_count": 37,
   "metadata": {
    "ExecuteTime": {
     "end_time": "2019-03-12T02:23:28.103319Z",
     "start_time": "2019-03-12T02:22:24.555735Z"
    },
    "scrolled": true
   },
   "outputs": [
    {
     "name": "stdout",
     "output_type": "stream",
     "text": [
      "Epoch : 50, Loss : 0.6554243067919676\n",
      "Epoch : 100, Loss : 0.6566135762725961\n",
      "Epoch : 150, Loss : 0.6579141985584901\n",
      "Epoch : 200, Loss : 0.6559827054440673\n",
      "0.764\n"
     ]
    },
    {
     "data": {
      "image/png": "[encoded data removed]",
      "text/plain": [
       "<Figure size 576x432 with 1 Axes>"
      ]
     },
     "metadata": {
      "needs_background": "light"
     },
     "output_type": "display_data"
    }
   ],
   "source": [
    "def sgd_train(X, y, epochs, learning_rate, lambd, ver_iter=50):\n",
    "    \n",
    "    w = np.zeros(X.shape[1])\n",
    "\n",
    "    loss_history = []\n",
    "    \n",
    "    n = X.shape[0]\n",
    "    \n",
    "    for i in range(1, epochs+1):\n",
    "        cost = 0\n",
    "        \n",
    "        learning_rate = learning_rate * (1 / i)\n",
    "        \n",
    "        for j in range(n):\n",
    "\n",
    "            p = np.random.randint(0, n)\n",
    "\n",
    "            dat = X[[p]]\n",
    "            lab = y[[p]]\n",
    "\n",
    "            d = deriv(dat, w, lab, lambd) / n\n",
    "            w  = w - learning_rate * d\n",
    "\n",
    "            cost += loss(dat, w, lab, lambd)\n",
    "            \n",
    "        cost = cost / n\n",
    "        \n",
    "        loss_history.append(cost)\n",
    "        \n",
    "        if ver_iter is not None and i % ver_iter == 0:\n",
    "        \n",
    "            print(f'Epoch : {i}, Loss : {cost}')\n",
    "            \n",
    "        \n",
    "    pred = predict(X_val, w)\n",
    "    \n",
    "    print(check_accuracy(pred, y_val))\n",
    "    \n",
    "    return loss_history, w\n",
    "\n",
    "\n",
    "lambd = 20\n",
    "epochs = 200\n",
    "ver_iter = 50\n",
    "learning_rate = 1e-5\n",
    "\n",
    "loss_history, w = sgd_train(X_train, y_train, epochs, learning_rate, lambd, ver_iter)\n",
    "\n",
    "\n",
    "plt.figure(figsize=(8,6))\n",
    "plt.plot(np.arange(epochs), loss_history)\n",
    "plt.xlabel('Epochs')\n",
    "plt.ylabel('Total Loss')\n",
    "plt.title('Loss over Iter');"
   ]
  },
  {
   "cell_type": "markdown",
   "metadata": {},
   "source": [
    "### Submission"
   ]
  },
  {
   "cell_type": "code",
   "execution_count": 64,
   "metadata": {
    "ExecuteTime": {
     "end_time": "2019-03-12T06:13:52.903571Z",
     "start_time": "2019-03-12T06:13:52.897577Z"
    }
   },
   "outputs": [],
   "source": [
    "def loss(X, w, y, lambd):\n",
    "    \n",
    "    r = X @ w\n",
    "    \n",
    "    t = 10\n",
    "    \n",
    "    u1 = -scipy.log(1 + scipy.exp(-r))\n",
    "    u2 = scipy.log(1 - sigmoid(r))\n",
    "    \n",
    "    u1[r > t] = 0\n",
    "    u2[r < -t] = 0\n",
    "    \n",
    "    ret = (np.dot(y, u1) + np.dot((1 - y), u2)) / X.shape[0]\n",
    "\n",
    "    return lambd * np.dot(w,w) - ret"
   ]
  },
  {
   "cell_type": "code",
   "execution_count": 115,
   "metadata": {
    "ExecuteTime": {
     "end_time": "2019-03-12T06:31:28.908988Z",
     "start_time": "2019-03-12T06:31:21.037080Z"
    }
   },
   "outputs": [
    {
     "name": "stdout",
     "output_type": "stream",
     "text": [
      "Train : 0.98843, Validation : 0.99306\n"
     ]
    }
   ],
   "source": [
    "dat = sio.loadmat('./data.mat')\n",
    "\n",
    "X = pd.DataFrame(dat['X'])\n",
    "y = dat['y'].reshape(-1)\n",
    "\n",
    "X = X[(X < X.quantile(.975)) & (X > X.quantile(.05))].dropna()\n",
    "X = (X - X.min()) / (X.max() - X.min())\n",
    "y = y[X.index.values]\n",
    "X['y'] = y\n",
    "\n",
    "X, X_test, y, y_test = split(np.array(X), .1)\n",
    "\n",
    "\n",
    "X_train, X_val, y_train, y_val = split(np.hstack((X, y.reshape(-1, 1))), .1)\n",
    "\n",
    "lambd = 300\n",
    "learning_rate = 1e-1\n",
    "epochs = 20000\n",
    "ver_iter = None\n",
    "\n",
    "loss_history, w = batch_train(X_train, y_train, epochs, learning_rate, lambd, ver_iter)\n",
    "\n",
    "print(f'Train : {check_accuracy(predict(X_train, w), y_train)}, Validation : {check_accuracy(predict(X_val, w), y_val)}')"
   ]
  },
  {
   "cell_type": "code",
   "execution_count": 123,
   "metadata": {
    "ExecuteTime": {
     "end_time": "2019-03-12T06:33:31.307923Z",
     "start_time": "2019-03-12T06:33:27.456930Z"
    }
   },
   "outputs": [
    {
     "name": "stdout",
     "output_type": "stream",
     "text": [
      "Train : 0.99306, Validation : 1.0\n"
     ]
    }
   ],
   "source": [
    "dat = sio.loadmat('./data.mat')\n",
    "\n",
    "X = pd.DataFrame(dat['X'])\n",
    "y = dat['y'].reshape(-1)\n",
    "\n",
    "X = X[(X < X.quantile(.975)) & (X > X.quantile(.05))].dropna()\n",
    "X = (X - X.min()) / (X.max() - X.min())\n",
    "y = y[X.index.values]\n",
    "X['y'] = y\n",
    "\n",
    "X, X_test, y, y_test = split(np.array(X), .1)\n",
    "\n",
    "\n",
    "X_train, X_val, y_train, y_val = split(np.hstack((X, y.reshape(-1, 1))), .1)\n",
    "\n",
    "lambd = 300\n",
    "learning_rate = 1e-1\n",
    "epochs = 20000\n",
    "ver_iter = None\n",
    "\n",
    "loss_history, w = batch_train(X_train, y_train, epochs, learning_rate, lambd, ver_iter)\n",
    "\n",
    "print(f'Train : {check_accuracy(predict(X_train, w), y_train)}, Validation : {check_accuracy(predict(X_val, w), y_val)}')"
   ]
  },
  {
   "cell_type": "code",
   "execution_count": 124,
   "metadata": {
    "ExecuteTime": {
     "end_time": "2019-03-12T06:33:44.305531Z",
     "start_time": "2019-03-12T06:33:44.294531Z"
    }
   },
   "outputs": [
    {
     "data": {
      "text/plain": [
       "1.0"
      ]
     },
     "execution_count": 124,
     "metadata": {},
     "output_type": "execute_result"
    }
   ],
   "source": [
    "pred = predict(X_test, w)\n",
    "check_accuracy(pred, y_test)"
   ]
  },
  {
   "cell_type": "markdown",
   "metadata": {},
   "source": [
    "#### Submit"
   ]
  },
  {
   "cell_type": "code",
   "execution_count": 113,
   "metadata": {
    "ExecuteTime": {
     "end_time": "2019-03-12T06:30:21.098280Z",
     "start_time": "2019-03-12T06:30:21.067281Z"
    }
   },
   "outputs": [],
   "source": [
    "test = dat['X_test']\n",
    "\n",
    "pred = predict(test, w)\n",
    "pred = pred.astype(int)\n",
    "\n",
    "sub = pd.DataFrame(pred, columns=['Category'], index=np.arange(1, len(pred)+1, 1), dtype=int)\n",
    "sub.index.name = 'Id'\n",
    "\n",
    "sub.to_csv('./submission.csv')"
   ]
  }
 ],
 "metadata": {
  "kernelspec": {
   "display_name": "Python 3",
   "language": "python",
   "name": "python3"
  },
  "language_info": {
   "codemirror_mode": {
    "name": "ipython",
    "version": 3
   },
   "file_extension": ".py",
   "mimetype": "text/x-python",
   "name": "python",
   "nbconvert_exporter": "python",
   "pygments_lexer": "ipython3",
   "version": "3.6.6"
  },
  "latex_envs": {
   "LaTeX_envs_menu_present": true,
   "autoclose": false,
   "autocomplete": true,
   "bibliofile": "biblio.bib",
   "cite_by": "apalike",
   "current_citInitial": 1,
   "eqLabelWithNumbers": true,
   "eqNumInitial": 1,
   "hotkeys": {
    "equation": "Ctrl-E",
    "itemize": "Ctrl-I"
   },
   "labels_anchors": false,
   "latex_user_defs": false,
   "report_style_numbering": false,
   "user_envs_cfg": false
  }
 },
 "nbformat": 4,
 "nbformat_minor": 2
}
