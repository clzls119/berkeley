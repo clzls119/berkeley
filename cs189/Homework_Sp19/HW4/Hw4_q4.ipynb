{
 "cells": [
  {
   "cell_type": "code",
   "execution_count": 1,
   "metadata": {
    "ExecuteTime": {
     "end_time": "2019-03-11T00:38:46.989193Z",
     "start_time": "2019-03-11T00:38:46.642541Z"
    }
   },
   "outputs": [],
   "source": [
    "import sys\n",
    "if sys.version_info[0] < 3:\n",
    "    raise Exception(\"Python 3 not detected.\")\n",
    "import numpy as np\n",
    "import matplotlib.pyplot as plt\n",
    "from sklearn import svm\n",
    "import scipy\n",
    "from scipy import io\n",
    "import math"
   ]
  },
  {
   "cell_type": "code",
   "execution_count": 2,
   "metadata": {
    "ExecuteTime": {
     "end_time": "2019-03-11T00:38:47.377887Z",
     "start_time": "2019-03-11T00:38:47.373689Z"
    }
   },
   "outputs": [],
   "source": [
    "def logistic_fn(a):\n",
    "    #return 1/(1+math.exp(-a))\n",
    "    return scipy.special.expit(a)"
   ]
  },
  {
   "cell_type": "code",
   "execution_count": 3,
   "metadata": {
    "ExecuteTime": {
     "end_time": "2019-03-11T00:38:47.765354Z",
     "start_time": "2019-03-11T00:38:47.756718Z"
    }
   },
   "outputs": [
    {
     "data": {
      "text/plain": [
       "{'__header__': b'MATLAB 5.0 MAT-file Platform: posix, Created on: Sun Feb 26 19:25:34 2017',\n",
       " '__version__': '1.0',\n",
       " '__globals__': [],\n",
       " 'y': array([[0.],\n",
       "        [1.],\n",
       "        [0.],\n",
       "        ...,\n",
       "        [0.],\n",
       "        [0.],\n",
       "        [0.]]),\n",
       " 'X': array([[ 5.8  ,  0.555,  0.26 , ...,  0.46 ,  9.1  ,  0.5  ],\n",
       "        [ 6.3  ,  0.36 ,  0.19 , ...,  0.52 , 12.7  ,  0.6  ],\n",
       "        [ 6.4  ,  0.21 ,  0.5  , ...,  0.43 ,  8.8  ,  0.5  ],\n",
       "        ...,\n",
       "        [ 7.3  ,  0.2  ,  0.37 , ...,  0.49 , 10.9  ,  0.6  ],\n",
       "        [ 8.5  ,  0.25 ,  0.27 , ...,  0.33 , 12.   ,  0.6  ],\n",
       "        [ 6.6  ,  0.36 ,  0.21 , ...,  0.41 ,  9.9  ,  0.6  ]]),\n",
       " 'description': array(['fixed acidity       ', 'volatile acidity    ',\n",
       "        'citric acid         ', 'residual sugar      ',\n",
       "        'chlorides           ', 'free sulfur dioxide ',\n",
       "        'total sulfur dioxide', 'density             ',\n",
       "        'pH                  ', 'sulphates           ',\n",
       "        'alcohol             ', 'quality             '], dtype='<U20'),\n",
       " 'X_test': array([[ 8.2 ,  0.22,  0.49, ...,  0.33, 10.6 ,  0.6 ],\n",
       "        [ 5.4 ,  0.74,  0.09, ...,  0.56, 11.6 ,  0.6 ],\n",
       "        [ 6.9 ,  0.3 ,  0.21, ...,  0.48,  9.  ,  0.5 ],\n",
       "        ...,\n",
       "        [ 6.3 ,  0.28,  0.34, ...,  0.29, 12.1 ,  0.6 ],\n",
       "        [ 7.8 ,  0.3 ,  0.74, ...,  0.52, 12.8 ,  0.6 ],\n",
       "        [ 6.8 ,  0.32,  0.18, ...,  0.41,  8.9 ,  0.5 ]])}"
      ]
     },
     "execution_count": 3,
     "metadata": {},
     "output_type": "execute_result"
    }
   ],
   "source": [
    " # Get training_data from file\n",
    "wine_data = io.loadmat(\"data.mat\")\n",
    "wine_data"
   ]
  },
  {
   "cell_type": "code",
   "execution_count": 4,
   "metadata": {
    "ExecuteTime": {
     "end_time": "2019-03-11T00:38:48.293573Z",
     "start_time": "2019-03-11T00:38:48.288594Z"
    }
   },
   "outputs": [
    {
     "data": {
      "text/plain": [
       "array(['fixed acidity       ', 'volatile acidity    ',\n",
       "       'citric acid         ', 'residual sugar      ',\n",
       "       'chlorides           ', 'free sulfur dioxide ',\n",
       "       'total sulfur dioxide', 'density             ',\n",
       "       'pH                  ', 'sulphates           ',\n",
       "       'alcohol             ', 'quality             '], dtype='<U20')"
      ]
     },
     "execution_count": 4,
     "metadata": {},
     "output_type": "execute_result"
    }
   ],
   "source": [
    "wine_data['description']"
   ]
  },
  {
   "cell_type": "code",
   "execution_count": 5,
   "metadata": {
    "ExecuteTime": {
     "end_time": "2019-03-11T00:38:49.112560Z",
     "start_time": "2019-03-11T00:38:49.105588Z"
    }
   },
   "outputs": [
    {
     "name": "stdout",
     "output_type": "stream",
     "text": [
      "(6000, 12)\n",
      "(6000, 1)\n",
      "(497, 12)\n"
     ]
    }
   ],
   "source": [
    "X_original= wine_data['X']\n",
    "print(X_original.shape)\n",
    "y_original = wine_data['y']\n",
    "print(y_original.shape)\n",
    "X_test = wine_data['X_test']\n",
    "print(X_test.shape)"
   ]
  },
  {
   "cell_type": "code",
   "execution_count": 6,
   "metadata": {
    "ExecuteTime": {
     "end_time": "2019-03-11T00:38:49.607795Z",
     "start_time": "2019-03-11T00:38:49.601035Z"
    }
   },
   "outputs": [
    {
     "name": "stdout",
     "output_type": "stream",
     "text": [
      "(6000, 12)\n",
      "(6000,)\n"
     ]
    }
   ],
   "source": [
    "# Attach label into training data to create a whole data set\n",
    "#m = len(len(y_original))\n",
    "whole_data =  np.append(X_original,y_original, axis=1)\n",
    "np.random.seed(42)\n",
    "copied_data = np.copy(whole_data)\n",
    "X, y = copied_data[:,:-1], copied_data[:,-1]\n",
    "print(X.shape)\n",
    "print(y.shape)"
   ]
  },
  {
   "cell_type": "code",
   "execution_count": 7,
   "metadata": {
    "ExecuteTime": {
     "end_time": "2019-03-11T00:38:50.150247Z",
     "start_time": "2019-03-11T00:38:50.144280Z"
    }
   },
   "outputs": [
    {
     "data": {
      "text/plain": [
       "array([0., 0., 0., 0., 0., 0., 0., 0., 0., 0., 0., 0.])"
      ]
     },
     "execution_count": 7,
     "metadata": {},
     "output_type": "execute_result"
    }
   ],
   "source": [
    "# regulation l2\n",
    "lam = 0.007\n",
    "#learning rate\n",
    "alpha = 2.0e-7\n",
    "w_int = np.zeros(12)\n",
    "w_int"
   ]
  },
  {
   "cell_type": "code",
   "execution_count": 8,
   "metadata": {
    "ExecuteTime": {
     "end_time": "2019-03-11T00:38:50.538614Z",
     "start_time": "2019-03-11T00:38:50.533330Z"
    }
   },
   "outputs": [
    {
     "data": {
      "text/plain": [
       "3.7416573867739413"
      ]
     },
     "execution_count": 8,
     "metadata": {},
     "output_type": "execute_result"
    }
   ],
   "source": [
    "# l2_of w\n",
    "w_test = np.array([1,2,3])\n",
    "from numpy import linalg as LA\n",
    "l2_w = LA.norm(w_int)\n",
    "l2_test = LA.norm(w_test)\n",
    "l2_test"
   ]
  },
  {
   "cell_type": "code",
   "execution_count": 9,
   "metadata": {
    "ExecuteTime": {
     "end_time": "2019-03-11T00:38:50.884048Z",
     "start_time": "2019-03-11T00:38:50.879993Z"
    }
   },
   "outputs": [],
   "source": [
    "# Define hypothesis function\n",
    "def hypothesis(X,w):\n",
    "    #result = 0\n",
    "    return logistic_fn(np.dot(X,w.T))"
   ]
  },
  {
   "cell_type": "markdown",
   "metadata": {},
   "source": [
    "#### Problem 4.1 - Batch Gradient Descent"
   ]
  },
  {
   "cell_type": "code",
   "execution_count": 10,
   "metadata": {
    "ExecuteTime": {
     "end_time": "2019-03-11T00:38:51.721451Z",
     "start_time": "2019-03-11T00:38:51.681335Z"
    }
   },
   "outputs": [
    {
     "name": "stdout",
     "output_type": "stream",
     "text": [
      "0.6931471805600127\n"
     ]
    }
   ],
   "source": [
    "m = len(y)\n",
    "def Cost_Fn(X,y,w,m):\n",
    "    sum_errors = 0\n",
    "    for i in range(m):\n",
    "        xi = X[i]\n",
    "        hi = hypothesis(xi,w)\n",
    "        if y[i] == 1:\n",
    "            #print(\"y == 1: hi is\", hi)\n",
    "            if hi < -5:\n",
    "                errors = y[i]*hi\n",
    "            elif hi > 5:\n",
    "                errors = 0\n",
    "            else:\n",
    "                errors = y[i]*np.log(hi)\n",
    "        if y[i] == 0:\n",
    "            if hi > 7:\n",
    "                errors = (1 -y[i])*(-hi)\n",
    "            elif hi < -6:\n",
    "                errors = 0\n",
    "            else:\n",
    "                errors = (1 -y[i])*np.log(1-hi)\n",
    "        sum_errors += errors\n",
    "    J = lam*(LA.norm(w))**2 -(1/m)*sum_errors\n",
    "    return J\n",
    "print(Cost_Fn(X,y,w_int,m))"
   ]
  },
  {
   "cell_type": "code",
   "execution_count": 11,
   "metadata": {
    "ExecuteTime": {
     "end_time": "2019-03-11T00:38:52.860427Z",
     "start_time": "2019-03-11T00:38:52.856365Z"
    }
   },
   "outputs": [],
   "source": [
    "def Cost_Fn_Derivative_BGD(X,y,w,j,m,alpha):\n",
    "    sum_errors = 0\n",
    "    for i in range(m):\n",
    "        xi = X[i]\n",
    "        xij = xi[j]\n",
    "        hi = hypothesis(X[i],w)\n",
    "        error = (hi - y[i])*xij\n",
    "        sum_errors += error\n",
    "    m = len(y)\n",
    "    const = float(alpha)/float(m)\n",
    "    J = 2*lam*LA.norm(w) + const*sum_errors\n",
    "    return J"
   ]
  },
  {
   "cell_type": "code",
   "execution_count": 12,
   "metadata": {
    "ExecuteTime": {
     "end_time": "2019-03-11T00:38:54.319281Z",
     "start_time": "2019-03-11T00:38:54.314431Z"
    }
   },
   "outputs": [],
   "source": [
    "def gradient_descent_BGD(X,y,w,m,alpha):\n",
    "    new_w = np.zeros(len(w))\n",
    "    const = alpha/m\n",
    "    for j in range(len(w)):\n",
    "        CFDerivative = Cost_Fn_Derivative_BGD(X,y,w,j,m,alpha)\n",
    "        new_w_value = w[j] - CFDerivative\n",
    "        new_w[j] = new_w_value\n",
    "    return new_w"
   ]
  },
  {
   "cell_type": "code",
   "execution_count": 13,
   "metadata": {
    "ExecuteTime": {
     "end_time": "2019-03-11T00:38:58.185819Z",
     "start_time": "2019-03-11T00:38:58.177716Z"
    }
   },
   "outputs": [],
   "source": [
    "w = w_int\n",
    "cost_each_iter = {}\n",
    "lst_w = {}\n",
    "def Logistic_Regression_BGD(X,y,alpha,w,num_iters):\n",
    "    m = len(y)\n",
    "    for x in range(num_iters):\n",
    "        new_w = gradient_descent_BGD(X,y,w,m,alpha)\n",
    "        w = new_w\n",
    "        if x%50 == 0:\n",
    "            cost_fn = Cost_Fn(X,y,w,m)\n",
    "            cost_each_iter[x] = cost_fn\n",
    "            lst_w[x] = w\n",
    "            print(\"Cost for iteration {} is {}\".format(x,cost_fn))"
   ]
  },
  {
   "cell_type": "code",
   "execution_count": 14,
   "metadata": {
    "ExecuteTime": {
     "end_time": "2019-03-11T00:39:06.098397Z",
     "start_time": "2019-03-11T00:39:06.092314Z"
    }
   },
   "outputs": [
    {
     "data": {
      "text/plain": [
       "2e-07"
      ]
     },
     "execution_count": 14,
     "metadata": {},
     "output_type": "execute_result"
    }
   ],
   "source": [
    "alpha"
   ]
  },
  {
   "cell_type": "code",
   "execution_count": 16,
   "metadata": {
    "ExecuteTime": {
     "end_time": "2019-03-11T00:40:42.044450Z",
     "start_time": "2019-03-11T00:40:01.393880Z"
    }
   },
   "outputs": [
    {
     "name": "stdout",
     "output_type": "stream",
     "text": [
      "Cost for iteration 0 is 0.6931240249379577\n",
      "Cost for iteration 50 is 0.6909143764263569\n",
      "Cost for iteration 100 is 0.6769474176025362\n",
      "Cost for iteration 150 is 0.5603252635378848\n",
      "Cost for iteration 200 is 0.6010321397500638\n"
     ]
    }
   ],
   "source": [
    "alpha = 1e-08\n",
    "max_iter = 250\n",
    "w = w_int\n",
    "Logistic_Regression_BGD(X,y,alpha,w,max_iter)"
   ]
  },
  {
   "cell_type": "code",
   "execution_count": 16,
   "metadata": {},
   "outputs": [
    {
     "name": "stdout",
     "output_type": "stream",
     "text": [
      "{}\n"
     ]
    }
   ],
   "source": [
    "print(cost_each_iter)"
   ]
  },
  {
   "cell_type": "code",
   "execution_count": null,
   "metadata": {},
   "outputs": [],
   "source": []
  },
  {
   "cell_type": "code",
   "execution_count": null,
   "metadata": {},
   "outputs": [],
   "source": []
  }
 ],
 "metadata": {
  "kernelspec": {
   "display_name": "Python 3",
   "language": "python",
   "name": "python3"
  },
  "language_info": {
   "codemirror_mode": {
    "name": "ipython",
    "version": 3
   },
   "file_extension": ".py",
   "mimetype": "text/x-python",
   "name": "python",
   "nbconvert_exporter": "python",
   "pygments_lexer": "ipython3",
   "version": "3.6.6"
  },
  "latex_envs": {
   "LaTeX_envs_menu_present": true,
   "autoclose": false,
   "autocomplete": true,
   "bibliofile": "biblio.bib",
   "cite_by": "apalike",
   "current_citInitial": 1,
   "eqLabelWithNumbers": true,
   "eqNumInitial": 1,
   "hotkeys": {
    "equation": "Ctrl-E",
    "itemize": "Ctrl-I"
   },
   "labels_anchors": false,
   "latex_user_defs": false,
   "report_style_numbering": false,
   "user_envs_cfg": false
  }
 },
 "nbformat": 4,
 "nbformat_minor": 2
}
