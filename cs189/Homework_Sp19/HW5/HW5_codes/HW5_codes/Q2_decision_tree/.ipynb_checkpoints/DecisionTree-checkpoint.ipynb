{
 "cells": [
  {
   "cell_type": "code",
   "execution_count": 1,
   "metadata": {
    "ExecuteTime": {
     "end_time": "2019-04-03T18:09:55.315646Z",
     "start_time": "2019-04-03T18:09:53.788138Z"
    }
   },
   "outputs": [],
   "source": [
    "from collections import Counter\n",
    "\n",
    "import numpy as np\n",
    "from numpy import genfromtxt\n",
    "import pandas as pd\n",
    "import scipy.io\n",
    "from scipy import stats\n",
    "import matplotlib.pyplot as plt\n",
    "\n",
    "\n",
    "import random"
   ]
  },
  {
   "cell_type": "code",
   "execution_count": 2,
   "metadata": {
    "ExecuteTime": {
     "end_time": "2019-04-03T18:09:55.962715Z",
     "start_time": "2019-04-03T18:09:55.844643Z"
    }
   },
   "outputs": [],
   "source": [
    "class DecisionTree:\n",
    "    \n",
    "    def __init__(self, max_depth=4, prune=True, threshold=.1, shuffle_features=False, n_random_features=None):\n",
    "        \n",
    "        self.left = None\n",
    "        self.right = None\n",
    "        self.label = None\n",
    "        self.best_feature = None\n",
    "        self.best_split_point = None\n",
    "        self.best_gain = None\n",
    "        self.n_features = None\n",
    "        \n",
    "        self.n_random_features = n_random_features\n",
    "        self.shuffle_features = shuffle_features\n",
    "        self.threshold = threshold\n",
    "        self.prune = prune\n",
    "        self.max_depth = max_depth\n",
    "        \n",
    "        \n",
    "        \n",
    "    @staticmethod\n",
    "    def gini_impurity(y):\n",
    "\n",
    "        counter = Counter(y)\n",
    "        impurity = 1 - sum([(counter[k] / sum(counter.values()))**2 for k in counter.keys()])\n",
    "        \n",
    "        return impurity\n",
    "    \n",
    "    \n",
    "    def _split_point(self, X, y):\n",
    "        \n",
    "        best_feature = None\n",
    "        best_split_point = None\n",
    "        best_gain = 0\n",
    "        \n",
    "        self.n_features = X.shape[1]\n",
    "        \n",
    "        features = np.arange(self.n_features)\n",
    "        \n",
    "        # for random forest\n",
    "        if self.shuffle_features:\n",
    "            \n",
    "            if self.n_random_features is None:\n",
    "                \n",
    "                self.n_random_features = int(np.sqrt(self.n_features))\n",
    "                \n",
    "            features = np.random.choice(features, self.n_random_features, replace=False)\n",
    "\n",
    "            \n",
    "        for col in features:\n",
    "\n",
    "            for split_point in np.unique(X[:, col]):\n",
    "                \n",
    "                current_impurity = self.gini_impurity(y)\n",
    "\n",
    "                left_y = y[X[:, col] < split_point]\n",
    "                right_y = y[X[:, col] >= split_point]\n",
    "\n",
    "                left_gini = self.gini_impurity(left_y)\n",
    "                right_gini = self.gini_impurity(right_y)\n",
    "\n",
    "                left_weight = left_y.shape[0] / X.shape[0]\n",
    "                right_weight = right_y.shape[0] / X.shape[0]\n",
    "\n",
    "                impurity = left_weight * left_gini + right_gini * right_weight\n",
    "                \n",
    "                # Compare current impurity with child nodes.\n",
    "                # Higher gain => Better\n",
    "                gain = current_impurity - impurity\n",
    "                \n",
    "                if gain > best_gain:\n",
    "                    best_gain = gain\n",
    "                    best_feature = col\n",
    "                    best_split_point = split_point\n",
    "\n",
    "        self.best_gain = best_gain\n",
    "        self.best_feature = best_feature\n",
    "        self.best_split_point = best_split_point\n",
    "        \n",
    "        \n",
    "        \n",
    "    def fit(self, X, y):\n",
    "        \n",
    "        self._fit(X, y)\n",
    "        \n",
    "        if self.prune:\n",
    "            self.prune_tree(y)\n",
    "    \n",
    "    \n",
    "    \n",
    "    def _fit(self, X, y):\n",
    "\n",
    "        if self.max_depth > 0:\n",
    "            \n",
    "            self._split_point(X, y)\n",
    "            \n",
    "            # No split is done -> splitting doesn't produce higher accuracy\n",
    "            if self.best_feature is None:\n",
    "                \n",
    "                self.label = self._get_label(y)\n",
    "                return\n",
    "                \n",
    "                \n",
    "            left_X = X[X[:, self.best_feature] < self.best_split_point, :]\n",
    "            left_y = y[X[:, self.best_feature] < self.best_split_point]\n",
    "\n",
    "            right_X = X[X[:, self.best_feature] >= self.best_split_point, :]\n",
    "            right_y = y[X[:, self.best_feature] >= self.best_split_point]                \n",
    "                \n",
    "            # if one node has all or no points, no split is needed\n",
    "            if len(left_y) == 0 or len(right_y) == 0:\n",
    "                \n",
    "                self.label = self._get_label(y)\n",
    "                self.best_feature = None\n",
    "                self.best_split_point = None\n",
    "                \n",
    "            else:\n",
    "                \n",
    "                self.left = DecisionTree(max_depth=self.max_depth-1, prune=self.prune, threshold=self.threshold, \n",
    "                                             n_random_features=self.n_random_features, shuffle_features=self.shuffle_features)\n",
    "                    \n",
    "                self.right = DecisionTree(max_depth=self.max_depth-1, prune=self.prune, threshold=self.threshold, \n",
    "                                              n_random_features=self.n_random_features, shuffle_features=self.shuffle_features)\n",
    "\n",
    "                self.left._fit(left_X, left_y)\n",
    "                self.right._fit(right_X, right_y)\n",
    "                \n",
    "             \n",
    "        # current node reached the maximum depth\n",
    "        else:\n",
    "            \n",
    "            self.label = self._get_label(y)\n",
    "            \n",
    "            \n",
    "    def _get_label(self, y):\n",
    "        counter = Counter(y)\n",
    "        return int(max(counter.items(), key=lambda x: x[1])[0])\n",
    "            \n",
    "            \n",
    "    def predict(self, X):\n",
    "        \n",
    "        return np.array([self._predict(x) for x in X])\n",
    "    \n",
    "    \n",
    "    def _predict(self, x):\n",
    "        \n",
    "        # leaf nodes\n",
    "        if self.max_depth == 0 or self.best_feature is None:\n",
    "            \n",
    "            return self.label\n",
    "        \n",
    "        else:\n",
    "            \n",
    "            if self.left is None or self.right is None:\n",
    "                \n",
    "                return self.label\n",
    "            \n",
    "\n",
    "            if x[self.best_feature] < self.best_split_point:\n",
    "\n",
    "                return self.left._predict(x)\n",
    "\n",
    "            return self.right._predict(x)\n",
    "                \n",
    "        \n",
    "    \n",
    "    def cross_entropy(self, y, pred):\n",
    "\n",
    "        p = sum((pred==1)) / len(pred)\n",
    "\n",
    "        return -(y*np.log(p) + (1-y)*np.log(1-p))\n",
    "        \n",
    "        \n",
    "    def prune_tree(self, y):\n",
    "        \n",
    "        # base case : leaf node\n",
    "        if self.best_feature is None:\n",
    "            return\n",
    "        \n",
    "        \n",
    "        if self.left is not None:\n",
    "            self.left.prune_tree(y)\n",
    "            \n",
    "        if self.right is not None:\n",
    "            self.right.prune_tree(y)\n",
    "            \n",
    "        if self.best_gain < self.threshold:\n",
    "            self.left = self.right = None\n",
    "            self.best_feature = self.best_split_point = self.impurity = None\n",
    "            self.label = self._get_label(y)\n",
    "        \n",
    "        \n",
    "        \n",
    "    def loss(self, y, pred):\n",
    "        \n",
    "        return self.cross_entropy(y, pred).sum() / len(y)\n",
    "    \n",
    "    \n",
    "    def accuracy(self, X, y):\n",
    "        \n",
    "        pred = self.predict(X)\n",
    "        return sum(y==pred) / len(y)\n",
    "    \n",
    "    \n",
    "    \n",
    "    def __repr__(self):\n",
    "        \n",
    "        return self._show_tree(0)\n",
    "    \n",
    "    def _show_tree(self, d):\n",
    "        \n",
    "        if self.max_depth >= 0:\n",
    "            \n",
    "            indent = '  ' * d\n",
    "\n",
    "            tree = f'\\n{indent}Depth : {d}, Split Feature : {self.best_feature}, Split Point : {self.best_split_point}, Gain : {self.best_gain}'\n",
    "            left = right = label = ''\n",
    "            \n",
    "            if self.left is not None:\n",
    "                left = self.left._show_tree(d+1)\n",
    "                \n",
    "            if self.right is not None:\n",
    "                right = self.right._show_tree(d+1)\n",
    "                \n",
    "            if self.left is None and self.right is None:\n",
    "                return f'\\n{indent}Depth : {d}, Label : {self.label}'\n",
    "                \n",
    "            else:\n",
    "                return tree + left + right\n",
    "        \n",
    "     \n",
    "    \n",
    "    \n",
    "class RandomForest():\n",
    "    \n",
    "    def __init__(self, max_depth=4, n_estimators=5, threshold=.02, prune=False, n_random_features=None, bootstrap=True):\n",
    "        \n",
    "        self.trees = []\n",
    "        \n",
    "        self.n_estimators = n_estimators\n",
    "        self.threshold = threshold\n",
    "        self.prune = prune\n",
    "        self.max_depth = max_depth\n",
    "        self.n_random_features = n_random_features\n",
    "        self.bootstrap = bootstrap\n",
    "\n",
    "    def fit(self, X, y):\n",
    "        \n",
    "        if self.n_random_features is None:\n",
    "            self.n_random_features = int(np.sqrt(X.shape[1]))\n",
    "\n",
    "        for i in range(self.n_estimators):\n",
    "            \n",
    "            tree = DecisionTree(max_depth=self.max_depth, prune=self.prune, threshold=self.threshold,\n",
    "                                      shuffle_features=True, n_random_features=self.n_random_features)\n",
    "            \n",
    "            if self.bootstrap:\n",
    "                idx = np.random.choice(np.arange(X.shape[0]), int(X.shape[0]*.8))\n",
    "                data, label = X[idx], y[idx]\n",
    "            \n",
    "                tree.fit(data, label)\n",
    "            else:\n",
    "                tree.fit(X, y)\n",
    "            self.trees.append(tree)\n",
    "        \n",
    "    \n",
    "    def predict(self, X):\n",
    "        \n",
    "        pred = []\n",
    "        \n",
    "        for tree in self.trees:\n",
    "            pred.append(tree.predict(X))\n",
    "            \n",
    "        pred = np.mean(pred, axis=0)\n",
    "        \n",
    "        # if higher than 0.5, it means there were more label 1 than 0.\n",
    "        pred[pred >= 0.5] = 1\n",
    "        pred[pred < 0.5] = 0\n",
    "        \n",
    "        return pred\n",
    "    \n",
    "    def accuracy(self, X, y):\n",
    "        \n",
    "        pred = self.predict(X)\n",
    "        \n",
    "        return sum(pred == y) / len(y)"
   ]
  },
  {
   "cell_type": "code",
   "execution_count": 3,
   "metadata": {
    "ExecuteTime": {
     "end_time": "2019-04-03T18:09:56.510646Z",
     "start_time": "2019-04-03T18:09:56.503646Z"
    }
   },
   "outputs": [],
   "source": [
    "def split(X, size):\n",
    "    \n",
    "    if type(size) == float:\n",
    "        size = round(len(X) * size)\n",
    "    \n",
    "    dat = X.copy()\n",
    "    \n",
    "    # for reproducibility\n",
    "    np.random.seed(24)\n",
    "    \n",
    "    # shuffle copied data\n",
    "    np.random.shuffle(dat)\n",
    "    \n",
    "    # training_data, validation_data\n",
    "    return dat[size:], dat[:size]\n",
    "\n",
    "def fillna(cols):\n",
    "    \n",
    "    for col in cols:\n",
    "        \n",
    "        data[col] = round(data[[col]].fillna(int(round(np.mean(data[col])))))"
   ]
  },
  {
   "cell_type": "code",
   "execution_count": 4,
   "metadata": {
    "ExecuteTime": {
     "end_time": "2019-04-03T18:09:57.203275Z",
     "start_time": "2019-04-03T18:09:57.176283Z"
    }
   },
   "outputs": [],
   "source": [
    "dataset = \"titanic\"\n",
    "\n",
    "if dataset == \"titanic\":\n",
    "    # Load titanic data       \n",
    "    path_train = 'datasets/titanic/titanic_training.csv'\n",
    "    data = pd.read_csv(path_train)\n",
    "    path_test = 'datasets/titanic/titanic_testing_data.csv'\n",
    "    test_data = pd.read_csv(path_test)\n",
    "    y = data['survived']\n",
    "    class_names = [\"Died\", \"Survived\"]\n",
    "\n",
    "elif dataset == \"spam\":\n",
    "    features = [\n",
    "        \"pain\", \"private\", \"bank\", \"money\", \"drug\", \"spam\", \"prescription\",\n",
    "        \"creative\", \"height\", \"featured\", \"differ\", \"width\", \"other\",\n",
    "        \"energy\", \"business\", \"message\", \"volumes\", \"revision\", \"path\",\n",
    "        \"meter\", \"memo\", \"planning\", \"pleased\", \"record\", \"out\",\n",
    "        \"semicolon\", \"dollar\", \"sharp\", \"exclamation\", \"parenthesis\",\n",
    "        \"square_bracket\", \"ampersand\"\n",
    "    ]\n",
    "    assert len(features) == 32\n",
    "\n",
    "    # Load spam data\n",
    "    path_train = 'datasets/spam-dataset/spam_data.mat'\n",
    "    data = scipy.io.loadmat(path_train)\n",
    "    X = data['training_data']\n",
    "    y = np.squeeze(data['training_labels'])\n",
    "    Z = data['test_data']\n",
    "    class_names = [\"Ham\", \"Spam\"]\n",
    "\n",
    "else:\n",
    "    raise NotImplementedError(\"Dataset %s not handled\" % dataset)"
   ]
  },
  {
   "cell_type": "markdown",
   "metadata": {},
   "source": [
    "### Titanic"
   ]
  },
  {
   "cell_type": "code",
   "execution_count": 5,
   "metadata": {
    "ExecuteTime": {
     "end_time": "2019-04-03T18:10:00.100561Z",
     "start_time": "2019-04-03T18:10:00.052569Z"
    }
   },
   "outputs": [],
   "source": [
    "fillna(['age', 'sibsp', 'parch'])\n",
    "\n",
    "# all col values are NaN\n",
    "data = data.drop(index=705).drop(['cabin', 'ticket'], axis=1)\n",
    "\n",
    "# index=38. Missing fare with pclass=3 and embakred at S\n",
    "data.loc[data['fare'].isna(), 'fare'] = data[(data['embarked'] == 'S') & (data['pclass'] == 3)]['fare'].mean()\n",
    "\n",
    "fare_by_embarked = data[data['pclass']==1][['fare', 'embarked']].groupby('embarked').mean()\n",
    "data.loc[data['embarked'].isna(), 'embarked'] = 'S'\n",
    "\n",
    "# remove outliers in fare\n",
    "data = data[data['fare'] < np.percentile(data['fare'], 97.5)]\n",
    "\n",
    "\n",
    "# test data\n",
    "test = test_data.drop(['cabin', 'ticket'], axis=1)\n",
    "test['age'] = test[['age']].fillna(data['age'].mean())"
   ]
  },
  {
   "cell_type": "code",
   "execution_count": 6,
   "metadata": {
    "ExecuteTime": {
     "end_time": "2019-04-03T18:10:02.565137Z",
     "start_time": "2019-04-03T18:10:02.262144Z"
    }
   },
   "outputs": [
    {
     "data": {
      "image/png": "[encoded data removed]",
      "text/plain": [
       "<Figure size 432x288 with 1 Axes>"
      ]
     },
     "metadata": {
      "needs_background": "light"
     },
     "output_type": "display_data"
    }
   ],
   "source": [
    "data.boxplot();"
   ]
  },
  {
   "cell_type": "code",
   "execution_count": 7,
   "metadata": {
    "ExecuteTime": {
     "end_time": "2019-04-03T18:10:02.980143Z",
     "start_time": "2019-04-03T18:10:02.946142Z"
    },
    "scrolled": true
   },
   "outputs": [],
   "source": [
    "dat = np.array(pd.get_dummies(data.copy()))\n",
    "train, valid = split(dat, 100)\n",
    "\n",
    "X_train_titanic, y_train_titanic = train[:, 1:], train[:, 0]\n",
    "X_val_titanic, y_val_titanic = valid[:, 1:], valid[:, 0]"
   ]
  },
  {
   "cell_type": "code",
   "execution_count": 8,
   "metadata": {
    "ExecuteTime": {
     "end_time": "2019-04-03T18:10:03.733526Z",
     "start_time": "2019-04-03T18:10:03.393513Z"
    }
   },
   "outputs": [],
   "source": [
    "tree_titanic = DecisionTree(max_depth=2, threshold=.015)\n",
    "tree_titanic.fit(X_train_titanic, y_train_titanic)"
   ]
  },
  {
   "cell_type": "code",
   "execution_count": 9,
   "metadata": {
    "ExecuteTime": {
     "end_time": "2019-04-03T18:10:22.565598Z",
     "start_time": "2019-04-03T18:10:03.737486Z"
    }
   },
   "outputs": [],
   "source": [
    "rf_titanic = RandomForest(max_depth=1000, n_estimators=100)\n",
    "rf_titanic.fit(X_train_titanic, y_train_titanic)"
   ]
  },
  {
   "cell_type": "code",
   "execution_count": 10,
   "metadata": {
    "ExecuteTime": {
     "end_time": "2019-04-03T18:10:22.871511Z",
     "start_time": "2019-04-03T18:10:22.569485Z"
    }
   },
   "outputs": [],
   "source": [
    "X_test_titanic = np.array(pd.get_dummies(test))\n",
    "\n",
    "pred = rf_titanic.predict(X_test_titanic)\n",
    "pred = pred.astype(int)\n",
    "\n",
    "sub = pd.DataFrame(pred, columns=['Category'], index=np.arange(1, len(pred)+1, 1), dtype=int)\n",
    "sub.index.name = 'Id'\n",
    "\n",
    "sub.to_csv('./submission.csv')"
   ]
  },
  {
   "cell_type": "markdown",
   "metadata": {},
   "source": [
    "### Spam-Ham"
   ]
  },
  {
   "cell_type": "code",
   "execution_count": 11,
   "metadata": {
    "ExecuteTime": {
     "end_time": "2019-04-03T18:10:22.890483Z",
     "start_time": "2019-04-03T18:10:22.875487Z"
    }
   },
   "outputs": [],
   "source": [
    "dataset = \"spam\"\n",
    "\n",
    "if dataset == \"titanic\":\n",
    "    # Load titanic data       \n",
    "    path_train = 'datasets/titanic/titanic_training.csv'\n",
    "    data = pd.read_csv(path_train)\n",
    "    path_test = 'datasets/titanic/titanic_testing_data.csv'\n",
    "    test_data = pd.read_csv(path_test)\n",
    "    y = data['survived']\n",
    "    class_names = [\"Died\", \"Survived\"]\n",
    "\n",
    "elif dataset == \"spam\":\n",
    "    features = [\n",
    "        \"pain\", \"private\", \"bank\", \"money\", \"drug\", \"spam\", \"prescription\",\n",
    "        \"creative\", \"height\", \"featured\", \"differ\", \"width\", \"other\",\n",
    "        \"energy\", \"business\", \"message\", \"volumes\", \"revision\", \"path\",\n",
    "        \"meter\", \"memo\", \"planning\", \"pleased\", \"record\", \"out\",\n",
    "        \"semicolon\", \"dollar\", \"sharp\", \"exclamation\", \"parenthesis\",\n",
    "        \"square_bracket\", \"ampersand\"\n",
    "    ]\n",
    "    assert len(features) == 32\n",
    "\n",
    "    # Load spam data\n",
    "    path_train = 'datasets/spam-dataset/spam_data.mat'\n",
    "    data = scipy.io.loadmat(path_train)\n",
    "    X = data['training_data']\n",
    "    y = np.squeeze(data['training_labels'])\n",
    "    Z = data['test_data']\n",
    "    class_names = [\"Ham\", \"Spam\"]\n",
    "\n",
    "else:\n",
    "    raise NotImplementedError(\"Dataset %s not handled\" % dataset)"
   ]
  },
  {
   "cell_type": "code",
   "execution_count": 12,
   "metadata": {
    "ExecuteTime": {
     "end_time": "2019-04-03T18:10:23.772495Z",
     "start_time": "2019-04-03T18:10:22.894484Z"
    }
   },
   "outputs": [
    {
     "data": {
      "image/png": "[encoded data removed]",
      "text/plain": [
       "<Figure size 432x288 with 1 Axes>"
      ]
     },
     "metadata": {
      "needs_background": "light"
     },
     "output_type": "display_data"
    }
   ],
   "source": [
    "plt.boxplot(X);"
   ]
  },
  {
   "cell_type": "code",
   "execution_count": 13,
   "metadata": {
    "ExecuteTime": {
     "end_time": "2019-04-03T18:10:23.793488Z",
     "start_time": "2019-04-03T18:10:23.778484Z"
    }
   },
   "outputs": [],
   "source": [
    "# outlier values for all features\n",
    "idx = np.all(X <= np.percentile(X, 97.5, axis=0), axis=1)\n",
    "\n",
    "X = X[idx]\n",
    "y = y[idx]"
   ]
  },
  {
   "cell_type": "code",
   "execution_count": 14,
   "metadata": {
    "ExecuteTime": {
     "end_time": "2019-04-03T18:10:23.822479Z",
     "start_time": "2019-04-03T18:10:23.798488Z"
    }
   },
   "outputs": [],
   "source": [
    "data = np.hstack((X, y.reshape(-1, 1)))\n",
    "train, valid = split(data, .2)\n",
    "\n",
    "X_train_spam, y_train_spam = train[:, :-2], train[:, -1]\n",
    "X_valid_spam, y_valid_spam = valid[:, :-2], valid[:, -1]\n",
    "X_test_spam = Z"
   ]
  },
  {
   "cell_type": "code",
   "execution_count": 47,
   "metadata": {
    "ExecuteTime": {
     "end_time": "2019-04-03T18:14:40.898682Z",
     "start_time": "2019-04-03T18:14:40.368658Z"
    }
   },
   "outputs": [],
   "source": [
    "tree_spam = DecisionTree(max_depth=4, threshold=.02)\n",
    "tree_spam.fit(X_train_spam, y_train_spam)"
   ]
  },
  {
   "cell_type": "code",
   "execution_count": 16,
   "metadata": {
    "ExecuteTime": {
     "end_time": "2019-04-03T18:12:20.599486Z",
     "start_time": "2019-04-03T18:10:24.509489Z"
    }
   },
   "outputs": [],
   "source": [
    "rf_spam = RandomForest(max_depth=1000, n_estimators=300, n_random_features=10)\n",
    "rf_spam.fit(X_train_spam, y_train_spam)"
   ]
  },
  {
   "cell_type": "code",
   "execution_count": 50,
   "metadata": {
    "ExecuteTime": {
     "end_time": "2019-04-03T18:17:05.783214Z",
     "start_time": "2019-04-03T18:16:49.725952Z"
    }
   },
   "outputs": [],
   "source": [
    "pred = rf_spam.predict(X_test_spam)\n",
    "pred = pred.astype(int)\n",
    "\n",
    "sub = pd.DataFrame(pred, columns=['Category'], index=np.arange(1, len(pred)+1, 1), dtype=int)\n",
    "sub.index.name = 'Id'\n",
    "\n",
    "sub.to_csv('./submission.csv')"
   ]
  },
  {
   "cell_type": "markdown",
   "metadata": {},
   "source": [
    "## 2.3"
   ]
  },
  {
   "cell_type": "markdown",
   "metadata": {},
   "source": [
    "#### 1."
   ]
  },
  {
   "cell_type": "markdown",
   "metadata": {},
   "source": [
    "I used the mean value for numerical missing values. I removed cabin and ticket as, in my opinion, would not affect much to the outcome. After that there was no nan value in categorical features."
   ]
  },
  {
   "cell_type": "markdown",
   "metadata": {},
   "source": [
    "#### 2. "
   ]
  },
  {
   "cell_type": "markdown",
   "metadata": {},
   "source": [
    "If improvement (current node's gini impurity - child nodes') was greater than .015, I stopped splitting or else kept splitting until fully grown and prune with same logic."
   ]
  },
  {
   "cell_type": "markdown",
   "metadata": {},
   "source": [
    "#### 3."
   ]
  },
  {
   "cell_type": "markdown",
   "metadata": {},
   "source": [
    "Simply used a list of decision trees each with different set of features."
   ]
  },
  {
   "cell_type": "markdown",
   "metadata": {},
   "source": [
    "#### 4. "
   ]
  },
  {
   "cell_type": "markdown",
   "metadata": {},
   "source": [
    "I don't think so."
   ]
  },
  {
   "cell_type": "markdown",
   "metadata": {},
   "source": [
    "##### 5. "
   ]
  },
  {
   "cell_type": "markdown",
   "metadata": {},
   "source": [
    "No... I'm out of ideas.. What a fooooool...."
   ]
  },
  {
   "cell_type": "markdown",
   "metadata": {},
   "source": [
    "## 2.4 Performances"
   ]
  },
  {
   "cell_type": "code",
   "execution_count": 18,
   "metadata": {
    "ExecuteTime": {
     "end_time": "2019-04-03T18:12:32.656483Z",
     "start_time": "2019-04-03T18:12:32.644523Z"
    }
   },
   "outputs": [
    {
     "name": "stdout",
     "output_type": "stream",
     "text": [
      "Decision Tree on Titanic Training : 0.7938144329896907\n",
      "Decision Tree on Titanic Validation : 0.75\n"
     ]
    }
   ],
   "source": [
    "print(f'Decision Tree on Titanic Training : {tree_titanic.accuracy(X_train_titanic, y_train_titanic)}\\n\\\n",
    "Decision Tree on Titanic Validation : {tree_titanic.accuracy(X_val_titanic, y_val_titanic)}')"
   ]
  },
  {
   "cell_type": "code",
   "execution_count": 19,
   "metadata": {
    "ExecuteTime": {
     "end_time": "2019-04-03T18:12:33.236483Z",
     "start_time": "2019-04-03T18:12:32.661490Z"
    }
   },
   "outputs": [
    {
     "name": "stdout",
     "output_type": "stream",
     "text": [
      "Random Forest on Titanic Training : 0.8751431844215349\n",
      "Random Forest on Titanic Validation : 0.76\n"
     ]
    }
   ],
   "source": [
    "print(f'Random Forest on Titanic Training : {rf_titanic.accuracy(X_train_titanic, y_train_titanic)}\\n\\\n",
    "Random Forest on Titanic Validation : {rf_titanic.accuracy(X_val_titanic, y_val_titanic)}')"
   ]
  },
  {
   "cell_type": "code",
   "execution_count": 20,
   "metadata": {
    "ExecuteTime": {
     "end_time": "2019-04-03T18:12:33.261490Z",
     "start_time": "2019-04-03T18:12:33.240487Z"
    }
   },
   "outputs": [
    {
     "name": "stdout",
     "output_type": "stream",
     "text": [
      "Decision Tree on Spam Training : 0.8002658690594882\n",
      "Decision Tree on Spam Validation : 0.8085106382978723\n"
     ]
    }
   ],
   "source": [
    "print(f'Decision Tree on Spam Training : {tree_spam.accuracy(X_train_spam, y_train_spam)}\\n\\\n",
    "Decision Tree on Spam Validation : {tree_spam.accuracy(X_valid_spam, y_valid_spam)}')"
   ]
  },
  {
   "cell_type": "code",
   "execution_count": 51,
   "metadata": {
    "ExecuteTime": {
     "end_time": "2019-04-03T18:17:13.269985Z",
     "start_time": "2019-04-03T18:17:05.787949Z"
    }
   },
   "outputs": [
    {
     "name": "stdout",
     "output_type": "stream",
     "text": [
      "Random Forest on Spam Training : 0.8348288467929544\n",
      "Random Forest on Spam Validation : 0.8058510638297872\n"
     ]
    }
   ],
   "source": [
    "print(f'Random Forest on Spam Training : {rf_spam.accuracy(X_train_spam, y_train_spam)}\\n\\\n",
    "Random Forest on Spam Validation : {rf_spam.accuracy(X_valid_spam, y_valid_spam)}')"
   ]
  },
  {
   "cell_type": "markdown",
   "metadata": {},
   "source": [
    "![titanic.png](titanic.png)"
   ]
  },
  {
   "cell_type": "markdown",
   "metadata": {},
   "source": [
    "![spam](spam.png)"
   ]
  },
  {
   "cell_type": "markdown",
   "metadata": {},
   "source": [
    "## 2.5 "
   ]
  },
  {
   "cell_type": "code",
   "execution_count": 22,
   "metadata": {
    "ExecuteTime": {
     "end_time": "2019-04-03T18:12:42.730493Z",
     "start_time": "2019-04-03T18:12:42.717487Z"
    }
   },
   "outputs": [
    {
     "data": {
      "text/plain": [
       "array([0., 0., 0., 0., 0., 0., 0., 0., 0., 0., 0., 0., 0., 0., 0., 0., 1.,\n",
       "       0., 0., 1., 0., 0., 0., 0., 0., 0., 3., 0., 0., 1., 0.])"
      ]
     },
     "execution_count": 22,
     "metadata": {},
     "output_type": "execute_result"
    }
   ],
   "source": [
    "single_spam = X_train_spam[30]\n",
    "single_spam"
   ]
  },
  {
   "cell_type": "code",
   "execution_count": 23,
   "metadata": {
    "ExecuteTime": {
     "end_time": "2019-04-03T18:12:43.293533Z",
     "start_time": "2019-04-03T18:12:42.736486Z"
    }
   },
   "outputs": [],
   "source": [
    "dec = DecisionTree(max_depth=4, threshold=.01)\n",
    "dec.fit(X_train_spam, y_train_spam)"
   ]
  },
  {
   "cell_type": "code",
   "execution_count": 24,
   "metadata": {
    "ExecuteTime": {
     "end_time": "2019-04-03T18:12:43.302485Z",
     "start_time": "2019-04-03T18:12:43.295487Z"
    }
   },
   "outputs": [
    {
     "data": {
      "text/plain": [
       "\n",
       "Depth : 0, Split Feature : 28, Split Point : 1.0, Gain : 0.053420098256930226\n",
       "  Depth : 1, Split Feature : 29, Split Point : 1.0, Gain : 0.013287901979625094\n",
       "    Depth : 2, Split Feature : 19, Split Point : 1.0, Gain : 0.019579639101447888\n",
       "      Depth : 3, Label : 0\n",
       "      Depth : 3, Label : 0\n",
       "    Depth : 2, Label : 0\n",
       "  Depth : 1, Split Feature : 19, Split Point : 1.0, Gain : 0.046734117230732675\n",
       "    Depth : 2, Split Feature : 29, Split Point : 1.0, Gain : 0.020001679772411518\n",
       "      Depth : 3, Split Feature : 16, Split Point : 1.0, Gain : 0.021617585724248656\n",
       "        Depth : 4, Label : 1\n",
       "        Depth : 4, Label : 0\n",
       "      Depth : 3, Split Feature : 3, Split Point : 1.0, Gain : 0.0404505000061805\n",
       "        Depth : 4, Label : 0\n",
       "        Depth : 4, Label : 1\n",
       "    Depth : 2, Label : 0"
      ]
     },
     "execution_count": 24,
     "metadata": {},
     "output_type": "execute_result"
    }
   ],
   "source": [
    "dec"
   ]
  },
  {
   "cell_type": "code",
   "execution_count": 25,
   "metadata": {
    "ExecuteTime": {
     "end_time": "2019-04-03T18:12:43.330484Z",
     "start_time": "2019-04-03T18:12:43.305484Z"
    }
   },
   "outputs": [
    {
     "data": {
      "text/plain": [
       "(array([16, 19, 26, 29], dtype=int64),)"
      ]
     },
     "execution_count": 25,
     "metadata": {},
     "output_type": "execute_result"
    }
   ],
   "source": [
    "np.where(single_spam > 0)"
   ]
  },
  {
   "cell_type": "code",
   "execution_count": 26,
   "metadata": {
    "ExecuteTime": {
     "end_time": "2019-04-03T18:12:43.352484Z",
     "start_time": "2019-04-03T18:12:43.332484Z"
    }
   },
   "outputs": [
    {
     "data": {
      "text/plain": [
       "array(['volumes', 'meter', 'dollar', 'parenthesis'], dtype='<U14')"
      ]
     },
     "execution_count": 26,
     "metadata": {},
     "output_type": "execute_result"
    }
   ],
   "source": [
    "np.array(features)[np.where(single_spam>0)]"
   ]
  },
  {
   "cell_type": "code",
   "execution_count": 27,
   "metadata": {
    "ExecuteTime": {
     "end_time": "2019-04-03T18:12:43.371486Z",
     "start_time": "2019-04-03T18:12:43.354483Z"
    },
    "scrolled": true
   },
   "outputs": [
    {
     "data": {
      "text/plain": [
       "'exclamation'"
      ]
     },
     "execution_count": 27,
     "metadata": {},
     "output_type": "execute_result"
    }
   ],
   "source": [
    "features[28]"
   ]
  },
  {
   "cell_type": "code",
   "execution_count": 28,
   "metadata": {
    "ExecuteTime": {
     "end_time": "2019-04-03T18:12:43.397486Z",
     "start_time": "2019-04-03T18:12:43.376508Z"
    }
   },
   "outputs": [
    {
     "data": {
      "text/plain": [
       "array([0])"
      ]
     },
     "execution_count": 28,
     "metadata": {},
     "output_type": "execute_result"
    }
   ],
   "source": [
    "dec.predict(single_spam.reshape(1, -1))"
   ]
  },
  {
   "cell_type": "markdown",
   "metadata": {},
   "source": [
    "1. exclamation <= 1 (moved to left node)\n",
    "2. parenthesis <= 1 (moved to left)\n",
    "3. parenthesis <= 1 (moved to left)\n",
    "5. It is not a spam"
   ]
  },
  {
   "cell_type": "code",
   "execution_count": 29,
   "metadata": {
    "ExecuteTime": {
     "end_time": "2019-04-03T18:12:43.418482Z",
     "start_time": "2019-04-03T18:12:43.400484Z"
    }
   },
   "outputs": [
    {
     "data": {
      "text/plain": [
       "0.0"
      ]
     },
     "execution_count": 29,
     "metadata": {},
     "output_type": "execute_result"
    }
   ],
   "source": [
    "y_train_spam[30]"
   ]
  },
  {
   "cell_type": "markdown",
   "metadata": {},
   "source": [
    "## 2.6"
   ]
  },
  {
   "cell_type": "code",
   "execution_count": 30,
   "metadata": {
    "ExecuteTime": {
     "end_time": "2019-04-03T18:12:43.436497Z",
     "start_time": "2019-04-03T18:12:43.420481Z"
    }
   },
   "outputs": [],
   "source": [
    "titanic_train, titanic_valid = split(dat, .2)"
   ]
  },
  {
   "cell_type": "code",
   "execution_count": 31,
   "metadata": {
    "ExecuteTime": {
     "end_time": "2019-04-03T18:12:43.459545Z",
     "start_time": "2019-04-03T18:12:43.438483Z"
    }
   },
   "outputs": [
    {
     "data": {
      "text/plain": [
       "((778, 11), (195, 11))"
      ]
     },
     "execution_count": 31,
     "metadata": {},
     "output_type": "execute_result"
    }
   ],
   "source": [
    "titanic_train.shape, titanic_valid.shape"
   ]
  },
  {
   "cell_type": "code",
   "execution_count": 32,
   "metadata": {
    "ExecuteTime": {
     "end_time": "2019-04-03T18:12:50.052599Z",
     "start_time": "2019-04-03T18:12:43.465481Z"
    }
   },
   "outputs": [],
   "source": [
    "depth = np.arange(1, 50, 5)\n",
    "acc = []\n",
    "\n",
    "for d in depth:\n",
    "\n",
    "    dec = DecisionTree(max_depth=d, threshold=.015, prune=False)\n",
    "    dec.fit(titanic_train[:, :-2], titanic_train[:, -1])\n",
    "    \n",
    "    acc.append(dec.accuracy(titanic_valid[:, :-2], titanic_valid[:, -1]))"
   ]
  },
  {
   "cell_type": "code",
   "execution_count": 33,
   "metadata": {
    "ExecuteTime": {
     "end_time": "2019-04-03T18:12:50.407490Z",
     "start_time": "2019-04-03T18:12:50.054526Z"
    }
   },
   "outputs": [
    {
     "data": {
      "image/png": "[encoded data removed]",
      "text/plain": [
       "<Figure size 576x432 with 1 Axes>"
      ]
     },
     "metadata": {
      "needs_background": "light"
     },
     "output_type": "display_data"
    }
   ],
   "source": [
    "plt.figure(figsize=(8,6))\n",
    "plt.plot(depth, acc)\n",
    "plt.xlabel('depth', size=15)\n",
    "plt.ylabel('Validation Accuracy', size=15);"
   ]
  },
  {
   "cell_type": "markdown",
   "metadata": {},
   "source": [
    "Without pruning, it peaks around before the depth of 8~10 and after that, it decreases and again after some depth, it has a constant accuracy score. This is due to overfitting and after some number of depths, it will not increase the accuracy."
   ]
  },
  {
   "cell_type": "code",
   "execution_count": null,
   "metadata": {},
   "outputs": [],
   "source": [
    "`"
   ]
  }
 ],
 "metadata": {
  "kernelspec": {
   "display_name": "Python 3",
   "language": "python",
   "name": "python3"
  },
  "language_info": {
   "codemirror_mode": {
    "name": "ipython",
    "version": 3
   },
   "file_extension": ".py",
   "mimetype": "text/x-python",
   "name": "python",
   "nbconvert_exporter": "python",
   "pygments_lexer": "ipython3",
   "version": "3.6.6"
  }
 },
 "nbformat": 4,
 "nbformat_minor": 2
}
