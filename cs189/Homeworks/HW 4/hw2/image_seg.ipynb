{
 "cells": [
  {
   "cell_type": "markdown",
   "metadata": {},
   "source": [
    "# Generalized Eigenvalues and Image Segmentation"
   ]
  },
  {
   "cell_type": "markdown",
   "metadata": {},
   "source": [
    "In this exercise, we will implement an algorithm for image segmentation from a graph-theoretic approach. As a simplified problem, we will focus on separating the foreground of an image from its background. An image is described as a matrix $M$ of shape (N, M) whose values represent the gray scale color normalized between zero and one. Even though we restrict now to gray images, please note that the same algorithm could be easily extended to colored images."
   ]
  },
  {
   "cell_type": "code",
   "execution_count": null,
   "metadata": {
    "collapsed": true
   },
   "outputs": [],
   "source": [
    "import numpy as np\n",
    "from scipy import misc\n",
    "import matplotlib.pyplot as plt"
   ]
  },
  {
   "cell_type": "code",
   "execution_count": 1,
   "metadata": {
    "collapsed": true
   },
   "outputs": [],
   "source": [
    "# Question 2.1\n",
    "\n",
    "M = misc.imread(\"img_cup_small.png\", mode=\"L\") \n",
    "M = M / 255\n",
    "\n",
    "# Compute affinity matrix W and D for matrix M where \n",
    "# W[i,j] = np.exp(-abs(M[i][j] - M[n_i][n_j]) / sigma_i) * np.exp(-sqrt((i - n_i)**2 + (j - n_j)**2) / sigma_x)\n",
    "# if pixel j is a neighbor of i within radius r (where sqrt((i - n_i)**2 + (j - n_j)**2) <= r) and zero otherwise. \n",
    "r = 5\n",
    "sigma_i = 0.1\n",
    "sigma_x = 4\n",
    "W = np.zeros((M.shape[0] * M.shape[1], M.shape[0] * M.shape[1]))\n",
    "D = np.zeros(M.shape[0] * M.shape[1])"
   ]
  },
  {
   "cell_type": "markdown",
   "metadata": {},
   "source": [
    "Find the generalized eigenvector y for the eigenvector with the second smallest eigenvalue."
   ]
  },
  {
   "cell_type": "code",
   "execution_count": 2,
   "metadata": {
    "collapsed": true
   },
   "outputs": [],
   "source": [
    "# Question 2.3\n",
    "\n",
    "# TODO: find eigenvector y = D^-1/2 z\n",
    "eigv_2 = None"
   ]
  },
  {
   "cell_type": "code",
   "execution_count": null,
   "metadata": {
    "collapsed": true
   },
   "outputs": [],
   "source": [
    "# Question 2.4\n",
    "\n",
    "# TODO: Recover 3rd and 4th eigenvectors to compare segmentations. \n",
    "eigv_3 = None\n",
    "eigv_4 = None\n",
    "\n",
    "# TODO: compute median of second eigenvector\n",
    "median = None\n",
    "\n",
    "# TODO: set values greater than median to 1, less than median to zero\n",
    "segmentation_labels = None\n",
    "\n",
    "# TODO: set values greater than 0 to 1, less than 0 to zero\n",
    "segmentation_labels_2 = None"
   ]
  },
  {
   "cell_type": "markdown",
   "metadata": {},
   "source": [
    "# Binary Image Visualization"
   ]
  },
  {
   "cell_type": "code",
   "execution_count": null,
   "metadata": {
    "collapsed": true
   },
   "outputs": [],
   "source": [
    "# Show heatmaps for 2nd, 3rd and 4th smallest eigenvectors.\n",
    "plt.imshow(eigv_2.reshape((M.shape[0], M.shape[1])))\n",
    "plt.show()\n",
    "\n",
    "plt.imshow(eigv_3.reshape((M.shape[0], M.shape[1])))\n",
    "plt.show()\n",
    "\n",
    "plt.imshow(eigv_4.reshape((M.shape[0], M.shape[1])))\n",
    "plt.show()\n",
    "\n",
    "# Show original image. \n",
    "plt.imshow(M)\n",
    "plt.show()\n",
    "\n",
    "# Show segmentation labels.\n",
    "plt.imshow(segmented_labels)\n",
    "plt.show()\n",
    "\n",
    "# Show segmentation labels, thresholded at 0. \n",
    "plt.imshow(segmented_labels_2)\n",
    "plt.show()"
   ]
  }
 ],
 "metadata": {
  "anaconda-cloud": {},
  "kernelspec": {
   "display_name": "Python [default]",
   "language": "python",
   "name": "python3"
  },
  "language_info": {
   "codemirror_mode": {
    "name": "ipython",
    "version": 3
   },
   "file_extension": ".py",
   "mimetype": "text/x-python",
   "name": "python",
   "nbconvert_exporter": "python",
   "pygments_lexer": "ipython3",
   "version": "3.5.2"
  }
 },
 "nbformat": 4,
 "nbformat_minor": 1
}
