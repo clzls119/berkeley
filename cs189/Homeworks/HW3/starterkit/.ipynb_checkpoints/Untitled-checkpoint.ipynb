{
 "cells": [
  {
   "cell_type": "code",
   "execution_count": 1,
   "metadata": {
    "ExecuteTime": {
     "end_time": "2018-09-18T23:24:09.865456Z",
     "start_time": "2018-09-18T23:24:06.698392Z"
    }
   },
   "outputs": [],
   "source": [
    "#!/usr/bin/env python3\n",
    "\n",
    "import matplotlib.pyplot as plt\n",
    "import numpy as np\n",
    "from matplotlib import cm"
   ]
  },
  {
   "cell_type": "code",
   "execution_count": 2,
   "metadata": {
    "ExecuteTime": {
     "end_time": "2018-09-18T23:24:09.889439Z",
     "start_time": "2018-09-18T23:24:09.871440Z"
    }
   },
   "outputs": [],
   "source": [
    "def lstsq(A, b, lambda_=0):\n",
    "    return np.linalg.solve(A.T @ A + lambda_ * np.eye(A.shape[1]), A.T @ b)\n",
    "\n",
    "\n",
    "def heatmap(f, clip=5):\n",
    "    # example: heatmap(lambda x, y: x * x + y * y)\n",
    "    # clip: clip the function range to [-clip, clip] to generate a clean plot\n",
    "    #   set it to zero to disable this function\n",
    "\n",
    "    xx0 = xx1 = np.linspace(np.min(X), np.max(X), 72)\n",
    "    x0, x1 = np.meshgrid(xx0, xx1)\n",
    "    x0, x1 = x0.ravel(), x1.ravel()\n",
    "    z0 = f(x0, x1)\n",
    "\n",
    "    if clip:\n",
    "        z0[z0 > clip] = clip\n",
    "        z0[z0 < -clip] = -clip\n",
    "\n",
    "    plt.hexbin(x0, x1, C=z0, gridsize=50, cmap=cm.jet, bins=None)\n",
    "    plt.colorbar()\n",
    "    cs = plt.contour(\n",
    "        xx0, xx1, z0.reshape(xx0.size, xx1.size), [-2, -1, -0.5, 0, 0.5, 1, 2], cmap=cm.jet)\n",
    "    plt.clabel(cs, inline=1, fontsize=10)\n",
    "\n",
    "    pos = y[:] == +1.0\n",
    "    neg = y[:] == -1.0\n",
    "    plt.scatter(X[pos, 0], X[pos, 1], c='red', marker='+')\n",
    "    plt.scatter(X[neg, 0], X[neg, 1], c='blue', marker='v')\n",
    "    plt.show()"
   ]
  },
  {
   "cell_type": "code",
   "execution_count": 3,
   "metadata": {
    "ExecuteTime": {
     "end_time": "2018-09-18T23:24:09.965436Z",
     "start_time": "2018-09-18T23:24:09.896434Z"
    }
   },
   "outputs": [],
   "source": [
    "# choose the data you want to load\n",
    "# data = np.load('circle.npz')\n",
    "# data = np.load('heart.npz')\n",
    "data = np.load('asymmetric.npz')\n",
    "\n",
    "SPLIT = 0.8\n",
    "X = data[\"x\"]\n",
    "y = data[\"y\"]\n",
    "X /= np.max(X)  # normalize the data\n",
    "\n",
    "n_train = int(X.shape[0] * SPLIT)\n",
    "X_train = X[:n_train:, :]\n",
    "X_valid = X[n_train:, :]\n",
    "y_train = y[:n_train]\n",
    "y_valid = y[n_train:]\n",
    "\n",
    "LAMBDA = 0.001"
   ]
  },
  {
   "cell_type": "code",
   "execution_count": 4,
   "metadata": {
    "ExecuteTime": {
     "end_time": "2018-09-18T23:26:08.853230Z",
     "start_time": "2018-09-18T23:24:09.971430Z"
    }
   },
   "outputs": [
    {
     "name": "stdout",
     "output_type": "stream",
     "text": [
      "[[-0.8349977   0.63136412  0.83234739 ...  1.          1.\n",
      "   1.        ]\n",
      " [-0.50172537  0.25601801 -0.33837293 ...  1.          1.\n",
      "   1.        ]]\n"
     ]
    },
    {
     "ename": "MemoryError",
     "evalue": "",
     "output_type": "error",
     "traceback": [
      "\u001b[1;31m---------------------------------------------------------------------------\u001b[0m",
      "\u001b[1;31mMemoryError\u001b[0m                               Traceback (most recent call last)",
      "\u001b[1;32m<ipython-input-4-8e72329b76f0>\u001b[0m in \u001b[0;36m<module>\u001b[1;34m()\u001b[0m\n\u001b[0;32m     13\u001b[0m     \u001b[0mprint\u001b[0m\u001b[1;33m(\u001b[0m\u001b[0mXf\u001b[0m\u001b[1;33m)\u001b[0m\u001b[1;33m\u001b[0m\u001b[0m\n\u001b[0;32m     14\u001b[0m \u001b[1;33m\u001b[0m\u001b[0m\n\u001b[1;32m---> 15\u001b[1;33m     \u001b[0mw\u001b[0m \u001b[1;33m=\u001b[0m \u001b[0mlstsq\u001b[0m\u001b[1;33m(\u001b[0m\u001b[0mXf\u001b[0m\u001b[1;33m,\u001b[0m \u001b[0my_train\u001b[0m\u001b[1;33m)\u001b[0m\u001b[1;33m\u001b[0m\u001b[0m\n\u001b[0m\u001b[0;32m     16\u001b[0m     \u001b[0my_predicted\u001b[0m \u001b[1;33m=\u001b[0m \u001b[0mXf\u001b[0m \u001b[1;33m@\u001b[0m \u001b[0mw\u001b[0m\u001b[1;33m\u001b[0m\u001b[0m\n\u001b[0;32m     17\u001b[0m     \u001b[0merr\u001b[0m\u001b[1;33m[\u001b[0m\u001b[0md\u001b[0m\u001b[1;33m]\u001b[0m \u001b[1;33m=\u001b[0m \u001b[1;33m(\u001b[0m\u001b[0mnp\u001b[0m\u001b[1;33m.\u001b[0m\u001b[0mlinalg\u001b[0m\u001b[1;33m.\u001b[0m\u001b[0mnorm\u001b[0m\u001b[1;33m(\u001b[0m\u001b[0my_train\u001b[0m \u001b[1;33m-\u001b[0m \u001b[0my_predicted\u001b[0m\u001b[1;33m)\u001b[0m\u001b[1;33m**\u001b[0m\u001b[1;36m2\u001b[0m\u001b[1;33m)\u001b[0m \u001b[1;33m/\u001b[0m \u001b[0mn\u001b[0m\u001b[1;33m\u001b[0m\u001b[0m\n",
      "\u001b[1;32m<ipython-input-2-d5f71e1cccec>\u001b[0m in \u001b[0;36mlstsq\u001b[1;34m(A, b, lambda_)\u001b[0m\n\u001b[0;32m      1\u001b[0m \u001b[1;32mdef\u001b[0m \u001b[0mlstsq\u001b[0m\u001b[1;33m(\u001b[0m\u001b[0mA\u001b[0m\u001b[1;33m,\u001b[0m \u001b[0mb\u001b[0m\u001b[1;33m,\u001b[0m \u001b[0mlambda_\u001b[0m\u001b[1;33m=\u001b[0m\u001b[1;36m0\u001b[0m\u001b[1;33m)\u001b[0m\u001b[1;33m:\u001b[0m\u001b[1;33m\u001b[0m\u001b[0m\n\u001b[1;32m----> 2\u001b[1;33m     \u001b[1;32mreturn\u001b[0m \u001b[0mnp\u001b[0m\u001b[1;33m.\u001b[0m\u001b[0mlinalg\u001b[0m\u001b[1;33m.\u001b[0m\u001b[0msolve\u001b[0m\u001b[1;33m(\u001b[0m\u001b[0mA\u001b[0m\u001b[1;33m.\u001b[0m\u001b[0mT\u001b[0m \u001b[1;33m@\u001b[0m \u001b[0mA\u001b[0m \u001b[1;33m+\u001b[0m \u001b[0mlambda_\u001b[0m \u001b[1;33m*\u001b[0m \u001b[0mnp\u001b[0m\u001b[1;33m.\u001b[0m\u001b[0meye\u001b[0m\u001b[1;33m(\u001b[0m\u001b[0mA\u001b[0m\u001b[1;33m.\u001b[0m\u001b[0mshape\u001b[0m\u001b[1;33m[\u001b[0m\u001b[1;36m1\u001b[0m\u001b[1;33m]\u001b[0m\u001b[1;33m)\u001b[0m\u001b[1;33m,\u001b[0m \u001b[0mA\u001b[0m\u001b[1;33m.\u001b[0m\u001b[0mT\u001b[0m \u001b[1;33m@\u001b[0m \u001b[0mb\u001b[0m\u001b[1;33m)\u001b[0m\u001b[1;33m\u001b[0m\u001b[0m\n\u001b[0m\u001b[0;32m      3\u001b[0m \u001b[1;33m\u001b[0m\u001b[0m\n\u001b[0;32m      4\u001b[0m \u001b[1;33m\u001b[0m\u001b[0m\n\u001b[0;32m      5\u001b[0m \u001b[1;32mdef\u001b[0m \u001b[0mheatmap\u001b[0m\u001b[1;33m(\u001b[0m\u001b[0mf\u001b[0m\u001b[1;33m,\u001b[0m \u001b[0mclip\u001b[0m\u001b[1;33m=\u001b[0m\u001b[1;36m5\u001b[0m\u001b[1;33m)\u001b[0m\u001b[1;33m:\u001b[0m\u001b[1;33m\u001b[0m\u001b[0m\n",
      "\u001b[1;31mMemoryError\u001b[0m: "
     ]
    }
   ],
   "source": [
    "n = 1  # max degree\n",
    "err = np.zeros(n)\n",
    "\n",
    "# fill in err\n",
    "for d in range(n):\n",
    "    D = d + 1\n",
    "    for i in range(1, D + 1):\n",
    "        if i == 0:\n",
    "            Xf = np.ones(X_train.shape)\n",
    "        else:\n",
    "            Xf = np.vstack([np.power(X_train, i), Xf])\n",
    "    Xf = Xf.T\n",
    "    print(Xf)\n",
    "\n",
    "    w = lstsq(Xf, y_train)\n",
    "    y_predicted = Xf @ w\n",
    "    err[d] = (np.linalg.norm(y_train - y_predicted)**2) / n\n",
    "\n",
    "plt.plot(err)\n",
    "plt.xlabel('Degree of Polynomial')\n",
    "plt.ylabel('Training Error')\n",
    "plt.show()"
   ]
  }
 ],
 "metadata": {
  "kernelspec": {
   "display_name": "Python 3",
   "language": "python",
   "name": "python3"
  },
  "language_info": {
   "codemirror_mode": {
    "name": "ipython",
    "version": 3
   },
   "file_extension": ".py",
   "mimetype": "text/x-python",
   "name": "python",
   "nbconvert_exporter": "python",
   "pygments_lexer": "ipython3",
   "version": "3.5.5"
  }
 },
 "nbformat": 4,
 "nbformat_minor": 2
}
