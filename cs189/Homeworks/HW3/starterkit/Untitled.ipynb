{
 "cells": [
  {
   "cell_type": "code",
   "execution_count": 1,
   "metadata": {
    "ExecuteTime": {
     "end_time": "2018-09-19T16:27:45.958002Z",
     "start_time": "2018-09-19T16:27:43.569996Z"
    }
   },
   "outputs": [],
   "source": [
    "#!/usr/bin/env python3\n",
    "\n",
    "import matplotlib.pyplot as plt\n",
    "import numpy as np\n",
    "from matplotlib import cm"
   ]
  },
  {
   "cell_type": "code",
   "execution_count": 2,
   "metadata": {
    "ExecuteTime": {
     "end_time": "2018-09-19T16:27:45.971000Z",
     "start_time": "2018-09-19T16:27:45.960990Z"
    }
   },
   "outputs": [],
   "source": [
    "def lstsq(A, b, lambda_=0):\n",
    "    return np.linalg.solve(A.T @ A + lambda_ * np.eye(A.shape[1]), A.T @ b)\n",
    "\n",
    "\n",
    "def heatmap(f, clip=5):\n",
    "    # example: heatmap(lambda x, y: x * x + y * y)\n",
    "    # clip: clip the function range to [-clip, clip] to generate a clean plot\n",
    "    #   set it to zero to disable this function\n",
    "\n",
    "    xx0 = xx1 = np.linspace(np.min(X), np.max(X), 72)\n",
    "    x0, x1 = np.meshgrid(xx0, xx1)\n",
    "    x0, x1 = x0.ravel(), x1.ravel()\n",
    "    z0 = f(x0, x1)\n",
    "\n",
    "    if clip:\n",
    "        z0[z0 > clip] = clip\n",
    "        z0[z0 < -clip] = -clip\n",
    "\n",
    "    plt.hexbin(x0, x1, C=z0, gridsize=50, cmap=cm.jet, bins=None)\n",
    "    plt.colorbar()\n",
    "    cs = plt.contour(\n",
    "        xx0, xx1, z0.reshape(xx0.size, xx1.size), [-2, -1, -0.5, 0, 0.5, 1, 2], cmap=cm.jet)\n",
    "    plt.clabel(cs, inline=1, fontsize=10)\n",
    "\n",
    "    pos = y[:] == +1.0\n",
    "    neg = y[:] == -1.0\n",
    "    plt.scatter(X[pos, 0], X[pos, 1], c='red', marker='+')\n",
    "    plt.scatter(X[neg, 0], X[neg, 1], c='blue', marker='v')\n",
    "    plt.show()"
   ]
  },
  {
   "cell_type": "code",
   "execution_count": 22,
   "metadata": {
    "ExecuteTime": {
     "end_time": "2018-09-19T16:47:48.660476Z",
     "start_time": "2018-09-19T16:47:48.639512Z"
    }
   },
   "outputs": [],
   "source": [
    "# choose the data you want to load\n",
    "data = np.load('circle.npz')\n",
    "# data = np.load('heart.npz')\n",
    "# data = np.load('asymmetric.npz')\n",
    "\n",
    "SPLIT = 0.8\n",
    "X = data[\"x\"]\n",
    "y = data[\"y\"]\n",
    "X /= np.max(X)  # normalize the data\n",
    "\n",
    "n_train = int(X.shape[0] * SPLIT)\n",
    "X_train = X[:n_train:, :]\n",
    "X_valid = X[n_train:, :]\n",
    "y_train = y[:n_train]\n",
    "y_valid = y[n_train:]\n",
    "\n",
    "LAMBDA = 0.001"
   ]
  },
  {
   "cell_type": "code",
   "execution_count": 103,
   "metadata": {
    "ExecuteTime": {
     "end_time": "2018-09-19T17:48:54.760510Z",
     "start_time": "2018-09-19T17:48:43.559952Z"
    }
   },
   "outputs": [
    {
     "ename": "ValueError",
     "evalue": "shapes (13120,2) and (820,) not aligned: 2 (dim 1) != 820 (dim 0)",
     "output_type": "error",
     "traceback": [
      "\u001b[1;31m---------------------------------------------------------------------------\u001b[0m",
      "\u001b[1;31mValueError\u001b[0m                                Traceback (most recent call last)",
      "\u001b[1;32m<ipython-input-103-9c9170218007>\u001b[0m in \u001b[0;36m<module>\u001b[1;34m()\u001b[0m\n\u001b[0;32m     19\u001b[0m             \u001b[0mXf\u001b[0m \u001b[1;33m=\u001b[0m \u001b[0mnp\u001b[0m\u001b[1;33m.\u001b[0m\u001b[0mvstack\u001b[0m\u001b[1;33m(\u001b[0m\u001b[1;33m[\u001b[0m\u001b[0mnp\u001b[0m\u001b[1;33m.\u001b[0m\u001b[0mpower\u001b[0m\u001b[1;33m(\u001b[0m\u001b[0mX_train\u001b[0m\u001b[1;33m,\u001b[0m \u001b[0mi\u001b[0m\u001b[1;33m)\u001b[0m\u001b[1;33m,\u001b[0m \u001b[0mXf\u001b[0m\u001b[1;33m]\u001b[0m\u001b[1;33m)\u001b[0m\u001b[1;33m\u001b[0m\u001b[0m\n\u001b[0;32m     20\u001b[0m     \u001b[0mXf\u001b[0m \u001b[1;33m=\u001b[0m \u001b[0mXf\u001b[0m\u001b[1;33m.\u001b[0m\u001b[0mT\u001b[0m\u001b[1;33m\u001b[0m\u001b[0m\n\u001b[1;32m---> 21\u001b[1;33m     \u001b[0mw\u001b[0m \u001b[1;33m=\u001b[0m \u001b[0mlstsq\u001b[0m\u001b[1;33m(\u001b[0m\u001b[0mXf\u001b[0m\u001b[1;33m,\u001b[0m \u001b[0my_train\u001b[0m\u001b[1;33m)\u001b[0m\u001b[1;33m\u001b[0m\u001b[0m\n\u001b[0m\u001b[0;32m     22\u001b[0m     \u001b[0my_predicted\u001b[0m \u001b[1;33m=\u001b[0m \u001b[0mXf\u001b[0m \u001b[1;33m@\u001b[0m \u001b[0mw\u001b[0m\u001b[1;33m\u001b[0m\u001b[0m\n\u001b[0;32m     23\u001b[0m     \u001b[0merr\u001b[0m\u001b[1;33m[\u001b[0m\u001b[0md\u001b[0m\u001b[1;33m]\u001b[0m \u001b[1;33m=\u001b[0m \u001b[1;33m(\u001b[0m\u001b[0mnp\u001b[0m\u001b[1;33m.\u001b[0m\u001b[0mlinalg\u001b[0m\u001b[1;33m.\u001b[0m\u001b[0mnorm\u001b[0m\u001b[1;33m(\u001b[0m\u001b[0my_train\u001b[0m \u001b[1;33m-\u001b[0m \u001b[0my_predicted\u001b[0m\u001b[1;33m)\u001b[0m\u001b[1;33m**\u001b[0m\u001b[1;36m2\u001b[0m\u001b[1;33m)\u001b[0m \u001b[1;33m/\u001b[0m \u001b[0mn\u001b[0m\u001b[1;33m\u001b[0m\u001b[0m\n",
      "\u001b[1;32m<ipython-input-2-d5f71e1cccec>\u001b[0m in \u001b[0;36mlstsq\u001b[1;34m(A, b, lambda_)\u001b[0m\n\u001b[0;32m      1\u001b[0m \u001b[1;32mdef\u001b[0m \u001b[0mlstsq\u001b[0m\u001b[1;33m(\u001b[0m\u001b[0mA\u001b[0m\u001b[1;33m,\u001b[0m \u001b[0mb\u001b[0m\u001b[1;33m,\u001b[0m \u001b[0mlambda_\u001b[0m\u001b[1;33m=\u001b[0m\u001b[1;36m0\u001b[0m\u001b[1;33m)\u001b[0m\u001b[1;33m:\u001b[0m\u001b[1;33m\u001b[0m\u001b[0m\n\u001b[1;32m----> 2\u001b[1;33m     \u001b[1;32mreturn\u001b[0m \u001b[0mnp\u001b[0m\u001b[1;33m.\u001b[0m\u001b[0mlinalg\u001b[0m\u001b[1;33m.\u001b[0m\u001b[0msolve\u001b[0m\u001b[1;33m(\u001b[0m\u001b[0mA\u001b[0m\u001b[1;33m.\u001b[0m\u001b[0mT\u001b[0m \u001b[1;33m@\u001b[0m \u001b[0mA\u001b[0m \u001b[1;33m+\u001b[0m \u001b[0mlambda_\u001b[0m \u001b[1;33m*\u001b[0m \u001b[0mnp\u001b[0m\u001b[1;33m.\u001b[0m\u001b[0meye\u001b[0m\u001b[1;33m(\u001b[0m\u001b[0mA\u001b[0m\u001b[1;33m.\u001b[0m\u001b[0mshape\u001b[0m\u001b[1;33m[\u001b[0m\u001b[1;36m1\u001b[0m\u001b[1;33m]\u001b[0m\u001b[1;33m)\u001b[0m\u001b[1;33m,\u001b[0m \u001b[0mA\u001b[0m\u001b[1;33m.\u001b[0m\u001b[0mT\u001b[0m \u001b[1;33m@\u001b[0m \u001b[0mb\u001b[0m\u001b[1;33m)\u001b[0m\u001b[1;33m\u001b[0m\u001b[0m\n\u001b[0m\u001b[0;32m      3\u001b[0m \u001b[1;33m\u001b[0m\u001b[0m\n\u001b[0;32m      4\u001b[0m \u001b[1;33m\u001b[0m\u001b[0m\n\u001b[0;32m      5\u001b[0m \u001b[1;32mdef\u001b[0m \u001b[0mheatmap\u001b[0m\u001b[1;33m(\u001b[0m\u001b[0mf\u001b[0m\u001b[1;33m,\u001b[0m \u001b[0mclip\u001b[0m\u001b[1;33m=\u001b[0m\u001b[1;36m5\u001b[0m\u001b[1;33m)\u001b[0m\u001b[1;33m:\u001b[0m\u001b[1;33m\u001b[0m\u001b[0m\n",
      "\u001b[1;31mValueError\u001b[0m: shapes (13120,2) and (820,) not aligned: 2 (dim 1) != 820 (dim 0)"
     ]
    }
   ],
   "source": [
    "p = 16  # max degree\n",
    "err = np.zeros(p)\n",
    "\n",
    "# for i in range(1, p+1):\n",
    "    \n",
    "#     if i == 1:\n",
    "#         X = X_train\n",
    "#     else:\n",
    "#         X = np.vstack([X_train ** i, X])\n",
    "#     print(X.shape)\n",
    "        \n",
    "        \n",
    "for d in range(p):\n",
    "    D = d + 1\n",
    "    for i in range(1, p+1):\n",
    "        if i == 1:\n",
    "            Xf = np.ones(X_train.shape)\n",
    "        else:\n",
    "            Xf = np.vstack([np.power(X_train, i), Xf])\n",
    "    Xf = Xf.T\n",
    "    w = lstsq(Xf, y_train, LAMBDA)\n",
    "    y_predicted = Xf @ w\n",
    "    err[d] = (np.linalg.norm(y_train - y_predicted)**2) / n\n",
    "\n",
    "        \n",
    "# plt.plot(err)\n",
    "# plt.xlabel('Degree of Polynomial')\n",
    "# plt.ylabel('Training Error')\n",
    "# plt.show()"
   ]
  },
  {
   "cell_type": "code",
   "execution_count": 81,
   "metadata": {
    "ExecuteTime": {
     "end_time": "2018-09-19T17:32:21.460416Z",
     "start_time": "2018-09-19T17:32:21.452450Z"
    }
   },
   "outputs": [
    {
     "data": {
      "text/plain": [
       "(13120, 2)"
      ]
     },
     "execution_count": 81,
     "metadata": {},
     "output_type": "execute_result"
    }
   ],
   "source": [
    "X.shape"
   ]
  },
  {
   "cell_type": "code",
   "execution_count": 49,
   "metadata": {
    "ExecuteTime": {
     "end_time": "2018-09-19T17:05:50.006346Z",
     "start_time": "2018-09-19T17:05:47.264354Z"
    }
   },
   "outputs": [],
   "source": [
    "XXT = np.matmul(X, X.T)"
   ]
  },
  {
   "cell_type": "code",
   "execution_count": 50,
   "metadata": {
    "ExecuteTime": {
     "end_time": "2018-09-19T17:06:02.825341Z",
     "start_time": "2018-09-19T17:05:50.418359Z"
    }
   },
   "outputs": [],
   "source": [
    "XXT = XXT + np.eye(len(XXT)) * LAMBDA"
   ]
  },
  {
   "cell_type": "code",
   "execution_count": 51,
   "metadata": {
    "ExecuteTime": {
     "end_time": "2018-09-19T17:08:11.848377Z",
     "start_time": "2018-09-19T17:06:02.848344Z"
    }
   },
   "outputs": [],
   "source": [
    "mat = np.matmul(X.T, np.linalg.inv(XXT))"
   ]
  },
  {
   "cell_type": "code",
   "execution_count": 65,
   "metadata": {
    "ExecuteTime": {
     "end_time": "2018-09-19T17:17:04.421210Z",
     "start_time": "2018-09-19T17:17:04.386213Z"
    }
   },
   "outputs": [
    {
     "name": "stdout",
     "output_type": "stream",
     "text": [
      "779.0486496254427\n"
     ]
    },
    {
     "ename": "TypeError",
     "evalue": "unsupported operand type(s) for /: 'NoneType' and 'int'",
     "output_type": "error",
     "traceback": [
      "\u001b[1;31m---------------------------------------------------------------------------\u001b[0m",
      "\u001b[1;31mTypeError\u001b[0m                                 Traceback (most recent call last)",
      "\u001b[1;32m<ipython-input-65-2f22a35ac046>\u001b[0m in \u001b[0;36m<module>\u001b[1;34m()\u001b[0m\n\u001b[0;32m      2\u001b[0m     \u001b[0mw\u001b[0m \u001b[1;33m=\u001b[0m \u001b[0mlstsq\u001b[0m\u001b[1;33m(\u001b[0m\u001b[0mmat\u001b[0m\u001b[1;33m.\u001b[0m\u001b[0mT\u001b[0m\u001b[1;33m[\u001b[0m\u001b[1;33m(\u001b[0m\u001b[0mi\u001b[0m\u001b[1;33m-\u001b[0m\u001b[1;36m1\u001b[0m\u001b[1;33m)\u001b[0m\u001b[1;33m*\u001b[0m\u001b[1;36m820\u001b[0m\u001b[1;33m:\u001b[0m\u001b[0mi\u001b[0m\u001b[1;33m*\u001b[0m\u001b[1;36m820\u001b[0m\u001b[1;33m]\u001b[0m\u001b[1;33m,\u001b[0m \u001b[0my_train\u001b[0m\u001b[1;33m)\u001b[0m\u001b[1;33m\u001b[0m\u001b[0m\n\u001b[0;32m      3\u001b[0m     \u001b[0mpred\u001b[0m \u001b[1;33m=\u001b[0m \u001b[0mmat\u001b[0m\u001b[1;33m.\u001b[0m\u001b[0mT\u001b[0m\u001b[1;33m[\u001b[0m\u001b[1;33m(\u001b[0m\u001b[0mi\u001b[0m\u001b[1;33m-\u001b[0m\u001b[1;36m1\u001b[0m\u001b[1;33m)\u001b[0m\u001b[1;33m*\u001b[0m\u001b[1;36m820\u001b[0m\u001b[1;33m:\u001b[0m\u001b[0mi\u001b[0m\u001b[1;33m*\u001b[0m\u001b[1;36m820\u001b[0m\u001b[1;33m]\u001b[0m \u001b[1;33m@\u001b[0m \u001b[0mw\u001b[0m\u001b[1;33m\u001b[0m\u001b[0m\n\u001b[1;32m----> 4\u001b[1;33m     \u001b[0mprint\u001b[0m\u001b[1;33m(\u001b[0m\u001b[0mnp\u001b[0m\u001b[1;33m.\u001b[0m\u001b[0mlinalg\u001b[0m\u001b[1;33m.\u001b[0m\u001b[0mnorm\u001b[0m\u001b[1;33m(\u001b[0m\u001b[0my_train\u001b[0m \u001b[1;33m-\u001b[0m \u001b[0mpred\u001b[0m\u001b[1;33m)\u001b[0m\u001b[1;33m**\u001b[0m\u001b[1;36m2\u001b[0m\u001b[1;33m)\u001b[0m \u001b[1;33m/\u001b[0m \u001b[0mp\u001b[0m\u001b[1;33m\u001b[0m\u001b[0m\n\u001b[0m",
      "\u001b[1;31mTypeError\u001b[0m: unsupported operand type(s) for /: 'NoneType' and 'int'"
     ]
    }
   ],
   "source": [
    "for i in range(1, p+1):\n",
    "    w = lstsq(mat.T[(i-1)*820:i*820], y_train)\n",
    "    pred = mat.T[(i-1)*820:i*820] @ w\n",
    "    print(np.linalg.norm(y_train - pred)**2) / p"
   ]
  },
  {
   "cell_type": "code",
   "execution_count": 72,
   "metadata": {
    "ExecuteTime": {
     "end_time": "2018-09-19T17:24:41.458539Z",
     "start_time": "2018-09-19T17:24:41.440540Z"
    }
   },
   "outputs": [
    {
     "name": "stdout",
     "output_type": "stream",
     "text": [
      "[array([[-0.70842082, -0.5976078 ],\n",
      "       [-0.74016387,  0.0788339 ],\n",
      "       [-0.96187678,  0.08979122],\n",
      "       ...,\n",
      "       [ 0.69169745,  0.63895626],\n",
      "       [-0.10488672, -0.76667288],\n",
      "       [-0.57236813, -0.57322583]]), array([[0.50186005, 0.35713508],\n",
      "       [0.54784255, 0.00621478],\n",
      "       [0.92520694, 0.00806246],\n",
      "       ...,\n",
      "       [0.47844537, 0.4082651 ],\n",
      "       [0.01100122, 0.5877873 ],\n",
      "       [0.32760528, 0.32858785]]), array([[-3.55528110e-01, -2.13426713e-01],\n",
      "       [-4.05493265e-01,  4.89935612e-04],\n",
      "       [-8.89935067e-01,  7.23938335e-04],\n",
      "       ...,\n",
      "       [ 3.30939442e-01,  2.60863543e-01],\n",
      "       [-1.15388215e-03, -4.50640581e-01],\n",
      "       [-1.87510823e-01, -1.88355043e-01]]), array([[2.51863515e-01, 1.27545468e-01],\n",
      "       [3.00131464e-01, 3.86235343e-05],\n",
      "       [8.56007874e-01, 6.50033042e-05],\n",
      "       ...,\n",
      "       [2.28909970e-01, 1.66680394e-01],\n",
      "       [1.21026908e-04, 3.45493911e-01],\n",
      "       [1.07325220e-01, 1.07969976e-01]]), array([[-1.78425357e-01, -7.62221670e-02],\n",
      "       [-2.22146466e-01,  3.04484377e-06],\n",
      "       [-8.23374096e-01,  5.83672580e-06],\n",
      "       ...,\n",
      "       [ 1.58336443e-01,  1.06501481e-01],\n",
      "       [-1.26941149e-05, -2.64880811e-01],\n",
      "       [-6.14295360e-02, -6.18911787e-02]]), array([[1.26400237e-01, 4.55509616e-02],\n",
      "       [1.64424788e-01, 2.40036904e-07],\n",
      "       [7.91984423e-01, 5.24086713e-07],\n",
      "       ...,\n",
      "       [1.09520915e-01, 6.80497882e-02],\n",
      "       [1.33144401e-06, 2.03076934e-01],\n",
      "       [3.51603089e-02, 3.54776222e-02]]), array([[-8.95445595e-02, -2.72216100e-02],\n",
      "       [-1.21701287e-01,  1.89230449e-08],\n",
      "       [-7.61791425e-01,  4.70583838e-08],\n",
      "       ...,\n",
      "       [ 7.57553377e-02,  4.34808382e-02],\n",
      "       [-1.39650789e-07, -1.55693577e-01],\n",
      "       [-2.01246404e-02, -2.03366894e-02]]), array([[6.34352301e-02, 1.62678465e-02],\n",
      "       [9.00788959e-02, 1.49177740e-09],\n",
      "       [7.32749481e-01, 4.22542956e-09],\n",
      "       ...,\n",
      "       [5.23997742e-02, 2.77823538e-02],\n",
      "       [1.46475126e-08, 1.19366043e-01],\n",
      "       [1.15187029e-02, 1.16575156e-02]]), array([[-4.49388375e-02, -9.72179199e-03],\n",
      "       [-6.66731442e-02,  1.17602628e-10],\n",
      "       [-7.04814710e-01,  3.79406463e-10],\n",
      "       ...,\n",
      "       [ 3.62447904e-02,  1.77517089e-02],\n",
      "       [-1.53632948e-09, -9.15147074e-02],\n",
      "       [-6.59293848e-03, -6.68238906e-03]]), array([[3.18356080e-02, 5.80981874e-03],\n",
      "       [4.93490524e-02, 9.27107360e-12],\n",
      "       [6.77944902e-01, 3.40673681e-11],\n",
      "       ...,\n",
      "       [2.50704292e-02, 1.13425655e-02],\n",
      "       [1.61140553e-10, 7.01618440e-02],\n",
      "       [3.77358789e-03, 3.83051801e-03]]), array([[-2.25530075e-02, -3.47199300e-03],\n",
      "       [-3.65263856e-02,  7.30874873e-13],\n",
      "       [-6.52099458e-01,  3.05895044e-12],\n",
      "       ...,\n",
      "       [ 1.73411521e-02,  7.24740325e-03],\n",
      "       [-1.69015033e-11, -5.37911828e-02],\n",
      "       [-2.15988146e-03, -2.19575186e-03]]), array([[1.59770200e-02, 2.07489011e-03],\n",
      "       [2.70355109e-02, 5.76177155e-14],\n",
      "       [6.27239326e-01, 2.74666883e-13],\n",
      "       ...,\n",
      "       [1.19948307e-02, 4.63077368e-03],\n",
      "       [1.77274316e-12, 4.12402409e-02],\n",
      "       [1.23624732e-03, 1.25866168e-03]]), array([[-1.13184536e-02, -1.23997051e-03],\n",
      "       [-2.00107084e-02,  4.54222912e-15],\n",
      "       [-6.03326942e-01,  2.46626737e-14],\n",
      "       ...,\n",
      "       [ 8.29679387e-03,  2.95886183e-03],\n",
      "       [-1.85937207e-13, -3.16177742e-02],\n",
      "       [-7.07588573e-04, -7.21497384e-04]]), array([[8.01822814e-03, 7.41016053e-04],\n",
      "       [1.48112034e-02, 3.58081629e-16],\n",
      "       [5.80326175e-01, 2.21449149e-15],\n",
      "       ...,\n",
      "       [5.73887119e-03, 1.89058329e-03],\n",
      "       [1.95023429e-14, 2.42404899e-02],\n",
      "       [4.05001151e-04, 4.13580936e-04]]), array([[-5.68027973e-03, -4.42836974e-04],\n",
      "       [-1.09627176e-02,  2.82289707e-17],\n",
      "       [-5.58202271e-01,  1.98841886e-16],\n",
      "       ...,\n",
      "       [ 3.96956259e-03,  1.20800003e-03],\n",
      "       [-2.04553669e-15, -1.85845261e-02],\n",
      "       [-2.31809753e-04, -2.37075275e-04]]), array([[4.02402841e-03, 2.64642830e-04],\n",
      "       [8.11420749e-03, 2.22539981e-18],\n",
      "       [5.36921802e-01, 1.78542550e-17],\n",
      "       ...,\n",
      "       [2.74573634e-03, 7.71859181e-04],\n",
      "       [2.14549624e-16, 1.42482521e-02],\n",
      "       [1.32680516e-04, 1.35897671e-04]])]\n"
     ]
    }
   ],
   "source": [
    "x = []\n",
    "for i in range(1, p+1):\n",
    "    x.append(X_train**i)\n",
    "print(x)\n",
    "#     print((X_train**i).shape)"
   ]
  },
  {
   "cell_type": "code",
   "execution_count": 56,
   "metadata": {
    "ExecuteTime": {
     "end_time": "2018-09-19T17:12:32.573663Z",
     "start_time": "2018-09-19T17:12:32.566663Z"
    }
   },
   "outputs": [
    {
     "data": {
      "text/plain": [
       "(820, 2)"
      ]
     },
     "execution_count": 56,
     "metadata": {},
     "output_type": "execute_result"
    }
   ],
   "source": [
    "mat.T[:820].shape"
   ]
  }
 ],
 "metadata": {
  "kernelspec": {
   "display_name": "Python 3",
   "language": "python",
   "name": "python3"
  },
  "language_info": {
   "codemirror_mode": {
    "name": "ipython",
    "version": 3
   },
   "file_extension": ".py",
   "mimetype": "text/x-python",
   "name": "python",
   "nbconvert_exporter": "python",
   "pygments_lexer": "ipython3",
   "version": "3.5.5"
  }
 },
 "nbformat": 4,
 "nbformat_minor": 2
}
