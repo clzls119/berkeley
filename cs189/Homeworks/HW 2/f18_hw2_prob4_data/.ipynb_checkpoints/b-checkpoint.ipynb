{
 "cells": [
  {
   "cell_type": "code",
   "execution_count": 1,
   "metadata": {
    "ExecuteTime": {
     "end_time": "2018-09-11T23:49:03.538281Z",
     "start_time": "2018-09-11T23:48:57.105522Z"
    }
   },
   "outputs": [],
   "source": [
    "#!/usr/bin/env python3\n",
    "\n",
    "import matplotlib.pyplot as plt\n",
    "import numpy as np\n",
    "import scipy.io as spio"
   ]
  },
  {
   "cell_type": "code",
   "execution_count": 2,
   "metadata": {
    "ExecuteTime": {
     "end_time": "2018-09-11T23:49:32.680718Z",
     "start_time": "2018-09-11T23:49:32.673713Z"
    }
   },
   "outputs": [],
   "source": [
    "# There is numpy.linalg.lstsq, which you should use outside of this classs\n",
    "def lstsq(A, b):\n",
    "    return np.linalg.solve(A.T @ A, A.T @ b)"
   ]
  },
  {
   "cell_type": "code",
   "execution_count": 12,
   "metadata": {
    "ExecuteTime": {
     "end_time": "2018-09-11T23:56:12.007786Z",
     "start_time": "2018-09-11T23:56:11.663782Z"
    }
   },
   "outputs": [
    {
     "data": {
      "image/png": "[encoded data removed]",
      "text/plain": [
       "<Figure size 432x288 with 1 Axes>"
      ]
     },
     "metadata": {},
     "output_type": "display_data"
    }
   ],
   "source": [
    "def main():\n",
    "    data = spio.loadmat('1D_poly.mat', squeeze_me=True)\n",
    "    x_train = np.array(data['x_train'])\n",
    "    y_train = np.array(data['y_train']).T\n",
    "\n",
    "    n = 20  # max degree\n",
    "    err = np.zeros(n - 1)\n",
    "\n",
    "    for d in range(n - 1):\n",
    "        D = d + 1\n",
    "        for i in range(D + 1):\n",
    "            if i == 0:\n",
    "                Xf = np.array([1] * x_train.size)\n",
    "            else:\n",
    "                Xf = np.vstack([np.power(x_train, i), Xf])\n",
    "        Xf = Xf.T\n",
    "\n",
    "        w = lstsq(Xf, y_train)\n",
    "        y_predicted = Xf @ w\n",
    "        err[d] = (np.linalg.norm(y_train - y_predicted)**2) / n\n",
    "#     # fill in err\n",
    "    plt.plot(err)\n",
    "    plt.xlabel('Degree of Polynomial')\n",
    "    plt.ylabel('Training Error')\n",
    "    plt.show()\n",
    "\n",
    "if __name__ == \"__main__\":\n",
    "    main()"
   ]
  }
 ],
 "metadata": {
  "kernelspec": {
   "display_name": "Python 3",
   "language": "python",
   "name": "python3"
  },
  "language_info": {
   "codemirror_mode": {
    "name": "ipython",
    "version": 3
   },
   "file_extension": ".py",
   "mimetype": "text/x-python",
   "name": "python",
   "nbconvert_exporter": "python",
   "pygments_lexer": "ipython3",
   "version": "3.5.5"
  }
 },
 "nbformat": 4,
 "nbformat_minor": 2
}
