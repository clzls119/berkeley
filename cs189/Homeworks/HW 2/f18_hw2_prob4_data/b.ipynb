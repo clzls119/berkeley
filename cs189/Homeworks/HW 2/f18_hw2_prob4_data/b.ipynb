{
 "cells": [
  {
   "cell_type": "code",
   "execution_count": 4,
   "metadata": {
    "ExecuteTime": {
     "end_time": "2018-09-19T16:51:15.894163Z",
     "start_time": "2018-09-19T16:51:15.890160Z"
    }
   },
   "outputs": [],
   "source": [
    "#!/usr/bin/env python3\n",
    "\n",
    "import matplotlib.pyplot as plt\n",
    "import numpy as np\n",
    "import scipy.io as spio"
   ]
  },
  {
   "cell_type": "code",
   "execution_count": 5,
   "metadata": {
    "ExecuteTime": {
     "end_time": "2018-09-19T16:51:16.022166Z",
     "start_time": "2018-09-19T16:51:16.017161Z"
    }
   },
   "outputs": [],
   "source": [
    "# There is numpy.linalg.lstsq, which you should use outside of this classs\n",
    "def lstsq(A, b):\n",
    "    return np.linalg.solve(A.T @ A, A.T @ b)"
   ]
  },
  {
   "cell_type": "code",
   "execution_count": 15,
   "metadata": {
    "ExecuteTime": {
     "end_time": "2018-09-19T17:33:18.552511Z",
     "start_time": "2018-09-19T17:33:18.531539Z"
    }
   },
   "outputs": [
    {
     "name": "stdout",
     "output_type": "stream",
     "text": [
      "(20, 2)\n",
      "(20, 3)\n",
      "(20, 4)\n",
      "(20, 5)\n",
      "(20, 6)\n",
      "(20, 7)\n",
      "(20, 8)\n",
      "(20, 9)\n",
      "(20, 10)\n",
      "(20, 11)\n",
      "(20, 12)\n",
      "(20, 13)\n",
      "(20, 14)\n",
      "(20, 15)\n",
      "(20, 16)\n",
      "(20, 17)\n",
      "(20, 18)\n",
      "(20, 19)\n",
      "(20, 20)\n"
     ]
    }
   ],
   "source": [
    "def main():\n",
    "    data = spio.loadmat('1D_poly.mat', squeeze_me=True)\n",
    "    x_train = np.array(data['x_train'])\n",
    "    y_train = np.array(data['y_train']).T\n",
    "\n",
    "    n = 20  # max degree\n",
    "    err = np.zeros(n - 1)\n",
    "\n",
    "    for d in range(n - 1):\n",
    "        D = d + 1\n",
    "        for i in range(D + 1):\n",
    "            if i == 0:\n",
    "                Xf = np.array([1] * x_train.size)\n",
    "            else:\n",
    "                Xf = np.vstack([np.power(x_train, i), Xf])\n",
    "        Xf = Xf.T\n",
    "        w = lstsq(Xf, y_train)\n",
    "        y_predicted = Xf @ w\n",
    "        err[d] = (np.linalg.norm(y_train - y_predicted)**2) / n\n",
    "# #     # fill in err\n",
    "#     plt.plot(err)\n",
    "#     plt.xlabel('Degree of Polynomial')\n",
    "#     plt.ylabel('Training Error')\n",
    "#     plt.show()\n",
    "\n",
    "if __name__ == \"__main__\":\n",
    "    main()"
   ]
  }
 ],
 "metadata": {
  "kernelspec": {
   "display_name": "Python 3",
   "language": "python",
   "name": "python3"
  },
  "language_info": {
   "codemirror_mode": {
    "name": "ipython",
    "version": 3
   },
   "file_extension": ".py",
   "mimetype": "text/x-python",
   "name": "python",
   "nbconvert_exporter": "python",
   "pygments_lexer": "ipython3",
   "version": "3.5.5"
  }
 },
 "nbformat": 4,
 "nbformat_minor": 2
}
