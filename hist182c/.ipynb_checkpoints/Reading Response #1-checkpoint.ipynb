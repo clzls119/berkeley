{
 "cells": [
  {
   "cell_type": "markdown",
   "metadata": {},
   "source": [
    "Reading Response #1<br>\n",
    "Hanmaro Song<br>\n",
    "Hist C182C"
   ]
  },
  {
   "cell_type": "markdown",
   "metadata": {},
   "source": [
    "# <center>Collaboration of human and machine</center>"
   ]
  },
  {
   "cell_type": "markdown",
   "metadata": {},
   "source": [
    "As the report describes, because of the inovation and development of technology, we are able to predict future values based on the past and current information. With the help, people don't have to spend lots of time, trying to decipher what data mean, its significance, use and so on. But how far can this 'algorithm' go and how much can we trust since there already are problems reported, seen and studied. Like already mentioned, we cannot look inside the black-box and see what is actually happening. It is inevitable that there still exists labor to be done by people's hands. Through this response, I will use an example based on the credit scores."
   ]
  },
  {
   "cell_type": "markdown",
   "metadata": {},
   "source": [
    "As how the challenge of determining the scores was described, there are many factors that don't account one's current financial and economic situation. Although they keep updating and refining the programs, there will always be unaccountable things that we cannot factor in. In determining a credit score, we can also think of the person's history such as how many times he moved to another area. One of reasons could be that (s)he likes to travel around once in a while or it could be due to his financial issue that he has to move to a cheaper place. "
   ]
  },
  {
   "cell_type": "markdown",
   "metadata": {},
   "source": [
    "As the report describes, because of the inovation and development of technology, we are able to somewhat predict future based on the past and current information. With the help, people don't have to spend lots of time, trying to decipher what data mean, its significance, use and so on and one of example in the report was about the crime and employment of a person. To predict such values, we have to manually input those data. Schools are doing it to further assist students, police department and other similar agencies are doing it to prevent and make clean societies and so on. And by doing so, all of our official doings are recorded and stored permanently. To steal and exploit this information for personal gains, hackers try their best to get their hands on it. So it is also important which we put on record and not but limiting such information would critically affect the data such as credit scores. Then to which extent can we or should we store on databases. "
   ]
  },
  {
   "cell_type": "markdown",
   "metadata": {},
   "source": [
    "How much can we predict future values based on the past and current situation of a person. As mentioned in the report, thanks to development of technology, we are now able to input data and acquire and see what would happen in the future. How much can we trust this? Like the report covers, we should be careful when making such programs not biased. To make it so, we need to gather data as much as possible but how far do we go back and how far can we predict?"
   ]
  },
  {
   "cell_type": "markdown",
   "metadata": {},
   "source": [
    "One of the examples in the reported covered that in the past, a lot of people had to be turned around when applying for a credit card or something that was granted based on their credit scores. Another example was the frequency of police officers  patrolling around in a specific neighborhood, based on results from algorithms. As explained, this is a biased and should be avoided as the neighborhood just started becoming better and increasing patrolls in the area would no longer needed. Then how can the algorithms determine this? Though we can change and update parameters and input data, we still are not able to see what's going on behind the scene. Surely this blackbox will not predict a different future without seeing unprecedent events. For example, how can the algorithms can predict the neighborhood no longer needs intense patrol without seeing an "
   ]
  },
  {
   "cell_type": "code",
   "execution_count": null,
   "metadata": {},
   "outputs": [],
   "source": []
  },
  {
   "cell_type": "code",
   "execution_count": null,
   "metadata": {},
   "outputs": [],
   "source": []
  },
  {
   "cell_type": "code",
   "execution_count": null,
   "metadata": {},
   "outputs": [],
   "source": []
  },
  {
   "cell_type": "code",
   "execution_count": null,
   "metadata": {},
   "outputs": [],
   "source": []
  },
  {
   "cell_type": "code",
   "execution_count": null,
   "metadata": {},
   "outputs": [],
   "source": []
  },
  {
   "cell_type": "code",
   "execution_count": null,
   "metadata": {},
   "outputs": [],
   "source": []
  },
  {
   "cell_type": "code",
   "execution_count": null,
   "metadata": {},
   "outputs": [],
   "source": []
  },
  {
   "cell_type": "code",
   "execution_count": null,
   "metadata": {},
   "outputs": [],
   "source": []
  },
  {
   "cell_type": "code",
   "execution_count": null,
   "metadata": {},
   "outputs": [],
   "source": []
  },
  {
   "cell_type": "code",
   "execution_count": null,
   "metadata": {},
   "outputs": [],
   "source": []
  },
  {
   "cell_type": "code",
   "execution_count": null,
   "metadata": {},
   "outputs": [],
   "source": []
  },
  {
   "cell_type": "code",
   "execution_count": null,
   "metadata": {},
   "outputs": [],
   "source": []
  },
  {
   "cell_type": "code",
   "execution_count": null,
   "metadata": {},
   "outputs": [],
   "source": []
  },
  {
   "cell_type": "code",
   "execution_count": null,
   "metadata": {},
   "outputs": [],
   "source": []
  }
 ],
 "metadata": {
  "kernelspec": {
   "display_name": "Python 3",
   "language": "python",
   "name": "python3"
  },
  "language_info": {
   "codemirror_mode": {
    "name": "ipython",
    "version": 3
   },
   "file_extension": ".py",
   "mimetype": "text/x-python",
   "name": "python",
   "nbconvert_exporter": "python",
   "pygments_lexer": "ipython3",
   "version": "3.6.2"
  }
 },
 "nbformat": 4,
 "nbformat_minor": 2
}
